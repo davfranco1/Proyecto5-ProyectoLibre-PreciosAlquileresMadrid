{
 "cells": [
  {
   "cell_type": "markdown",
   "metadata": {},
   "source": [
    "# Notebook #1: Extracción y Transformación\n",
    "\n",
    "En este notebook realizaremos extraeremos datos haciendo uso de webscraping y APIs, para las sigueintes fuentes de información:\n",
    "1. API AirBnB: datos de viviendas en régimen de alquiler turístico.\n",
    "2. Webscraping de Redpiso: datos de viviendas en alquiler.\n",
    "3. API Idealista: datos de viviendas en alquiler.\n",
    "4. Webscraping del INE: datos sobre ingresos por hogar.\n",
    "5. Webscraping del Ayuntamiento de Madrid: datos sobre población y cantidad de extranjeros.\n",
    "\n",
    "En este mismo notebook se realizará la limpieza/transformación de los datos que cargaremos posteriormente en nuestra base de datos. Todas las funciones aquí utilizadas encuentran su soporte en `../src/soporte_funciones.py`\n",
    "\n",
    "El primer paso será importar las librerías necesarias:"
   ]
  },
  {
   "cell_type": "code",
   "execution_count": 2,
   "metadata": {},
   "outputs": [
    {
     "name": "stderr",
     "output_type": "stream",
     "text": [
      "/Users/davidfranco/Library/Python/3.9/lib/python/site-packages/urllib3/__init__.py:35: NotOpenSSLWarning: urllib3 v2 only supports OpenSSL 1.1.1+, currently the 'ssl' module is compiled with 'LibreSSL 2.8.3'. See: https://github.com/urllib3/urllib3/issues/3020\n",
      "  warnings.warn(\n"
     ]
    }
   ],
   "source": [
    "# Librerías para tratamiento de datos\n",
    "\n",
    "import pandas as pd\n",
    "import geopandas as gpd\n",
    "pd.set_option('display.max_columns', None) # Parámetro que modifica la visualización de los DFs\n",
    "import numpy as np\n",
    "import re\n",
    "\n",
    "# Librería para el acceso a variables y funciones\n",
    "import sys\n",
    "sys.path.append(\"../\")\n",
    "from src import soporte_funciones as sf #Archivo .py donde encontraremos todas nuestras funciones\n",
    "#from src import soporte_variables as sv\n",
    "\n",
    "# Librería para acceder a funcionalidades del sistema operativo\n",
    "import os\n",
    "\n",
    "# Librerías para trabajar con distintos formatos de archivos\n",
    "import pickle\n",
    "import json\n",
    "\n",
    "# Librería para ignorar avisos\n",
    "import warnings\n",
    "warnings.filterwarnings(\"ignore\") # Ignora TODOS los avisos"
   ]
  },
  {
   "cell_type": "markdown",
   "metadata": {},
   "source": [
    "## API AirBnB"
   ]
  },
  {
   "cell_type": "code",
   "execution_count": null,
   "metadata": {},
   "outputs": [
    {
     "name": "stderr",
     "output_type": "stream",
     "text": [
      "100%|██████████| 11/11 [03:56<00:00, 21.52s/it]\n"
     ]
    }
   ],
   "source": [
    "#resultados_airbnb = sf.consulta_airbnbs(\"Madrid\", \"2025-01-31\", \"2025-02-02\", 11)"
   ]
  },
  {
   "cell_type": "code",
   "execution_count": null,
   "metadata": {},
   "outputs": [
    {
     "data": {
      "text/plain": [
       "11"
      ]
     },
     "execution_count": 3,
     "metadata": {},
     "output_type": "execute_result"
    }
   ],
   "source": [
    "#len(resultados_airbnb)"
   ]
  },
  {
   "cell_type": "code",
   "execution_count": null,
   "metadata": {},
   "outputs": [],
   "source": [
    "#with open(\"../datos/origen/airbnb.json\", \"w\") as json_file:\n",
    "#    json.dump(resultados_airbnb, json_file, indent=4)"
   ]
  },
  {
   "cell_type": "code",
   "execution_count": 4,
   "metadata": {},
   "outputs": [],
   "source": [
    "with open(\"../datos/origen/airbnb.json\", 'r') as file:\n",
    "    resultados_airbnb = json.load(file)"
   ]
  },
  {
   "cell_type": "code",
   "execution_count": 9,
   "metadata": {},
   "outputs": [],
   "source": [
    "df_airbnb = sf.dataframe_airbnb(resultados_airbnb)"
   ]
  },
  {
   "cell_type": "code",
   "execution_count": 10,
   "metadata": {},
   "outputs": [
    {
     "data": {
      "text/plain": [
       "(360, 4)"
      ]
     },
     "execution_count": 10,
     "metadata": {},
     "output_type": "execute_result"
    }
   ],
   "source": [
    "df_airbnb.shape"
   ]
  },
  {
   "cell_type": "markdown",
   "metadata": {},
   "source": [
    "- Usaremos la función `traducir_es`, que recibe un texto y lo traduce a español haciendo uso de Google Translate, y la aplicaremos a la columna \"Descripción\", para traducir su contenido a español."
   ]
  },
  {
   "cell_type": "code",
   "execution_count": 11,
   "metadata": {},
   "outputs": [],
   "source": [
    "df_airbnb[\"Descripcion\"] = df_airbnb[\"Descripcion\"].apply(sf.traducir_es)"
   ]
  },
  {
   "cell_type": "code",
   "execution_count": 12,
   "metadata": {},
   "outputs": [
    {
     "data": {
      "text/html": [
       "<div>\n",
       "<style scoped>\n",
       "    .dataframe tbody tr th:only-of-type {\n",
       "        vertical-align: middle;\n",
       "    }\n",
       "\n",
       "    .dataframe tbody tr th {\n",
       "        vertical-align: top;\n",
       "    }\n",
       "\n",
       "    .dataframe thead th {\n",
       "        text-align: right;\n",
       "    }\n",
       "</style>\n",
       "<table border=\"1\" class=\"dataframe\">\n",
       "  <thead>\n",
       "    <tr style=\"text-align: right;\">\n",
       "      <th></th>\n",
       "      <th>Latitud</th>\n",
       "      <th>Longitud</th>\n",
       "      <th>Descripcion</th>\n",
       "      <th>Precio Total</th>\n",
       "    </tr>\n",
       "  </thead>\n",
       "  <tbody>\n",
       "    <tr>\n",
       "      <th>123</th>\n",
       "      <td>40.422270</td>\n",
       "      <td>-3.701760</td>\n",
       "      <td>Habitación grande privada con 3 balcones.Gran vía</td>\n",
       "      <td>204</td>\n",
       "    </tr>\n",
       "    <tr>\n",
       "      <th>232</th>\n",
       "      <td>40.429271</td>\n",
       "      <td>-3.695078</td>\n",
       "      <td>Loft de lujo en la calle Almagro</td>\n",
       "      <td>339</td>\n",
       "    </tr>\n",
       "    <tr>\n",
       "      <th>308</th>\n",
       "      <td>40.420123</td>\n",
       "      <td>-3.698174</td>\n",
       "      <td>Madrid flats Chueca</td>\n",
       "      <td>397</td>\n",
       "    </tr>\n",
       "  </tbody>\n",
       "</table>\n",
       "</div>"
      ],
      "text/plain": [
       "       Latitud  Longitud                                        Descripcion  \\\n",
       "123  40.422270 -3.701760  Habitación grande privada con 3 balcones.Gran vía   \n",
       "232  40.429271 -3.695078                   Loft de lujo en la calle Almagro   \n",
       "308  40.420123 -3.698174                                Madrid flats Chueca   \n",
       "\n",
       "     Precio Total  \n",
       "123           204  \n",
       "232           339  \n",
       "308           397  "
      ]
     },
     "execution_count": 12,
     "metadata": {},
     "output_type": "execute_result"
    }
   ],
   "source": [
    "df_airbnb.sample(3)"
   ]
  },
  {
   "cell_type": "markdown",
   "metadata": {},
   "source": [
    "- Convertimos la latitud y la longitud a geopuntos, cambiamos el formato de CRS (Coordinate Reference System) para que estandarizar el formato con los datos obtenidos de los municipios de Madrid, y guardamos en un archivo de tipo `geojason`."
   ]
  },
  {
   "cell_type": "code",
   "execution_count": null,
   "metadata": {},
   "outputs": [],
   "source": [
    "gdf_airbnb = gpd.GeoDataFrame(df_airbnb, geometry=gpd.points_from_xy(df_airbnb.Longitud, df_airbnb.Latitud))\n",
    "gdf_airbnb.crs = \"EPSG:4326\"\n",
    "#gdf_airbnb.to_file('../datos/origen/airbnb.geojson', driver='GeoJSON')"
   ]
  },
  {
   "cell_type": "code",
   "execution_count": 14,
   "metadata": {},
   "outputs": [],
   "source": [
    "gdf_distritos = gpd.read_file(\"../datos/origen/madrid-districts.geojson\")"
   ]
  },
  {
   "cell_type": "code",
   "execution_count": 15,
   "metadata": {},
   "outputs": [],
   "source": [
    "gdf_distritos = gdf_distritos.rename(columns={\"name\":\"Distrito\",\"cartodb_id\":\"ID_Distrito\"})\n",
    "gdf_distritos.drop(columns= [\"created_at\", \"updated_at\"], inplace=True)"
   ]
  },
  {
   "cell_type": "code",
   "execution_count": 16,
   "metadata": {},
   "outputs": [],
   "source": [
    "gdf_sjoin = gpd.sjoin(gdf_airbnb, gdf_distritos, how=\"inner\", predicate=\"within\")\n",
    "gdf_sjoin = gdf_sjoin.drop(columns=\"index_right\")"
   ]
  },
  {
   "cell_type": "code",
   "execution_count": 17,
   "metadata": {},
   "outputs": [
    {
     "data": {
      "text/html": [
       "<div>\n",
       "<style scoped>\n",
       "    .dataframe tbody tr th:only-of-type {\n",
       "        vertical-align: middle;\n",
       "    }\n",
       "\n",
       "    .dataframe tbody tr th {\n",
       "        vertical-align: top;\n",
       "    }\n",
       "\n",
       "    .dataframe thead th {\n",
       "        text-align: right;\n",
       "    }\n",
       "</style>\n",
       "<table border=\"1\" class=\"dataframe\">\n",
       "  <thead>\n",
       "    <tr style=\"text-align: right;\">\n",
       "      <th></th>\n",
       "      <th>Latitud</th>\n",
       "      <th>Longitud</th>\n",
       "      <th>Descripcion</th>\n",
       "      <th>Precio Total</th>\n",
       "      <th>geometry</th>\n",
       "      <th>Distrito</th>\n",
       "      <th>ID_Distrito</th>\n",
       "    </tr>\n",
       "  </thead>\n",
       "  <tbody>\n",
       "    <tr>\n",
       "      <th>0</th>\n",
       "      <td>40.411549</td>\n",
       "      <td>-3.697992</td>\n",
       "      <td>Acogedor baño de doble baño en el corazón de M...</td>\n",
       "      <td>186</td>\n",
       "      <td>POINT (-3.69799 40.41155)</td>\n",
       "      <td>Centro</td>\n",
       "      <td>1</td>\n",
       "    </tr>\n",
       "  </tbody>\n",
       "</table>\n",
       "</div>"
      ],
      "text/plain": [
       "     Latitud  Longitud                                        Descripcion  \\\n",
       "0  40.411549 -3.697992  Acogedor baño de doble baño en el corazón de M...   \n",
       "\n",
       "   Precio Total                   geometry Distrito  ID_Distrito  \n",
       "0           186  POINT (-3.69799 40.41155)   Centro            1  "
      ]
     },
     "execution_count": 17,
     "metadata": {},
     "output_type": "execute_result"
    }
   ],
   "source": [
    "gdf_sjoin.head(1)"
   ]
  },
  {
   "cell_type": "code",
   "execution_count": 47,
   "metadata": {},
   "outputs": [],
   "source": [
    "gdf_sjoin_final = gdf_sjoin[[\"ID_Distrito\", \"Precio Total\", \"Descripcion\", \"geometry\"]]"
   ]
  },
  {
   "cell_type": "code",
   "execution_count": 48,
   "metadata": {},
   "outputs": [
    {
     "data": {
      "text/html": [
       "<div>\n",
       "<style scoped>\n",
       "    .dataframe tbody tr th:only-of-type {\n",
       "        vertical-align: middle;\n",
       "    }\n",
       "\n",
       "    .dataframe tbody tr th {\n",
       "        vertical-align: top;\n",
       "    }\n",
       "\n",
       "    .dataframe thead th {\n",
       "        text-align: right;\n",
       "    }\n",
       "</style>\n",
       "<table border=\"1\" class=\"dataframe\">\n",
       "  <thead>\n",
       "    <tr style=\"text-align: right;\">\n",
       "      <th></th>\n",
       "      <th>ID_Distrito</th>\n",
       "      <th>Precio Total</th>\n",
       "      <th>Descripcion</th>\n",
       "      <th>geometry</th>\n",
       "    </tr>\n",
       "  </thead>\n",
       "  <tbody>\n",
       "    <tr>\n",
       "      <th>54</th>\n",
       "      <td>15</td>\n",
       "      <td>82</td>\n",
       "      <td>Habitación acogedora a los 15-20 min.desde el ...</td>\n",
       "      <td>POINT (-3.64209 40.43146)</td>\n",
       "    </tr>\n",
       "    <tr>\n",
       "      <th>243</th>\n",
       "      <td>1</td>\n",
       "      <td>385</td>\n",
       "      <td>Aparte.Sol central</td>\n",
       "      <td>POINT (-3.70231 40.41898)</td>\n",
       "    </tr>\n",
       "  </tbody>\n",
       "</table>\n",
       "</div>"
      ],
      "text/plain": [
       "     ID_Distrito  Precio Total  \\\n",
       "54            15            82   \n",
       "243            1           385   \n",
       "\n",
       "                                           Descripcion  \\\n",
       "54   Habitación acogedora a los 15-20 min.desde el ...   \n",
       "243                                 Aparte.Sol central   \n",
       "\n",
       "                      geometry  \n",
       "54   POINT (-3.64209 40.43146)  \n",
       "243  POINT (-3.70231 40.41898)  "
      ]
     },
     "execution_count": 48,
     "metadata": {},
     "output_type": "execute_result"
    }
   ],
   "source": [
    "gdf_sjoin_final.sample(2)"
   ]
  },
  {
   "cell_type": "code",
   "execution_count": 169,
   "metadata": {},
   "outputs": [
    {
     "data": {
      "text/plain": [
       "ID_Distrito        int32\n",
       "Precio Total       int64\n",
       "Descripcion       object\n",
       "geometry        geometry\n",
       "dtype: object"
      ]
     },
     "execution_count": 169,
     "metadata": {},
     "output_type": "execute_result"
    }
   ],
   "source": [
    "gdf_sjoin_final.dtypes"
   ]
  },
  {
   "cell_type": "code",
   "execution_count": null,
   "metadata": {},
   "outputs": [],
   "source": [
    "#gdf_sjoin_final.to_file('../datos/finales/airbnb.geojson', driver='GeoJSON')\n",
    "#gdf_sjoin.to_file('../datos/finales/airbnb.shp')"
   ]
  },
  {
   "cell_type": "markdown",
   "metadata": {},
   "source": [
    "## Creación del DF Distritos\n",
    "- En él se listan los distritos de Madrid junto con los códigos asignados por el ayuntamiento.\n",
    "- Guardamos en .CSV."
   ]
  },
  {
   "cell_type": "code",
   "execution_count": 33,
   "metadata": {},
   "outputs": [
    {
     "data": {
      "text/html": [
       "<div>\n",
       "<style scoped>\n",
       "    .dataframe tbody tr th:only-of-type {\n",
       "        vertical-align: middle;\n",
       "    }\n",
       "\n",
       "    .dataframe tbody tr th {\n",
       "        vertical-align: top;\n",
       "    }\n",
       "\n",
       "    .dataframe thead th {\n",
       "        text-align: right;\n",
       "    }\n",
       "</style>\n",
       "<table border=\"1\" class=\"dataframe\">\n",
       "  <thead>\n",
       "    <tr style=\"text-align: right;\">\n",
       "      <th></th>\n",
       "      <th>ID_Distrito</th>\n",
       "      <th>Distrito</th>\n",
       "      <th>geometry</th>\n",
       "    </tr>\n",
       "  </thead>\n",
       "  <tbody>\n",
       "    <tr>\n",
       "      <th>0</th>\n",
       "      <td>1</td>\n",
       "      <td>Centro</td>\n",
       "      <td>MULTIPOLYGON (((-3.69185 40.40853, -3.69189 40...</td>\n",
       "    </tr>\n",
       "    <tr>\n",
       "      <th>1</th>\n",
       "      <td>2</td>\n",
       "      <td>Arganzuela</td>\n",
       "      <td>MULTIPOLYGON (((-3.70258 40.40638, -3.70166 40...</td>\n",
       "    </tr>\n",
       "    <tr>\n",
       "      <th>2</th>\n",
       "      <td>3</td>\n",
       "      <td>Retiro</td>\n",
       "      <td>MULTIPOLYGON (((-3.66279 40.4097, -3.66384 40....</td>\n",
       "    </tr>\n",
       "    <tr>\n",
       "      <th>3</th>\n",
       "      <td>4</td>\n",
       "      <td>Salamanca</td>\n",
       "      <td>MULTIPOLYGON (((-3.65809 40.43945, -3.65828 40...</td>\n",
       "    </tr>\n",
       "    <tr>\n",
       "      <th>4</th>\n",
       "      <td>5</td>\n",
       "      <td>Chamartin</td>\n",
       "      <td>MULTIPOLYGON (((-3.67231 40.48388, -3.67237 40...</td>\n",
       "    </tr>\n",
       "    <tr>\n",
       "      <th>5</th>\n",
       "      <td>6</td>\n",
       "      <td>Tetuan</td>\n",
       "      <td>MULTIPOLYGON (((-3.69633 40.47572, -3.69619 40...</td>\n",
       "    </tr>\n",
       "    <tr>\n",
       "      <th>6</th>\n",
       "      <td>7</td>\n",
       "      <td>Chamberi</td>\n",
       "      <td>MULTIPOLYGON (((-3.68991 40.44737, -3.69048 40...</td>\n",
       "    </tr>\n",
       "    <tr>\n",
       "      <th>7</th>\n",
       "      <td>8</td>\n",
       "      <td>Fuencarral-El Pardo</td>\n",
       "      <td>MULTIPOLYGON (((-3.64131 40.63922, -3.64118 40...</td>\n",
       "    </tr>\n",
       "    <tr>\n",
       "      <th>8</th>\n",
       "      <td>9</td>\n",
       "      <td>Moncloa-Aravaca</td>\n",
       "      <td>MULTIPOLYGON (((-3.79973 40.47063, -3.79887 40...</td>\n",
       "    </tr>\n",
       "    <tr>\n",
       "      <th>9</th>\n",
       "      <td>10</td>\n",
       "      <td>Latina</td>\n",
       "      <td>MULTIPOLYGON (((-3.7213 40.41256, -3.72051 40....</td>\n",
       "    </tr>\n",
       "    <tr>\n",
       "      <th>10</th>\n",
       "      <td>11</td>\n",
       "      <td>Carabanchel</td>\n",
       "      <td>MULTIPOLYGON (((-3.72346 40.40622, -3.72345 40...</td>\n",
       "    </tr>\n",
       "    <tr>\n",
       "      <th>11</th>\n",
       "      <td>12</td>\n",
       "      <td>Usera</td>\n",
       "      <td>MULTIPOLYGON (((-3.6819 40.36592, -3.6819 40.3...</td>\n",
       "    </tr>\n",
       "    <tr>\n",
       "      <th>12</th>\n",
       "      <td>13</td>\n",
       "      <td>Puente de Vallecas</td>\n",
       "      <td>MULTIPOLYGON (((-3.67705 40.3618, -3.67706 40....</td>\n",
       "    </tr>\n",
       "    <tr>\n",
       "      <th>13</th>\n",
       "      <td>14</td>\n",
       "      <td>Moratalaz</td>\n",
       "      <td>MULTIPOLYGON (((-3.64158 40.41569, -3.63964 40...</td>\n",
       "    </tr>\n",
       "    <tr>\n",
       "      <th>14</th>\n",
       "      <td>15</td>\n",
       "      <td>Ciudad Lineal</td>\n",
       "      <td>MULTIPOLYGON (((-3.62058 40.41671, -3.62031 40...</td>\n",
       "    </tr>\n",
       "    <tr>\n",
       "      <th>15</th>\n",
       "      <td>16</td>\n",
       "      <td>Hortaleza</td>\n",
       "      <td>MULTIPOLYGON (((-3.65114 40.5123, -3.65095 40....</td>\n",
       "    </tr>\n",
       "    <tr>\n",
       "      <th>16</th>\n",
       "      <td>17</td>\n",
       "      <td>Villaverde</td>\n",
       "      <td>MULTIPOLYGON (((-3.70235 40.36475, -3.70193 40...</td>\n",
       "    </tr>\n",
       "    <tr>\n",
       "      <th>17</th>\n",
       "      <td>18</td>\n",
       "      <td>Villa de Vallecas</td>\n",
       "      <td>MULTIPOLYGON (((-3.60631 40.3882, -3.60524 40....</td>\n",
       "    </tr>\n",
       "    <tr>\n",
       "      <th>18</th>\n",
       "      <td>19</td>\n",
       "      <td>Vicalvaro</td>\n",
       "      <td>MULTIPOLYGON (((-3.57633 40.41484, -3.57159 40...</td>\n",
       "    </tr>\n",
       "    <tr>\n",
       "      <th>19</th>\n",
       "      <td>20</td>\n",
       "      <td>San Blas</td>\n",
       "      <td>MULTIPOLYGON (((-3.59198 40.45123, -3.59194 40...</td>\n",
       "    </tr>\n",
       "    <tr>\n",
       "      <th>20</th>\n",
       "      <td>21</td>\n",
       "      <td>Barajas</td>\n",
       "      <td>MULTIPOLYGON (((-3.56045 40.51234, -3.56036 40...</td>\n",
       "    </tr>\n",
       "  </tbody>\n",
       "</table>\n",
       "</div>"
      ],
      "text/plain": [
       "    ID_Distrito             Distrito  \\\n",
       "0             1               Centro   \n",
       "1             2           Arganzuela   \n",
       "2             3               Retiro   \n",
       "3             4            Salamanca   \n",
       "4             5            Chamartin   \n",
       "5             6               Tetuan   \n",
       "6             7             Chamberi   \n",
       "7             8  Fuencarral-El Pardo   \n",
       "8             9      Moncloa-Aravaca   \n",
       "9            10               Latina   \n",
       "10           11          Carabanchel   \n",
       "11           12                Usera   \n",
       "12           13   Puente de Vallecas   \n",
       "13           14            Moratalaz   \n",
       "14           15        Ciudad Lineal   \n",
       "15           16            Hortaleza   \n",
       "16           17           Villaverde   \n",
       "17           18    Villa de Vallecas   \n",
       "18           19            Vicalvaro   \n",
       "19           20             San Blas   \n",
       "20           21              Barajas   \n",
       "\n",
       "                                             geometry  \n",
       "0   MULTIPOLYGON (((-3.69185 40.40853, -3.69189 40...  \n",
       "1   MULTIPOLYGON (((-3.70258 40.40638, -3.70166 40...  \n",
       "2   MULTIPOLYGON (((-3.66279 40.4097, -3.66384 40....  \n",
       "3   MULTIPOLYGON (((-3.65809 40.43945, -3.65828 40...  \n",
       "4   MULTIPOLYGON (((-3.67231 40.48388, -3.67237 40...  \n",
       "5   MULTIPOLYGON (((-3.69633 40.47572, -3.69619 40...  \n",
       "6   MULTIPOLYGON (((-3.68991 40.44737, -3.69048 40...  \n",
       "7   MULTIPOLYGON (((-3.64131 40.63922, -3.64118 40...  \n",
       "8   MULTIPOLYGON (((-3.79973 40.47063, -3.79887 40...  \n",
       "9   MULTIPOLYGON (((-3.7213 40.41256, -3.72051 40....  \n",
       "10  MULTIPOLYGON (((-3.72346 40.40622, -3.72345 40...  \n",
       "11  MULTIPOLYGON (((-3.6819 40.36592, -3.6819 40.3...  \n",
       "12  MULTIPOLYGON (((-3.67705 40.3618, -3.67706 40....  \n",
       "13  MULTIPOLYGON (((-3.64158 40.41569, -3.63964 40...  \n",
       "14  MULTIPOLYGON (((-3.62058 40.41671, -3.62031 40...  \n",
       "15  MULTIPOLYGON (((-3.65114 40.5123, -3.65095 40....  \n",
       "16  MULTIPOLYGON (((-3.70235 40.36475, -3.70193 40...  \n",
       "17  MULTIPOLYGON (((-3.60631 40.3882, -3.60524 40....  \n",
       "18  MULTIPOLYGON (((-3.57633 40.41484, -3.57159 40...  \n",
       "19  MULTIPOLYGON (((-3.59198 40.45123, -3.59194 40...  \n",
       "20  MULTIPOLYGON (((-3.56045 40.51234, -3.56036 40...  "
      ]
     },
     "execution_count": 33,
     "metadata": {},
     "output_type": "execute_result"
    }
   ],
   "source": [
    "df_distritos = gdf_distritos[[\"ID_Distrito\", \"Distrito\", \"geometry\"]]\n",
    "#df_distritos.to_file('../datos/finales/distritos.geojson', driver='GeoJSON')\n",
    "df_distritos"
   ]
  },
  {
   "cell_type": "code",
   "execution_count": 168,
   "metadata": {},
   "outputs": [
    {
     "data": {
      "text/plain": [
       "ID_Distrito       int32\n",
       "Distrito         object\n",
       "geometry       geometry\n",
       "dtype: object"
      ]
     },
     "execution_count": 168,
     "metadata": {},
     "output_type": "execute_result"
    }
   ],
   "source": [
    "df_distritos.dtypes"
   ]
  },
  {
   "cell_type": "markdown",
   "metadata": {},
   "source": [
    "## WebScraping de Redpiso"
   ]
  },
  {
   "cell_type": "code",
   "execution_count": null,
   "metadata": {},
   "outputs": [],
   "source": [
    "#sopas_redpiso = sf.scraping_alquileres_redpiso(50)"
   ]
  },
  {
   "cell_type": "code",
   "execution_count": null,
   "metadata": {},
   "outputs": [],
   "source": [
    "#with open('../datos/origen/sopas_redpiso.pkl', 'wb') as file:\n",
    "#    pickle.dump(sopas_redpiso, file)"
   ]
  },
  {
   "cell_type": "code",
   "execution_count": 21,
   "metadata": {},
   "outputs": [],
   "source": [
    "with open('../datos/origen/sopas_redpiso.pkl', 'rb') as file:\n",
    "    sopas_redpiso = pickle.load(file)"
   ]
  },
  {
   "cell_type": "code",
   "execution_count": 22,
   "metadata": {},
   "outputs": [],
   "source": [
    "df_redpiso = sf.dataframe_redpiso(sopas_redpiso)"
   ]
  },
  {
   "cell_type": "markdown",
   "metadata": {},
   "source": [
    "- Vemos que, hemos obtenido un DF con un total de 599 viviendas en alquiler."
   ]
  },
  {
   "cell_type": "code",
   "execution_count": 23,
   "metadata": {},
   "outputs": [
    {
     "data": {
      "text/plain": [
       "(600, 2)"
      ]
     },
     "execution_count": 23,
     "metadata": {},
     "output_type": "execute_result"
    }
   ],
   "source": [
    "df_redpiso.shape"
   ]
  },
  {
   "cell_type": "markdown",
   "metadata": {},
   "source": [
    "- Procederemos ahora a limpiar los datos:\n",
    "1. Aplicaremos la función `extraer_distrito` a la columna descripción. Esta función aplica un patrón de Regex al string para obtener únicamente el distrito. Si no lo encuentra, devuelve \"Distrito no identificado\". Limpiaremos esos registros posteriormente.\n",
    "2. En la columna precio sustituimos los puntos, los signos de euro y los strings \"a consultar\".\n",
    "3. Homogenizamos los nombres de los distritos eliminando las tildes y los nombres generales. "
   ]
  },
  {
   "cell_type": "code",
   "execution_count": 24,
   "metadata": {},
   "outputs": [],
   "source": [
    "df_redpiso[\"Distrito\"] = df_redpiso['Descripcion'].apply(sf.extraer_distrito)\n",
    "df_redpiso[\"Descripcion\"] = df_redpiso[\"Descripcion\"].str.title()\n",
    "df_redpiso[\"Precio\"] = df_redpiso[\"Precio\"].str.replace(\"A consultar\",\"0\")\n",
    "df_redpiso[\"Precio\"] = df_redpiso[\"Precio\"].str.replace(\".\",\"\")\n",
    "df_redpiso[\"Precio\"] = df_redpiso[\"Precio\"].str.replace(\" €\",\"\").astype(int)\n",
    "df_redpiso[\"Distrito\"] = df_redpiso[\"Distrito\"].str.replace(\"Villa de Vallecas-Ensanche y Santa Eugenia\",\"Puente de Vallecas\")\n",
    "df_redpiso[\"Distrito\"] = df_redpiso[\"Distrito\"].str.replace(\"San Blas-Canillejas\",\"San Blas\")\n",
    "df_redpiso[\"Distrito\"] = df_redpiso[\"Distrito\"].str.replace(\"Vicálvaro-Ambroz-Centro-Valdebernardo-Valderribas\",\"Vicálvaro\")\n",
    "df_redpiso[\"Distrito\"] = df_redpiso[\"Distrito\"].str.replace(\"Chamberí\",\"Chamberi\")\n",
    "df_redpiso[\"Distrito\"] = df_redpiso[\"Distrito\"].str.replace(\"Chamartín\",\"Chamartin\")\n",
    "df_redpiso[\"Distrito\"] = df_redpiso[\"Distrito\"].str.replace(\"Vicálvaro\",\"Vicalvaro\")\n",
    "df_redpiso[\"Distrito\"] = df_redpiso[\"Distrito\"].str.replace(\"Tetuán\",\"Tetuan\")"
   ]
  },
  {
   "cell_type": "markdown",
   "metadata": {},
   "source": [
    "- Tras aplicar el patrón de Regex, nos hemos quedado con 20 entradas sin identificar. Asignaremos esos distritos manualmente y comprobaremos que se hayan eliminado."
   ]
  },
  {
   "cell_type": "code",
   "execution_count": 25,
   "metadata": {},
   "outputs": [],
   "source": [
    "df_redpiso[\"Distrito\"][0] = \"Villaverde\"\n",
    "df_redpiso[\"Distrito\"][13] = \"Moncloa-Aravaca\"\n",
    "df_redpiso[\"Distrito\"][39] = \"Moncloa-Aravaca\"\n",
    "df_redpiso[\"Distrito\"][112] = \"Moncloa-Aravaca\"\n",
    "df_redpiso[\"Distrito\"][187] = \"Villaverde\"\n",
    "df_redpiso[\"Distrito\"][235] = \"Centro\"\n",
    "df_redpiso[\"Distrito\"][257] = \"Puente de Vallecas\"\n",
    "df_redpiso[\"Distrito\"][273] = \"Centro\"\n",
    "df_redpiso[\"Distrito\"][288] = \"Moncloa-Aravaca\"\n",
    "df_redpiso[\"Distrito\"][380] = \"Usera\"\n",
    "df_redpiso[\"Distrito\"][387] = \"Moncloa-Aravaca\"\n",
    "df_redpiso[\"Distrito\"][446] = \"Centro\"\n",
    "df_redpiso[\"Distrito\"][464] = \"Moncloa-Aravaca\"\n",
    "df_redpiso[\"Distrito\"][493] = \"Centro\"\n",
    "df_redpiso[\"Distrito\"][501] = \"Centro\"\n",
    "df_redpiso[\"Distrito\"][527] = \"Chamberi\"\n",
    "df_redpiso[\"Distrito\"][551] = \"Chamartin\"\n",
    "df_redpiso[\"Distrito\"][568] = \"Moncloa-Aravaca\"\n",
    "df_redpiso[\"Distrito\"][591] = \"Moncloa-Aravaca\"\n",
    "df_redpiso[\"Distrito\"][592] = \"Moncloa-Aravaca\""
   ]
  },
  {
   "cell_type": "code",
   "execution_count": 26,
   "metadata": {},
   "outputs": [
    {
     "data": {
      "text/html": [
       "<div>\n",
       "<style scoped>\n",
       "    .dataframe tbody tr th:only-of-type {\n",
       "        vertical-align: middle;\n",
       "    }\n",
       "\n",
       "    .dataframe tbody tr th {\n",
       "        vertical-align: top;\n",
       "    }\n",
       "\n",
       "    .dataframe thead th {\n",
       "        text-align: right;\n",
       "    }\n",
       "</style>\n",
       "<table border=\"1\" class=\"dataframe\">\n",
       "  <thead>\n",
       "    <tr style=\"text-align: right;\">\n",
       "      <th></th>\n",
       "      <th>Descripcion</th>\n",
       "      <th>Precio</th>\n",
       "      <th>Distrito</th>\n",
       "    </tr>\n",
       "  </thead>\n",
       "  <tbody>\n",
       "  </tbody>\n",
       "</table>\n",
       "</div>"
      ],
      "text/plain": [
       "Empty DataFrame\n",
       "Columns: [Descripcion, Precio, Distrito]\n",
       "Index: []"
      ]
     },
     "execution_count": 26,
     "metadata": {},
     "output_type": "execute_result"
    }
   ],
   "source": [
    "df_redpiso[df_redpiso[\"Distrito\"].str.contains(\"Distrito no identificado\", case=False, na=False)]"
   ]
  },
  {
   "cell_type": "markdown",
   "metadata": {},
   "source": [
    "- Comprobamos nuevamente que los nombres de los distritos son consistentes y no tenemos registros inesperados."
   ]
  },
  {
   "cell_type": "code",
   "execution_count": 27,
   "metadata": {},
   "outputs": [
    {
     "data": {
      "text/plain": [
       "array(['Villaverde', 'Chamberi', 'Salamanca', 'Ciudad Lineal',\n",
       "       'Puente de Vallecas', 'Barajas', 'San Blas', 'Arganzuela',\n",
       "       'Tetuan', 'Moncloa-Aravaca', 'Latina', 'Hortaleza',\n",
       "       'Fuencarral-El Pardo', 'Retiro', 'Centro', 'Carabanchel',\n",
       "       'Chamartin', 'Moratalaz', 'Usera', 'Vicalvaro'], dtype=object)"
      ]
     },
     "execution_count": 27,
     "metadata": {},
     "output_type": "execute_result"
    }
   ],
   "source": [
    "df_redpiso[\"Distrito\"].unique()"
   ]
  },
  {
   "cell_type": "markdown",
   "metadata": {},
   "source": [
    "- Eliminamos los registros donde el precio del alquiler sea cero, debido a que distorsionarían el análisis."
   ]
  },
  {
   "cell_type": "code",
   "execution_count": 28,
   "metadata": {},
   "outputs": [
    {
     "data": {
      "text/plain": [
       "Precio\n",
       "1100    53\n",
       "1200    51\n",
       "0       43\n",
       "850     42\n",
       "1000    40\n",
       "        ..\n",
       "2350     1\n",
       "550      1\n",
       "690      1\n",
       "720      1\n",
       "1480     1\n",
       "Name: count, Length: 83, dtype: int64"
      ]
     },
     "execution_count": 28,
     "metadata": {},
     "output_type": "execute_result"
    }
   ],
   "source": [
    "df_redpiso[\"Precio\"].value_counts()"
   ]
  },
  {
   "cell_type": "code",
   "execution_count": 29,
   "metadata": {},
   "outputs": [],
   "source": [
    "df_redpiso = df_redpiso[\n",
    "    (df_redpiso[\"Precio\"] != 0)\n",
    "]"
   ]
  },
  {
   "cell_type": "markdown",
   "metadata": {},
   "source": [
    "- Tras eliminar los registros, nos quedamos con 556 pisos repartidos en 20 distritos, de un total de 21 que tenemos en Madrid."
   ]
  },
  {
   "cell_type": "code",
   "execution_count": 30,
   "metadata": {},
   "outputs": [
    {
     "data": {
      "text/plain": [
       "Distrito\n",
       "Chamberi               74\n",
       "Chamartin              69\n",
       "Centro                 62\n",
       "Fuencarral-El Pardo    47\n",
       "Hortaleza              44\n",
       "Puente de Vallecas     43\n",
       "Arganzuela             35\n",
       "Salamanca              33\n",
       "Latina                 31\n",
       "Moncloa-Aravaca        26\n",
       "Tetuan                 25\n",
       "Retiro                 17\n",
       "Carabanchel            15\n",
       "San Blas               11\n",
       "Villaverde              8\n",
       "Ciudad Lineal           6\n",
       "Vicalvaro               6\n",
       "Barajas                 2\n",
       "Moratalaz               2\n",
       "Usera                   1\n",
       "Name: count, dtype: int64"
      ]
     },
     "execution_count": 30,
     "metadata": {},
     "output_type": "execute_result"
    }
   ],
   "source": [
    "df_redpiso[\"Distrito\"].value_counts()"
   ]
  },
  {
   "cell_type": "markdown",
   "metadata": {},
   "source": [
    "- Para asignar el ID a cada municipio, realiaremos un merge con el dataframe de distritos. Reordenaremos las columnas y lo guardaremos en un archivo CSV."
   ]
  },
  {
   "cell_type": "code",
   "execution_count": 34,
   "metadata": {},
   "outputs": [],
   "source": [
    "df_redpiso_merge = df_redpiso.merge(df_distritos, how=\"inner\", left_on=\"Distrito\", right_on=\"Distrito\")"
   ]
  },
  {
   "cell_type": "code",
   "execution_count": 35,
   "metadata": {},
   "outputs": [
    {
     "data": {
      "text/html": [
       "<div>\n",
       "<style scoped>\n",
       "    .dataframe tbody tr th:only-of-type {\n",
       "        vertical-align: middle;\n",
       "    }\n",
       "\n",
       "    .dataframe tbody tr th {\n",
       "        vertical-align: top;\n",
       "    }\n",
       "\n",
       "    .dataframe thead th {\n",
       "        text-align: right;\n",
       "    }\n",
       "</style>\n",
       "<table border=\"1\" class=\"dataframe\">\n",
       "  <thead>\n",
       "    <tr style=\"text-align: right;\">\n",
       "      <th></th>\n",
       "      <th>ID_Distrito</th>\n",
       "      <th>Precio</th>\n",
       "      <th>Descripcion</th>\n",
       "    </tr>\n",
       "  </thead>\n",
       "  <tbody>\n",
       "    <tr>\n",
       "      <th>0</th>\n",
       "      <td>17</td>\n",
       "      <td>850</td>\n",
       "      <td>Piso En Alquiler En Villaverde, Madrid, Madrid</td>\n",
       "    </tr>\n",
       "    <tr>\n",
       "      <th>1</th>\n",
       "      <td>7</td>\n",
       "      <td>1100</td>\n",
       "      <td>Piso En Alquiler En Calle Cristobal Bordiu, Rí...</td>\n",
       "    </tr>\n",
       "    <tr>\n",
       "      <th>2</th>\n",
       "      <td>4</td>\n",
       "      <td>2000</td>\n",
       "      <td>Apartamento En Alquiler En Calle Fundadores, F...</td>\n",
       "    </tr>\n",
       "    <tr>\n",
       "      <th>3</th>\n",
       "      <td>15</td>\n",
       "      <td>744</td>\n",
       "      <td>Piso En Alquiler En Calle Pepe Isbert, Pueblo ...</td>\n",
       "    </tr>\n",
       "    <tr>\n",
       "      <th>4</th>\n",
       "      <td>13</td>\n",
       "      <td>750</td>\n",
       "      <td>Estudio En Alquiler En Calle Embalse De Navace...</td>\n",
       "    </tr>\n",
       "  </tbody>\n",
       "</table>\n",
       "</div>"
      ],
      "text/plain": [
       "   ID_Distrito  Precio                                        Descripcion\n",
       "0           17     850     Piso En Alquiler En Villaverde, Madrid, Madrid\n",
       "1            7    1100  Piso En Alquiler En Calle Cristobal Bordiu, Rí...\n",
       "2            4    2000  Apartamento En Alquiler En Calle Fundadores, F...\n",
       "3           15     744  Piso En Alquiler En Calle Pepe Isbert, Pueblo ...\n",
       "4           13     750  Estudio En Alquiler En Calle Embalse De Navace..."
      ]
     },
     "execution_count": 35,
     "metadata": {},
     "output_type": "execute_result"
    }
   ],
   "source": [
    "df_redpiso_merge.drop(columns = [\"Distrito\", \"geometry\"], inplace=True)\n",
    "df_redpiso_merge = df_redpiso_merge[[\"ID_Distrito\", \"Precio\", \"Descripcion\"]]\n",
    "df_redpiso_merge.head(5)"
   ]
  },
  {
   "cell_type": "code",
   "execution_count": 165,
   "metadata": {},
   "outputs": [
    {
     "data": {
      "text/plain": [
       "ID_Distrito     int32\n",
       "Precio          int64\n",
       "Descripcion    object\n",
       "dtype: object"
      ]
     },
     "execution_count": 165,
     "metadata": {},
     "output_type": "execute_result"
    }
   ],
   "source": [
    "df_redpiso_merge.dtypes"
   ]
  },
  {
   "cell_type": "code",
   "execution_count": null,
   "metadata": {},
   "outputs": [],
   "source": [
    "#df_redpiso_merge.to_csv(\"../datos/finales/redpiso.csv\")"
   ]
  },
  {
   "cell_type": "markdown",
   "metadata": {},
   "source": [
    "## API Idealista"
   ]
  },
  {
   "cell_type": "code",
   "execution_count": null,
   "metadata": {},
   "outputs": [],
   "source": [
    "#resultados_idealista = sf.consulta_idealista(\"0-EU-ES-28-07-001-079\", \"Madrid\", 10)"
   ]
  },
  {
   "cell_type": "code",
   "execution_count": null,
   "metadata": {},
   "outputs": [],
   "source": [
    "#with open(\"../datos/origen/idealista.json\", \"w\") as json_file:\n",
    "#    json.dump(resultados_idealista, json_file, indent=4)"
   ]
  },
  {
   "cell_type": "code",
   "execution_count": 37,
   "metadata": {},
   "outputs": [],
   "source": [
    "with open(\"../datos/origen/idealista.json\", 'r') as file:\n",
    "    resultados_idealista = json.load(file)"
   ]
  },
  {
   "cell_type": "code",
   "execution_count": 38,
   "metadata": {},
   "outputs": [],
   "source": [
    "df_idealista = sf.dataframe_idealista(resultados_idealista)"
   ]
  },
  {
   "cell_type": "code",
   "execution_count": 39,
   "metadata": {},
   "outputs": [],
   "source": [
    "df_idealista[\"Tipo\"] = df_idealista[\"Tipo\"].apply(sf.traducir_es)\n",
    "df_idealista[\"Direccion\"] = df_idealista[\"Direccion\"].str.title()\n",
    "df_idealista[\"Descripcion\"] = df_idealista[\"Descripcion\"].str.title()"
   ]
  },
  {
   "cell_type": "code",
   "execution_count": null,
   "metadata": {},
   "outputs": [
    {
     "data": {
      "text/html": [
       "<div>\n",
       "<style scoped>\n",
       "    .dataframe tbody tr th:only-of-type {\n",
       "        vertical-align: middle;\n",
       "    }\n",
       "\n",
       "    .dataframe tbody tr th {\n",
       "        vertical-align: top;\n",
       "    }\n",
       "\n",
       "    .dataframe thead th {\n",
       "        text-align: right;\n",
       "    }\n",
       "</style>\n",
       "<table border=\"1\" class=\"dataframe\">\n",
       "  <thead>\n",
       "    <tr style=\"text-align: right;\">\n",
       "      <th></th>\n",
       "      <th>Latitud</th>\n",
       "      <th>Longitud</th>\n",
       "      <th>Precio</th>\n",
       "      <th>Tipo</th>\n",
       "      <th>Planta</th>\n",
       "      <th>Tamaño</th>\n",
       "      <th>Habitaciones</th>\n",
       "      <th>Baños</th>\n",
       "      <th>Dirección</th>\n",
       "      <th>Descripción</th>\n",
       "    </tr>\n",
       "  </thead>\n",
       "  <tbody>\n",
       "    <tr>\n",
       "      <th>0</th>\n",
       "      <td>40.432201</td>\n",
       "      <td>-3.714278</td>\n",
       "      <td>1350.0</td>\n",
       "      <td>departamento</td>\n",
       "      <td>1</td>\n",
       "      <td>73.0</td>\n",
       "      <td>2</td>\n",
       "      <td>1</td>\n",
       "      <td>Calle De Andres Mellado, 18</td>\n",
       "      <td>Piso Con Una Habitación Con Cama De Matrimonio...</td>\n",
       "    </tr>\n",
       "    <tr>\n",
       "      <th>1</th>\n",
       "      <td>40.414669</td>\n",
       "      <td>-3.705414</td>\n",
       "      <td>2300.0</td>\n",
       "      <td>departamento</td>\n",
       "      <td>5</td>\n",
       "      <td>95.0</td>\n",
       "      <td>2</td>\n",
       "      <td>2</td>\n",
       "      <td>Calle Del Marqués Viudo De Pontejos</td>\n",
       "      <td>S C A L A  |  Properties Presenta Ático Amuebl...</td>\n",
       "    </tr>\n",
       "  </tbody>\n",
       "</table>\n",
       "</div>"
      ],
      "text/plain": [
       "     Latitud  Longitud  Precio          Tipo Planta  Tamaño  Habitaciones  \\\n",
       "0  40.432201 -3.714278  1350.0  departamento      1    73.0             2   \n",
       "1  40.414669 -3.705414  2300.0  departamento      5    95.0             2   \n",
       "\n",
       "   Baños                            Dirección  \\\n",
       "0      1          Calle De Andres Mellado, 18   \n",
       "1      2  Calle Del Marqués Viudo De Pontejos   \n",
       "\n",
       "                                         Descripción  \n",
       "0  Piso Con Una Habitación Con Cama De Matrimonio...  \n",
       "1  S C A L A  |  Properties Presenta Ático Amuebl...  "
      ]
     },
     "execution_count": 51,
     "metadata": {},
     "output_type": "execute_result"
    }
   ],
   "source": [
    "df_idealista.head(2)"
   ]
  },
  {
   "cell_type": "markdown",
   "metadata": {},
   "source": [
    "- Cuando un valor se repite muchas veces, como puede ser el caso del tipo de vivienda, para crear nuestra base de datos, lo correcto sería crear una nueva tabla con identificadores únicos para cada tipo de vivienda, así, normalizamos los datos, eliminando redundancias. Por una limitación de tiempo, no se hará en este proyecto."
   ]
  },
  {
   "cell_type": "code",
   "execution_count": 52,
   "metadata": {},
   "outputs": [
    {
     "data": {
      "text/plain": [
       "Tipo\n",
       "departamento    321\n",
       "estudio          37\n",
       "ático            25\n",
       "dúplex           11\n",
       "chalet            6\n",
       "Name: count, dtype: int64"
      ]
     },
     "execution_count": 52,
     "metadata": {},
     "output_type": "execute_result"
    }
   ],
   "source": [
    "df_idealista[\"Tipo\"].value_counts()"
   ]
  },
  {
   "cell_type": "code",
   "execution_count": null,
   "metadata": {},
   "outputs": [],
   "source": [
    "gdf_idealista = gpd.GeoDataFrame(df_idealista, geometry=gpd.points_from_xy(df_idealista.Longitud, df_idealista.Latitud))\n",
    "gdf_idealista.crs = \"EPSG:4326\"\n",
    "#gdf_idealista.to_file('../datos/origen/idealista.geojson', driver='GeoJSON')"
   ]
  },
  {
   "cell_type": "code",
   "execution_count": 41,
   "metadata": {},
   "outputs": [],
   "source": [
    "gdf_sjoin2 = gpd.sjoin(gdf_idealista, gdf_distritos, how=\"inner\", predicate=\"within\")\n",
    "gdf_sjoin2 = gdf_sjoin2.drop(columns=\"index_right\")\n"
   ]
  },
  {
   "cell_type": "code",
   "execution_count": 163,
   "metadata": {},
   "outputs": [],
   "source": [
    "gdf_sjoin2_final = gdf_sjoin2[['ID_Distrito', 'Precio', 'Tipo', 'Planta', 'Tamanio',\n",
    "       'Habitaciones', 'Banios', 'Direccion', 'Descripcion', 'geometry']]\n",
    "gdf_sjoin2_final[\"Tamanio\"] = gdf_sjoin2_final[\"Tamanio\"].astype(int)"
   ]
  },
  {
   "cell_type": "code",
   "execution_count": 45,
   "metadata": {},
   "outputs": [
    {
     "data": {
      "text/html": [
       "<div>\n",
       "<style scoped>\n",
       "    .dataframe tbody tr th:only-of-type {\n",
       "        vertical-align: middle;\n",
       "    }\n",
       "\n",
       "    .dataframe tbody tr th {\n",
       "        vertical-align: top;\n",
       "    }\n",
       "\n",
       "    .dataframe thead th {\n",
       "        text-align: right;\n",
       "    }\n",
       "</style>\n",
       "<table border=\"1\" class=\"dataframe\">\n",
       "  <thead>\n",
       "    <tr style=\"text-align: right;\">\n",
       "      <th></th>\n",
       "      <th>ID_Distrito</th>\n",
       "      <th>Precio</th>\n",
       "      <th>Tipo</th>\n",
       "      <th>Planta</th>\n",
       "      <th>Tamanio</th>\n",
       "      <th>Habitaciones</th>\n",
       "      <th>Banios</th>\n",
       "      <th>Direccion</th>\n",
       "      <th>Descripcion</th>\n",
       "      <th>geometry</th>\n",
       "    </tr>\n",
       "  </thead>\n",
       "  <tbody>\n",
       "    <tr>\n",
       "      <th>281</th>\n",
       "      <td>3</td>\n",
       "      <td>1600.0</td>\n",
       "      <td>departamento</td>\n",
       "      <td>bj</td>\n",
       "      <td>56.0</td>\n",
       "      <td>1</td>\n",
       "      <td>1</td>\n",
       "      <td>Avenida De Menéndez Pelayo</td>\n",
       "      <td>Urbanissimo Real Estate Comercializa Apartamen...</td>\n",
       "      <td>POINT (-3.67598 40.41235)</td>\n",
       "    </tr>\n",
       "    <tr>\n",
       "      <th>372</th>\n",
       "      <td>15</td>\n",
       "      <td>1700.0</td>\n",
       "      <td>departamento</td>\n",
       "      <td>bj</td>\n",
       "      <td>90.0</td>\n",
       "      <td>3</td>\n",
       "      <td>1</td>\n",
       "      <td>Calle Del Buen Gobernador</td>\n",
       "      <td>Se Alquila Luminoso Piso En El Céntrico Barrio...</td>\n",
       "      <td>POINT (-3.65578 40.4334)</td>\n",
       "    </tr>\n",
       "  </tbody>\n",
       "</table>\n",
       "</div>"
      ],
      "text/plain": [
       "     ID_Distrito  Precio          Tipo Planta  Tamanio  Habitaciones  Banios  \\\n",
       "281            3  1600.0  departamento     bj     56.0             1       1   \n",
       "372           15  1700.0  departamento     bj     90.0             3       1   \n",
       "\n",
       "                      Direccion  \\\n",
       "281  Avenida De Menéndez Pelayo   \n",
       "372   Calle Del Buen Gobernador   \n",
       "\n",
       "                                           Descripcion  \\\n",
       "281  Urbanissimo Real Estate Comercializa Apartamen...   \n",
       "372  Se Alquila Luminoso Piso En El Céntrico Barrio...   \n",
       "\n",
       "                      geometry  \n",
       "281  POINT (-3.67598 40.41235)  \n",
       "372   POINT (-3.65578 40.4334)  "
      ]
     },
     "execution_count": 45,
     "metadata": {},
     "output_type": "execute_result"
    }
   ],
   "source": [
    "gdf_sjoin2_final.sample(2)"
   ]
  },
  {
   "cell_type": "code",
   "execution_count": 164,
   "metadata": {},
   "outputs": [
    {
     "data": {
      "text/plain": [
       "ID_Distrito        int32\n",
       "Precio           float64\n",
       "Tipo              object\n",
       "Planta            object\n",
       "Tamanio            int64\n",
       "Habitaciones       int64\n",
       "Banios             int64\n",
       "Direccion         object\n",
       "Descripcion       object\n",
       "geometry        geometry\n",
       "dtype: object"
      ]
     },
     "execution_count": 164,
     "metadata": {},
     "output_type": "execute_result"
    }
   ],
   "source": [
    "gdf_sjoin2_final.dtypes"
   ]
  },
  {
   "cell_type": "code",
   "execution_count": null,
   "metadata": {},
   "outputs": [],
   "source": [
    "#gdf_sjoin2_final.to_file('../datos/finales/idealista.geojson', driver='GeoJSON')"
   ]
  },
  {
   "cell_type": "markdown",
   "metadata": {},
   "source": [
    "## WebScraping Ayuntamiento de Madrid"
   ]
  },
  {
   "cell_type": "markdown",
   "metadata": {},
   "source": [
    "- Descargamos CSV"
   ]
  },
  {
   "cell_type": "code",
   "execution_count": null,
   "metadata": {},
   "outputs": [
    {
     "name": "stdout",
     "output_type": "stream",
     "text": [
      "Cookies aceptadas\n",
      "Click en todos los distritos\n",
      "Click en totales barrios\n",
      "Click en todos los períodos\n",
      "Click en todas las medidas\n",
      "Click en todas las nacionalidades\n",
      "Click en generar CSV\n"
     ]
    }
   ],
   "source": [
    "#sf.scraping_ayuntamiento()"
   ]
  },
  {
   "cell_type": "code",
   "execution_count": 59,
   "metadata": {},
   "outputs": [
    {
     "data": {
      "text/plain": [
       "['airbnb.json',\n",
       " '.DS_Store',\n",
       " '31097.csv',\n",
       " 'Datos de la serie 0307010000022.csv',\n",
       " 'madrid-districts.geojson',\n",
       " 'sopas_redpiso.pkl',\n",
       " 'airbnb.geojson',\n",
       " 'idealista.geojson',\n",
       " 'idealista.json']"
      ]
     },
     "execution_count": 59,
     "metadata": {},
     "output_type": "execute_result"
    }
   ],
   "source": [
    "os.listdir(\"../datos/origen/\")"
   ]
  },
  {
   "cell_type": "code",
   "execution_count": null,
   "metadata": {},
   "outputs": [],
   "source": [
    "#os.rename(\"../datos/origen/Datos de la serie 0307010000022.csv\", \"../datos/origen/extranjeros_madrid.csv\")"
   ]
  },
  {
   "cell_type": "code",
   "execution_count": 3,
   "metadata": {},
   "outputs": [],
   "source": [
    "df_extranjeros = pd.read_csv(\"../datos/origen/extranjeros_madrid.csv\", sep=\",\", encoding=\"latin-1\")\n",
    "encabezados_extranjeros = df_extranjeros.columns"
   ]
  },
  {
   "cell_type": "code",
   "execution_count": 4,
   "metadata": {},
   "outputs": [
    {
     "data": {
      "text/html": [
       "<div>\n",
       "<style scoped>\n",
       "    .dataframe tbody tr th:only-of-type {\n",
       "        vertical-align: middle;\n",
       "    }\n",
       "\n",
       "    .dataframe tbody tr th {\n",
       "        vertical-align: top;\n",
       "    }\n",
       "\n",
       "    .dataframe thead th {\n",
       "        text-align: right;\n",
       "    }\n",
       "</style>\n",
       "<table border=\"1\" class=\"dataframe\">\n",
       "  <thead>\n",
       "    <tr style=\"text-align: right;\">\n",
       "      <th></th>\n",
       "      <th>Periodo</th>\n",
       "      <th>Categoria</th>\n",
       "      <th>1</th>\n",
       "      <th>2</th>\n",
       "      <th>3</th>\n",
       "      <th>4</th>\n",
       "      <th>5</th>\n",
       "      <th>6</th>\n",
       "      <th>7</th>\n",
       "      <th>8</th>\n",
       "      <th>9</th>\n",
       "      <th>10</th>\n",
       "      <th>11</th>\n",
       "      <th>12</th>\n",
       "      <th>13</th>\n",
       "      <th>14</th>\n",
       "      <th>15</th>\n",
       "      <th>16</th>\n",
       "      <th>17</th>\n",
       "      <th>18</th>\n",
       "      <th>19</th>\n",
       "      <th>20</th>\n",
       "      <th>21</th>\n",
       "    </tr>\n",
       "  </thead>\n",
       "  <tbody>\n",
       "    <tr>\n",
       "      <th>14</th>\n",
       "      <td>2022</td>\n",
       "      <td>Extranjera</td>\n",
       "      <td>519</td>\n",
       "      <td>-338</td>\n",
       "      <td>96</td>\n",
       "      <td>622</td>\n",
       "      <td>-247</td>\n",
       "      <td>-713</td>\n",
       "      <td>146</td>\n",
       "      <td>-645</td>\n",
       "      <td>-351</td>\n",
       "      <td>-966</td>\n",
       "      <td>-1219</td>\n",
       "      <td>-1170</td>\n",
       "      <td>-1209</td>\n",
       "      <td>-121</td>\n",
       "      <td>-646</td>\n",
       "      <td>332</td>\n",
       "      <td>-405</td>\n",
       "      <td>298</td>\n",
       "      <td>527</td>\n",
       "      <td>-77</td>\n",
       "      <td>-84</td>\n",
       "    </tr>\n",
       "    <tr>\n",
       "      <th>6</th>\n",
       "      <td>2020</td>\n",
       "      <td>Total</td>\n",
       "      <td>5677</td>\n",
       "      <td>1912</td>\n",
       "      <td>1186</td>\n",
       "      <td>1827</td>\n",
       "      <td>1808</td>\n",
       "      <td>3497</td>\n",
       "      <td>1483</td>\n",
       "      <td>3996</td>\n",
       "      <td>2375</td>\n",
       "      <td>4022</td>\n",
       "      <td>7321</td>\n",
       "      <td>3456</td>\n",
       "      <td>6248</td>\n",
       "      <td>1089</td>\n",
       "      <td>3737</td>\n",
       "      <td>5139</td>\n",
       "      <td>5638</td>\n",
       "      <td>4189</td>\n",
       "      <td>1941</td>\n",
       "      <td>3070</td>\n",
       "      <td>1088</td>\n",
       "    </tr>\n",
       "    <tr>\n",
       "      <th>10</th>\n",
       "      <td>2021</td>\n",
       "      <td>Espaniola</td>\n",
       "      <td>-2015</td>\n",
       "      <td>-2147</td>\n",
       "      <td>-2364</td>\n",
       "      <td>-2916</td>\n",
       "      <td>-2415</td>\n",
       "      <td>-2241</td>\n",
       "      <td>-3048</td>\n",
       "      <td>-2783</td>\n",
       "      <td>-1441</td>\n",
       "      <td>-3706</td>\n",
       "      <td>-3386</td>\n",
       "      <td>-1600</td>\n",
       "      <td>-3875</td>\n",
       "      <td>-1975</td>\n",
       "      <td>-3879</td>\n",
       "      <td>-965</td>\n",
       "      <td>-911</td>\n",
       "      <td>-692</td>\n",
       "      <td>970</td>\n",
       "      <td>-2024</td>\n",
       "      <td>-152</td>\n",
       "    </tr>\n",
       "  </tbody>\n",
       "</table>\n",
       "</div>"
      ],
      "text/plain": [
       "    Periodo   Categoria     1     2     3     4     5     6     7     8     9  \\\n",
       "14     2022  Extranjera   519  -338    96   622  -247  -713   146  -645  -351   \n",
       "6      2020       Total  5677  1912  1186  1827  1808  3497  1483  3996  2375   \n",
       "10     2021   Espaniola -2015 -2147 -2364 -2916 -2415 -2241 -3048 -2783 -1441   \n",
       "\n",
       "      10    11    12    13    14    15    16    17    18    19    20    21  \n",
       "14  -966 -1219 -1170 -1209  -121  -646   332  -405   298   527   -77   -84  \n",
       "6   4022  7321  3456  6248  1089  3737  5139  5638  4189  1941  3070  1088  \n",
       "10 -3706 -3386 -1600 -3875 -1975 -3879  -965  -911  -692   970 -2024  -152  "
      ]
     },
     "execution_count": 4,
     "metadata": {},
     "output_type": "execute_result"
    }
   ],
   "source": [
    "nuevos_encabezados_ext = [re.findall(r\"\\d+\", enc)[0] if re.findall(r\"\\d+\", enc) else enc for enc in encabezados_extranjeros]\n",
    "nuevos_encabezados_ext2 = [enc.lstrip(\"0\") for enc in nuevos_encabezados_ext]\n",
    "df_extranjeros.columns = nuevos_encabezados_ext2\n",
    "df_extranjeros[\"Categoria\"] = df_extranjeros[\"Categoria\"].str.replace(\"Espaola\",\"Espaniola\")\n",
    "df_extranjeros.sample(3)"
   ]
  },
  {
   "cell_type": "code",
   "execution_count": 5,
   "metadata": {},
   "outputs": [
    {
     "data": {
      "text/html": [
       "<div>\n",
       "<style scoped>\n",
       "    .dataframe tbody tr th:only-of-type {\n",
       "        vertical-align: middle;\n",
       "    }\n",
       "\n",
       "    .dataframe tbody tr th {\n",
       "        vertical-align: top;\n",
       "    }\n",
       "\n",
       "    .dataframe thead th {\n",
       "        text-align: right;\n",
       "    }\n",
       "</style>\n",
       "<table border=\"1\" class=\"dataframe\">\n",
       "  <thead>\n",
       "    <tr style=\"text-align: right;\">\n",
       "      <th></th>\n",
       "      <th>Periodo</th>\n",
       "      <th>Categoria</th>\n",
       "      <th>ID_Distrito</th>\n",
       "      <th>Habitantes</th>\n",
       "    </tr>\n",
       "  </thead>\n",
       "  <tbody>\n",
       "    <tr>\n",
       "      <th>0</th>\n",
       "      <td>2018</td>\n",
       "      <td>Total</td>\n",
       "      <td>1</td>\n",
       "      <td>359</td>\n",
       "    </tr>\n",
       "    <tr>\n",
       "      <th>1</th>\n",
       "      <td>2018</td>\n",
       "      <td>Espaniola</td>\n",
       "      <td>1</td>\n",
       "      <td>-631</td>\n",
       "    </tr>\n",
       "    <tr>\n",
       "      <th>2</th>\n",
       "      <td>2018</td>\n",
       "      <td>Extranjera</td>\n",
       "      <td>1</td>\n",
       "      <td>991</td>\n",
       "    </tr>\n",
       "    <tr>\n",
       "      <th>3</th>\n",
       "      <td>2019</td>\n",
       "      <td>Total</td>\n",
       "      <td>1</td>\n",
       "      <td>2533</td>\n",
       "    </tr>\n",
       "    <tr>\n",
       "      <th>4</th>\n",
       "      <td>2019</td>\n",
       "      <td>Espaniola</td>\n",
       "      <td>1</td>\n",
       "      <td>806</td>\n",
       "    </tr>\n",
       "    <tr>\n",
       "      <th>...</th>\n",
       "      <td>...</td>\n",
       "      <td>...</td>\n",
       "      <td>...</td>\n",
       "      <td>...</td>\n",
       "    </tr>\n",
       "    <tr>\n",
       "      <th>310</th>\n",
       "      <td>2021</td>\n",
       "      <td>Espaniola</td>\n",
       "      <td>21</td>\n",
       "      <td>-152</td>\n",
       "    </tr>\n",
       "    <tr>\n",
       "      <th>311</th>\n",
       "      <td>2021</td>\n",
       "      <td>Extranjera</td>\n",
       "      <td>21</td>\n",
       "      <td>78</td>\n",
       "    </tr>\n",
       "    <tr>\n",
       "      <th>312</th>\n",
       "      <td>2022</td>\n",
       "      <td>Total</td>\n",
       "      <td>21</td>\n",
       "      <td>129</td>\n",
       "    </tr>\n",
       "    <tr>\n",
       "      <th>313</th>\n",
       "      <td>2022</td>\n",
       "      <td>Espaniola</td>\n",
       "      <td>21</td>\n",
       "      <td>214</td>\n",
       "    </tr>\n",
       "    <tr>\n",
       "      <th>314</th>\n",
       "      <td>2022</td>\n",
       "      <td>Extranjera</td>\n",
       "      <td>21</td>\n",
       "      <td>-84</td>\n",
       "    </tr>\n",
       "  </tbody>\n",
       "</table>\n",
       "<p>315 rows × 4 columns</p>\n",
       "</div>"
      ],
      "text/plain": [
       "     Periodo   Categoria ID_Distrito  Habitantes\n",
       "0       2018       Total           1         359\n",
       "1       2018   Espaniola           1        -631\n",
       "2       2018  Extranjera           1         991\n",
       "3       2019       Total           1        2533\n",
       "4       2019   Espaniola           1         806\n",
       "..       ...         ...         ...         ...\n",
       "310     2021   Espaniola          21        -152\n",
       "311     2021  Extranjera          21          78\n",
       "312     2022       Total          21         129\n",
       "313     2022   Espaniola          21         214\n",
       "314     2022  Extranjera          21         -84\n",
       "\n",
       "[315 rows x 4 columns]"
      ]
     },
     "execution_count": 5,
     "metadata": {},
     "output_type": "execute_result"
    }
   ],
   "source": [
    "#Convertir a formato largo\n",
    "df_ext_melted = pd.melt(df_extranjeros, id_vars=[\"Periodo\", \"Categoria\"], var_name=\"ID_Distrito\", value_name=\"Habitantes\")\n",
    "df_ext_melted"
   ]
  },
  {
   "cell_type": "code",
   "execution_count": 6,
   "metadata": {},
   "outputs": [
    {
     "data": {
      "text/html": [
       "<div>\n",
       "<style scoped>\n",
       "    .dataframe tbody tr th:only-of-type {\n",
       "        vertical-align: middle;\n",
       "    }\n",
       "\n",
       "    .dataframe tbody tr th {\n",
       "        vertical-align: top;\n",
       "    }\n",
       "\n",
       "    .dataframe thead th {\n",
       "        text-align: right;\n",
       "    }\n",
       "</style>\n",
       "<table border=\"1\" class=\"dataframe\">\n",
       "  <thead>\n",
       "    <tr style=\"text-align: right;\">\n",
       "      <th>Categoria</th>\n",
       "      <th>ID_Distrito</th>\n",
       "      <th>Periodo</th>\n",
       "      <th>Espaniola</th>\n",
       "      <th>Extranjera</th>\n",
       "      <th>Total</th>\n",
       "    </tr>\n",
       "  </thead>\n",
       "  <tbody>\n",
       "    <tr>\n",
       "      <th>0</th>\n",
       "      <td>1</td>\n",
       "      <td>2018</td>\n",
       "      <td>-631</td>\n",
       "      <td>991</td>\n",
       "      <td>359</td>\n",
       "    </tr>\n",
       "    <tr>\n",
       "      <th>1</th>\n",
       "      <td>1</td>\n",
       "      <td>2019</td>\n",
       "      <td>806</td>\n",
       "      <td>1728</td>\n",
       "      <td>2533</td>\n",
       "    </tr>\n",
       "    <tr>\n",
       "      <th>2</th>\n",
       "      <td>1</td>\n",
       "      <td>2020</td>\n",
       "      <td>2362</td>\n",
       "      <td>3314</td>\n",
       "      <td>5677</td>\n",
       "    </tr>\n",
       "    <tr>\n",
       "      <th>3</th>\n",
       "      <td>1</td>\n",
       "      <td>2021</td>\n",
       "      <td>-2015</td>\n",
       "      <td>2637</td>\n",
       "      <td>622</td>\n",
       "    </tr>\n",
       "    <tr>\n",
       "      <th>4</th>\n",
       "      <td>1</td>\n",
       "      <td>2022</td>\n",
       "      <td>-1947</td>\n",
       "      <td>519</td>\n",
       "      <td>-1430</td>\n",
       "    </tr>\n",
       "    <tr>\n",
       "      <th>...</th>\n",
       "      <td>...</td>\n",
       "      <td>...</td>\n",
       "      <td>...</td>\n",
       "      <td>...</td>\n",
       "      <td>...</td>\n",
       "    </tr>\n",
       "    <tr>\n",
       "      <th>100</th>\n",
       "      <td>9</td>\n",
       "      <td>2018</td>\n",
       "      <td>740</td>\n",
       "      <td>177</td>\n",
       "      <td>913</td>\n",
       "    </tr>\n",
       "    <tr>\n",
       "      <th>101</th>\n",
       "      <td>9</td>\n",
       "      <td>2019</td>\n",
       "      <td>704</td>\n",
       "      <td>859</td>\n",
       "      <td>1566</td>\n",
       "    </tr>\n",
       "    <tr>\n",
       "      <th>102</th>\n",
       "      <td>9</td>\n",
       "      <td>2020</td>\n",
       "      <td>1187</td>\n",
       "      <td>1189</td>\n",
       "      <td>2375</td>\n",
       "    </tr>\n",
       "    <tr>\n",
       "      <th>103</th>\n",
       "      <td>9</td>\n",
       "      <td>2021</td>\n",
       "      <td>-1441</td>\n",
       "      <td>281</td>\n",
       "      <td>-1161</td>\n",
       "    </tr>\n",
       "    <tr>\n",
       "      <th>104</th>\n",
       "      <td>9</td>\n",
       "      <td>2022</td>\n",
       "      <td>94</td>\n",
       "      <td>-351</td>\n",
       "      <td>-257</td>\n",
       "    </tr>\n",
       "  </tbody>\n",
       "</table>\n",
       "<p>105 rows × 5 columns</p>\n",
       "</div>"
      ],
      "text/plain": [
       "Categoria  ID_Distrito  Periodo  Espaniola  Extranjera  Total\n",
       "0                    1     2018       -631         991    359\n",
       "1                    1     2019        806        1728   2533\n",
       "2                    1     2020       2362        3314   5677\n",
       "3                    1     2021      -2015        2637    622\n",
       "4                    1     2022      -1947         519  -1430\n",
       "..                 ...      ...        ...         ...    ...\n",
       "100                  9     2018        740         177    913\n",
       "101                  9     2019        704         859   1566\n",
       "102                  9     2020       1187        1189   2375\n",
       "103                  9     2021      -1441         281  -1161\n",
       "104                  9     2022         94        -351   -257\n",
       "\n",
       "[105 rows x 5 columns]"
      ]
     },
     "execution_count": 6,
     "metadata": {},
     "output_type": "execute_result"
    }
   ],
   "source": [
    "# Pivotar para obtener una fila por distrito y por año\n",
    "df_ext_reshaped = df_ext_melted.pivot_table(index=[\"ID_Distrito\", \"Periodo\"], columns=\"Categoria\", values=\"Habitantes\").reset_index()\n",
    "df_ext_reshaped= df_ext_reshaped.astype(int)\n",
    "df_ext_reshaped"
   ]
  },
  {
   "cell_type": "code",
   "execution_count": 7,
   "metadata": {},
   "outputs": [
    {
     "data": {
      "text/plain": [
       "Categoria\n",
       "ID_Distrito    int64\n",
       "Periodo        int64\n",
       "Espaniola      int64\n",
       "Extranjera     int64\n",
       "Total          int64\n",
       "dtype: object"
      ]
     },
     "execution_count": 7,
     "metadata": {},
     "output_type": "execute_result"
    }
   ],
   "source": [
    "df_ext_reshaped.dtypes"
   ]
  },
  {
   "cell_type": "code",
   "execution_count": null,
   "metadata": {},
   "outputs": [],
   "source": [
    "#df_ext_reshaped.to_csv(\"../datos/finales/extranjeros_madrid.csv\")"
   ]
  },
  {
   "cell_type": "markdown",
   "metadata": {},
   "source": [
    "## WebScraping INE"
   ]
  },
  {
   "cell_type": "markdown",
   "metadata": {},
   "source": [
    "- Descarga csv"
   ]
  },
  {
   "cell_type": "code",
   "execution_count": null,
   "metadata": {},
   "outputs": [
    {
     "name": "stdout",
     "output_type": "stream",
     "text": [
      "Cookies aceptadas\n",
      "Quitadas opciones por defecto\n",
      "Click en todos los años\n",
      "Desplegable Madrid abierto\n",
      "Click en distritos\n",
      "Click en descarga\n",
      "Click en CSV\n"
     ]
    }
   ],
   "source": [
    "#sf.scraping_ine()"
   ]
  },
  {
   "cell_type": "code",
   "execution_count": 61,
   "metadata": {},
   "outputs": [
    {
     "data": {
      "text/plain": [
       "['airbnb.json',\n",
       " '.DS_Store',\n",
       " '31097.csv',\n",
       " 'extranjeros_madrid.csv',\n",
       " 'madrid-districts.geojson',\n",
       " 'sopas_redpiso.pkl',\n",
       " 'airbnb.geojson',\n",
       " 'idealista.geojson',\n",
       " 'idealista.json']"
      ]
     },
     "execution_count": 61,
     "metadata": {},
     "output_type": "execute_result"
    }
   ],
   "source": [
    "os.listdir(\"../datos/origen/\")"
   ]
  },
  {
   "cell_type": "code",
   "execution_count": null,
   "metadata": {},
   "outputs": [],
   "source": [
    "#os.rename(\"../datos/origen/31097.csv\", \"../datos/origen/ingresos_hogares_distrito.csv\")"
   ]
  },
  {
   "cell_type": "code",
   "execution_count": 158,
   "metadata": {},
   "outputs": [
    {
     "data": {
      "text/html": [
       "<div>\n",
       "<style scoped>\n",
       "    .dataframe tbody tr th:only-of-type {\n",
       "        vertical-align: middle;\n",
       "    }\n",
       "\n",
       "    .dataframe tbody tr th {\n",
       "        vertical-align: top;\n",
       "    }\n",
       "\n",
       "    .dataframe thead th {\n",
       "        text-align: right;\n",
       "    }\n",
       "</style>\n",
       "<table border=\"1\" class=\"dataframe\">\n",
       "  <thead>\n",
       "    <tr style=\"text-align: right;\">\n",
       "      <th></th>\n",
       "      <th>ID_Distrito</th>\n",
       "      <th>Periodo</th>\n",
       "      <th>Total</th>\n",
       "    </tr>\n",
       "  </thead>\n",
       "  <tbody>\n",
       "    <tr>\n",
       "      <th>0</th>\n",
       "      <td>1</td>\n",
       "      <td>2022</td>\n",
       "      <td>20.587</td>\n",
       "    </tr>\n",
       "    <tr>\n",
       "      <th>1</th>\n",
       "      <td>1</td>\n",
       "      <td>2021</td>\n",
       "      <td>19.199</td>\n",
       "    </tr>\n",
       "    <tr>\n",
       "      <th>2</th>\n",
       "      <td>1</td>\n",
       "      <td>2020</td>\n",
       "      <td>18.314</td>\n",
       "    </tr>\n",
       "    <tr>\n",
       "      <th>3</th>\n",
       "      <td>1</td>\n",
       "      <td>2019</td>\n",
       "      <td>18.789</td>\n",
       "    </tr>\n",
       "    <tr>\n",
       "      <th>4</th>\n",
       "      <td>1</td>\n",
       "      <td>2018</td>\n",
       "      <td>17.932</td>\n",
       "    </tr>\n",
       "    <tr>\n",
       "      <th>...</th>\n",
       "      <td>...</td>\n",
       "      <td>...</td>\n",
       "      <td>...</td>\n",
       "    </tr>\n",
       "    <tr>\n",
       "      <th>163</th>\n",
       "      <td>21</td>\n",
       "      <td>2019</td>\n",
       "      <td>19.026</td>\n",
       "    </tr>\n",
       "    <tr>\n",
       "      <th>164</th>\n",
       "      <td>21</td>\n",
       "      <td>2018</td>\n",
       "      <td>18.514</td>\n",
       "    </tr>\n",
       "    <tr>\n",
       "      <th>165</th>\n",
       "      <td>21</td>\n",
       "      <td>2017</td>\n",
       "      <td>17.807</td>\n",
       "    </tr>\n",
       "    <tr>\n",
       "      <th>166</th>\n",
       "      <td>21</td>\n",
       "      <td>2016</td>\n",
       "      <td>17.641</td>\n",
       "    </tr>\n",
       "    <tr>\n",
       "      <th>167</th>\n",
       "      <td>21</td>\n",
       "      <td>2015</td>\n",
       "      <td>17.257</td>\n",
       "    </tr>\n",
       "  </tbody>\n",
       "</table>\n",
       "<p>168 rows × 3 columns</p>\n",
       "</div>"
      ],
      "text/plain": [
       "     ID_Distrito  Periodo   Total\n",
       "0              1     2022  20.587\n",
       "1              1     2021  19.199\n",
       "2              1     2020  18.314\n",
       "3              1     2019  18.789\n",
       "4              1     2018  17.932\n",
       "..           ...      ...     ...\n",
       "163           21     2019  19.026\n",
       "164           21     2018  18.514\n",
       "165           21     2017  17.807\n",
       "166           21     2016  17.641\n",
       "167           21     2015  17.257\n",
       "\n",
       "[168 rows x 3 columns]"
      ]
     },
     "execution_count": 158,
     "metadata": {},
     "output_type": "execute_result"
    }
   ],
   "source": [
    "df_renta = pd.read_csv(\"../datos/origen/ingresos_hogares_distrito.csv\", sep=\";\")\n",
    "df_renta.drop(columns=[\"Municipios\", \"Secciones\", \"Indicadores de renta media y mediana\"], inplace=True)\n",
    "df_renta['Distritos'] = df_renta['Distritos'].str.extract(r'(\\d{2})$', expand=False)\n",
    "df_renta[\"Distritos\"] = df_renta[\"Distritos\"].apply(lambda x: x.lstrip(\"0\") if isinstance(x, str) else x)\n",
    "df_renta.rename(columns={\"Distritos\":\"ID_Distrito\"}, inplace=True)\n",
    "df_renta[\"ID_Distrito\"] = df_renta[\"ID_Distrito\"].astype(int)\n",
    "df_renta"
   ]
  },
  {
   "cell_type": "code",
   "execution_count": 159,
   "metadata": {},
   "outputs": [
    {
     "data": {
      "text/plain": [
       "ID_Distrito      int64\n",
       "Periodo          int64\n",
       "Total          float64\n",
       "dtype: object"
      ]
     },
     "execution_count": 159,
     "metadata": {},
     "output_type": "execute_result"
    }
   ],
   "source": [
    "df_renta.dtypes"
   ]
  },
  {
   "cell_type": "code",
   "execution_count": null,
   "metadata": {},
   "outputs": [],
   "source": [
    "#df_extranjeros.to_csv(\"../datos/finales/ingresos_hogares_distritos.csv\")"
   ]
  }
 ],
 "metadata": {
  "kernelspec": {
   "display_name": "Python 3",
   "language": "python",
   "name": "python3"
  },
  "language_info": {
   "codemirror_mode": {
    "name": "ipython",
    "version": 3
   },
   "file_extension": ".py",
   "mimetype": "text/x-python",
   "name": "python",
   "nbconvert_exporter": "python",
   "pygments_lexer": "ipython3",
   "version": "3.9.6"
  }
 },
 "nbformat": 4,
 "nbformat_minor": 2
}
