{
 "cells": [
  {
   "cell_type": "markdown",
   "metadata": {},
   "source": [
    "# Notebook #1: Extracción y Transformación\n",
    "\n",
    "- En este notebook realizaremos extraeremos datos haciendo uso de webscraping y APIs, para las sigueintes fuentes de información:\n",
    "1. API AirBnB: datos de viviendas en régimen de alquiler turístico.\n",
    "2. Webscraping de Redpiso: datos de viviendas en alquiler.\n",
    "3. API Idealista: datos de viviendas en alquiler.\n",
    "4. Webscraping del INE: datos sobre ingresos por hogar.\n",
    "5. Webscraping del Ayuntamiento de Madrid: datos sobre población y cantidad de extranjeros.\n",
    "\n",
    "- Usando este mismo notebook, se realizará la limpieza/transformación de los datos que cargaremos posteriormente en nuestra base de datos. Todas las funciones aquí utilizadas encuentran su soporte en `../src/soporte_funciones.py`\n",
    "\n",
    "- Dado que los datos se modifican cada vez que se ejecuta una función de consulta, las mismas están comentadas. Para ejecutarlas, debe eliminarse la #, con la consecuencia de que los datos de origen serán sustituidos.\n",
    "\n",
    "- El primer paso será importar las librerías necesarias:"
   ]
  },
  {
   "cell_type": "code",
   "execution_count": 1,
   "metadata": {},
   "outputs": [
    {
     "name": "stderr",
     "output_type": "stream",
     "text": [
      "/Users/davidfranco/Library/Python/3.9/lib/python/site-packages/urllib3/__init__.py:35: NotOpenSSLWarning: urllib3 v2 only supports OpenSSL 1.1.1+, currently the 'ssl' module is compiled with 'LibreSSL 2.8.3'. See: https://github.com/urllib3/urllib3/issues/3020\n",
      "  warnings.warn(\n"
     ]
    }
   ],
   "source": [
    "# Librerías para tratamiento de datos\n",
    "\n",
    "import pandas as pd\n",
    "import geopandas as gpd\n",
    "pd.set_option('display.max_columns', None) # Parámetro que modifica la visualización de los DFs\n",
    "import numpy as np\n",
    "import re\n",
    "\n",
    "# Librería para el acceso a variables y funciones\n",
    "import sys\n",
    "sys.path.append(\"../\")\n",
    "from src import soporte_funciones as sf #Archivo .py donde encontraremos todas nuestras funciones\n",
    "#from src import soporte_variables as sv\n",
    "\n",
    "# Librería para acceder a funcionalidades del sistema operativo\n",
    "import os\n",
    "\n",
    "# Librerías para trabajar con distintos formatos de archivos\n",
    "import pickle\n",
    "import json\n",
    "\n",
    "# Librería para ignorar avisos\n",
    "import warnings\n",
    "warnings.filterwarnings(\"ignore\") # Ignora TODOS los avisos"
   ]
  },
  {
   "cell_type": "markdown",
   "metadata": {},
   "source": [
    "## API AirBnB"
   ]
  },
  {
   "cell_type": "markdown",
   "metadata": {},
   "source": [
    "- Obtendremos datos de alquileres turísticos a través de una API de AirBnB.\n",
    "- De la consulta, que realizamos con la función `sf.consulta_airbnbs()`, obtendremos una lista correspondiente a cada página de respuesta.\n",
    "- La función recibe como argumentos la ciudad de destino, las fechas de entrada y salida (formato año-mes-día: xxxx-xx-xx) y el número de páginas de resultados que deseamos consultar (40 resultados por página).\n",
    "- Dadas las limitaciones de la función cada iteración tarda unos 22 segundos."
   ]
  },
  {
   "cell_type": "code",
   "execution_count": null,
   "metadata": {},
   "outputs": [
    {
     "name": "stderr",
     "output_type": "stream",
     "text": [
      "100%|██████████| 11/11 [03:56<00:00, 21.52s/it]\n"
     ]
    }
   ],
   "source": [
    "#resultados_airbnb = sf.consulta_airbnbs(\"Madrid\", \"2025-01-31\", \"2025-02-02\", 11)"
   ]
  },
  {
   "cell_type": "markdown",
   "metadata": {},
   "source": [
    "- La consulta devuelve el resultado para las fechas elegidas (31 de enero al 2 de febrero de 2025 para 2 adultos). Comprobamos que se hayan recibido 11 resultados y almacenamos la lista en un archivo json."
   ]
  },
  {
   "cell_type": "code",
   "execution_count": null,
   "metadata": {},
   "outputs": [
    {
     "data": {
      "text/plain": [
       "11"
      ]
     },
     "execution_count": 3,
     "metadata": {},
     "output_type": "execute_result"
    }
   ],
   "source": [
    "#len(resultados_airbnb)"
   ]
  },
  {
   "cell_type": "code",
   "execution_count": null,
   "metadata": {},
   "outputs": [],
   "source": [
    "#with open(\"../datos/origen/airbnb.json\", \"w\") as json_file:\n",
    "#    json.dump(resultados_airbnb, json_file, indent=4)"
   ]
  },
  {
   "cell_type": "markdown",
   "metadata": {},
   "source": [
    "- Ahora importaremos el resultado de la consulta y le aplicaremos la función `dataframe_airbnb()`, que recibe como argumento el archivo json con los resultados y devuelve un dataframe con los datos tranformados."
   ]
  },
  {
   "cell_type": "code",
   "execution_count": 33,
   "metadata": {},
   "outputs": [],
   "source": [
    "with open(\"../datos/origen/airbnb.json\", 'r') as file:\n",
    "    resultados_airbnb = json.load(file)"
   ]
  },
  {
   "cell_type": "code",
   "execution_count": 34,
   "metadata": {},
   "outputs": [],
   "source": [
    "df_airbnb = sf.dataframe_airbnb(resultados_airbnb)"
   ]
  },
  {
   "cell_type": "markdown",
   "metadata": {},
   "source": [
    "- La función devuelve un dataframe con los resultados transformados, comprobamos que tiene 359 alojamientos en 4 columnas."
   ]
  },
  {
   "cell_type": "code",
   "execution_count": 10,
   "metadata": {},
   "outputs": [
    {
     "data": {
      "text/plain": [
       "(360, 4)"
      ]
     },
     "execution_count": 10,
     "metadata": {},
     "output_type": "execute_result"
    }
   ],
   "source": [
    "df_airbnb.shape"
   ]
  },
  {
   "cell_type": "code",
   "execution_count": 37,
   "metadata": {},
   "outputs": [
    {
     "data": {
      "text/plain": [
       "count    360.000000\n",
       "mean     243.213889\n",
       "std       91.496237\n",
       "min       70.000000\n",
       "25%      175.000000\n",
       "50%      245.000000\n",
       "75%      300.000000\n",
       "max      607.000000\n",
       "Name: Precio Total, dtype: float64"
      ]
     },
     "execution_count": 37,
     "metadata": {},
     "output_type": "execute_result"
    }
   ],
   "source": [
    "df_airbnb[\"Precio Total\"].describe()"
   ]
  },
  {
   "cell_type": "code",
   "execution_count": 38,
   "metadata": {},
   "outputs": [
    {
     "data": {
      "text/html": [
       "<div>\n",
       "<style scoped>\n",
       "    .dataframe tbody tr th:only-of-type {\n",
       "        vertical-align: middle;\n",
       "    }\n",
       "\n",
       "    .dataframe tbody tr th {\n",
       "        vertical-align: top;\n",
       "    }\n",
       "\n",
       "    .dataframe thead th {\n",
       "        text-align: right;\n",
       "    }\n",
       "</style>\n",
       "<table border=\"1\" class=\"dataframe\">\n",
       "  <thead>\n",
       "    <tr style=\"text-align: right;\">\n",
       "      <th></th>\n",
       "      <th>Latitud</th>\n",
       "      <th>Longitud</th>\n",
       "      <th>Descripcion</th>\n",
       "      <th>Precio Total</th>\n",
       "    </tr>\n",
       "  </thead>\n",
       "  <tbody>\n",
       "    <tr>\n",
       "      <th>172</th>\n",
       "      <td>40.41610</td>\n",
       "      <td>-3.70845</td>\n",
       "      <td>Luxury city center penthouse with terrace oasis</td>\n",
       "      <td>607</td>\n",
       "    </tr>\n",
       "    <tr>\n",
       "      <th>221</th>\n",
       "      <td>40.42135</td>\n",
       "      <td>-3.70381</td>\n",
       "      <td>2 Room Renovated Flat at Gran Via by ManteHouse</td>\n",
       "      <td>518</td>\n",
       "    </tr>\n",
       "    <tr>\n",
       "      <th>234</th>\n",
       "      <td>40.42155</td>\n",
       "      <td>-3.70863</td>\n",
       "      <td>Spectacular views on Gran Via with terrace.</td>\n",
       "      <td>495</td>\n",
       "    </tr>\n",
       "  </tbody>\n",
       "</table>\n",
       "</div>"
      ],
      "text/plain": [
       "      Latitud  Longitud                                      Descripcion  \\\n",
       "172  40.41610  -3.70845  Luxury city center penthouse with terrace oasis   \n",
       "221  40.42135  -3.70381  2 Room Renovated Flat at Gran Via by ManteHouse   \n",
       "234  40.42155  -3.70863      Spectacular views on Gran Via with terrace.   \n",
       "\n",
       "     Precio Total  \n",
       "172           607  \n",
       "221           518  \n",
       "234           495  "
      ]
     },
     "execution_count": 38,
     "metadata": {},
     "output_type": "execute_result"
    }
   ],
   "source": [
    "sf.identificar_outliers(df_airbnb, \"Precio Total\")"
   ]
  },
  {
   "cell_type": "markdown",
   "metadata": {},
   "source": [
    "- Previo a la transformación de nuestros datos, nos interesa identificar los 'outliers', o valores atípicos, que son datos que se alejan significativamente del resto de los datos en un conjunto, y pueden distorsionar los resultados de los análisis estadísticos y es importante identificarlos y gestionarlos adecuadamente.\n",
    "\n",
    "- En este caso, a pesar de que tenemos tres registros (de un total de 359) que matemáticamente se consideran outliers, consideramos que deben mantenerse como parte de los datos, ya que son simplemente reflejo de distintas opciones de alojamientos."
   ]
  },
  {
   "cell_type": "markdown",
   "metadata": {},
   "source": [
    "- La respuesta contiene descripciones en inglés. Para traducirlas, usaremos la función `traducir_es()`, que recibe un texto y lo traduce a español haciendo uso de Google Translate. La aplicaremos a la columna \"Descripción\", e imprimos una muestra del resultado."
   ]
  },
  {
   "cell_type": "code",
   "execution_count": 11,
   "metadata": {},
   "outputs": [],
   "source": [
    "df_airbnb[\"Descripcion\"] = df_airbnb[\"Descripcion\"].apply(sf.traducir_es)"
   ]
  },
  {
   "cell_type": "code",
   "execution_count": 12,
   "metadata": {},
   "outputs": [
    {
     "data": {
      "text/html": [
       "<div>\n",
       "<style scoped>\n",
       "    .dataframe tbody tr th:only-of-type {\n",
       "        vertical-align: middle;\n",
       "    }\n",
       "\n",
       "    .dataframe tbody tr th {\n",
       "        vertical-align: top;\n",
       "    }\n",
       "\n",
       "    .dataframe thead th {\n",
       "        text-align: right;\n",
       "    }\n",
       "</style>\n",
       "<table border=\"1\" class=\"dataframe\">\n",
       "  <thead>\n",
       "    <tr style=\"text-align: right;\">\n",
       "      <th></th>\n",
       "      <th>Latitud</th>\n",
       "      <th>Longitud</th>\n",
       "      <th>Descripcion</th>\n",
       "      <th>Precio Total</th>\n",
       "    </tr>\n",
       "  </thead>\n",
       "  <tbody>\n",
       "    <tr>\n",
       "      <th>123</th>\n",
       "      <td>40.422270</td>\n",
       "      <td>-3.701760</td>\n",
       "      <td>Habitación grande privada con 3 balcones.Gran vía</td>\n",
       "      <td>204</td>\n",
       "    </tr>\n",
       "    <tr>\n",
       "      <th>232</th>\n",
       "      <td>40.429271</td>\n",
       "      <td>-3.695078</td>\n",
       "      <td>Loft de lujo en la calle Almagro</td>\n",
       "      <td>339</td>\n",
       "    </tr>\n",
       "    <tr>\n",
       "      <th>308</th>\n",
       "      <td>40.420123</td>\n",
       "      <td>-3.698174</td>\n",
       "      <td>Madrid flats Chueca</td>\n",
       "      <td>397</td>\n",
       "    </tr>\n",
       "  </tbody>\n",
       "</table>\n",
       "</div>"
      ],
      "text/plain": [
       "       Latitud  Longitud                                        Descripcion  \\\n",
       "123  40.422270 -3.701760  Habitación grande privada con 3 balcones.Gran vía   \n",
       "232  40.429271 -3.695078                   Loft de lujo en la calle Almagro   \n",
       "308  40.420123 -3.698174                                Madrid flats Chueca   \n",
       "\n",
       "     Precio Total  \n",
       "123           204  \n",
       "232           339  \n",
       "308           397  "
      ]
     },
     "execution_count": 12,
     "metadata": {},
     "output_type": "execute_result"
    }
   ],
   "source": [
    "df_airbnb.sample(3)"
   ]
  },
  {
   "cell_type": "markdown",
   "metadata": {},
   "source": [
    "- Ahora vamos a convertir la latitud y la longitud a geopuntos. Cambiamos también el formato de CRS (Coordinate Reference System), para estandarizar el formato con los datos obtenidos de los municipios de Madrid, y guardamos en un archivo de tipo `geojason`."
   ]
  },
  {
   "cell_type": "code",
   "execution_count": null,
   "metadata": {},
   "outputs": [],
   "source": [
    "gdf_airbnb = gpd.GeoDataFrame(df_airbnb, geometry=gpd.points_from_xy(df_airbnb.Longitud, df_airbnb.Latitud))\n",
    "gdf_airbnb.crs = \"EPSG:4326\"\n",
    "#gdf_airbnb.to_file('../datos/origen/airbnb.geojson', driver='GeoJSON')"
   ]
  },
  {
   "cell_type": "markdown",
   "metadata": {},
   "source": [
    "- Para poder asignar las coordenadas de cada vivienda o alojamiento a un distrito, será necesaria la información geográfica sobre cada uno de ellos.\n",
    "- Tras una búsqueda en Google, hemos conseguido descargar los polígonos que representan cada distrito de Madrid. Cargamos la información en un DF."
   ]
  },
  {
   "cell_type": "code",
   "execution_count": 2,
   "metadata": {},
   "outputs": [],
   "source": [
    "gdf_distritos = gpd.read_file(\"../datos/origen/madrid-districts.geojson\")"
   ]
  },
  {
   "cell_type": "markdown",
   "metadata": {},
   "source": [
    "- Realizamos algunas tareas de limpieza:"
   ]
  },
  {
   "cell_type": "code",
   "execution_count": 3,
   "metadata": {},
   "outputs": [],
   "source": [
    "gdf_distritos = gdf_distritos.rename(columns={\"name\":\"Distrito\",\"cartodb_id\":\"ID_Distrito\"})\n",
    "gdf_distritos.drop(columns= [\"created_at\", \"updated_at\"], inplace=True)"
   ]
  },
  {
   "cell_type": "markdown",
   "metadata": {},
   "source": [
    "- Y lo unimos con nuestro DF de AirBnB, de modo que, ahora cada punto geográfico está contenido dentro de un municipio."
   ]
  },
  {
   "cell_type": "code",
   "execution_count": 16,
   "metadata": {},
   "outputs": [],
   "source": [
    "gdf_sjoin = gpd.sjoin(gdf_airbnb, gdf_distritos, how=\"inner\", predicate=\"within\")\n",
    "gdf_sjoin = gdf_sjoin.drop(columns=\"index_right\")"
   ]
  },
  {
   "cell_type": "code",
   "execution_count": 17,
   "metadata": {},
   "outputs": [
    {
     "data": {
      "text/html": [
       "<div>\n",
       "<style scoped>\n",
       "    .dataframe tbody tr th:only-of-type {\n",
       "        vertical-align: middle;\n",
       "    }\n",
       "\n",
       "    .dataframe tbody tr th {\n",
       "        vertical-align: top;\n",
       "    }\n",
       "\n",
       "    .dataframe thead th {\n",
       "        text-align: right;\n",
       "    }\n",
       "</style>\n",
       "<table border=\"1\" class=\"dataframe\">\n",
       "  <thead>\n",
       "    <tr style=\"text-align: right;\">\n",
       "      <th></th>\n",
       "      <th>Latitud</th>\n",
       "      <th>Longitud</th>\n",
       "      <th>Descripcion</th>\n",
       "      <th>Precio Total</th>\n",
       "      <th>geometry</th>\n",
       "      <th>Distrito</th>\n",
       "      <th>ID_Distrito</th>\n",
       "    </tr>\n",
       "  </thead>\n",
       "  <tbody>\n",
       "    <tr>\n",
       "      <th>0</th>\n",
       "      <td>40.411549</td>\n",
       "      <td>-3.697992</td>\n",
       "      <td>Acogedor baño de doble baño en el corazón de M...</td>\n",
       "      <td>186</td>\n",
       "      <td>POINT (-3.69799 40.41155)</td>\n",
       "      <td>Centro</td>\n",
       "      <td>1</td>\n",
       "    </tr>\n",
       "  </tbody>\n",
       "</table>\n",
       "</div>"
      ],
      "text/plain": [
       "     Latitud  Longitud                                        Descripcion  \\\n",
       "0  40.411549 -3.697992  Acogedor baño de doble baño en el corazón de M...   \n",
       "\n",
       "   Precio Total                   geometry Distrito  ID_Distrito  \n",
       "0           186  POINT (-3.69799 40.41155)   Centro            1  "
      ]
     },
     "execution_count": 17,
     "metadata": {},
     "output_type": "execute_result"
    }
   ],
   "source": [
    "gdf_sjoin.head(1)"
   ]
  },
  {
   "cell_type": "markdown",
   "metadata": {},
   "source": [
    "- Reordenamos las columnas, comprobamos los tipos de datos y guardamos el resultado final en un archivo de tipo `geojson`, que cargaremos posteriormente a la base de datos de Postgres."
   ]
  },
  {
   "cell_type": "code",
   "execution_count": 47,
   "metadata": {},
   "outputs": [],
   "source": [
    "gdf_sjoin_final = gdf_sjoin[[\"ID_Distrito\", \"Precio Total\", \"Descripcion\", \"geometry\"]]"
   ]
  },
  {
   "cell_type": "code",
   "execution_count": 48,
   "metadata": {},
   "outputs": [
    {
     "data": {
      "text/html": [
       "<div>\n",
       "<style scoped>\n",
       "    .dataframe tbody tr th:only-of-type {\n",
       "        vertical-align: middle;\n",
       "    }\n",
       "\n",
       "    .dataframe tbody tr th {\n",
       "        vertical-align: top;\n",
       "    }\n",
       "\n",
       "    .dataframe thead th {\n",
       "        text-align: right;\n",
       "    }\n",
       "</style>\n",
       "<table border=\"1\" class=\"dataframe\">\n",
       "  <thead>\n",
       "    <tr style=\"text-align: right;\">\n",
       "      <th></th>\n",
       "      <th>ID_Distrito</th>\n",
       "      <th>Precio Total</th>\n",
       "      <th>Descripcion</th>\n",
       "      <th>geometry</th>\n",
       "    </tr>\n",
       "  </thead>\n",
       "  <tbody>\n",
       "    <tr>\n",
       "      <th>54</th>\n",
       "      <td>15</td>\n",
       "      <td>82</td>\n",
       "      <td>Habitación acogedora a los 15-20 min.desde el ...</td>\n",
       "      <td>POINT (-3.64209 40.43146)</td>\n",
       "    </tr>\n",
       "    <tr>\n",
       "      <th>243</th>\n",
       "      <td>1</td>\n",
       "      <td>385</td>\n",
       "      <td>Aparte.Sol central</td>\n",
       "      <td>POINT (-3.70231 40.41898)</td>\n",
       "    </tr>\n",
       "  </tbody>\n",
       "</table>\n",
       "</div>"
      ],
      "text/plain": [
       "     ID_Distrito  Precio Total  \\\n",
       "54            15            82   \n",
       "243            1           385   \n",
       "\n",
       "                                           Descripcion  \\\n",
       "54   Habitación acogedora a los 15-20 min.desde el ...   \n",
       "243                                 Aparte.Sol central   \n",
       "\n",
       "                      geometry  \n",
       "54   POINT (-3.64209 40.43146)  \n",
       "243  POINT (-3.70231 40.41898)  "
      ]
     },
     "execution_count": 48,
     "metadata": {},
     "output_type": "execute_result"
    }
   ],
   "source": [
    "gdf_sjoin_final.sample(2)"
   ]
  },
  {
   "cell_type": "code",
   "execution_count": 169,
   "metadata": {},
   "outputs": [
    {
     "data": {
      "text/plain": [
       "ID_Distrito        int32\n",
       "Precio Total       int64\n",
       "Descripcion       object\n",
       "geometry        geometry\n",
       "dtype: object"
      ]
     },
     "execution_count": 169,
     "metadata": {},
     "output_type": "execute_result"
    }
   ],
   "source": [
    "gdf_sjoin_final.dtypes"
   ]
  },
  {
   "cell_type": "code",
   "execution_count": null,
   "metadata": {},
   "outputs": [],
   "source": [
    "#gdf_sjoin_final.to_file('../datos/finales/airbnb.geojson', driver='GeoJSON')\n",
    "#gdf_sjoin.to_file('../datos/finales/airbnb.shp')"
   ]
  },
  {
   "cell_type": "markdown",
   "metadata": {},
   "source": [
    "## Creación del DF Distritos\n",
    "- En él se listan los distritos de Madrid junto con los códigos asignados por el ayuntamiento, así como los polígonos, que contienen los límites geográficos de cada uno.\n",
    "- Reordenamos las columnas, comprobamos tipos de datos y lo guardamos nuevamente en un archivo `geojson`, que nos permitirá mantener el tipo de dato geográfico."
   ]
  },
  {
   "cell_type": "code",
   "execution_count": 4,
   "metadata": {},
   "outputs": [
    {
     "data": {
      "text/html": [
       "<div>\n",
       "<style scoped>\n",
       "    .dataframe tbody tr th:only-of-type {\n",
       "        vertical-align: middle;\n",
       "    }\n",
       "\n",
       "    .dataframe tbody tr th {\n",
       "        vertical-align: top;\n",
       "    }\n",
       "\n",
       "    .dataframe thead th {\n",
       "        text-align: right;\n",
       "    }\n",
       "</style>\n",
       "<table border=\"1\" class=\"dataframe\">\n",
       "  <thead>\n",
       "    <tr style=\"text-align: right;\">\n",
       "      <th></th>\n",
       "      <th>ID_Distrito</th>\n",
       "      <th>Distrito</th>\n",
       "      <th>geometry</th>\n",
       "    </tr>\n",
       "  </thead>\n",
       "  <tbody>\n",
       "    <tr>\n",
       "      <th>0</th>\n",
       "      <td>1</td>\n",
       "      <td>Centro</td>\n",
       "      <td>MULTIPOLYGON (((-3.69185 40.40853, -3.69189 40...</td>\n",
       "    </tr>\n",
       "    <tr>\n",
       "      <th>1</th>\n",
       "      <td>2</td>\n",
       "      <td>Arganzuela</td>\n",
       "      <td>MULTIPOLYGON (((-3.70258 40.40638, -3.70166 40...</td>\n",
       "    </tr>\n",
       "    <tr>\n",
       "      <th>2</th>\n",
       "      <td>3</td>\n",
       "      <td>Retiro</td>\n",
       "      <td>MULTIPOLYGON (((-3.66279 40.4097, -3.66384 40....</td>\n",
       "    </tr>\n",
       "    <tr>\n",
       "      <th>3</th>\n",
       "      <td>4</td>\n",
       "      <td>Salamanca</td>\n",
       "      <td>MULTIPOLYGON (((-3.65809 40.43945, -3.65828 40...</td>\n",
       "    </tr>\n",
       "    <tr>\n",
       "      <th>4</th>\n",
       "      <td>5</td>\n",
       "      <td>Chamartin</td>\n",
       "      <td>MULTIPOLYGON (((-3.67231 40.48388, -3.67237 40...</td>\n",
       "    </tr>\n",
       "    <tr>\n",
       "      <th>5</th>\n",
       "      <td>6</td>\n",
       "      <td>Tetuan</td>\n",
       "      <td>MULTIPOLYGON (((-3.69633 40.47572, -3.69619 40...</td>\n",
       "    </tr>\n",
       "    <tr>\n",
       "      <th>6</th>\n",
       "      <td>7</td>\n",
       "      <td>Chamberi</td>\n",
       "      <td>MULTIPOLYGON (((-3.68991 40.44737, -3.69048 40...</td>\n",
       "    </tr>\n",
       "    <tr>\n",
       "      <th>7</th>\n",
       "      <td>8</td>\n",
       "      <td>Fuencarral-El Pardo</td>\n",
       "      <td>MULTIPOLYGON (((-3.64131 40.63922, -3.64118 40...</td>\n",
       "    </tr>\n",
       "    <tr>\n",
       "      <th>8</th>\n",
       "      <td>9</td>\n",
       "      <td>Moncloa-Aravaca</td>\n",
       "      <td>MULTIPOLYGON (((-3.79973 40.47063, -3.79887 40...</td>\n",
       "    </tr>\n",
       "    <tr>\n",
       "      <th>9</th>\n",
       "      <td>10</td>\n",
       "      <td>Latina</td>\n",
       "      <td>MULTIPOLYGON (((-3.7213 40.41256, -3.72051 40....</td>\n",
       "    </tr>\n",
       "    <tr>\n",
       "      <th>10</th>\n",
       "      <td>11</td>\n",
       "      <td>Carabanchel</td>\n",
       "      <td>MULTIPOLYGON (((-3.72346 40.40622, -3.72345 40...</td>\n",
       "    </tr>\n",
       "    <tr>\n",
       "      <th>11</th>\n",
       "      <td>12</td>\n",
       "      <td>Usera</td>\n",
       "      <td>MULTIPOLYGON (((-3.6819 40.36592, -3.6819 40.3...</td>\n",
       "    </tr>\n",
       "    <tr>\n",
       "      <th>12</th>\n",
       "      <td>13</td>\n",
       "      <td>Puente de Vallecas</td>\n",
       "      <td>MULTIPOLYGON (((-3.67705 40.3618, -3.67706 40....</td>\n",
       "    </tr>\n",
       "    <tr>\n",
       "      <th>13</th>\n",
       "      <td>14</td>\n",
       "      <td>Moratalaz</td>\n",
       "      <td>MULTIPOLYGON (((-3.64158 40.41569, -3.63964 40...</td>\n",
       "    </tr>\n",
       "    <tr>\n",
       "      <th>14</th>\n",
       "      <td>15</td>\n",
       "      <td>Ciudad Lineal</td>\n",
       "      <td>MULTIPOLYGON (((-3.62058 40.41671, -3.62031 40...</td>\n",
       "    </tr>\n",
       "    <tr>\n",
       "      <th>15</th>\n",
       "      <td>16</td>\n",
       "      <td>Hortaleza</td>\n",
       "      <td>MULTIPOLYGON (((-3.65114 40.5123, -3.65095 40....</td>\n",
       "    </tr>\n",
       "    <tr>\n",
       "      <th>16</th>\n",
       "      <td>17</td>\n",
       "      <td>Villaverde</td>\n",
       "      <td>MULTIPOLYGON (((-3.70235 40.36475, -3.70193 40...</td>\n",
       "    </tr>\n",
       "    <tr>\n",
       "      <th>17</th>\n",
       "      <td>18</td>\n",
       "      <td>Villa de Vallecas</td>\n",
       "      <td>MULTIPOLYGON (((-3.60631 40.3882, -3.60524 40....</td>\n",
       "    </tr>\n",
       "    <tr>\n",
       "      <th>18</th>\n",
       "      <td>19</td>\n",
       "      <td>Vicalvaro</td>\n",
       "      <td>MULTIPOLYGON (((-3.57633 40.41484, -3.57159 40...</td>\n",
       "    </tr>\n",
       "    <tr>\n",
       "      <th>19</th>\n",
       "      <td>20</td>\n",
       "      <td>San Blas</td>\n",
       "      <td>MULTIPOLYGON (((-3.59198 40.45123, -3.59194 40...</td>\n",
       "    </tr>\n",
       "    <tr>\n",
       "      <th>20</th>\n",
       "      <td>21</td>\n",
       "      <td>Barajas</td>\n",
       "      <td>MULTIPOLYGON (((-3.56045 40.51234, -3.56036 40...</td>\n",
       "    </tr>\n",
       "  </tbody>\n",
       "</table>\n",
       "</div>"
      ],
      "text/plain": [
       "    ID_Distrito             Distrito  \\\n",
       "0             1               Centro   \n",
       "1             2           Arganzuela   \n",
       "2             3               Retiro   \n",
       "3             4            Salamanca   \n",
       "4             5            Chamartin   \n",
       "5             6               Tetuan   \n",
       "6             7             Chamberi   \n",
       "7             8  Fuencarral-El Pardo   \n",
       "8             9      Moncloa-Aravaca   \n",
       "9            10               Latina   \n",
       "10           11          Carabanchel   \n",
       "11           12                Usera   \n",
       "12           13   Puente de Vallecas   \n",
       "13           14            Moratalaz   \n",
       "14           15        Ciudad Lineal   \n",
       "15           16            Hortaleza   \n",
       "16           17           Villaverde   \n",
       "17           18    Villa de Vallecas   \n",
       "18           19            Vicalvaro   \n",
       "19           20             San Blas   \n",
       "20           21              Barajas   \n",
       "\n",
       "                                             geometry  \n",
       "0   MULTIPOLYGON (((-3.69185 40.40853, -3.69189 40...  \n",
       "1   MULTIPOLYGON (((-3.70258 40.40638, -3.70166 40...  \n",
       "2   MULTIPOLYGON (((-3.66279 40.4097, -3.66384 40....  \n",
       "3   MULTIPOLYGON (((-3.65809 40.43945, -3.65828 40...  \n",
       "4   MULTIPOLYGON (((-3.67231 40.48388, -3.67237 40...  \n",
       "5   MULTIPOLYGON (((-3.69633 40.47572, -3.69619 40...  \n",
       "6   MULTIPOLYGON (((-3.68991 40.44737, -3.69048 40...  \n",
       "7   MULTIPOLYGON (((-3.64131 40.63922, -3.64118 40...  \n",
       "8   MULTIPOLYGON (((-3.79973 40.47063, -3.79887 40...  \n",
       "9   MULTIPOLYGON (((-3.7213 40.41256, -3.72051 40....  \n",
       "10  MULTIPOLYGON (((-3.72346 40.40622, -3.72345 40...  \n",
       "11  MULTIPOLYGON (((-3.6819 40.36592, -3.6819 40.3...  \n",
       "12  MULTIPOLYGON (((-3.67705 40.3618, -3.67706 40....  \n",
       "13  MULTIPOLYGON (((-3.64158 40.41569, -3.63964 40...  \n",
       "14  MULTIPOLYGON (((-3.62058 40.41671, -3.62031 40...  \n",
       "15  MULTIPOLYGON (((-3.65114 40.5123, -3.65095 40....  \n",
       "16  MULTIPOLYGON (((-3.70235 40.36475, -3.70193 40...  \n",
       "17  MULTIPOLYGON (((-3.60631 40.3882, -3.60524 40....  \n",
       "18  MULTIPOLYGON (((-3.57633 40.41484, -3.57159 40...  \n",
       "19  MULTIPOLYGON (((-3.59198 40.45123, -3.59194 40...  \n",
       "20  MULTIPOLYGON (((-3.56045 40.51234, -3.56036 40...  "
      ]
     },
     "execution_count": 4,
     "metadata": {},
     "output_type": "execute_result"
    }
   ],
   "source": [
    "df_distritos = gdf_distritos[[\"ID_Distrito\", \"Distrito\", \"geometry\"]]\n",
    "#df_distritos.to_file('../datos/finales/distritos.geojson', driver='GeoJSON')\n",
    "df_distritos"
   ]
  },
  {
   "cell_type": "code",
   "execution_count": 168,
   "metadata": {},
   "outputs": [
    {
     "data": {
      "text/plain": [
       "ID_Distrito       int32\n",
       "Distrito         object\n",
       "geometry       geometry\n",
       "dtype: object"
      ]
     },
     "execution_count": 168,
     "metadata": {},
     "output_type": "execute_result"
    }
   ],
   "source": [
    "df_distritos.dtypes"
   ]
  },
  {
   "cell_type": "markdown",
   "metadata": {},
   "source": [
    "## WebScraping de Redpiso"
   ]
  },
  {
   "cell_type": "markdown",
   "metadata": {},
   "source": [
    "- Obtendremos datos de alquileres de viviendas haciendo uso de Selenium y BeautifulSoup, para navegar y obtener el código html de la web de Redpiso, que contiene información sobre pisos de alquiler en Madrid.\n",
    "- De la consulta, que realizamos con la función `sf.consulta_alquileres_redpiso()`, obtendremos una lista de \"sopas\" de BeautifulSoup, correspondiente a cada página.\n",
    "- La función recibe como argumento el número de páginas de resultados que queremos guardar. En este caso, serán 50. La lista de sopas la almacenaremos en un archivo de tipo Pickle."
   ]
  },
  {
   "cell_type": "code",
   "execution_count": null,
   "metadata": {},
   "outputs": [],
   "source": [
    "#sopas_redpiso = sf.scraping_alquileres_redpiso(50)"
   ]
  },
  {
   "cell_type": "code",
   "execution_count": null,
   "metadata": {},
   "outputs": [],
   "source": [
    "#with open('../datos/origen/sopas_redpiso.pkl', 'wb') as file:\n",
    "#    pickle.dump(sopas_redpiso, file)"
   ]
  },
  {
   "cell_type": "markdown",
   "metadata": {},
   "source": [
    "- Ahora importaremos el resultado de la consulta y le aplicaremos la función `dataframe_redpiso()`, que recibe como argumento el archivo pickle con las sopas."
   ]
  },
  {
   "cell_type": "code",
   "execution_count": 39,
   "metadata": {},
   "outputs": [],
   "source": [
    "with open('../datos/origen/sopas_redpiso.pkl', 'rb') as file:\n",
    "    sopas_redpiso = pickle.load(file)"
   ]
  },
  {
   "cell_type": "code",
   "execution_count": 40,
   "metadata": {},
   "outputs": [],
   "source": [
    "df_redpiso = sf.dataframe_redpiso(sopas_redpiso)"
   ]
  },
  {
   "cell_type": "markdown",
   "metadata": {},
   "source": [
    "- Vemos que, hemos obtenido un DF con un total de 599 viviendas en alquiler."
   ]
  },
  {
   "cell_type": "code",
   "execution_count": 43,
   "metadata": {},
   "outputs": [
    {
     "data": {
      "text/plain": [
       "(600, 2)"
      ]
     },
     "execution_count": 43,
     "metadata": {},
     "output_type": "execute_result"
    }
   ],
   "source": [
    "df_redpiso.shape"
   ]
  },
  {
   "cell_type": "code",
   "execution_count": 55,
   "metadata": {},
   "outputs": [
    {
     "data": {
      "text/plain": [
       "Precio\n",
       "1100    53\n",
       "1200    51\n",
       "0       43\n",
       "850     42\n",
       "1000    40\n",
       "        ..\n",
       "2350     1\n",
       "550      1\n",
       "690      1\n",
       "720      1\n",
       "1480     1\n",
       "Name: count, Length: 83, dtype: int64"
      ]
     },
     "execution_count": 55,
     "metadata": {},
     "output_type": "execute_result"
    }
   ],
   "source": [
    "df_redpiso[\"Precio\"].value_counts()"
   ]
  },
  {
   "cell_type": "markdown",
   "metadata": {},
   "source": [
    "- Nos encontramos que hay registros con precio cero, que eliminaremos de entrada, debido a que distorsionarían el análisis."
   ]
  },
  {
   "cell_type": "code",
   "execution_count": 56,
   "metadata": {},
   "outputs": [],
   "source": [
    "df_redpiso = df_redpiso[\n",
    "    (df_redpiso[\"Precio\"] != 0)\n",
    "]"
   ]
  },
  {
   "cell_type": "code",
   "execution_count": 57,
   "metadata": {},
   "outputs": [
    {
     "data": {
      "text/plain": [
       "(557, 3)"
      ]
     },
     "execution_count": 57,
     "metadata": {},
     "output_type": "execute_result"
    }
   ],
   "source": [
    "df_redpiso.shape"
   ]
  },
  {
   "cell_type": "markdown",
   "metadata": {},
   "source": [
    "- Procederemos ahora a limpiar los datos:\n",
    "1. Aplicaremos la función `extraer_distrito()` a la columna descripción. Esta función aplica un patrón de Regex al string para obtener únicamente el distrito. Si no lo encuentra, devuelve \"Distrito no identificado\". Limpiaremos esos registros no identificados posteriormente.\n",
    "2. En la columna precio sustituimos los puntos, los signos de euro y los strings \"a consultar\".\n",
    "3. Homogenizamos los nombres de los distritos eliminando las tildes y los nombres generales. "
   ]
  },
  {
   "cell_type": "code",
   "execution_count": 46,
   "metadata": {},
   "outputs": [],
   "source": [
    "df_redpiso[\"Distrito\"] = df_redpiso['Descripcion'].apply(sf.extraer_distrito)\n",
    "df_redpiso[\"Descripcion\"] = df_redpiso[\"Descripcion\"].str.title()\n",
    "df_redpiso[\"Precio\"] = df_redpiso[\"Precio\"].str.replace(\"A consultar\",\"0\")\n",
    "df_redpiso[\"Precio\"] = df_redpiso[\"Precio\"].str.replace(\".\",\"\")\n",
    "df_redpiso[\"Precio\"] = df_redpiso[\"Precio\"].str.replace(\" €\",\"\").astype(int)\n",
    "df_redpiso[\"Distrito\"] = df_redpiso[\"Distrito\"].str.replace(\"Villa de Vallecas-Ensanche y Santa Eugenia\",\"Puente de Vallecas\")\n",
    "df_redpiso[\"Distrito\"] = df_redpiso[\"Distrito\"].str.replace(\"San Blas-Canillejas\",\"San Blas\")\n",
    "df_redpiso[\"Distrito\"] = df_redpiso[\"Distrito\"].str.replace(\"Vicálvaro-Ambroz-Centro-Valdebernardo-Valderribas\",\"Vicálvaro\")\n",
    "df_redpiso[\"Distrito\"] = df_redpiso[\"Distrito\"].str.replace(\"Chamberí\",\"Chamberi\")\n",
    "df_redpiso[\"Distrito\"] = df_redpiso[\"Distrito\"].str.replace(\"Chamartín\",\"Chamartin\")\n",
    "df_redpiso[\"Distrito\"] = df_redpiso[\"Distrito\"].str.replace(\"Vicálvaro\",\"Vicalvaro\")\n",
    "df_redpiso[\"Distrito\"] = df_redpiso[\"Distrito\"].str.replace(\"Tetuán\",\"Tetuan\")"
   ]
  },
  {
   "cell_type": "markdown",
   "metadata": {},
   "source": [
    "- Tras aplicar el patrón de Regex, nos hemos quedado con 20 entradas sin identificar. Asignaremos esos distritos manualmente y comprobaremos que se hayan eliminado."
   ]
  },
  {
   "cell_type": "code",
   "execution_count": 47,
   "metadata": {},
   "outputs": [],
   "source": [
    "df_redpiso[\"Distrito\"][0] = \"Villaverde\"\n",
    "df_redpiso[\"Distrito\"][13] = \"Moncloa-Aravaca\"\n",
    "df_redpiso[\"Distrito\"][39] = \"Moncloa-Aravaca\"\n",
    "df_redpiso[\"Distrito\"][112] = \"Moncloa-Aravaca\"\n",
    "df_redpiso[\"Distrito\"][187] = \"Villaverde\"\n",
    "df_redpiso[\"Distrito\"][235] = \"Centro\"\n",
    "df_redpiso[\"Distrito\"][257] = \"Puente de Vallecas\"\n",
    "df_redpiso[\"Distrito\"][273] = \"Centro\"\n",
    "df_redpiso[\"Distrito\"][288] = \"Moncloa-Aravaca\"\n",
    "df_redpiso[\"Distrito\"][380] = \"Usera\"\n",
    "df_redpiso[\"Distrito\"][387] = \"Moncloa-Aravaca\"\n",
    "df_redpiso[\"Distrito\"][446] = \"Centro\"\n",
    "df_redpiso[\"Distrito\"][464] = \"Moncloa-Aravaca\"\n",
    "df_redpiso[\"Distrito\"][493] = \"Centro\"\n",
    "df_redpiso[\"Distrito\"][501] = \"Centro\"\n",
    "df_redpiso[\"Distrito\"][527] = \"Chamberi\"\n",
    "df_redpiso[\"Distrito\"][551] = \"Chamartin\"\n",
    "df_redpiso[\"Distrito\"][568] = \"Moncloa-Aravaca\"\n",
    "df_redpiso[\"Distrito\"][591] = \"Moncloa-Aravaca\"\n",
    "df_redpiso[\"Distrito\"][592] = \"Moncloa-Aravaca\""
   ]
  },
  {
   "cell_type": "code",
   "execution_count": 48,
   "metadata": {},
   "outputs": [
    {
     "data": {
      "text/html": [
       "<div>\n",
       "<style scoped>\n",
       "    .dataframe tbody tr th:only-of-type {\n",
       "        vertical-align: middle;\n",
       "    }\n",
       "\n",
       "    .dataframe tbody tr th {\n",
       "        vertical-align: top;\n",
       "    }\n",
       "\n",
       "    .dataframe thead th {\n",
       "        text-align: right;\n",
       "    }\n",
       "</style>\n",
       "<table border=\"1\" class=\"dataframe\">\n",
       "  <thead>\n",
       "    <tr style=\"text-align: right;\">\n",
       "      <th></th>\n",
       "      <th>Descripcion</th>\n",
       "      <th>Precio</th>\n",
       "      <th>Distrito</th>\n",
       "    </tr>\n",
       "  </thead>\n",
       "  <tbody>\n",
       "  </tbody>\n",
       "</table>\n",
       "</div>"
      ],
      "text/plain": [
       "Empty DataFrame\n",
       "Columns: [Descripcion, Precio, Distrito]\n",
       "Index: []"
      ]
     },
     "execution_count": 48,
     "metadata": {},
     "output_type": "execute_result"
    }
   ],
   "source": [
    "df_redpiso[df_redpiso[\"Distrito\"].str.contains(\"Distrito no identificado\", case=False, na=False)]"
   ]
  },
  {
   "cell_type": "markdown",
   "metadata": {},
   "source": [
    "- Comprobamos nuevamente que los nombres de los distritos son consistentes y no tenemos registros inesperados."
   ]
  },
  {
   "cell_type": "code",
   "execution_count": 49,
   "metadata": {},
   "outputs": [
    {
     "data": {
      "text/plain": [
       "array(['Villaverde', 'Chamberi', 'Salamanca', 'Ciudad Lineal',\n",
       "       'Puente de Vallecas', 'Barajas', 'San Blas', 'Arganzuela',\n",
       "       'Tetuan', 'Moncloa-Aravaca', 'Latina', 'Hortaleza',\n",
       "       'Fuencarral-El Pardo', 'Retiro', 'Centro', 'Carabanchel',\n",
       "       'Chamartin', 'Moratalaz', 'Usera', 'Vicalvaro'], dtype=object)"
      ]
     },
     "execution_count": 49,
     "metadata": {},
     "output_type": "execute_result"
    }
   ],
   "source": [
    "df_redpiso[\"Distrito\"].unique()"
   ]
  },
  {
   "cell_type": "markdown",
   "metadata": {},
   "source": [
    "- Con nuestra función de `sf.identificar_outliers()`, los identificados como 'outliers' en el cuartil superior, vemos que se corresponden con precios normales de la ciudad, con lo cual, no los eliminaremos."
   ]
  },
  {
   "cell_type": "code",
   "execution_count": 58,
   "metadata": {},
   "outputs": [
    {
     "data": {
      "text/html": [
       "<div>\n",
       "<style scoped>\n",
       "    .dataframe tbody tr th:only-of-type {\n",
       "        vertical-align: middle;\n",
       "    }\n",
       "\n",
       "    .dataframe tbody tr th {\n",
       "        vertical-align: top;\n",
       "    }\n",
       "\n",
       "    .dataframe thead th {\n",
       "        text-align: right;\n",
       "    }\n",
       "</style>\n",
       "<table border=\"1\" class=\"dataframe\">\n",
       "  <thead>\n",
       "    <tr style=\"text-align: right;\">\n",
       "      <th></th>\n",
       "      <th>Descripcion</th>\n",
       "      <th>Precio</th>\n",
       "      <th>Distrito</th>\n",
       "    </tr>\n",
       "  </thead>\n",
       "  <tbody>\n",
       "    <tr>\n",
       "      <th>2</th>\n",
       "      <td>Apartamento En Alquiler En Calle Fundadores, F...</td>\n",
       "      <td>2000</td>\n",
       "      <td>Salamanca</td>\n",
       "    </tr>\n",
       "    <tr>\n",
       "      <th>78</th>\n",
       "      <td>Piso En Alquiler En Calle Corazón De María, Pr...</td>\n",
       "      <td>2000</td>\n",
       "      <td>Chamartin</td>\n",
       "    </tr>\n",
       "    <tr>\n",
       "      <th>79</th>\n",
       "      <td>Piso En Alquiler En Calle Fernán Gonzalez, Ibi...</td>\n",
       "      <td>2085</td>\n",
       "      <td>Retiro</td>\n",
       "    </tr>\n",
       "    <tr>\n",
       "      <th>80</th>\n",
       "      <td>Piso En Alquiler En Calle Fernán Gonzalez, Ibi...</td>\n",
       "      <td>2085</td>\n",
       "      <td>Retiro</td>\n",
       "    </tr>\n",
       "    <tr>\n",
       "      <th>81</th>\n",
       "      <td>Piso En Alquiler En Calle Nicaragua, Hispanoam...</td>\n",
       "      <td>2100</td>\n",
       "      <td>Chamartin</td>\n",
       "    </tr>\n",
       "    <tr>\n",
       "      <th>82</th>\n",
       "      <td>Piso En Alquiler En Avenida Bruselas, Guindale...</td>\n",
       "      <td>2200</td>\n",
       "      <td>Salamanca</td>\n",
       "    </tr>\n",
       "    <tr>\n",
       "      <th>83</th>\n",
       "      <td>Ático En Alquiler En Calle Doctor Esquerdo, Es...</td>\n",
       "      <td>2200</td>\n",
       "      <td>Retiro</td>\n",
       "    </tr>\n",
       "    <tr>\n",
       "      <th>84</th>\n",
       "      <td>Piso En Alquiler En Prosperidad, Chamartín, Ma...</td>\n",
       "      <td>2250</td>\n",
       "      <td>Chamartin</td>\n",
       "    </tr>\n",
       "    <tr>\n",
       "      <th>85</th>\n",
       "      <td>Piso En Alquiler En Calle Fernán Gonzalez, Ibi...</td>\n",
       "      <td>2300</td>\n",
       "      <td>Retiro</td>\n",
       "    </tr>\n",
       "    <tr>\n",
       "      <th>86</th>\n",
       "      <td>Piso En Alquiler En Calle Ibiza, Ibiza, Retiro...</td>\n",
       "      <td>2300</td>\n",
       "      <td>Retiro</td>\n",
       "    </tr>\n",
       "    <tr>\n",
       "      <th>87</th>\n",
       "      <td>Piso En Alquiler En Calle Fernán Gonzalez, Ibi...</td>\n",
       "      <td>2300</td>\n",
       "      <td>Retiro</td>\n",
       "    </tr>\n",
       "    <tr>\n",
       "      <th>88</th>\n",
       "      <td>Piso En Alquiler En Calle Fernan Gonzalez, Ret...</td>\n",
       "      <td>2400</td>\n",
       "      <td>Retiro</td>\n",
       "    </tr>\n",
       "    <tr>\n",
       "      <th>89</th>\n",
       "      <td>Piso En Alquiler En Calle Fernán Gonzalez, Ibi...</td>\n",
       "      <td>2400</td>\n",
       "      <td>Retiro</td>\n",
       "    </tr>\n",
       "    <tr>\n",
       "      <th>90</th>\n",
       "      <td>Piso En Alquiler En Calle Fernán Gonzalez, Ibi...</td>\n",
       "      <td>2400</td>\n",
       "      <td>Retiro</td>\n",
       "    </tr>\n",
       "    <tr>\n",
       "      <th>91</th>\n",
       "      <td>Piso En Alquiler En Calle Fernán Gonzalez, Ibi...</td>\n",
       "      <td>2400</td>\n",
       "      <td>Retiro</td>\n",
       "    </tr>\n",
       "    <tr>\n",
       "      <th>92</th>\n",
       "      <td>Piso En Alquiler En Calle Jesús Aprendiz, Niño...</td>\n",
       "      <td>2450</td>\n",
       "      <td>Retiro</td>\n",
       "    </tr>\n",
       "    <tr>\n",
       "      <th>93</th>\n",
       "      <td>Piso En Alquiler En Avenida Presidente Carmona...</td>\n",
       "      <td>2500</td>\n",
       "      <td>Tetuan</td>\n",
       "    </tr>\n",
       "    <tr>\n",
       "      <th>94</th>\n",
       "      <td>Piso En Alquiler En Calle Povedilla, Goya, Sal...</td>\n",
       "      <td>2500</td>\n",
       "      <td>Salamanca</td>\n",
       "    </tr>\n",
       "    <tr>\n",
       "      <th>95</th>\n",
       "      <td>Piso En Alquiler En Calle Francisco Lozano, Ar...</td>\n",
       "      <td>2650</td>\n",
       "      <td>Moncloa-Aravaca</td>\n",
       "    </tr>\n",
       "    <tr>\n",
       "      <th>96</th>\n",
       "      <td>Piso En Alquiler En Paseo Reina Cristina, Jeró...</td>\n",
       "      <td>2700</td>\n",
       "      <td>Retiro</td>\n",
       "    </tr>\n",
       "    <tr>\n",
       "      <th>97</th>\n",
       "      <td>Piso En Alquiler En Calle Diego De Leon, Lista...</td>\n",
       "      <td>2900</td>\n",
       "      <td>Salamanca</td>\n",
       "    </tr>\n",
       "    <tr>\n",
       "      <th>98</th>\n",
       "      <td>Piso En Alquiler En Calle Tutor, Argüelles, Mo...</td>\n",
       "      <td>3000</td>\n",
       "      <td>Moncloa-Aravaca</td>\n",
       "    </tr>\n",
       "    <tr>\n",
       "      <th>99</th>\n",
       "      <td>Chalet En Alquiler En Calle General Aranaz, Sa...</td>\n",
       "      <td>3570</td>\n",
       "      <td>San Blas</td>\n",
       "    </tr>\n",
       "    <tr>\n",
       "      <th>100</th>\n",
       "      <td>Piso En Alquiler En Calle Almagro, Almagro, Ch...</td>\n",
       "      <td>4200</td>\n",
       "      <td>Chamberi</td>\n",
       "    </tr>\n",
       "    <tr>\n",
       "      <th>101</th>\n",
       "      <td>Piso En Alquiler En Calle General Arrando, Alm...</td>\n",
       "      <td>4200</td>\n",
       "      <td>Chamberi</td>\n",
       "    </tr>\n",
       "    <tr>\n",
       "      <th>177</th>\n",
       "      <td>Piso En Alquiler En Calle Ramiro Ii, Valleherm...</td>\n",
       "      <td>1950</td>\n",
       "      <td>Chamberi</td>\n",
       "    </tr>\n",
       "    <tr>\n",
       "      <th>178</th>\n",
       "      <td>Piso En Alquiler En Calle Mendez Alvaro, Delic...</td>\n",
       "      <td>1950</td>\n",
       "      <td>Arganzuela</td>\n",
       "    </tr>\n",
       "    <tr>\n",
       "      <th>179</th>\n",
       "      <td>Piso En Alquiler En Calle Eloy Gonzalo, Trafal...</td>\n",
       "      <td>1950</td>\n",
       "      <td>Chamberi</td>\n",
       "    </tr>\n",
       "    <tr>\n",
       "      <th>180</th>\n",
       "      <td>Piso En Alquiler En Calle Garcia De Paredes, A...</td>\n",
       "      <td>1995</td>\n",
       "      <td>Chamberi</td>\n",
       "    </tr>\n",
       "    <tr>\n",
       "      <th>181</th>\n",
       "      <td>Piso En Alquiler En Calle Antonio Toledano, 4,...</td>\n",
       "      <td>2350</td>\n",
       "      <td>Salamanca</td>\n",
       "    </tr>\n",
       "    <tr>\n",
       "      <th>182</th>\n",
       "      <td>Piso En Alquiler En Calle Vargas, Ríos Rosas, ...</td>\n",
       "      <td>2400</td>\n",
       "      <td>Chamberi</td>\n",
       "    </tr>\n",
       "    <tr>\n",
       "      <th>183</th>\n",
       "      <td>Piso En Alquiler En Calle Rafael Calvo, Almagr...</td>\n",
       "      <td>2500</td>\n",
       "      <td>Chamberi</td>\n",
       "    </tr>\n",
       "  </tbody>\n",
       "</table>\n",
       "</div>"
      ],
      "text/plain": [
       "                                           Descripcion  Precio  \\\n",
       "2    Apartamento En Alquiler En Calle Fundadores, F...    2000   \n",
       "78   Piso En Alquiler En Calle Corazón De María, Pr...    2000   \n",
       "79   Piso En Alquiler En Calle Fernán Gonzalez, Ibi...    2085   \n",
       "80   Piso En Alquiler En Calle Fernán Gonzalez, Ibi...    2085   \n",
       "81   Piso En Alquiler En Calle Nicaragua, Hispanoam...    2100   \n",
       "82   Piso En Alquiler En Avenida Bruselas, Guindale...    2200   \n",
       "83   Ático En Alquiler En Calle Doctor Esquerdo, Es...    2200   \n",
       "84   Piso En Alquiler En Prosperidad, Chamartín, Ma...    2250   \n",
       "85   Piso En Alquiler En Calle Fernán Gonzalez, Ibi...    2300   \n",
       "86   Piso En Alquiler En Calle Ibiza, Ibiza, Retiro...    2300   \n",
       "87   Piso En Alquiler En Calle Fernán Gonzalez, Ibi...    2300   \n",
       "88   Piso En Alquiler En Calle Fernan Gonzalez, Ret...    2400   \n",
       "89   Piso En Alquiler En Calle Fernán Gonzalez, Ibi...    2400   \n",
       "90   Piso En Alquiler En Calle Fernán Gonzalez, Ibi...    2400   \n",
       "91   Piso En Alquiler En Calle Fernán Gonzalez, Ibi...    2400   \n",
       "92   Piso En Alquiler En Calle Jesús Aprendiz, Niño...    2450   \n",
       "93   Piso En Alquiler En Avenida Presidente Carmona...    2500   \n",
       "94   Piso En Alquiler En Calle Povedilla, Goya, Sal...    2500   \n",
       "95   Piso En Alquiler En Calle Francisco Lozano, Ar...    2650   \n",
       "96   Piso En Alquiler En Paseo Reina Cristina, Jeró...    2700   \n",
       "97   Piso En Alquiler En Calle Diego De Leon, Lista...    2900   \n",
       "98   Piso En Alquiler En Calle Tutor, Argüelles, Mo...    3000   \n",
       "99   Chalet En Alquiler En Calle General Aranaz, Sa...    3570   \n",
       "100  Piso En Alquiler En Calle Almagro, Almagro, Ch...    4200   \n",
       "101  Piso En Alquiler En Calle General Arrando, Alm...    4200   \n",
       "177  Piso En Alquiler En Calle Ramiro Ii, Valleherm...    1950   \n",
       "178  Piso En Alquiler En Calle Mendez Alvaro, Delic...    1950   \n",
       "179  Piso En Alquiler En Calle Eloy Gonzalo, Trafal...    1950   \n",
       "180  Piso En Alquiler En Calle Garcia De Paredes, A...    1995   \n",
       "181  Piso En Alquiler En Calle Antonio Toledano, 4,...    2350   \n",
       "182  Piso En Alquiler En Calle Vargas, Ríos Rosas, ...    2400   \n",
       "183  Piso En Alquiler En Calle Rafael Calvo, Almagr...    2500   \n",
       "\n",
       "            Distrito  \n",
       "2          Salamanca  \n",
       "78         Chamartin  \n",
       "79            Retiro  \n",
       "80            Retiro  \n",
       "81         Chamartin  \n",
       "82         Salamanca  \n",
       "83            Retiro  \n",
       "84         Chamartin  \n",
       "85            Retiro  \n",
       "86            Retiro  \n",
       "87            Retiro  \n",
       "88            Retiro  \n",
       "89            Retiro  \n",
       "90            Retiro  \n",
       "91            Retiro  \n",
       "92            Retiro  \n",
       "93            Tetuan  \n",
       "94         Salamanca  \n",
       "95   Moncloa-Aravaca  \n",
       "96            Retiro  \n",
       "97         Salamanca  \n",
       "98   Moncloa-Aravaca  \n",
       "99          San Blas  \n",
       "100         Chamberi  \n",
       "101         Chamberi  \n",
       "177         Chamberi  \n",
       "178       Arganzuela  \n",
       "179         Chamberi  \n",
       "180         Chamberi  \n",
       "181        Salamanca  \n",
       "182         Chamberi  \n",
       "183         Chamberi  "
      ]
     },
     "execution_count": 58,
     "metadata": {},
     "output_type": "execute_result"
    }
   ],
   "source": [
    "sf.identificar_outliers(df_redpiso, \"Precio\")"
   ]
  },
  {
   "cell_type": "markdown",
   "metadata": {},
   "source": [
    "- Tras eliminar los registros, nos quedamos con 556 pisos repartidos en 20 distritos, de un total de 21 que tenemos en Madrid."
   ]
  },
  {
   "cell_type": "code",
   "execution_count": 59,
   "metadata": {},
   "outputs": [
    {
     "data": {
      "text/plain": [
       "Distrito\n",
       "Chamberi               74\n",
       "Chamartin              69\n",
       "Centro                 62\n",
       "Fuencarral-El Pardo    47\n",
       "Hortaleza              44\n",
       "Puente de Vallecas     43\n",
       "Arganzuela             35\n",
       "Salamanca              33\n",
       "Latina                 31\n",
       "Moncloa-Aravaca        26\n",
       "Tetuan                 25\n",
       "Retiro                 17\n",
       "Carabanchel            15\n",
       "San Blas               11\n",
       "Villaverde              8\n",
       "Ciudad Lineal           6\n",
       "Vicalvaro               6\n",
       "Barajas                 2\n",
       "Moratalaz               2\n",
       "Usera                   1\n",
       "Name: count, dtype: int64"
      ]
     },
     "execution_count": 59,
     "metadata": {},
     "output_type": "execute_result"
    }
   ],
   "source": [
    "df_redpiso[\"Distrito\"].value_counts()"
   ]
  },
  {
   "cell_type": "markdown",
   "metadata": {},
   "source": [
    "- Para asignar el ID a cada municipio, realiaremos un merge con el dataframe de distritos. "
   ]
  },
  {
   "cell_type": "code",
   "execution_count": 34,
   "metadata": {},
   "outputs": [],
   "source": [
    "df_redpiso_merge = df_redpiso.merge(df_distritos, how=\"inner\", left_on=\"Distrito\", right_on=\"Distrito\")"
   ]
  },
  {
   "cell_type": "markdown",
   "metadata": {},
   "source": [
    "- Eliminamos las columnas que no necesitamos y reorganizamos las restantes."
   ]
  },
  {
   "cell_type": "code",
   "execution_count": 35,
   "metadata": {},
   "outputs": [
    {
     "data": {
      "text/html": [
       "<div>\n",
       "<style scoped>\n",
       "    .dataframe tbody tr th:only-of-type {\n",
       "        vertical-align: middle;\n",
       "    }\n",
       "\n",
       "    .dataframe tbody tr th {\n",
       "        vertical-align: top;\n",
       "    }\n",
       "\n",
       "    .dataframe thead th {\n",
       "        text-align: right;\n",
       "    }\n",
       "</style>\n",
       "<table border=\"1\" class=\"dataframe\">\n",
       "  <thead>\n",
       "    <tr style=\"text-align: right;\">\n",
       "      <th></th>\n",
       "      <th>ID_Distrito</th>\n",
       "      <th>Precio</th>\n",
       "      <th>Descripcion</th>\n",
       "    </tr>\n",
       "  </thead>\n",
       "  <tbody>\n",
       "    <tr>\n",
       "      <th>0</th>\n",
       "      <td>17</td>\n",
       "      <td>850</td>\n",
       "      <td>Piso En Alquiler En Villaverde, Madrid, Madrid</td>\n",
       "    </tr>\n",
       "    <tr>\n",
       "      <th>1</th>\n",
       "      <td>7</td>\n",
       "      <td>1100</td>\n",
       "      <td>Piso En Alquiler En Calle Cristobal Bordiu, Rí...</td>\n",
       "    </tr>\n",
       "    <tr>\n",
       "      <th>2</th>\n",
       "      <td>4</td>\n",
       "      <td>2000</td>\n",
       "      <td>Apartamento En Alquiler En Calle Fundadores, F...</td>\n",
       "    </tr>\n",
       "    <tr>\n",
       "      <th>3</th>\n",
       "      <td>15</td>\n",
       "      <td>744</td>\n",
       "      <td>Piso En Alquiler En Calle Pepe Isbert, Pueblo ...</td>\n",
       "    </tr>\n",
       "    <tr>\n",
       "      <th>4</th>\n",
       "      <td>13</td>\n",
       "      <td>750</td>\n",
       "      <td>Estudio En Alquiler En Calle Embalse De Navace...</td>\n",
       "    </tr>\n",
       "  </tbody>\n",
       "</table>\n",
       "</div>"
      ],
      "text/plain": [
       "   ID_Distrito  Precio                                        Descripcion\n",
       "0           17     850     Piso En Alquiler En Villaverde, Madrid, Madrid\n",
       "1            7    1100  Piso En Alquiler En Calle Cristobal Bordiu, Rí...\n",
       "2            4    2000  Apartamento En Alquiler En Calle Fundadores, F...\n",
       "3           15     744  Piso En Alquiler En Calle Pepe Isbert, Pueblo ...\n",
       "4           13     750  Estudio En Alquiler En Calle Embalse De Navace..."
      ]
     },
     "execution_count": 35,
     "metadata": {},
     "output_type": "execute_result"
    }
   ],
   "source": [
    "df_redpiso_merge.drop(columns = [\"Distrito\", \"geometry\"], inplace=True)\n",
    "df_redpiso_merge = df_redpiso_merge[[\"ID_Distrito\", \"Precio\", \"Descripcion\"]]\n",
    "df_redpiso_merge.head(5)"
   ]
  },
  {
   "cell_type": "markdown",
   "metadata": {},
   "source": [
    "- Comprobamos tipos de datos y guardamos el dataframe en un archivo de tipo CSV."
   ]
  },
  {
   "cell_type": "code",
   "execution_count": 165,
   "metadata": {},
   "outputs": [
    {
     "data": {
      "text/plain": [
       "ID_Distrito     int32\n",
       "Precio          int64\n",
       "Descripcion    object\n",
       "dtype: object"
      ]
     },
     "execution_count": 165,
     "metadata": {},
     "output_type": "execute_result"
    }
   ],
   "source": [
    "df_redpiso_merge.dtypes"
   ]
  },
  {
   "cell_type": "code",
   "execution_count": null,
   "metadata": {},
   "outputs": [],
   "source": [
    "#df_redpiso_merge.to_csv(\"../datos/finales/redpiso.csv\")"
   ]
  },
  {
   "cell_type": "markdown",
   "metadata": {},
   "source": [
    "## API Idealista"
   ]
  },
  {
   "cell_type": "markdown",
   "metadata": {},
   "source": [
    "- Obtendremos datos de viviendas en alquiler a través de una API de idealista.\n",
    "- De la consulta, que realizamos con la función `sf.consulta_idealista()`, obtendremos una lista correspondiente a cada página de respuesta.\n",
    "- La función recibe como argumentos el código, el nombre de la ciudad que deseamos consultar y el número de páginas que deseamos consultar, devolviendo 40 resultados por página. La lista de resultados la almacenaremos en un archivo de tipo `json`.\n",
    "- Dadas las limitaciones de la función cada iteración tarda unos 20 segundos."
   ]
  },
  {
   "cell_type": "code",
   "execution_count": null,
   "metadata": {},
   "outputs": [],
   "source": [
    "#resultados_idealista = sf.consulta_idealista(\"0-EU-ES-28-07-001-079\", \"Madrid\", 10)"
   ]
  },
  {
   "cell_type": "code",
   "execution_count": null,
   "metadata": {},
   "outputs": [],
   "source": [
    "#with open(\"../datos/origen/idealista.json\", \"w\") as json_file:\n",
    "#    json.dump(resultados_idealista, json_file, indent=4)"
   ]
  },
  {
   "cell_type": "markdown",
   "metadata": {},
   "source": [
    "- Ahora importaremos el resultado de la consulta, comprobaremos que la longitud de la lista sea correcta y le aplicaremos la función `dataframe_idealista()`, que recibe como argumento el archivo json con los resultados y devuelve un dataframe con los datos transformados."
   ]
  },
  {
   "cell_type": "code",
   "execution_count": 5,
   "metadata": {},
   "outputs": [],
   "source": [
    "with open(\"../datos/origen/idealista.json\", 'r') as file:\n",
    "    resultados_idealista = json.load(file)"
   ]
  },
  {
   "cell_type": "code",
   "execution_count": 15,
   "metadata": {},
   "outputs": [
    {
     "data": {
      "text/plain": [
       "10"
      ]
     },
     "execution_count": 15,
     "metadata": {},
     "output_type": "execute_result"
    }
   ],
   "source": [
    "len(resultados_idealista)"
   ]
  },
  {
   "cell_type": "code",
   "execution_count": 6,
   "metadata": {},
   "outputs": [],
   "source": [
    "df_idealista = sf.dataframe_idealista(resultados_idealista)"
   ]
  },
  {
   "cell_type": "code",
   "execution_count": 10,
   "metadata": {},
   "outputs": [
    {
     "data": {
      "text/plain": [
       "count     400.000000\n",
       "mean     2151.742500\n",
       "std      1434.066231\n",
       "min       700.000000\n",
       "25%      1250.000000\n",
       "50%      1600.000000\n",
       "75%      2500.000000\n",
       "max      9500.000000\n",
       "Name: Precio, dtype: float64"
      ]
     },
     "execution_count": 10,
     "metadata": {},
     "output_type": "execute_result"
    }
   ],
   "source": [
    "df_idealista[\"Precio\"].describe()"
   ]
  },
  {
   "cell_type": "code",
   "execution_count": 12,
   "metadata": {},
   "outputs": [
    {
     "data": {
      "text/plain": [
       "(400, 10)"
      ]
     },
     "execution_count": 12,
     "metadata": {},
     "output_type": "execute_result"
    }
   ],
   "source": [
    "df_idealista.shape"
   ]
  },
  {
   "cell_type": "markdown",
   "metadata": {},
   "source": [
    "- En una exploración inicial de los datos, hemos identificado una serie de anuncios con un precio que se aleja mucho de la media.\n",
    "- El método IQR (Interquartile Range) es una técnica estadística utilizada para identificar y gestionar outliers (valores atípicos) en un conjunto de datos. El rango intercuartílico (IQR) es la diferencia entre el tercer cuartil (Q3) y el primer cuartil (Q1) de un conjunto de datos ordenados. IQR = Q3 - Q1. Este rango mide la dispersión de la mitad central de los datos, evitando así la influencia de los valores extremos. Los valores que caen fuera de estos límites se consideran outliers.\n",
    "- En nuestro caso, utilizando la función `sf.identificar_outliers()`, que recibe como parámetros el DF y la columna que deseamos revisar, y devuelve un DF con los outliers, los identificaremos (según el describe anterior) y eliminaremos de los datos."
   ]
  },
  {
   "cell_type": "code",
   "execution_count": 8,
   "metadata": {},
   "outputs": [
    {
     "data": {
      "text/html": [
       "<div>\n",
       "<style scoped>\n",
       "    .dataframe tbody tr th:only-of-type {\n",
       "        vertical-align: middle;\n",
       "    }\n",
       "\n",
       "    .dataframe tbody tr th {\n",
       "        vertical-align: top;\n",
       "    }\n",
       "\n",
       "    .dataframe thead th {\n",
       "        text-align: right;\n",
       "    }\n",
       "</style>\n",
       "<table border=\"1\" class=\"dataframe\">\n",
       "  <thead>\n",
       "    <tr style=\"text-align: right;\">\n",
       "      <th></th>\n",
       "      <th>Latitud</th>\n",
       "      <th>Longitud</th>\n",
       "      <th>Precio</th>\n",
       "      <th>Tipo</th>\n",
       "      <th>Planta</th>\n",
       "      <th>Tamanio</th>\n",
       "      <th>Habitaciones</th>\n",
       "      <th>Banios</th>\n",
       "      <th>Direccion</th>\n",
       "      <th>Descripcion</th>\n",
       "    </tr>\n",
       "  </thead>\n",
       "  <tbody>\n",
       "    <tr>\n",
       "      <th>7</th>\n",
       "      <td>40.436160</td>\n",
       "      <td>-3.693369</td>\n",
       "      <td>5900.0</td>\n",
       "      <td>departamento</td>\n",
       "      <td>2</td>\n",
       "      <td>130.0</td>\n",
       "      <td>3</td>\n",
       "      <td>3</td>\n",
       "      <td>Calle De Zurbano, 61</td>\n",
       "      <td>¡Descubre Este Reformado Y Lujoso Apartamento ...</td>\n",
       "    </tr>\n",
       "    <tr>\n",
       "      <th>9</th>\n",
       "      <td>40.415596</td>\n",
       "      <td>-3.708451</td>\n",
       "      <td>4800.0</td>\n",
       "      <td>departamento</td>\n",
       "      <td>2</td>\n",
       "      <td>154.0</td>\n",
       "      <td>2</td>\n",
       "      <td>2</td>\n",
       "      <td>Calle De La Lechuga</td>\n",
       "      <td>S C A L A  |  Properties Presenta Esta Viviend...</td>\n",
       "    </tr>\n",
       "    <tr>\n",
       "      <th>19</th>\n",
       "      <td>40.457106</td>\n",
       "      <td>-3.683056</td>\n",
       "      <td>8000.0</td>\n",
       "      <td>departamento</td>\n",
       "      <td>None</td>\n",
       "      <td>287.0</td>\n",
       "      <td>5</td>\n",
       "      <td>4</td>\n",
       "      <td>Paseo De La Habana</td>\n",
       "      <td>Fantástico Y Amplio Piso Con Terraza Y Piscina...</td>\n",
       "    </tr>\n",
       "    <tr>\n",
       "      <th>23</th>\n",
       "      <td>40.418827</td>\n",
       "      <td>-3.699927</td>\n",
       "      <td>4500.0</td>\n",
       "      <td>departamento</td>\n",
       "      <td>1</td>\n",
       "      <td>133.0</td>\n",
       "      <td>2</td>\n",
       "      <td>2</td>\n",
       "      <td>Calle De La Virgen De Los Peligros, 9</td>\n",
       "      <td>Esta Vivienda A Estrenar Destaca Por Su Calida...</td>\n",
       "    </tr>\n",
       "    <tr>\n",
       "      <th>47</th>\n",
       "      <td>40.448310</td>\n",
       "      <td>-3.669911</td>\n",
       "      <td>4700.0</td>\n",
       "      <td>departamento</td>\n",
       "      <td>6</td>\n",
       "      <td>170.0</td>\n",
       "      <td>3</td>\n",
       "      <td>3</td>\n",
       "      <td>Calle De López De Hoyos</td>\n",
       "      <td>Crownston Presenta Este Elegantísimo Ático Dúp...</td>\n",
       "    </tr>\n",
       "    <tr>\n",
       "      <th>49</th>\n",
       "      <td>40.456418</td>\n",
       "      <td>-3.631459</td>\n",
       "      <td>4500.0</td>\n",
       "      <td>chalet</td>\n",
       "      <td>None</td>\n",
       "      <td>324.0</td>\n",
       "      <td>5</td>\n",
       "      <td>5</td>\n",
       "      <td>Barrio Conde Orgaz-Piovera</td>\n",
       "      <td>Quartiers Expertos Inmobiliarios. Agents Immob...</td>\n",
       "    </tr>\n",
       "    <tr>\n",
       "      <th>51</th>\n",
       "      <td>40.448954</td>\n",
       "      <td>-3.669955</td>\n",
       "      <td>5000.0</td>\n",
       "      <td>chalet</td>\n",
       "      <td>None</td>\n",
       "      <td>180.0</td>\n",
       "      <td>3</td>\n",
       "      <td>2</td>\n",
       "      <td>Barrio Ciudad Jardín</td>\n",
       "      <td>Chalet Reformado De Lujo En Ciudad Jardín Magn...</td>\n",
       "    </tr>\n",
       "    <tr>\n",
       "      <th>61</th>\n",
       "      <td>40.410255</td>\n",
       "      <td>-3.676674</td>\n",
       "      <td>5500.0</td>\n",
       "      <td>departamento</td>\n",
       "      <td>5</td>\n",
       "      <td>238.0</td>\n",
       "      <td>4</td>\n",
       "      <td>4</td>\n",
       "      <td>Barrio Niño Jesús</td>\n",
       "      <td>Luminoso Piso Remodelado Con Vistas Al Retiro ...</td>\n",
       "    </tr>\n",
       "    <tr>\n",
       "      <th>77</th>\n",
       "      <td>40.472115</td>\n",
       "      <td>-3.780787</td>\n",
       "      <td>9500.0</td>\n",
       "      <td>chalet</td>\n",
       "      <td>None</td>\n",
       "      <td>1000.0</td>\n",
       "      <td>6</td>\n",
       "      <td>7</td>\n",
       "      <td>Calle Loma De Los Bailanderos</td>\n",
       "      <td>Evernest Presenta Esta Maravillosa Propiedad U...</td>\n",
       "    </tr>\n",
       "    <tr>\n",
       "      <th>81</th>\n",
       "      <td>40.436833</td>\n",
       "      <td>-3.685469</td>\n",
       "      <td>4900.0</td>\n",
       "      <td>ático</td>\n",
       "      <td>8</td>\n",
       "      <td>170.0</td>\n",
       "      <td>2</td>\n",
       "      <td>2</td>\n",
       "      <td>Lagasca</td>\n",
       "      <td>Diplomatic Real Estate Alquila Espectacular Át...</td>\n",
       "    </tr>\n",
       "    <tr>\n",
       "      <th>91</th>\n",
       "      <td>40.431212</td>\n",
       "      <td>-3.721704</td>\n",
       "      <td>4500.0</td>\n",
       "      <td>departamento</td>\n",
       "      <td>6</td>\n",
       "      <td>224.0</td>\n",
       "      <td>4</td>\n",
       "      <td>3</td>\n",
       "      <td>Paseo Del Pintor Rosales</td>\n",
       "      <td>Diplomatic Real Estate Ofrece Piso Señorial En...</td>\n",
       "    </tr>\n",
       "    <tr>\n",
       "      <th>97</th>\n",
       "      <td>40.422360</td>\n",
       "      <td>-3.684071</td>\n",
       "      <td>5000.0</td>\n",
       "      <td>departamento</td>\n",
       "      <td>None</td>\n",
       "      <td>144.0</td>\n",
       "      <td>3</td>\n",
       "      <td>3</td>\n",
       "      <td>Barrio Recoletos</td>\n",
       "      <td>Piso Obra Nueva En Calle Núñez De Balboa En Al...</td>\n",
       "    </tr>\n",
       "    <tr>\n",
       "      <th>101</th>\n",
       "      <td>40.423883</td>\n",
       "      <td>-3.698689</td>\n",
       "      <td>4995.0</td>\n",
       "      <td>departamento</td>\n",
       "      <td>1</td>\n",
       "      <td>159.0</td>\n",
       "      <td>3</td>\n",
       "      <td>3</td>\n",
       "      <td>Calle De La Libertad</td>\n",
       "      <td>Disponible Para Entradas Inmediatas **Precio V...</td>\n",
       "    </tr>\n",
       "    <tr>\n",
       "      <th>109</th>\n",
       "      <td>40.454636</td>\n",
       "      <td>-3.682110</td>\n",
       "      <td>7000.0</td>\n",
       "      <td>departamento</td>\n",
       "      <td>3</td>\n",
       "      <td>306.0</td>\n",
       "      <td>5</td>\n",
       "      <td>4</td>\n",
       "      <td>Paseo De La Habana</td>\n",
       "      <td>S C A L A  |  Properties Presenta Vivienda En ...</td>\n",
       "    </tr>\n",
       "    <tr>\n",
       "      <th>129</th>\n",
       "      <td>40.424348</td>\n",
       "      <td>-3.688319</td>\n",
       "      <td>9000.0</td>\n",
       "      <td>departamento</td>\n",
       "      <td>5</td>\n",
       "      <td>314.0</td>\n",
       "      <td>4</td>\n",
       "      <td>3</td>\n",
       "      <td>Calle De Goya</td>\n",
       "      <td>Piso Exterior Con Terraza En Recoletos. En El ...</td>\n",
       "    </tr>\n",
       "    <tr>\n",
       "      <th>133</th>\n",
       "      <td>40.425621</td>\n",
       "      <td>-3.681345</td>\n",
       "      <td>4850.0</td>\n",
       "      <td>ático</td>\n",
       "      <td>6</td>\n",
       "      <td>166.0</td>\n",
       "      <td>3</td>\n",
       "      <td>3</td>\n",
       "      <td>Calle De Núñez De Balboa</td>\n",
       "      <td>Este Ático De 166 M², Recientemente Reformado,...</td>\n",
       "    </tr>\n",
       "    <tr>\n",
       "      <th>135</th>\n",
       "      <td>40.451899</td>\n",
       "      <td>-3.644068</td>\n",
       "      <td>8500.0</td>\n",
       "      <td>chalet</td>\n",
       "      <td>None</td>\n",
       "      <td>969.0</td>\n",
       "      <td>6</td>\n",
       "      <td>6</td>\n",
       "      <td>Barrio Conde Orgaz-Piovera</td>\n",
       "      <td>Quartiers Expertos Inmobiliarios. Agents Immob...</td>\n",
       "    </tr>\n",
       "    <tr>\n",
       "      <th>171</th>\n",
       "      <td>40.421506</td>\n",
       "      <td>-3.683817</td>\n",
       "      <td>6000.0</td>\n",
       "      <td>departamento</td>\n",
       "      <td>7</td>\n",
       "      <td>240.0</td>\n",
       "      <td>4</td>\n",
       "      <td>3</td>\n",
       "      <td>Calle De Alcalá, 97</td>\n",
       "      <td>Para Más Viviendas Como Esta, Visita Nuestra P...</td>\n",
       "    </tr>\n",
       "    <tr>\n",
       "      <th>177</th>\n",
       "      <td>40.421814</td>\n",
       "      <td>-3.693191</td>\n",
       "      <td>6995.0</td>\n",
       "      <td>departamento</td>\n",
       "      <td>4</td>\n",
       "      <td>237.0</td>\n",
       "      <td>3</td>\n",
       "      <td>3</td>\n",
       "      <td>Calle Del Marqués Del Duero</td>\n",
       "      <td>Disponible Para Entradas Inmediatas ** Precio ...</td>\n",
       "    </tr>\n",
       "    <tr>\n",
       "      <th>201</th>\n",
       "      <td>40.455726</td>\n",
       "      <td>-3.629026</td>\n",
       "      <td>4500.0</td>\n",
       "      <td>chalet</td>\n",
       "      <td>None</td>\n",
       "      <td>330.0</td>\n",
       "      <td>5</td>\n",
       "      <td>5</td>\n",
       "      <td>Barrio Conde Orgaz-Piovera</td>\n",
       "      <td>Colomba Boutique Inmobiliaria Alquila Chalet P...</td>\n",
       "    </tr>\n",
       "    <tr>\n",
       "      <th>203</th>\n",
       "      <td>40.430653</td>\n",
       "      <td>-3.685580</td>\n",
       "      <td>4500.0</td>\n",
       "      <td>departamento</td>\n",
       "      <td>2</td>\n",
       "      <td>90.0</td>\n",
       "      <td>2</td>\n",
       "      <td>3</td>\n",
       "      <td>Calle De José Ortega Y Gasset, 17</td>\n",
       "      <td>Nik Inversión Y Gestión, Les Ofrece En Alquile...</td>\n",
       "    </tr>\n",
       "    <tr>\n",
       "      <th>222</th>\n",
       "      <td>40.431825</td>\n",
       "      <td>-3.692679</td>\n",
       "      <td>4900.0</td>\n",
       "      <td>departamento</td>\n",
       "      <td>7</td>\n",
       "      <td>180.0</td>\n",
       "      <td>3</td>\n",
       "      <td>4</td>\n",
       "      <td>Calle De Rafael Calvo</td>\n",
       "      <td>Magnífico Piso Exterior De Tres Dormitorios, C...</td>\n",
       "    </tr>\n",
       "    <tr>\n",
       "      <th>226</th>\n",
       "      <td>40.423553</td>\n",
       "      <td>-3.685361</td>\n",
       "      <td>7200.0</td>\n",
       "      <td>departamento</td>\n",
       "      <td>None</td>\n",
       "      <td>148.0</td>\n",
       "      <td>3</td>\n",
       "      <td>2</td>\n",
       "      <td>Calle De Lagasca, 30</td>\n",
       "      <td>Domus Aurea Capital Presenta Este Fantástico A...</td>\n",
       "    </tr>\n",
       "    <tr>\n",
       "      <th>253</th>\n",
       "      <td>40.455615</td>\n",
       "      <td>-3.645907</td>\n",
       "      <td>5000.0</td>\n",
       "      <td>departamento</td>\n",
       "      <td>2</td>\n",
       "      <td>359.0</td>\n",
       "      <td>5</td>\n",
       "      <td>5</td>\n",
       "      <td>Barrio Conde Orgaz-Piovera</td>\n",
       "      <td>No Amueblado - Cocina Equipada -  El Piso Esta...</td>\n",
       "    </tr>\n",
       "    <tr>\n",
       "      <th>283</th>\n",
       "      <td>40.424946</td>\n",
       "      <td>-3.678476</td>\n",
       "      <td>5695.0</td>\n",
       "      <td>departamento</td>\n",
       "      <td>1</td>\n",
       "      <td>139.0</td>\n",
       "      <td>3</td>\n",
       "      <td>3</td>\n",
       "      <td>Calle De Jorge Juan</td>\n",
       "      <td>Disponible Para Entradas Inmediatas ** Precio ...</td>\n",
       "    </tr>\n",
       "    <tr>\n",
       "      <th>285</th>\n",
       "      <td>40.430163</td>\n",
       "      <td>-3.684711</td>\n",
       "      <td>7700.0</td>\n",
       "      <td>departamento</td>\n",
       "      <td>1</td>\n",
       "      <td>253.0</td>\n",
       "      <td>4</td>\n",
       "      <td>4</td>\n",
       "      <td>Calle De Don Ramón De La Cruz</td>\n",
       "      <td>Teresa Elias Ofrece En Exclusiva Magnifico Pis...</td>\n",
       "    </tr>\n",
       "    <tr>\n",
       "      <th>287</th>\n",
       "      <td>40.454344</td>\n",
       "      <td>-3.696067</td>\n",
       "      <td>5000.0</td>\n",
       "      <td>departamento</td>\n",
       "      <td>3</td>\n",
       "      <td>190.0</td>\n",
       "      <td>4</td>\n",
       "      <td>4</td>\n",
       "      <td>Calle De Orense</td>\n",
       "      <td>Teresa Elias Ofrece En Exclusiva Increible Pis...</td>\n",
       "    </tr>\n",
       "    <tr>\n",
       "      <th>289</th>\n",
       "      <td>40.456865</td>\n",
       "      <td>-3.681556</td>\n",
       "      <td>8000.0</td>\n",
       "      <td>departamento</td>\n",
       "      <td>1</td>\n",
       "      <td>290.0</td>\n",
       "      <td>5</td>\n",
       "      <td>4</td>\n",
       "      <td>Paseo De La Habana</td>\n",
       "      <td>None</td>\n",
       "    </tr>\n",
       "    <tr>\n",
       "      <th>310</th>\n",
       "      <td>40.425909</td>\n",
       "      <td>-3.682865</td>\n",
       "      <td>8000.0</td>\n",
       "      <td>departamento</td>\n",
       "      <td>en</td>\n",
       "      <td>305.0</td>\n",
       "      <td>5</td>\n",
       "      <td>4</td>\n",
       "      <td>Calle De Ayala</td>\n",
       "      <td>Ref. Md-2030 Embassy Properties Presenta Este ...</td>\n",
       "    </tr>\n",
       "    <tr>\n",
       "      <th>313</th>\n",
       "      <td>40.452577</td>\n",
       "      <td>-3.690114</td>\n",
       "      <td>5700.0</td>\n",
       "      <td>departamento</td>\n",
       "      <td>7</td>\n",
       "      <td>295.0</td>\n",
       "      <td>4</td>\n",
       "      <td>3</td>\n",
       "      <td>Barrio El Viso</td>\n",
       "      <td>La Inmobiliaria Internacional Cpm Gestiona Est...</td>\n",
       "    </tr>\n",
       "    <tr>\n",
       "      <th>361</th>\n",
       "      <td>40.425892</td>\n",
       "      <td>-3.686630</td>\n",
       "      <td>4500.0</td>\n",
       "      <td>departamento</td>\n",
       "      <td>1</td>\n",
       "      <td>133.0</td>\n",
       "      <td>3</td>\n",
       "      <td>4</td>\n",
       "      <td>Calle De Jorge Juan</td>\n",
       "      <td>El Edificio De Carácter Clásico, Cuenta Con Po...</td>\n",
       "    </tr>\n",
       "    <tr>\n",
       "      <th>365</th>\n",
       "      <td>40.472110</td>\n",
       "      <td>-3.689448</td>\n",
       "      <td>7000.0</td>\n",
       "      <td>departamento</td>\n",
       "      <td>1</td>\n",
       "      <td>245.0</td>\n",
       "      <td>5</td>\n",
       "      <td>3</td>\n",
       "      <td>Paseo De La Castellana</td>\n",
       "      <td>Perfecto Para Estudiantes Del Ie O Trabajadore...</td>\n",
       "    </tr>\n",
       "  </tbody>\n",
       "</table>\n",
       "</div>"
      ],
      "text/plain": [
       "       Latitud  Longitud  Precio          Tipo Planta  Tamanio  Habitaciones  \\\n",
       "7    40.436160 -3.693369  5900.0  departamento      2    130.0             3   \n",
       "9    40.415596 -3.708451  4800.0  departamento      2    154.0             2   \n",
       "19   40.457106 -3.683056  8000.0  departamento   None    287.0             5   \n",
       "23   40.418827 -3.699927  4500.0  departamento      1    133.0             2   \n",
       "47   40.448310 -3.669911  4700.0  departamento      6    170.0             3   \n",
       "49   40.456418 -3.631459  4500.0        chalet   None    324.0             5   \n",
       "51   40.448954 -3.669955  5000.0        chalet   None    180.0             3   \n",
       "61   40.410255 -3.676674  5500.0  departamento      5    238.0             4   \n",
       "77   40.472115 -3.780787  9500.0        chalet   None   1000.0             6   \n",
       "81   40.436833 -3.685469  4900.0         ático      8    170.0             2   \n",
       "91   40.431212 -3.721704  4500.0  departamento      6    224.0             4   \n",
       "97   40.422360 -3.684071  5000.0  departamento   None    144.0             3   \n",
       "101  40.423883 -3.698689  4995.0  departamento      1    159.0             3   \n",
       "109  40.454636 -3.682110  7000.0  departamento      3    306.0             5   \n",
       "129  40.424348 -3.688319  9000.0  departamento      5    314.0             4   \n",
       "133  40.425621 -3.681345  4850.0         ático      6    166.0             3   \n",
       "135  40.451899 -3.644068  8500.0        chalet   None    969.0             6   \n",
       "171  40.421506 -3.683817  6000.0  departamento      7    240.0             4   \n",
       "177  40.421814 -3.693191  6995.0  departamento      4    237.0             3   \n",
       "201  40.455726 -3.629026  4500.0        chalet   None    330.0             5   \n",
       "203  40.430653 -3.685580  4500.0  departamento      2     90.0             2   \n",
       "222  40.431825 -3.692679  4900.0  departamento      7    180.0             3   \n",
       "226  40.423553 -3.685361  7200.0  departamento   None    148.0             3   \n",
       "253  40.455615 -3.645907  5000.0  departamento      2    359.0             5   \n",
       "283  40.424946 -3.678476  5695.0  departamento      1    139.0             3   \n",
       "285  40.430163 -3.684711  7700.0  departamento      1    253.0             4   \n",
       "287  40.454344 -3.696067  5000.0  departamento      3    190.0             4   \n",
       "289  40.456865 -3.681556  8000.0  departamento      1    290.0             5   \n",
       "310  40.425909 -3.682865  8000.0  departamento     en    305.0             5   \n",
       "313  40.452577 -3.690114  5700.0  departamento      7    295.0             4   \n",
       "361  40.425892 -3.686630  4500.0  departamento      1    133.0             3   \n",
       "365  40.472110 -3.689448  7000.0  departamento      1    245.0             5   \n",
       "\n",
       "     Banios                              Direccion  \\\n",
       "7         3                   Calle De Zurbano, 61   \n",
       "9         2                    Calle De La Lechuga   \n",
       "19        4                     Paseo De La Habana   \n",
       "23        2  Calle De La Virgen De Los Peligros, 9   \n",
       "47        3                Calle De López De Hoyos   \n",
       "49        5             Barrio Conde Orgaz-Piovera   \n",
       "51        2                   Barrio Ciudad Jardín   \n",
       "61        4                      Barrio Niño Jesús   \n",
       "77        7          Calle Loma De Los Bailanderos   \n",
       "81        2                                Lagasca   \n",
       "91        3               Paseo Del Pintor Rosales   \n",
       "97        3                       Barrio Recoletos   \n",
       "101       3                   Calle De La Libertad   \n",
       "109       4                     Paseo De La Habana   \n",
       "129       3                          Calle De Goya   \n",
       "133       3               Calle De Núñez De Balboa   \n",
       "135       6             Barrio Conde Orgaz-Piovera   \n",
       "171       3                    Calle De Alcalá, 97   \n",
       "177       3            Calle Del Marqués Del Duero   \n",
       "201       5             Barrio Conde Orgaz-Piovera   \n",
       "203       3      Calle De José Ortega Y Gasset, 17   \n",
       "222       4                  Calle De Rafael Calvo   \n",
       "226       2                   Calle De Lagasca, 30   \n",
       "253       5             Barrio Conde Orgaz-Piovera   \n",
       "283       3                    Calle De Jorge Juan   \n",
       "285       4          Calle De Don Ramón De La Cruz   \n",
       "287       4                        Calle De Orense   \n",
       "289       4                     Paseo De La Habana   \n",
       "310       4                         Calle De Ayala   \n",
       "313       3                         Barrio El Viso   \n",
       "361       4                    Calle De Jorge Juan   \n",
       "365       3                 Paseo De La Castellana   \n",
       "\n",
       "                                           Descripcion  \n",
       "7    ¡Descubre Este Reformado Y Lujoso Apartamento ...  \n",
       "9    S C A L A  |  Properties Presenta Esta Viviend...  \n",
       "19   Fantástico Y Amplio Piso Con Terraza Y Piscina...  \n",
       "23   Esta Vivienda A Estrenar Destaca Por Su Calida...  \n",
       "47   Crownston Presenta Este Elegantísimo Ático Dúp...  \n",
       "49   Quartiers Expertos Inmobiliarios. Agents Immob...  \n",
       "51   Chalet Reformado De Lujo En Ciudad Jardín Magn...  \n",
       "61   Luminoso Piso Remodelado Con Vistas Al Retiro ...  \n",
       "77   Evernest Presenta Esta Maravillosa Propiedad U...  \n",
       "81   Diplomatic Real Estate Alquila Espectacular Át...  \n",
       "91   Diplomatic Real Estate Ofrece Piso Señorial En...  \n",
       "97   Piso Obra Nueva En Calle Núñez De Balboa En Al...  \n",
       "101  Disponible Para Entradas Inmediatas **Precio V...  \n",
       "109  S C A L A  |  Properties Presenta Vivienda En ...  \n",
       "129  Piso Exterior Con Terraza En Recoletos. En El ...  \n",
       "133  Este Ático De 166 M², Recientemente Reformado,...  \n",
       "135  Quartiers Expertos Inmobiliarios. Agents Immob...  \n",
       "171  Para Más Viviendas Como Esta, Visita Nuestra P...  \n",
       "177  Disponible Para Entradas Inmediatas ** Precio ...  \n",
       "201  Colomba Boutique Inmobiliaria Alquila Chalet P...  \n",
       "203  Nik Inversión Y Gestión, Les Ofrece En Alquile...  \n",
       "222  Magnífico Piso Exterior De Tres Dormitorios, C...  \n",
       "226  Domus Aurea Capital Presenta Este Fantástico A...  \n",
       "253  No Amueblado - Cocina Equipada -  El Piso Esta...  \n",
       "283  Disponible Para Entradas Inmediatas ** Precio ...  \n",
       "285  Teresa Elias Ofrece En Exclusiva Magnifico Pis...  \n",
       "287  Teresa Elias Ofrece En Exclusiva Increible Pis...  \n",
       "289                                               None  \n",
       "310  Ref. Md-2030 Embassy Properties Presenta Este ...  \n",
       "313  La Inmobiliaria Internacional Cpm Gestiona Est...  \n",
       "361  El Edificio De Carácter Clásico, Cuenta Con Po...  \n",
       "365  Perfecto Para Estudiantes Del Ie O Trabajadore...  "
      ]
     },
     "execution_count": 8,
     "metadata": {},
     "output_type": "execute_result"
    }
   ],
   "source": [
    "sf.identificar_outliers(df_idealista,\"Precio\")"
   ]
  },
  {
   "cell_type": "markdown",
   "metadata": {},
   "source": [
    "- En este caso, eliminaremos 32 entradas. Calculamos nuestros límites inferiores y superiores y aplicamos el filtro."
   ]
  },
  {
   "cell_type": "code",
   "execution_count": 15,
   "metadata": {},
   "outputs": [
    {
     "name": "stdout",
     "output_type": "stream",
     "text": [
      "-625.0\n",
      "4375.0\n"
     ]
    }
   ],
   "source": [
    "Q1 = df_idealista[\"Precio\"].quantile(0.25)\n",
    "Q3 = df_idealista[\"Precio\"].quantile(0.75)\n",
    "IQR = Q3 - Q1\n",
    "\n",
    "lower_bound = Q1 - 1.5 * IQR\n",
    "upper_bound = Q3 + 1.5 * IQR\n",
    "print(lower_bound)\n",
    "print(upper_bound)"
   ]
  },
  {
   "cell_type": "code",
   "execution_count": 18,
   "metadata": {},
   "outputs": [],
   "source": [
    "df_idealista = df_idealista[(df_idealista['Precio'] <= upper_bound)]"
   ]
  },
  {
   "cell_type": "markdown",
   "metadata": {},
   "source": [
    "- Eliminamos tildes en los nombres de las columnas y usamos nuevamente nuestra función de traducción sobre la columna \"Tipo\", obteniendo como resultado el DF que se imprime, que contiene información de 367 viviendas."
   ]
  },
  {
   "cell_type": "code",
   "execution_count": 7,
   "metadata": {},
   "outputs": [],
   "source": [
    "df_idealista[\"Tipo\"] = df_idealista[\"Tipo\"].apply(sf.traducir_es)\n",
    "df_idealista[\"Direccion\"] = df_idealista[\"Direccion\"].str.title()\n",
    "df_idealista[\"Descripcion\"] = df_idealista[\"Descripcion\"].str.title()"
   ]
  },
  {
   "cell_type": "code",
   "execution_count": 19,
   "metadata": {},
   "outputs": [
    {
     "data": {
      "text/plain": [
       "(368, 10)"
      ]
     },
     "execution_count": 19,
     "metadata": {},
     "output_type": "execute_result"
    }
   ],
   "source": [
    "df_idealista.shape"
   ]
  },
  {
   "cell_type": "code",
   "execution_count": null,
   "metadata": {},
   "outputs": [
    {
     "data": {
      "text/html": [
       "<div>\n",
       "<style scoped>\n",
       "    .dataframe tbody tr th:only-of-type {\n",
       "        vertical-align: middle;\n",
       "    }\n",
       "\n",
       "    .dataframe tbody tr th {\n",
       "        vertical-align: top;\n",
       "    }\n",
       "\n",
       "    .dataframe thead th {\n",
       "        text-align: right;\n",
       "    }\n",
       "</style>\n",
       "<table border=\"1\" class=\"dataframe\">\n",
       "  <thead>\n",
       "    <tr style=\"text-align: right;\">\n",
       "      <th></th>\n",
       "      <th>Latitud</th>\n",
       "      <th>Longitud</th>\n",
       "      <th>Precio</th>\n",
       "      <th>Tipo</th>\n",
       "      <th>Planta</th>\n",
       "      <th>Tamaño</th>\n",
       "      <th>Habitaciones</th>\n",
       "      <th>Baños</th>\n",
       "      <th>Dirección</th>\n",
       "      <th>Descripción</th>\n",
       "    </tr>\n",
       "  </thead>\n",
       "  <tbody>\n",
       "    <tr>\n",
       "      <th>0</th>\n",
       "      <td>40.432201</td>\n",
       "      <td>-3.714278</td>\n",
       "      <td>1350.0</td>\n",
       "      <td>departamento</td>\n",
       "      <td>1</td>\n",
       "      <td>73.0</td>\n",
       "      <td>2</td>\n",
       "      <td>1</td>\n",
       "      <td>Calle De Andres Mellado, 18</td>\n",
       "      <td>Piso Con Una Habitación Con Cama De Matrimonio...</td>\n",
       "    </tr>\n",
       "    <tr>\n",
       "      <th>1</th>\n",
       "      <td>40.414669</td>\n",
       "      <td>-3.705414</td>\n",
       "      <td>2300.0</td>\n",
       "      <td>departamento</td>\n",
       "      <td>5</td>\n",
       "      <td>95.0</td>\n",
       "      <td>2</td>\n",
       "      <td>2</td>\n",
       "      <td>Calle Del Marqués Viudo De Pontejos</td>\n",
       "      <td>S C A L A  |  Properties Presenta Ático Amuebl...</td>\n",
       "    </tr>\n",
       "  </tbody>\n",
       "</table>\n",
       "</div>"
      ],
      "text/plain": [
       "     Latitud  Longitud  Precio          Tipo Planta  Tamaño  Habitaciones  \\\n",
       "0  40.432201 -3.714278  1350.0  departamento      1    73.0             2   \n",
       "1  40.414669 -3.705414  2300.0  departamento      5    95.0             2   \n",
       "\n",
       "   Baños                            Dirección  \\\n",
       "0      1          Calle De Andres Mellado, 18   \n",
       "1      2  Calle Del Marqués Viudo De Pontejos   \n",
       "\n",
       "                                         Descripción  \n",
       "0  Piso Con Una Habitación Con Cama De Matrimonio...  \n",
       "1  S C A L A  |  Properties Presenta Ático Amuebl...  "
      ]
     },
     "execution_count": 51,
     "metadata": {},
     "output_type": "execute_result"
    }
   ],
   "source": [
    "df_idealista.head(2)"
   ]
  },
  {
   "cell_type": "markdown",
   "metadata": {},
   "source": [
    "- Cuando un valor se repite muchas veces, como puede ser el caso del tipo de vivienda, para crear nuestra base de datos, lo correcto sería obtener una nueva tabla con identificadores únicos para cada tipo de vivienda, así, normalizamos los datos, eliminando redundancias. Por una limitación de tiempo, no se hará en este proyecto."
   ]
  },
  {
   "cell_type": "code",
   "execution_count": 20,
   "metadata": {},
   "outputs": [
    {
     "data": {
      "text/plain": [
       "Tipo\n",
       "departamento    296\n",
       "estudio          37\n",
       "ático            23\n",
       "dúplex           11\n",
       "chalet            1\n",
       "Name: count, dtype: int64"
      ]
     },
     "execution_count": 20,
     "metadata": {},
     "output_type": "execute_result"
    }
   ],
   "source": [
    "df_idealista[\"Tipo\"].value_counts()"
   ]
  },
  {
   "cell_type": "markdown",
   "metadata": {},
   "source": [
    "- Para poder asignar las coordenadas de cada vivienda a un distrito, transformamos la latitud y la longitud de entrada a un geopunto, y uniremos el nuevo GDF con nuestro GDF de distritos. Asignamos el tipo de CRS y guardamos en un archivo de tipo `geojson`."
   ]
  },
  {
   "cell_type": "code",
   "execution_count": null,
   "metadata": {},
   "outputs": [],
   "source": [
    "gdf_idealista = gpd.GeoDataFrame(df_idealista, geometry=gpd.points_from_xy(df_idealista.Longitud, df_idealista.Latitud))\n",
    "gdf_idealista.crs = \"EPSG:4326\"\n",
    "#gdf_idealista.to_file('../datos/origen/idealista.geojson', driver='GeoJSON')"
   ]
  },
  {
   "cell_type": "code",
   "execution_count": null,
   "metadata": {},
   "outputs": [],
   "source": [
    "gdf_sjoin2 = gpd.sjoin(gdf_idealista, gdf_distritos, how=\"inner\", predicate=\"within\")\n",
    "gdf_sjoin2 = gdf_sjoin2.drop(columns=\"index_right\")"
   ]
  },
  {
   "cell_type": "markdown",
   "metadata": {},
   "source": [
    "- Realizamos algunas tareas más de limpieza, asignación de tipos de datos y guardamos el resultado final en un archivo `geojson`."
   ]
  },
  {
   "cell_type": "code",
   "execution_count": 23,
   "metadata": {},
   "outputs": [],
   "source": [
    "gdf_sjoin2_final = gdf_sjoin2[['ID_Distrito', 'Precio', 'Tipo', 'Planta', 'Tamanio',\n",
    "       'Habitaciones', 'Banios', 'Direccion', 'Descripcion', 'geometry']]\n",
    "gdf_sjoin2_final[\"Tamanio\"] = gdf_sjoin2_final[\"Tamanio\"].astype(int)"
   ]
  },
  {
   "cell_type": "code",
   "execution_count": 24,
   "metadata": {},
   "outputs": [
    {
     "data": {
      "text/html": [
       "<div>\n",
       "<style scoped>\n",
       "    .dataframe tbody tr th:only-of-type {\n",
       "        vertical-align: middle;\n",
       "    }\n",
       "\n",
       "    .dataframe tbody tr th {\n",
       "        vertical-align: top;\n",
       "    }\n",
       "\n",
       "    .dataframe thead th {\n",
       "        text-align: right;\n",
       "    }\n",
       "</style>\n",
       "<table border=\"1\" class=\"dataframe\">\n",
       "  <thead>\n",
       "    <tr style=\"text-align: right;\">\n",
       "      <th></th>\n",
       "      <th>ID_Distrito</th>\n",
       "      <th>Precio</th>\n",
       "      <th>Tipo</th>\n",
       "      <th>Planta</th>\n",
       "      <th>Tamanio</th>\n",
       "      <th>Habitaciones</th>\n",
       "      <th>Banios</th>\n",
       "      <th>Direccion</th>\n",
       "      <th>Descripcion</th>\n",
       "      <th>geometry</th>\n",
       "    </tr>\n",
       "  </thead>\n",
       "  <tbody>\n",
       "    <tr>\n",
       "      <th>236</th>\n",
       "      <td>9</td>\n",
       "      <td>1600.0</td>\n",
       "      <td>departamento</td>\n",
       "      <td>1</td>\n",
       "      <td>50</td>\n",
       "      <td>1</td>\n",
       "      <td>1</td>\n",
       "      <td>Plaza De Alcira, 15</td>\n",
       "      <td>Disponible En: Noviembre.  Reserve En Línea Ha...</td>\n",
       "      <td>POINT (-3.71428 40.46385)</td>\n",
       "    </tr>\n",
       "    <tr>\n",
       "      <th>113</th>\n",
       "      <td>9</td>\n",
       "      <td>2500.0</td>\n",
       "      <td>departamento</td>\n",
       "      <td>bj</td>\n",
       "      <td>142</td>\n",
       "      <td>3</td>\n",
       "      <td>2</td>\n",
       "      <td>Avenida Del Talgo</td>\n",
       "      <td>¡Descubre Tu Nuevo Hogar En Madrid! Este Impre...</td>\n",
       "      <td>POINT (-3.77726 40.44813)</td>\n",
       "    </tr>\n",
       "  </tbody>\n",
       "</table>\n",
       "</div>"
      ],
      "text/plain": [
       "     ID_Distrito  Precio          Tipo Planta  Tamanio  Habitaciones  Banios  \\\n",
       "236            9  1600.0  departamento      1       50             1       1   \n",
       "113            9  2500.0  departamento     bj      142             3       2   \n",
       "\n",
       "               Direccion                                        Descripcion  \\\n",
       "236  Plaza De Alcira, 15  Disponible En: Noviembre.  Reserve En Línea Ha...   \n",
       "113    Avenida Del Talgo  ¡Descubre Tu Nuevo Hogar En Madrid! Este Impre...   \n",
       "\n",
       "                      geometry  \n",
       "236  POINT (-3.71428 40.46385)  \n",
       "113  POINT (-3.77726 40.44813)  "
      ]
     },
     "execution_count": 24,
     "metadata": {},
     "output_type": "execute_result"
    }
   ],
   "source": [
    "gdf_sjoin2_final.sample(2)"
   ]
  },
  {
   "cell_type": "code",
   "execution_count": 25,
   "metadata": {},
   "outputs": [
    {
     "data": {
      "text/plain": [
       "ID_Distrito        int32\n",
       "Precio           float64\n",
       "Tipo              object\n",
       "Planta            object\n",
       "Tamanio            int64\n",
       "Habitaciones       int64\n",
       "Banios             int64\n",
       "Direccion         object\n",
       "Descripcion       object\n",
       "geometry        geometry\n",
       "dtype: object"
      ]
     },
     "execution_count": 25,
     "metadata": {},
     "output_type": "execute_result"
    }
   ],
   "source": [
    "gdf_sjoin2_final.dtypes"
   ]
  },
  {
   "cell_type": "code",
   "execution_count": null,
   "metadata": {},
   "outputs": [],
   "source": [
    "#gdf_sjoin2_final.to_file('../datos/finales/idealista.geojson', driver='GeoJSON')"
   ]
  },
  {
   "cell_type": "markdown",
   "metadata": {},
   "source": [
    "## WebScraping Ayuntamiento de Madrid"
   ]
  },
  {
   "cell_type": "markdown",
   "metadata": {},
   "source": [
    "- Usaremos el Banco de Datos del Ayuntamiento de Madrid para obtener información de población nacional y extranjera los municipios de Madrid. En específico, nos interesa la serie 6.1.2.B, que muestra la evolución anual de la población por distrito según Nacionalidad. Se puede consultar la web en [este enlace](https://servpub.madrid.es/CSEBD_WBINTER/seleccionSerie.html?numSerie=0307010000022).\n",
    "\n",
    "- El objetivo será descargar un archivo de tipo CSV seleccionando las opciones necesarias. Lo haremos haciendo uso de la función `sf.scraping_ayuntamiento()`, que no tiene parámetros de entrada, y descarga directamente a un directorio del ordenador el archivo.\n",
    "\n",
    "- Si deseas probarla, debes entrar al `../src/soporte_funciones` y cambiar la ruta de descarga (ruta relativa) para que coincida con la carpeta donde has copiado este repositorio."
   ]
  },
  {
   "cell_type": "code",
   "execution_count": null,
   "metadata": {},
   "outputs": [
    {
     "name": "stdout",
     "output_type": "stream",
     "text": [
      "Cookies aceptadas\n",
      "Click en todos los distritos\n",
      "Click en totales barrios\n",
      "Click en todos los períodos\n",
      "Click en todas las medidas\n",
      "Click en todas las nacionalidades\n",
      "Click en generar CSV\n"
     ]
    }
   ],
   "source": [
    "#sf.scraping_ayuntamiento()"
   ]
  },
  {
   "cell_type": "markdown",
   "metadata": {},
   "source": [
    "- Verificamos la descarga y haciendo uso de la libería `os` renombraremos el archivo."
   ]
  },
  {
   "cell_type": "code",
   "execution_count": 59,
   "metadata": {},
   "outputs": [
    {
     "data": {
      "text/plain": [
       "['airbnb.json',\n",
       " '.DS_Store',\n",
       " '31097.csv',\n",
       " 'Datos de la serie 0307010000022.csv',\n",
       " 'madrid-districts.geojson',\n",
       " 'sopas_redpiso.pkl',\n",
       " 'airbnb.geojson',\n",
       " 'idealista.geojson',\n",
       " 'idealista.json']"
      ]
     },
     "execution_count": 59,
     "metadata": {},
     "output_type": "execute_result"
    }
   ],
   "source": [
    "os.listdir(\"../datos/origen/\")"
   ]
  },
  {
   "cell_type": "code",
   "execution_count": null,
   "metadata": {},
   "outputs": [],
   "source": [
    "#os.rename(\"../datos/origen/Datos de la serie 0307010000022.csv\", \"../datos/origen/extranjeros_madrid.csv\")"
   ]
  },
  {
   "cell_type": "markdown",
   "metadata": {},
   "source": [
    "- Ahora debemos importarlo a nuestro notebook y convertirlo en un dataframe."
   ]
  },
  {
   "cell_type": "code",
   "execution_count": null,
   "metadata": {},
   "outputs": [],
   "source": [
    "df_extranjeros = pd.read_csv(\"../datos/origen/extranjeros_madrid.csv\", sep=\",\", encoding=\"latin-1\")"
   ]
  },
  {
   "cell_type": "markdown",
   "metadata": {},
   "source": [
    "- Sobre este, realizaremos tareas de transformación."
   ]
  },
  {
   "cell_type": "code",
   "execution_count": 4,
   "metadata": {},
   "outputs": [
    {
     "data": {
      "text/html": [
       "<div>\n",
       "<style scoped>\n",
       "    .dataframe tbody tr th:only-of-type {\n",
       "        vertical-align: middle;\n",
       "    }\n",
       "\n",
       "    .dataframe tbody tr th {\n",
       "        vertical-align: top;\n",
       "    }\n",
       "\n",
       "    .dataframe thead th {\n",
       "        text-align: right;\n",
       "    }\n",
       "</style>\n",
       "<table border=\"1\" class=\"dataframe\">\n",
       "  <thead>\n",
       "    <tr style=\"text-align: right;\">\n",
       "      <th></th>\n",
       "      <th>Periodo</th>\n",
       "      <th>Categoria</th>\n",
       "      <th>1</th>\n",
       "      <th>2</th>\n",
       "      <th>3</th>\n",
       "      <th>4</th>\n",
       "      <th>5</th>\n",
       "      <th>6</th>\n",
       "      <th>7</th>\n",
       "      <th>8</th>\n",
       "      <th>9</th>\n",
       "      <th>10</th>\n",
       "      <th>11</th>\n",
       "      <th>12</th>\n",
       "      <th>13</th>\n",
       "      <th>14</th>\n",
       "      <th>15</th>\n",
       "      <th>16</th>\n",
       "      <th>17</th>\n",
       "      <th>18</th>\n",
       "      <th>19</th>\n",
       "      <th>20</th>\n",
       "      <th>21</th>\n",
       "    </tr>\n",
       "  </thead>\n",
       "  <tbody>\n",
       "    <tr>\n",
       "      <th>14</th>\n",
       "      <td>2022</td>\n",
       "      <td>Extranjera</td>\n",
       "      <td>519</td>\n",
       "      <td>-338</td>\n",
       "      <td>96</td>\n",
       "      <td>622</td>\n",
       "      <td>-247</td>\n",
       "      <td>-713</td>\n",
       "      <td>146</td>\n",
       "      <td>-645</td>\n",
       "      <td>-351</td>\n",
       "      <td>-966</td>\n",
       "      <td>-1219</td>\n",
       "      <td>-1170</td>\n",
       "      <td>-1209</td>\n",
       "      <td>-121</td>\n",
       "      <td>-646</td>\n",
       "      <td>332</td>\n",
       "      <td>-405</td>\n",
       "      <td>298</td>\n",
       "      <td>527</td>\n",
       "      <td>-77</td>\n",
       "      <td>-84</td>\n",
       "    </tr>\n",
       "    <tr>\n",
       "      <th>6</th>\n",
       "      <td>2020</td>\n",
       "      <td>Total</td>\n",
       "      <td>5677</td>\n",
       "      <td>1912</td>\n",
       "      <td>1186</td>\n",
       "      <td>1827</td>\n",
       "      <td>1808</td>\n",
       "      <td>3497</td>\n",
       "      <td>1483</td>\n",
       "      <td>3996</td>\n",
       "      <td>2375</td>\n",
       "      <td>4022</td>\n",
       "      <td>7321</td>\n",
       "      <td>3456</td>\n",
       "      <td>6248</td>\n",
       "      <td>1089</td>\n",
       "      <td>3737</td>\n",
       "      <td>5139</td>\n",
       "      <td>5638</td>\n",
       "      <td>4189</td>\n",
       "      <td>1941</td>\n",
       "      <td>3070</td>\n",
       "      <td>1088</td>\n",
       "    </tr>\n",
       "    <tr>\n",
       "      <th>10</th>\n",
       "      <td>2021</td>\n",
       "      <td>Espaniola</td>\n",
       "      <td>-2015</td>\n",
       "      <td>-2147</td>\n",
       "      <td>-2364</td>\n",
       "      <td>-2916</td>\n",
       "      <td>-2415</td>\n",
       "      <td>-2241</td>\n",
       "      <td>-3048</td>\n",
       "      <td>-2783</td>\n",
       "      <td>-1441</td>\n",
       "      <td>-3706</td>\n",
       "      <td>-3386</td>\n",
       "      <td>-1600</td>\n",
       "      <td>-3875</td>\n",
       "      <td>-1975</td>\n",
       "      <td>-3879</td>\n",
       "      <td>-965</td>\n",
       "      <td>-911</td>\n",
       "      <td>-692</td>\n",
       "      <td>970</td>\n",
       "      <td>-2024</td>\n",
       "      <td>-152</td>\n",
       "    </tr>\n",
       "  </tbody>\n",
       "</table>\n",
       "</div>"
      ],
      "text/plain": [
       "    Periodo   Categoria     1     2     3     4     5     6     7     8     9  \\\n",
       "14     2022  Extranjera   519  -338    96   622  -247  -713   146  -645  -351   \n",
       "6      2020       Total  5677  1912  1186  1827  1808  3497  1483  3996  2375   \n",
       "10     2021   Espaniola -2015 -2147 -2364 -2916 -2415 -2241 -3048 -2783 -1441   \n",
       "\n",
       "      10    11    12    13    14    15    16    17    18    19    20    21  \n",
       "14  -966 -1219 -1170 -1209  -121  -646   332  -405   298   527   -77   -84  \n",
       "6   4022  7321  3456  6248  1089  3737  5139  5638  4189  1941  3070  1088  \n",
       "10 -3706 -3386 -1600 -3875 -1975 -3879  -965  -911  -692   970 -2024  -152  "
      ]
     },
     "execution_count": 4,
     "metadata": {},
     "output_type": "execute_result"
    }
   ],
   "source": [
    "# Extraemos la lista de nombres de las columnas para modificarlos\n",
    "encabezados_extranjeros = df_extranjeros.columns\n",
    "# Nos quedamos sólamente con los códigos de cada distrito\n",
    "nuevos_encabezados_ext = [re.findall(r\"\\d+\", enc)[0] if re.findall(r\"\\d+\", enc) else enc for enc in encabezados_extranjeros]\n",
    "# Eliminamos los ceros delante de cada distrito.\n",
    "nuevos_encabezados_ext2 = [enc.lstrip(\"0\") for enc in nuevos_encabezados_ext]\n",
    "# Reasignamos los nombres de las columnas.\n",
    "df_extranjeros.columns = nuevos_encabezados_ext2\n",
    "# Solucionamos problemas relacionados con el encoding.\n",
    "df_extranjeros[\"Categoria\"] = df_extranjeros[\"Categoria\"].str.replace(\"Espaola\",\"Espaniola\")\n",
    "df_extranjeros.sample(3)"
   ]
  },
  {
   "cell_type": "markdown",
   "metadata": {},
   "source": [
    "- Dado que cargaremos estos datos a una base de datos de SQL, nos interesa que el formato de los datos sea adecuado para trabajar con claves primarias y foráneas. En este caso, los IDs de los municipios serán claves foráneas, por lo que deben estar en las filas.\n",
    "- Para conseguir eso, convertiremos el DF a un formato largo (melted) y cambiaremos su forma (reshape)."
   ]
  },
  {
   "cell_type": "code",
   "execution_count": 5,
   "metadata": {},
   "outputs": [
    {
     "data": {
      "text/html": [
       "<div>\n",
       "<style scoped>\n",
       "    .dataframe tbody tr th:only-of-type {\n",
       "        vertical-align: middle;\n",
       "    }\n",
       "\n",
       "    .dataframe tbody tr th {\n",
       "        vertical-align: top;\n",
       "    }\n",
       "\n",
       "    .dataframe thead th {\n",
       "        text-align: right;\n",
       "    }\n",
       "</style>\n",
       "<table border=\"1\" class=\"dataframe\">\n",
       "  <thead>\n",
       "    <tr style=\"text-align: right;\">\n",
       "      <th></th>\n",
       "      <th>Periodo</th>\n",
       "      <th>Categoria</th>\n",
       "      <th>ID_Distrito</th>\n",
       "      <th>Habitantes</th>\n",
       "    </tr>\n",
       "  </thead>\n",
       "  <tbody>\n",
       "    <tr>\n",
       "      <th>0</th>\n",
       "      <td>2018</td>\n",
       "      <td>Total</td>\n",
       "      <td>1</td>\n",
       "      <td>359</td>\n",
       "    </tr>\n",
       "    <tr>\n",
       "      <th>1</th>\n",
       "      <td>2018</td>\n",
       "      <td>Espaniola</td>\n",
       "      <td>1</td>\n",
       "      <td>-631</td>\n",
       "    </tr>\n",
       "    <tr>\n",
       "      <th>2</th>\n",
       "      <td>2018</td>\n",
       "      <td>Extranjera</td>\n",
       "      <td>1</td>\n",
       "      <td>991</td>\n",
       "    </tr>\n",
       "    <tr>\n",
       "      <th>3</th>\n",
       "      <td>2019</td>\n",
       "      <td>Total</td>\n",
       "      <td>1</td>\n",
       "      <td>2533</td>\n",
       "    </tr>\n",
       "    <tr>\n",
       "      <th>4</th>\n",
       "      <td>2019</td>\n",
       "      <td>Espaniola</td>\n",
       "      <td>1</td>\n",
       "      <td>806</td>\n",
       "    </tr>\n",
       "    <tr>\n",
       "      <th>...</th>\n",
       "      <td>...</td>\n",
       "      <td>...</td>\n",
       "      <td>...</td>\n",
       "      <td>...</td>\n",
       "    </tr>\n",
       "    <tr>\n",
       "      <th>310</th>\n",
       "      <td>2021</td>\n",
       "      <td>Espaniola</td>\n",
       "      <td>21</td>\n",
       "      <td>-152</td>\n",
       "    </tr>\n",
       "    <tr>\n",
       "      <th>311</th>\n",
       "      <td>2021</td>\n",
       "      <td>Extranjera</td>\n",
       "      <td>21</td>\n",
       "      <td>78</td>\n",
       "    </tr>\n",
       "    <tr>\n",
       "      <th>312</th>\n",
       "      <td>2022</td>\n",
       "      <td>Total</td>\n",
       "      <td>21</td>\n",
       "      <td>129</td>\n",
       "    </tr>\n",
       "    <tr>\n",
       "      <th>313</th>\n",
       "      <td>2022</td>\n",
       "      <td>Espaniola</td>\n",
       "      <td>21</td>\n",
       "      <td>214</td>\n",
       "    </tr>\n",
       "    <tr>\n",
       "      <th>314</th>\n",
       "      <td>2022</td>\n",
       "      <td>Extranjera</td>\n",
       "      <td>21</td>\n",
       "      <td>-84</td>\n",
       "    </tr>\n",
       "  </tbody>\n",
       "</table>\n",
       "<p>315 rows × 4 columns</p>\n",
       "</div>"
      ],
      "text/plain": [
       "     Periodo   Categoria ID_Distrito  Habitantes\n",
       "0       2018       Total           1         359\n",
       "1       2018   Espaniola           1        -631\n",
       "2       2018  Extranjera           1         991\n",
       "3       2019       Total           1        2533\n",
       "4       2019   Espaniola           1         806\n",
       "..       ...         ...         ...         ...\n",
       "310     2021   Espaniola          21        -152\n",
       "311     2021  Extranjera          21          78\n",
       "312     2022       Total          21         129\n",
       "313     2022   Espaniola          21         214\n",
       "314     2022  Extranjera          21         -84\n",
       "\n",
       "[315 rows x 4 columns]"
      ]
     },
     "execution_count": 5,
     "metadata": {},
     "output_type": "execute_result"
    }
   ],
   "source": [
    "#Convertir a formato largo\n",
    "df_ext_melted = pd.melt(df_extranjeros, id_vars=[\"Periodo\", \"Categoria\"], var_name=\"ID_Distrito\", value_name=\"Habitantes\")\n",
    "df_ext_melted"
   ]
  },
  {
   "cell_type": "code",
   "execution_count": 6,
   "metadata": {},
   "outputs": [
    {
     "data": {
      "text/html": [
       "<div>\n",
       "<style scoped>\n",
       "    .dataframe tbody tr th:only-of-type {\n",
       "        vertical-align: middle;\n",
       "    }\n",
       "\n",
       "    .dataframe tbody tr th {\n",
       "        vertical-align: top;\n",
       "    }\n",
       "\n",
       "    .dataframe thead th {\n",
       "        text-align: right;\n",
       "    }\n",
       "</style>\n",
       "<table border=\"1\" class=\"dataframe\">\n",
       "  <thead>\n",
       "    <tr style=\"text-align: right;\">\n",
       "      <th>Categoria</th>\n",
       "      <th>ID_Distrito</th>\n",
       "      <th>Periodo</th>\n",
       "      <th>Espaniola</th>\n",
       "      <th>Extranjera</th>\n",
       "      <th>Total</th>\n",
       "    </tr>\n",
       "  </thead>\n",
       "  <tbody>\n",
       "    <tr>\n",
       "      <th>0</th>\n",
       "      <td>1</td>\n",
       "      <td>2018</td>\n",
       "      <td>-631</td>\n",
       "      <td>991</td>\n",
       "      <td>359</td>\n",
       "    </tr>\n",
       "    <tr>\n",
       "      <th>1</th>\n",
       "      <td>1</td>\n",
       "      <td>2019</td>\n",
       "      <td>806</td>\n",
       "      <td>1728</td>\n",
       "      <td>2533</td>\n",
       "    </tr>\n",
       "    <tr>\n",
       "      <th>2</th>\n",
       "      <td>1</td>\n",
       "      <td>2020</td>\n",
       "      <td>2362</td>\n",
       "      <td>3314</td>\n",
       "      <td>5677</td>\n",
       "    </tr>\n",
       "    <tr>\n",
       "      <th>3</th>\n",
       "      <td>1</td>\n",
       "      <td>2021</td>\n",
       "      <td>-2015</td>\n",
       "      <td>2637</td>\n",
       "      <td>622</td>\n",
       "    </tr>\n",
       "    <tr>\n",
       "      <th>4</th>\n",
       "      <td>1</td>\n",
       "      <td>2022</td>\n",
       "      <td>-1947</td>\n",
       "      <td>519</td>\n",
       "      <td>-1430</td>\n",
       "    </tr>\n",
       "    <tr>\n",
       "      <th>...</th>\n",
       "      <td>...</td>\n",
       "      <td>...</td>\n",
       "      <td>...</td>\n",
       "      <td>...</td>\n",
       "      <td>...</td>\n",
       "    </tr>\n",
       "    <tr>\n",
       "      <th>100</th>\n",
       "      <td>9</td>\n",
       "      <td>2018</td>\n",
       "      <td>740</td>\n",
       "      <td>177</td>\n",
       "      <td>913</td>\n",
       "    </tr>\n",
       "    <tr>\n",
       "      <th>101</th>\n",
       "      <td>9</td>\n",
       "      <td>2019</td>\n",
       "      <td>704</td>\n",
       "      <td>859</td>\n",
       "      <td>1566</td>\n",
       "    </tr>\n",
       "    <tr>\n",
       "      <th>102</th>\n",
       "      <td>9</td>\n",
       "      <td>2020</td>\n",
       "      <td>1187</td>\n",
       "      <td>1189</td>\n",
       "      <td>2375</td>\n",
       "    </tr>\n",
       "    <tr>\n",
       "      <th>103</th>\n",
       "      <td>9</td>\n",
       "      <td>2021</td>\n",
       "      <td>-1441</td>\n",
       "      <td>281</td>\n",
       "      <td>-1161</td>\n",
       "    </tr>\n",
       "    <tr>\n",
       "      <th>104</th>\n",
       "      <td>9</td>\n",
       "      <td>2022</td>\n",
       "      <td>94</td>\n",
       "      <td>-351</td>\n",
       "      <td>-257</td>\n",
       "    </tr>\n",
       "  </tbody>\n",
       "</table>\n",
       "<p>105 rows × 5 columns</p>\n",
       "</div>"
      ],
      "text/plain": [
       "Categoria  ID_Distrito  Periodo  Espaniola  Extranjera  Total\n",
       "0                    1     2018       -631         991    359\n",
       "1                    1     2019        806        1728   2533\n",
       "2                    1     2020       2362        3314   5677\n",
       "3                    1     2021      -2015        2637    622\n",
       "4                    1     2022      -1947         519  -1430\n",
       "..                 ...      ...        ...         ...    ...\n",
       "100                  9     2018        740         177    913\n",
       "101                  9     2019        704         859   1566\n",
       "102                  9     2020       1187        1189   2375\n",
       "103                  9     2021      -1441         281  -1161\n",
       "104                  9     2022         94        -351   -257\n",
       "\n",
       "[105 rows x 5 columns]"
      ]
     },
     "execution_count": 6,
     "metadata": {},
     "output_type": "execute_result"
    }
   ],
   "source": [
    "# Pivotar para obtener una fila por distrito y por año\n",
    "df_ext_reshaped = df_ext_melted.pivot_table(index=[\"ID_Distrito\", \"Periodo\"], columns=\"Categoria\", values=\"Habitantes\").reset_index()\n",
    "# Cambiar tipos de datis\n",
    "df_ext_reshaped= df_ext_reshaped.astype(int)\n",
    "df_ext_reshaped"
   ]
  },
  {
   "cell_type": "markdown",
   "metadata": {},
   "source": [
    "- Con este nuevo formato, comprobamos los tipos de datos y exportamos a un archivo CSV."
   ]
  },
  {
   "cell_type": "code",
   "execution_count": 7,
   "metadata": {},
   "outputs": [
    {
     "data": {
      "text/plain": [
       "Categoria\n",
       "ID_Distrito    int64\n",
       "Periodo        int64\n",
       "Espaniola      int64\n",
       "Extranjera     int64\n",
       "Total          int64\n",
       "dtype: object"
      ]
     },
     "execution_count": 7,
     "metadata": {},
     "output_type": "execute_result"
    }
   ],
   "source": [
    "df_ext_reshaped.dtypes"
   ]
  },
  {
   "cell_type": "code",
   "execution_count": null,
   "metadata": {},
   "outputs": [],
   "source": [
    "#df_ext_reshaped.to_csv(\"../datos/finales/poblacion.csv\")"
   ]
  },
  {
   "cell_type": "markdown",
   "metadata": {},
   "source": [
    "## WebScraping INE"
   ]
  },
  {
   "cell_type": "markdown",
   "metadata": {},
   "source": [
    "- Haremos uso de la serie \"Indicadores de renta media y mediana\", parte de la encuesta de Condiciones de Vida del Instituto Nacional de Estadística, para obtener sobre la renta media por hogar en los municipios de Madrid. Se puede consultar la web en [este enlace](https://www.ine.es/jaxiT3/Tabla.htm?t=31097).\n",
    "\n",
    "- El objetivo será descargar un archivo de tipo CSV seleccionando las opciones necesarias. Lo haremos haciendo uso de la función `sf.scraping_ine()`, que no tiene parámetros de entrada, y descarga directamente a un directorio del ordenador el archivo.\n",
    "\n",
    "- Si deseas probarla, debes entrar al `../src/soporte_funciones` y cambiar la ruta de descarga (ruta relativa) para que coincida con la carpeta donde has copiado este repositorio."
   ]
  },
  {
   "cell_type": "code",
   "execution_count": null,
   "metadata": {},
   "outputs": [
    {
     "name": "stdout",
     "output_type": "stream",
     "text": [
      "Cookies aceptadas\n",
      "Quitadas opciones por defecto\n",
      "Click en todos los años\n",
      "Desplegable Madrid abierto\n",
      "Click en distritos\n",
      "Click en descarga\n",
      "Click en CSV\n"
     ]
    }
   ],
   "source": [
    "#sf.scraping_ine()"
   ]
  },
  {
   "cell_type": "markdown",
   "metadata": {},
   "source": [
    "- Verificamos la descarga y haciendo uso de la libería `os` renombraremos el archivo."
   ]
  },
  {
   "cell_type": "code",
   "execution_count": 61,
   "metadata": {},
   "outputs": [
    {
     "data": {
      "text/plain": [
       "['airbnb.json',\n",
       " '.DS_Store',\n",
       " '31097.csv',\n",
       " 'extranjeros_madrid.csv',\n",
       " 'madrid-districts.geojson',\n",
       " 'sopas_redpiso.pkl',\n",
       " 'airbnb.geojson',\n",
       " 'idealista.geojson',\n",
       " 'idealista.json']"
      ]
     },
     "execution_count": 61,
     "metadata": {},
     "output_type": "execute_result"
    }
   ],
   "source": [
    "os.listdir(\"../datos/origen/\")"
   ]
  },
  {
   "cell_type": "code",
   "execution_count": null,
   "metadata": {},
   "outputs": [],
   "source": [
    "#os.rename(\"../datos/origen/31097.csv\", \"../datos/origen/ingresos_hogares_distrito.csv\")"
   ]
  },
  {
   "cell_type": "markdown",
   "metadata": {},
   "source": [
    "- Importamos el archivo y realizamos tareas de transformación, para posteriormente verificar los tipos de datos y exportar el resultado final a un archivo CSV."
   ]
  },
  {
   "cell_type": "code",
   "execution_count": 31,
   "metadata": {},
   "outputs": [
    {
     "data": {
      "text/html": [
       "<div>\n",
       "<style scoped>\n",
       "    .dataframe tbody tr th:only-of-type {\n",
       "        vertical-align: middle;\n",
       "    }\n",
       "\n",
       "    .dataframe tbody tr th {\n",
       "        vertical-align: top;\n",
       "    }\n",
       "\n",
       "    .dataframe thead th {\n",
       "        text-align: right;\n",
       "    }\n",
       "</style>\n",
       "<table border=\"1\" class=\"dataframe\">\n",
       "  <thead>\n",
       "    <tr style=\"text-align: right;\">\n",
       "      <th></th>\n",
       "      <th>ID_Distrito</th>\n",
       "      <th>Periodo</th>\n",
       "      <th>Total</th>\n",
       "    </tr>\n",
       "  </thead>\n",
       "  <tbody>\n",
       "    <tr>\n",
       "      <th>0</th>\n",
       "      <td>1</td>\n",
       "      <td>2022</td>\n",
       "      <td>41059.0</td>\n",
       "    </tr>\n",
       "    <tr>\n",
       "      <th>1</th>\n",
       "      <td>1</td>\n",
       "      <td>2021</td>\n",
       "      <td>38360.0</td>\n",
       "    </tr>\n",
       "    <tr>\n",
       "      <th>2</th>\n",
       "      <td>1</td>\n",
       "      <td>2020</td>\n",
       "      <td>36984.0</td>\n",
       "    </tr>\n",
       "    <tr>\n",
       "      <th>3</th>\n",
       "      <td>1</td>\n",
       "      <td>2019</td>\n",
       "      <td>38171.0</td>\n",
       "    </tr>\n",
       "    <tr>\n",
       "      <th>4</th>\n",
       "      <td>1</td>\n",
       "      <td>2018</td>\n",
       "      <td>36072.0</td>\n",
       "    </tr>\n",
       "    <tr>\n",
       "      <th>...</th>\n",
       "      <td>...</td>\n",
       "      <td>...</td>\n",
       "      <td>...</td>\n",
       "    </tr>\n",
       "    <tr>\n",
       "      <th>163</th>\n",
       "      <td>21</td>\n",
       "      <td>2019</td>\n",
       "      <td>51108.0</td>\n",
       "    </tr>\n",
       "    <tr>\n",
       "      <th>164</th>\n",
       "      <td>21</td>\n",
       "      <td>2018</td>\n",
       "      <td>49615.0</td>\n",
       "    </tr>\n",
       "    <tr>\n",
       "      <th>165</th>\n",
       "      <td>21</td>\n",
       "      <td>2017</td>\n",
       "      <td>47782.0</td>\n",
       "    </tr>\n",
       "    <tr>\n",
       "      <th>166</th>\n",
       "      <td>21</td>\n",
       "      <td>2016</td>\n",
       "      <td>47389.0</td>\n",
       "    </tr>\n",
       "    <tr>\n",
       "      <th>167</th>\n",
       "      <td>21</td>\n",
       "      <td>2015</td>\n",
       "      <td>46347.0</td>\n",
       "    </tr>\n",
       "  </tbody>\n",
       "</table>\n",
       "<p>168 rows × 3 columns</p>\n",
       "</div>"
      ],
      "text/plain": [
       "     ID_Distrito  Periodo    Total\n",
       "0              1     2022  41059.0\n",
       "1              1     2021  38360.0\n",
       "2              1     2020  36984.0\n",
       "3              1     2019  38171.0\n",
       "4              1     2018  36072.0\n",
       "..           ...      ...      ...\n",
       "163           21     2019  51108.0\n",
       "164           21     2018  49615.0\n",
       "165           21     2017  47782.0\n",
       "166           21     2016  47389.0\n",
       "167           21     2015  46347.0\n",
       "\n",
       "[168 rows x 3 columns]"
      ]
     },
     "execution_count": 31,
     "metadata": {},
     "output_type": "execute_result"
    }
   ],
   "source": [
    "# Lectura\n",
    "df_renta = pd.read_csv(\"../datos/origen/ingresos_hogares_distrito.csv\", sep=\";\")\n",
    "# Eliminar columnas\n",
    "df_renta.drop(columns=[\"Municipios\", \"Secciones\", \"Indicadores de renta media y mediana\"], inplace=True)\n",
    "# Corregir ubicación del punto\n",
    "df_renta[\"Total\"] = df_renta[\"Total\"]*1000\n",
    "# Quedarnos sólamente con los números de distrito\n",
    "df_renta['Distritos'] = df_renta['Distritos'].str.extract(r'(\\d{2})$', expand=False)\n",
    "# Eliminar los ceros delante de los números.\n",
    "df_renta[\"Distritos\"] = df_renta[\"Distritos\"].apply(lambda x: x.lstrip(\"0\") if isinstance(x, str) else x)\n",
    "# Renombrar columnas\n",
    "df_renta.rename(columns={\"Distritos\":\"ID_Distrito\"}, inplace=True)\n",
    "# Cambiar tipos de datos\n",
    "df_renta[\"ID_Distrito\"] = df_renta[\"ID_Distrito\"].astype(int)\n",
    "df_renta"
   ]
  },
  {
   "cell_type": "code",
   "execution_count": 32,
   "metadata": {},
   "outputs": [
    {
     "data": {
      "text/plain": [
       "ID_Distrito      int64\n",
       "Periodo          int64\n",
       "Total          float64\n",
       "dtype: object"
      ]
     },
     "execution_count": 32,
     "metadata": {},
     "output_type": "execute_result"
    }
   ],
   "source": [
    "df_renta.dtypes"
   ]
  },
  {
   "cell_type": "code",
   "execution_count": null,
   "metadata": {},
   "outputs": [],
   "source": [
    "#df_renta.to_csv(\"../datos/finales/ingresos_hogares.csv\")"
   ]
  },
  {
   "cell_type": "markdown",
   "metadata": {},
   "source": [
    "- Con esta tarea finalizamos la extracción y transformación de los datos. Continuaremos en el notebook #2 con la creación e inserción de los datos a una base de datos SQL."
   ]
  }
 ],
 "metadata": {
  "kernelspec": {
   "display_name": "Python 3",
   "language": "python",
   "name": "python3"
  },
  "language_info": {
   "codemirror_mode": {
    "name": "ipython",
    "version": 3
   },
   "file_extension": ".py",
   "mimetype": "text/x-python",
   "name": "python",
   "nbconvert_exporter": "python",
   "pygments_lexer": "ipython3",
   "version": "3.9.6"
  }
 },
 "nbformat": 4,
 "nbformat_minor": 2
}
