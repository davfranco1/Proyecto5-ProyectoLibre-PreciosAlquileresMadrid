{
 "cells": [
  {
   "cell_type": "markdown",
   "metadata": {},
   "source": [
    "# Notebook #1: Captura de datos"
   ]
  },
  {
   "cell_type": "code",
   "execution_count": 1,
   "metadata": {},
   "outputs": [
    {
     "name": "stderr",
     "output_type": "stream",
     "text": [
      "/Users/davidfranco/Library/Python/3.9/lib/python/site-packages/urllib3/__init__.py:35: NotOpenSSLWarning: urllib3 v2 only supports OpenSSL 1.1.1+, currently the 'ssl' module is compiled with 'LibreSSL 2.8.3'. See: https://github.com/urllib3/urllib3/issues/3020\n",
      "  warnings.warn(\n"
     ]
    }
   ],
   "source": [
    "# Importamos liberías\n",
    "\n",
    "from tqdm import tqdm  # Usar barras de progreso\n",
    "import requests  # Trabajar con APIs\n",
    "from time import sleep  # Funciones con time (pausas, espera)\n",
    "import pandas as pd  # Trabajar con DataFrames para análisis de datos\n",
    "import geopandas as gpd\n",
    "from shapely.geometry import Point\n",
    "import numpy as np # Trabajar con arrays y operaciones matemáticas avanzadas\n",
    "from IPython.display import display  # Mostrar salidas de manera más clara en entornos interactivos (como Jupyter)\n",
    "import time  # Funciones relacionadas con el tiempo\n",
    "import datetime  # Obtener la fecha y hora actuales\n",
    "import os  # Interactuar con el sistema operativo, como rutas y variables de entorno\n",
    "import dotenv  # Manejo de archivos .env para cargar tokens y claves\n",
    "dotenv.load_dotenv()  # Cargar variables de entorno desde un archivo .env\n",
    "import json\n",
    "\n",
    "from googletrans import Translator\n",
    "\n",
    "from geopy.geocoders import Nominatim\n",
    "\n",
    "from selenium import webdriver  # Selenium es una herramienta para automatizar la interacción con navegadores web.\n",
    "from webdriver_manager.chrome import ChromeDriverManager  # ChromeDriverManager gestiona la instalación del controlador de Chrome.\n",
    "from selenium.webdriver.common.by import By # By permite localizar elementos web usando diferentes estrategias de búsqueda (ID, CSS_SELECTOR, XPATH, etc.)\n",
    "from selenium.webdriver.common.keys import Keys  # Keys es útil para simular eventos de teclado en Selenium.\n",
    "from selenium.webdriver.support.ui import Select  # Select se utiliza para interactuar con elementos <select> en páginas web.\n",
    "from selenium.webdriver.support.ui import WebDriverWait  # Esperas explícitas para que ciertos elementos sean visibles o interactuables.\n",
    "from selenium.webdriver.support import expected_conditions as EC  # Condiciones esperadas que ayudan a realizar esperas explícitas en Selenium.\n",
    "from selenium.common.exceptions import NoSuchElementException  # Excepciones comunes de selenium, como cuando no se encuentra un elemento.\n",
    "from bs4 import BeautifulSoup  # Herramienta para extraer y analizar datos de páginas HTML.\n",
    "import re\n",
    "\n"
   ]
  },
  {
   "cell_type": "code",
   "execution_count": 2,
   "metadata": {},
   "outputs": [],
   "source": [
    "# Librerías para tratamiento de datos\n",
    "\n",
    "import pandas as pd\n",
    "pd.set_option('display.max_columns', None) # Parámetro que modifica la visualización de los DFs\n",
    "import numpy as np\n",
    "\n",
    "# Librería para el acceso a variables y funciones\n",
    "import sys\n",
    "sys.path.append(\"../\")\n",
    "from src import soporte_funciones as sf #Archivo .py donde encontraremos todas nuestras funciones.\n",
    "#from src import soporte_variables as sv\n",
    "\n",
    "# Librería para trabajar con archivos pickle\n",
    "import pickle\n",
    "\n",
    "# Librería para ignorar avisos\n",
    "import warnings\n",
    "warnings.filterwarnings(\"ignore\") # Ignora TODOS los avisos"
   ]
  },
  {
   "cell_type": "markdown",
   "metadata": {},
   "source": [
    "## API AirBnB"
   ]
  },
  {
   "cell_type": "code",
   "execution_count": 3,
   "metadata": {},
   "outputs": [],
   "source": [
    "#resultados_airbnb = sf.consulta_airbnbs(\"Madrid\", \"2025-01-31\", \"2025-02-02\", 9)"
   ]
  },
  {
   "cell_type": "code",
   "execution_count": 4,
   "metadata": {},
   "outputs": [],
   "source": [
    "#with open(\"../datos/origen/airbnb.json\", \"w\") as json_file:\n",
    "#    json.dump(resultados_airbnb, json_file, indent=4)"
   ]
  },
  {
   "cell_type": "code",
   "execution_count": 5,
   "metadata": {},
   "outputs": [],
   "source": [
    "with open(\"../datos/origen/airbnb.json\", 'r') as file:\n",
    "    resultados_airbnb = json.load(file)"
   ]
  },
  {
   "cell_type": "code",
   "execution_count": 6,
   "metadata": {},
   "outputs": [],
   "source": [
    "df_airbnb = sf.dataframe_airbnb(resultados_airbnb)"
   ]
  },
  {
   "cell_type": "code",
   "execution_count": 7,
   "metadata": {},
   "outputs": [
    {
     "data": {
      "text/plain": [
       "(320, 4)"
      ]
     },
     "execution_count": 7,
     "metadata": {},
     "output_type": "execute_result"
    }
   ],
   "source": [
    "df_airbnb.shape"
   ]
  },
  {
   "cell_type": "markdown",
   "metadata": {},
   "source": [
    "- Usaremos la función `traducir_es`, que recibe un texto y lo traduce a español haciendo uso de Google Translate, y la aplicaremos a la columna \"Descripción\", para traducir su contenido a español."
   ]
  },
  {
   "cell_type": "code",
   "execution_count": null,
   "metadata": {},
   "outputs": [],
   "source": [
    "#df_airbnb[\"Descripción\"] = df_airbnb[\"Descripción\"].apply(sf.traducir_es)"
   ]
  },
  {
   "cell_type": "code",
   "execution_count": 20,
   "metadata": {},
   "outputs": [
    {
     "data": {
      "text/html": [
       "<div>\n",
       "<style scoped>\n",
       "    .dataframe tbody tr th:only-of-type {\n",
       "        vertical-align: middle;\n",
       "    }\n",
       "\n",
       "    .dataframe tbody tr th {\n",
       "        vertical-align: top;\n",
       "    }\n",
       "\n",
       "    .dataframe thead th {\n",
       "        text-align: right;\n",
       "    }\n",
       "</style>\n",
       "<table border=\"1\" class=\"dataframe\">\n",
       "  <thead>\n",
       "    <tr style=\"text-align: right;\">\n",
       "      <th></th>\n",
       "      <th>Latitud</th>\n",
       "      <th>Longitud</th>\n",
       "      <th>Descripción</th>\n",
       "      <th>Precio Total</th>\n",
       "    </tr>\n",
       "  </thead>\n",
       "  <tbody>\n",
       "    <tr>\n",
       "      <th>197</th>\n",
       "      <td>40.410318</td>\n",
       "      <td>-3.702245</td>\n",
       "      <td>Apartamento Madrid Centro Balcón Privado</td>\n",
       "      <td>359</td>\n",
       "    </tr>\n",
       "    <tr>\n",
       "      <th>239</th>\n",
       "      <td>40.472660</td>\n",
       "      <td>-3.685330</td>\n",
       "      <td>Apartamentos de Madrid Studio</td>\n",
       "      <td>194</td>\n",
       "    </tr>\n",
       "    <tr>\n",
       "      <th>152</th>\n",
       "      <td>40.412720</td>\n",
       "      <td>-3.710570</td>\n",
       "      <td>Cutapart Sol Palacio Real, Duplex.Great Vistas...</td>\n",
       "      <td>325</td>\n",
       "    </tr>\n",
       "    <tr>\n",
       "      <th>69</th>\n",
       "      <td>40.413260</td>\n",
       "      <td>-3.713350</td>\n",
       "      <td>Park Studio en el centro de Madrid!</td>\n",
       "      <td>175</td>\n",
       "    </tr>\n",
       "    <tr>\n",
       "      <th>245</th>\n",
       "      <td>40.424603</td>\n",
       "      <td>-3.661830</td>\n",
       "      <td>Salamanca Ventas Studio</td>\n",
       "      <td>214</td>\n",
       "    </tr>\n",
       "  </tbody>\n",
       "</table>\n",
       "</div>"
      ],
      "text/plain": [
       "       Latitud  Longitud                                        Descripción  \\\n",
       "197  40.410318 -3.702245           Apartamento Madrid Centro Balcón Privado   \n",
       "239  40.472660 -3.685330                      Apartamentos de Madrid Studio   \n",
       "152  40.412720 -3.710570  Cutapart Sol Palacio Real, Duplex.Great Vistas...   \n",
       "69   40.413260 -3.713350                Park Studio en el centro de Madrid!   \n",
       "245  40.424603 -3.661830                            Salamanca Ventas Studio   \n",
       "\n",
       "     Precio Total  \n",
       "197           359  \n",
       "239           194  \n",
       "152           325  \n",
       "69            175  \n",
       "245           214  "
      ]
     },
     "execution_count": 20,
     "metadata": {},
     "output_type": "execute_result"
    }
   ],
   "source": [
    "df_airbnb.sample(5)"
   ]
  },
  {
   "cell_type": "markdown",
   "metadata": {},
   "source": [
    "- Convertimos la latitud y la longitud a geopuntos, cambiamos el formato de CRS (Coordinate Reference System) para que estandarizar el formato con los datos obtenidos de los municipios de Madrid, y guardamos en un archivo de tipo `geojason`."
   ]
  },
  {
   "cell_type": "code",
   "execution_count": null,
   "metadata": {},
   "outputs": [],
   "source": [
    "gdf_airbnb = gpd.GeoDataFrame(df_airbnb, geometry=gpd.points_from_xy(df_airbnb.Longitud, df_airbnb.Latitud))\n",
    "gdf_airbnb.crs = \"EPSG:4326\"\n",
    "#gdf_airbnb.to_file('../datos/origen/airbnb.geojson', driver='GeoJSON')"
   ]
  },
  {
   "cell_type": "code",
   "execution_count": 24,
   "metadata": {},
   "outputs": [],
   "source": [
    "gdf_distritos = gpd.read_file(\"../datos/origen/madrid-districts.geojson\")"
   ]
  },
  {
   "cell_type": "code",
   "execution_count": 25,
   "metadata": {},
   "outputs": [],
   "source": [
    "gdf_distritos = gdf_distritos.rename(columns={\"name\":\"Distrito\",\"cartodb_id\":\"ID_Distrito\"})\n",
    "gdf_distritos.drop(columns= [\"created_at\", \"updated_at\"], inplace=True)"
   ]
  },
  {
   "cell_type": "code",
   "execution_count": 26,
   "metadata": {},
   "outputs": [],
   "source": [
    "gdf_sjoin = gpd.sjoin(gdf_airbnb, gdf_distritos, how=\"inner\", predicate=\"within\")\n",
    "gdf_sjoin = gdf_sjoin.drop(columns=\"index_right\")"
   ]
  },
  {
   "cell_type": "code",
   "execution_count": 27,
   "metadata": {},
   "outputs": [
    {
     "data": {
      "text/html": [
       "<div>\n",
       "<style scoped>\n",
       "    .dataframe tbody tr th:only-of-type {\n",
       "        vertical-align: middle;\n",
       "    }\n",
       "\n",
       "    .dataframe tbody tr th {\n",
       "        vertical-align: top;\n",
       "    }\n",
       "\n",
       "    .dataframe thead th {\n",
       "        text-align: right;\n",
       "    }\n",
       "</style>\n",
       "<table border=\"1\" class=\"dataframe\">\n",
       "  <thead>\n",
       "    <tr style=\"text-align: right;\">\n",
       "      <th></th>\n",
       "      <th>Latitud</th>\n",
       "      <th>Longitud</th>\n",
       "      <th>Descripción</th>\n",
       "      <th>Precio Total</th>\n",
       "      <th>geometry</th>\n",
       "      <th>Distrito</th>\n",
       "      <th>ID_Distrito</th>\n",
       "    </tr>\n",
       "  </thead>\n",
       "  <tbody>\n",
       "    <tr>\n",
       "      <th>0</th>\n",
       "      <td>40.411549</td>\n",
       "      <td>-3.697992</td>\n",
       "      <td>Acogedor baño de doble baño en el corazón de M...</td>\n",
       "      <td>186</td>\n",
       "      <td>POINT (-3.69799 40.41155)</td>\n",
       "      <td>Centro</td>\n",
       "      <td>1</td>\n",
       "    </tr>\n",
       "    <tr>\n",
       "      <th>1</th>\n",
       "      <td>40.414930</td>\n",
       "      <td>-3.708370</td>\n",
       "      <td>APART. EXPERIENCE A - CENTRO MADRID, PARA 2PERS!</td>\n",
       "      <td>278</td>\n",
       "      <td>POINT (-3.70837 40.41493)</td>\n",
       "      <td>Centro</td>\n",
       "      <td>1</td>\n",
       "    </tr>\n",
       "    <tr>\n",
       "      <th>2</th>\n",
       "      <td>40.415970</td>\n",
       "      <td>-3.705720</td>\n",
       "      <td>Apartamento único entre Sol y Plaza Mayor Wifi...</td>\n",
       "      <td>232</td>\n",
       "      <td>POINT (-3.70572 40.41597)</td>\n",
       "      <td>Centro</td>\n",
       "      <td>1</td>\n",
       "    </tr>\n",
       "    <tr>\n",
       "      <th>3</th>\n",
       "      <td>40.420840</td>\n",
       "      <td>-3.703910</td>\n",
       "      <td>Sala de bodas en el centro de Madrid</td>\n",
       "      <td>140</td>\n",
       "      <td>POINT (-3.70391 40.42084)</td>\n",
       "      <td>Centro</td>\n",
       "      <td>1</td>\n",
       "    </tr>\n",
       "    <tr>\n",
       "      <th>4</th>\n",
       "      <td>40.399791</td>\n",
       "      <td>-3.697796</td>\n",
       "      <td>Bonita habitación a 10 minutos de distancia Re...</td>\n",
       "      <td>102</td>\n",
       "      <td>POINT (-3.6978 40.39979)</td>\n",
       "      <td>Arganzuela</td>\n",
       "      <td>2</td>\n",
       "    </tr>\n",
       "  </tbody>\n",
       "</table>\n",
       "</div>"
      ],
      "text/plain": [
       "     Latitud  Longitud                                        Descripción  \\\n",
       "0  40.411549 -3.697992  Acogedor baño de doble baño en el corazón de M...   \n",
       "1  40.414930 -3.708370   APART. EXPERIENCE A - CENTRO MADRID, PARA 2PERS!   \n",
       "2  40.415970 -3.705720  Apartamento único entre Sol y Plaza Mayor Wifi...   \n",
       "3  40.420840 -3.703910               Sala de bodas en el centro de Madrid   \n",
       "4  40.399791 -3.697796  Bonita habitación a 10 minutos de distancia Re...   \n",
       "\n",
       "   Precio Total                   geometry    Distrito  ID_Distrito  \n",
       "0           186  POINT (-3.69799 40.41155)      Centro            1  \n",
       "1           278  POINT (-3.70837 40.41493)      Centro            1  \n",
       "2           232  POINT (-3.70572 40.41597)      Centro            1  \n",
       "3           140  POINT (-3.70391 40.42084)      Centro            1  \n",
       "4           102   POINT (-3.6978 40.39979)  Arganzuela            2  "
      ]
     },
     "execution_count": 27,
     "metadata": {},
     "output_type": "execute_result"
    }
   ],
   "source": [
    "gdf_sjoin.head(5)"
   ]
  },
  {
   "cell_type": "code",
   "execution_count": null,
   "metadata": {},
   "outputs": [],
   "source": [
    "#gdf_sjoin.to_file('../datos/finales/airbnb.geojson', driver='GeoJSON')\n",
    "#gdf_sjoin.to_file('../datos/finales/airbnb.shp')"
   ]
  },
  {
   "cell_type": "markdown",
   "metadata": {},
   "source": [
    "## Creación del DF Distritos\n",
    "- En él se listan los distritos de Madrid junto con los códigos asignados por el ayuntamiento.\n",
    "- Guardamos en .CSV."
   ]
  },
  {
   "cell_type": "code",
   "execution_count": 15,
   "metadata": {},
   "outputs": [
    {
     "data": {
      "text/html": [
       "<div>\n",
       "<style scoped>\n",
       "    .dataframe tbody tr th:only-of-type {\n",
       "        vertical-align: middle;\n",
       "    }\n",
       "\n",
       "    .dataframe tbody tr th {\n",
       "        vertical-align: top;\n",
       "    }\n",
       "\n",
       "    .dataframe thead th {\n",
       "        text-align: right;\n",
       "    }\n",
       "</style>\n",
       "<table border=\"1\" class=\"dataframe\">\n",
       "  <thead>\n",
       "    <tr style=\"text-align: right;\">\n",
       "      <th></th>\n",
       "      <th>Distrito</th>\n",
       "      <th>ID_Distrito</th>\n",
       "      <th>geometry</th>\n",
       "    </tr>\n",
       "  </thead>\n",
       "  <tbody>\n",
       "    <tr>\n",
       "      <th>0</th>\n",
       "      <td>Centro</td>\n",
       "      <td>1</td>\n",
       "      <td>MULTIPOLYGON (((-3.69185 40.40853, -3.69189 40...</td>\n",
       "    </tr>\n",
       "    <tr>\n",
       "      <th>1</th>\n",
       "      <td>Arganzuela</td>\n",
       "      <td>2</td>\n",
       "      <td>MULTIPOLYGON (((-3.70258 40.40638, -3.70166 40...</td>\n",
       "    </tr>\n",
       "    <tr>\n",
       "      <th>2</th>\n",
       "      <td>Retiro</td>\n",
       "      <td>3</td>\n",
       "      <td>MULTIPOLYGON (((-3.66279 40.4097, -3.66384 40....</td>\n",
       "    </tr>\n",
       "    <tr>\n",
       "      <th>3</th>\n",
       "      <td>Salamanca</td>\n",
       "      <td>4</td>\n",
       "      <td>MULTIPOLYGON (((-3.65809 40.43945, -3.65828 40...</td>\n",
       "    </tr>\n",
       "    <tr>\n",
       "      <th>4</th>\n",
       "      <td>Chamartin</td>\n",
       "      <td>5</td>\n",
       "      <td>MULTIPOLYGON (((-3.67231 40.48388, -3.67237 40...</td>\n",
       "    </tr>\n",
       "    <tr>\n",
       "      <th>5</th>\n",
       "      <td>Tetuan</td>\n",
       "      <td>6</td>\n",
       "      <td>MULTIPOLYGON (((-3.69633 40.47572, -3.69619 40...</td>\n",
       "    </tr>\n",
       "    <tr>\n",
       "      <th>6</th>\n",
       "      <td>Chamberi</td>\n",
       "      <td>7</td>\n",
       "      <td>MULTIPOLYGON (((-3.68991 40.44737, -3.69048 40...</td>\n",
       "    </tr>\n",
       "    <tr>\n",
       "      <th>7</th>\n",
       "      <td>Fuencarral-El Pardo</td>\n",
       "      <td>8</td>\n",
       "      <td>MULTIPOLYGON (((-3.64131 40.63922, -3.64118 40...</td>\n",
       "    </tr>\n",
       "    <tr>\n",
       "      <th>8</th>\n",
       "      <td>Moncloa-Aravaca</td>\n",
       "      <td>9</td>\n",
       "      <td>MULTIPOLYGON (((-3.79973 40.47063, -3.79887 40...</td>\n",
       "    </tr>\n",
       "    <tr>\n",
       "      <th>9</th>\n",
       "      <td>Latina</td>\n",
       "      <td>10</td>\n",
       "      <td>MULTIPOLYGON (((-3.7213 40.41256, -3.72051 40....</td>\n",
       "    </tr>\n",
       "    <tr>\n",
       "      <th>10</th>\n",
       "      <td>Carabanchel</td>\n",
       "      <td>11</td>\n",
       "      <td>MULTIPOLYGON (((-3.72346 40.40622, -3.72345 40...</td>\n",
       "    </tr>\n",
       "    <tr>\n",
       "      <th>11</th>\n",
       "      <td>Usera</td>\n",
       "      <td>12</td>\n",
       "      <td>MULTIPOLYGON (((-3.6819 40.36592, -3.6819 40.3...</td>\n",
       "    </tr>\n",
       "    <tr>\n",
       "      <th>12</th>\n",
       "      <td>Puente de Vallecas</td>\n",
       "      <td>13</td>\n",
       "      <td>MULTIPOLYGON (((-3.67705 40.3618, -3.67706 40....</td>\n",
       "    </tr>\n",
       "    <tr>\n",
       "      <th>13</th>\n",
       "      <td>Moratalaz</td>\n",
       "      <td>14</td>\n",
       "      <td>MULTIPOLYGON (((-3.64158 40.41569, -3.63964 40...</td>\n",
       "    </tr>\n",
       "    <tr>\n",
       "      <th>14</th>\n",
       "      <td>Ciudad Lineal</td>\n",
       "      <td>15</td>\n",
       "      <td>MULTIPOLYGON (((-3.62058 40.41671, -3.62031 40...</td>\n",
       "    </tr>\n",
       "    <tr>\n",
       "      <th>15</th>\n",
       "      <td>Hortaleza</td>\n",
       "      <td>16</td>\n",
       "      <td>MULTIPOLYGON (((-3.65114 40.5123, -3.65095 40....</td>\n",
       "    </tr>\n",
       "    <tr>\n",
       "      <th>16</th>\n",
       "      <td>Villaverde</td>\n",
       "      <td>17</td>\n",
       "      <td>MULTIPOLYGON (((-3.70235 40.36475, -3.70193 40...</td>\n",
       "    </tr>\n",
       "    <tr>\n",
       "      <th>17</th>\n",
       "      <td>Villa de Vallecas</td>\n",
       "      <td>18</td>\n",
       "      <td>MULTIPOLYGON (((-3.60631 40.3882, -3.60524 40....</td>\n",
       "    </tr>\n",
       "    <tr>\n",
       "      <th>18</th>\n",
       "      <td>Vicalvaro</td>\n",
       "      <td>19</td>\n",
       "      <td>MULTIPOLYGON (((-3.57633 40.41484, -3.57159 40...</td>\n",
       "    </tr>\n",
       "    <tr>\n",
       "      <th>19</th>\n",
       "      <td>San Blas</td>\n",
       "      <td>20</td>\n",
       "      <td>MULTIPOLYGON (((-3.59198 40.45123, -3.59194 40...</td>\n",
       "    </tr>\n",
       "    <tr>\n",
       "      <th>20</th>\n",
       "      <td>Barajas</td>\n",
       "      <td>21</td>\n",
       "      <td>MULTIPOLYGON (((-3.56045 40.51234, -3.56036 40...</td>\n",
       "    </tr>\n",
       "  </tbody>\n",
       "</table>\n",
       "</div>"
      ],
      "text/plain": [
       "               Distrito  ID_Distrito  \\\n",
       "0                Centro            1   \n",
       "1            Arganzuela            2   \n",
       "2                Retiro            3   \n",
       "3             Salamanca            4   \n",
       "4             Chamartin            5   \n",
       "5                Tetuan            6   \n",
       "6              Chamberi            7   \n",
       "7   Fuencarral-El Pardo            8   \n",
       "8       Moncloa-Aravaca            9   \n",
       "9                Latina           10   \n",
       "10          Carabanchel           11   \n",
       "11                Usera           12   \n",
       "12   Puente de Vallecas           13   \n",
       "13            Moratalaz           14   \n",
       "14        Ciudad Lineal           15   \n",
       "15            Hortaleza           16   \n",
       "16           Villaverde           17   \n",
       "17    Villa de Vallecas           18   \n",
       "18            Vicalvaro           19   \n",
       "19             San Blas           20   \n",
       "20              Barajas           21   \n",
       "\n",
       "                                             geometry  \n",
       "0   MULTIPOLYGON (((-3.69185 40.40853, -3.69189 40...  \n",
       "1   MULTIPOLYGON (((-3.70258 40.40638, -3.70166 40...  \n",
       "2   MULTIPOLYGON (((-3.66279 40.4097, -3.66384 40....  \n",
       "3   MULTIPOLYGON (((-3.65809 40.43945, -3.65828 40...  \n",
       "4   MULTIPOLYGON (((-3.67231 40.48388, -3.67237 40...  \n",
       "5   MULTIPOLYGON (((-3.69633 40.47572, -3.69619 40...  \n",
       "6   MULTIPOLYGON (((-3.68991 40.44737, -3.69048 40...  \n",
       "7   MULTIPOLYGON (((-3.64131 40.63922, -3.64118 40...  \n",
       "8   MULTIPOLYGON (((-3.79973 40.47063, -3.79887 40...  \n",
       "9   MULTIPOLYGON (((-3.7213 40.41256, -3.72051 40....  \n",
       "10  MULTIPOLYGON (((-3.72346 40.40622, -3.72345 40...  \n",
       "11  MULTIPOLYGON (((-3.6819 40.36592, -3.6819 40.3...  \n",
       "12  MULTIPOLYGON (((-3.67705 40.3618, -3.67706 40....  \n",
       "13  MULTIPOLYGON (((-3.64158 40.41569, -3.63964 40...  \n",
       "14  MULTIPOLYGON (((-3.62058 40.41671, -3.62031 40...  \n",
       "15  MULTIPOLYGON (((-3.65114 40.5123, -3.65095 40....  \n",
       "16  MULTIPOLYGON (((-3.70235 40.36475, -3.70193 40...  \n",
       "17  MULTIPOLYGON (((-3.60631 40.3882, -3.60524 40....  \n",
       "18  MULTIPOLYGON (((-3.57633 40.41484, -3.57159 40...  \n",
       "19  MULTIPOLYGON (((-3.59198 40.45123, -3.59194 40...  \n",
       "20  MULTIPOLYGON (((-3.56045 40.51234, -3.56036 40...  "
      ]
     },
     "execution_count": 15,
     "metadata": {},
     "output_type": "execute_result"
    }
   ],
   "source": [
    "df_distritos = gdf_distritos\n",
    "#df_distritos.to_file('../datos/finales/distritos.geojson', driver='GeoJSON')\n",
    "df_distritos"
   ]
  },
  {
   "cell_type": "markdown",
   "metadata": {},
   "source": [
    "## WebScraping de Redpiso"
   ]
  },
  {
   "cell_type": "code",
   "execution_count": 16,
   "metadata": {},
   "outputs": [],
   "source": [
    "#sopas_redpiso = sf.scraping_alquileres_redpiso(50)"
   ]
  },
  {
   "cell_type": "code",
   "execution_count": 17,
   "metadata": {},
   "outputs": [],
   "source": [
    "#with open('../datos/origen/sopas_redpiso.pkl', 'wb') as file:\n",
    "#    pickle.dump(sopas_redpiso, file)"
   ]
  },
  {
   "cell_type": "code",
   "execution_count": 18,
   "metadata": {},
   "outputs": [],
   "source": [
    "with open('../datos/origen/sopas_redpiso.pkl', 'rb') as file:\n",
    "    sopas_redpiso = pickle.load(file)"
   ]
  },
  {
   "cell_type": "code",
   "execution_count": 19,
   "metadata": {},
   "outputs": [
    {
     "ename": "UnboundLocalError",
     "evalue": "local variable 'descripcion' referenced before assignment",
     "output_type": "error",
     "traceback": [
      "\u001b[0;31m---------------------------------------------------------------------------\u001b[0m",
      "\u001b[0;31mUnboundLocalError\u001b[0m                         Traceback (most recent call last)",
      "Cell \u001b[0;32mIn[19], line 1\u001b[0m\n\u001b[0;32m----> 1\u001b[0m df_redpiso \u001b[38;5;241m=\u001b[39m \u001b[43msf\u001b[49m\u001b[38;5;241;43m.\u001b[39;49m\u001b[43mdataframe_redpiso\u001b[49m\u001b[43m(\u001b[49m\u001b[43msopas_redpiso\u001b[49m\u001b[43m)\u001b[49m\n",
      "File \u001b[0;32m~/Library/CloudStorage/OneDrive-Personal/Hackio/Jupyter/Proyecto5-ProyectoLibre-PreciosAlquileresMadrid/notebooks/../src/soporte_funciones.py:303\u001b[0m, in \u001b[0;36mdataframe_redpiso\u001b[0;34m(lista_sopas)\u001b[0m\n\u001b[1;32m    300\u001b[0m precios\u001b[38;5;241m.\u001b[39mappend(precio)\n\u001b[1;32m    302\u001b[0m \u001b[38;5;66;03m# Descripción\u001b[39;00m\n\u001b[0;32m--> 303\u001b[0m \u001b[38;5;28;01mif\u001b[39;00m \u001b[43mdescripcion\u001b[49m:\n\u001b[1;32m    304\u001b[0m     descripcion \u001b[38;5;241m=\u001b[39m piso\u001b[38;5;241m.\u001b[39mfind(\u001b[38;5;124m'\u001b[39m\u001b[38;5;124mh5\u001b[39m\u001b[38;5;124m'\u001b[39m)\u001b[38;5;241m.\u001b[39mtext\u001b[38;5;241m.\u001b[39mstrip()\n\u001b[1;32m    305\u001b[0m     descripciones\u001b[38;5;241m.\u001b[39mappend(descripcion)\n",
      "\u001b[0;31mUnboundLocalError\u001b[0m: local variable 'descripcion' referenced before assignment"
     ]
    }
   ],
   "source": [
    "df_redpiso = sf.dataframe_redpiso(sopas_redpiso)"
   ]
  },
  {
   "cell_type": "markdown",
   "metadata": {},
   "source": [
    "- Vemos que, hemos obtenido un DF con un total de 599 viviendas en alquiler."
   ]
  },
  {
   "cell_type": "code",
   "execution_count": null,
   "metadata": {},
   "outputs": [
    {
     "data": {
      "text/plain": [
       "(600, 2)"
      ]
     },
     "execution_count": 10,
     "metadata": {},
     "output_type": "execute_result"
    }
   ],
   "source": [
    "df_redpiso.shape"
   ]
  },
  {
   "cell_type": "markdown",
   "metadata": {},
   "source": [
    "- Procederemos ahora a limpiar los datos:\n",
    "1. Aplicaremos la función `extraer_distrito` a la columna descripción. Esta función aplica un patrón de Regex al string para obtener únicamente el distrito. Si no lo encuentra, devuelve \"Distrito no identificado\". Limpiaremos esos registros posteriormente.\n",
    "2. En la columna precio sustituimos los puntos, los signos de euro y los strings \"a consultar\".\n",
    "3. Homogenizamos los nombres de los distritos eliminando las tildes y los nombres generales. "
   ]
  },
  {
   "cell_type": "code",
   "execution_count": null,
   "metadata": {},
   "outputs": [],
   "source": [
    "df_redpiso[\"Distrito\"] = df_redpiso['Descripción'].apply(sf.extraer_distrito)\n",
    "df_redpiso[\"Descripción\"] = df_redpiso[\"Descripción\"].str.title()\n",
    "df_redpiso[\"Precio\"] = df_redpiso[\"Precio\"].str.replace(\"A consultar\",\"0\")\n",
    "df_redpiso[\"Precio\"] = df_redpiso[\"Precio\"].str.replace(\".\",\"\")\n",
    "df_redpiso[\"Precio\"] = df_redpiso[\"Precio\"].str.replace(\" €\",\"\").astype(int)\n",
    "df_redpiso[\"Distrito\"] = df_redpiso[\"Distrito\"].str.replace(\"Villa de Vallecas-Ensanche y Santa Eugenia\",\"Puente de Vallecas\")\n",
    "df_redpiso[\"Distrito\"] = df_redpiso[\"Distrito\"].str.replace(\"San Blas-Canillejas\",\"San Blas\")\n",
    "df_redpiso[\"Distrito\"] = df_redpiso[\"Distrito\"].str.replace(\"Vicálvaro-Ambroz-Centro-Valdebernardo-Valderribas\",\"Vicálvaro\")\n",
    "df_redpiso[\"Distrito\"] = df_redpiso[\"Distrito\"].str.replace(\"Chamberí\",\"Chamberi\")\n",
    "df_redpiso[\"Distrito\"] = df_redpiso[\"Distrito\"].str.replace(\"Chamartín\",\"Chamartin\")\n",
    "df_redpiso[\"Distrito\"] = df_redpiso[\"Distrito\"].str.replace(\"Vicálvaro\",\"Vicalvaro\")\n",
    "df_redpiso[\"Distrito\"] = df_redpiso[\"Distrito\"].str.replace(\"Tetuán\",\"Tetuan\")"
   ]
  },
  {
   "cell_type": "markdown",
   "metadata": {},
   "source": [
    "- Tras aplicar el patrón de Regex, nos hemos quedado con 20 entradas sin identificar. Asignaremos esos distritos manualmente y comprobaremos que se hayan eliminado."
   ]
  },
  {
   "cell_type": "code",
   "execution_count": null,
   "metadata": {},
   "outputs": [],
   "source": [
    "df_redpiso[\"Distrito\"][0] = \"Villaverde\"\n",
    "df_redpiso[\"Distrito\"][13] = \"Moncloa-Aravaca\"\n",
    "df_redpiso[\"Distrito\"][39] = \"Moncloa-Aravaca\"\n",
    "df_redpiso[\"Distrito\"][112] = \"Moncloa-Aravaca\"\n",
    "df_redpiso[\"Distrito\"][187] = \"Villaverde\"\n",
    "df_redpiso[\"Distrito\"][235] = \"Centro\"\n",
    "df_redpiso[\"Distrito\"][257] = \"Puente de Vallecas\"\n",
    "df_redpiso[\"Distrito\"][273] = \"Centro\"\n",
    "df_redpiso[\"Distrito\"][288] = \"Moncloa-Aravaca\"\n",
    "df_redpiso[\"Distrito\"][380] = \"Usera\"\n",
    "df_redpiso[\"Distrito\"][387] = \"Moncloa-Aravaca\"\n",
    "df_redpiso[\"Distrito\"][446] = \"Centro\"\n",
    "df_redpiso[\"Distrito\"][464] = \"Moncloa-Aravaca\"\n",
    "df_redpiso[\"Distrito\"][493] = \"Centro\"\n",
    "df_redpiso[\"Distrito\"][501] = \"Centro\"\n",
    "df_redpiso[\"Distrito\"][527] = \"Chamberi\"\n",
    "df_redpiso[\"Distrito\"][551] = \"Chamartin\"\n",
    "df_redpiso[\"Distrito\"][568] = \"Moncloa-Aravaca\"\n",
    "df_redpiso[\"Distrito\"][591] = \"Moncloa-Aravaca\"\n",
    "df_redpiso[\"Distrito\"][592] = \"Moncloa-Aravaca\""
   ]
  },
  {
   "cell_type": "code",
   "execution_count": null,
   "metadata": {},
   "outputs": [
    {
     "data": {
      "text/html": [
       "<div>\n",
       "<style scoped>\n",
       "    .dataframe tbody tr th:only-of-type {\n",
       "        vertical-align: middle;\n",
       "    }\n",
       "\n",
       "    .dataframe tbody tr th {\n",
       "        vertical-align: top;\n",
       "    }\n",
       "\n",
       "    .dataframe thead th {\n",
       "        text-align: right;\n",
       "    }\n",
       "</style>\n",
       "<table border=\"1\" class=\"dataframe\">\n",
       "  <thead>\n",
       "    <tr style=\"text-align: right;\">\n",
       "      <th></th>\n",
       "      <th>Descripción</th>\n",
       "      <th>Precio</th>\n",
       "      <th>Distrito</th>\n",
       "    </tr>\n",
       "  </thead>\n",
       "  <tbody>\n",
       "  </tbody>\n",
       "</table>\n",
       "</div>"
      ],
      "text/plain": [
       "Empty DataFrame\n",
       "Columns: [Descripción, Precio, Distrito]\n",
       "Index: []"
      ]
     },
     "execution_count": 86,
     "metadata": {},
     "output_type": "execute_result"
    }
   ],
   "source": [
    "df_redpiso[df_redpiso[\"Distrito\"].str.contains(\"Distrito no identificado\", case=False, na=False)]"
   ]
  },
  {
   "cell_type": "markdown",
   "metadata": {},
   "source": [
    "- Comprobamos nuevamente que los nombres de los distritos son consistentes y no tenemos registros inesperados."
   ]
  },
  {
   "cell_type": "code",
   "execution_count": null,
   "metadata": {},
   "outputs": [
    {
     "data": {
      "text/plain": [
       "array(['Villaverde', 'Chamberi', 'Salamanca', 'Ciudad Lineal',\n",
       "       'Puente de Vallecas', 'Barajas', 'San Blas', 'Arganzuela',\n",
       "       'Tetuan', 'Moncloa-Aravaca', 'Latina', 'Hortaleza',\n",
       "       'Fuencarral-El Pardo', 'Retiro', 'Centro', 'Carabanchel',\n",
       "       'Chamartin', 'Moratalaz', 'Usera', 'Vicalvaro'], dtype=object)"
      ]
     },
     "execution_count": 91,
     "metadata": {},
     "output_type": "execute_result"
    }
   ],
   "source": [
    "df_redpiso[\"Distrito\"].unique()"
   ]
  },
  {
   "cell_type": "markdown",
   "metadata": {},
   "source": [
    "- Eliminamos los registros donde el precio del alquiler sea cero, debido a que distorsionarían el análisis."
   ]
  },
  {
   "cell_type": "code",
   "execution_count": null,
   "metadata": {},
   "outputs": [
    {
     "data": {
      "text/plain": [
       "Precio\n",
       "1100    53\n",
       "1200    51\n",
       "0       43\n",
       "850     42\n",
       "1000    40\n",
       "        ..\n",
       "2350     1\n",
       "550      1\n",
       "690      1\n",
       "720      1\n",
       "1480     1\n",
       "Name: count, Length: 83, dtype: int64"
      ]
     },
     "execution_count": 116,
     "metadata": {},
     "output_type": "execute_result"
    }
   ],
   "source": [
    "df_redpiso[\"Precio\"].value_counts()"
   ]
  },
  {
   "cell_type": "code",
   "execution_count": null,
   "metadata": {},
   "outputs": [],
   "source": [
    "df_redpiso = df_redpiso[\n",
    "    (df_redpiso[\"Precio\"] != 0)\n",
    "]"
   ]
  },
  {
   "cell_type": "markdown",
   "metadata": {},
   "source": [
    "- Tras eliminar los registros, nos quedamos con 556 pisos repartidos en 20 distritos, de un total de 21 que tenemos en Madrid."
   ]
  },
  {
   "cell_type": "code",
   "execution_count": null,
   "metadata": {},
   "outputs": [
    {
     "data": {
      "text/plain": [
       "Distrito\n",
       "Chamberi               74\n",
       "Chamartin              69\n",
       "Centro                 62\n",
       "Fuencarral-El Pardo    47\n",
       "Hortaleza              44\n",
       "Puente de Vallecas     43\n",
       "Arganzuela             35\n",
       "Salamanca              33\n",
       "Latina                 31\n",
       "Moncloa-Aravaca        26\n",
       "Tetuan                 25\n",
       "Retiro                 17\n",
       "Carabanchel            15\n",
       "San Blas               11\n",
       "Villaverde              8\n",
       "Ciudad Lineal           6\n",
       "Vicalvaro               6\n",
       "Barajas                 2\n",
       "Moratalaz               2\n",
       "Usera                   1\n",
       "Name: count, dtype: int64"
      ]
     },
     "execution_count": 122,
     "metadata": {},
     "output_type": "execute_result"
    }
   ],
   "source": [
    "df_redpiso[\"Distrito\"].value_counts()"
   ]
  },
  {
   "cell_type": "markdown",
   "metadata": {},
   "source": [
    "- Para asignar el ID a cada municipio, realiaremos un merge con el dataframe de distritos. Reordenaremos las columnas y lo guardaremos en un archivo CSV."
   ]
  },
  {
   "cell_type": "code",
   "execution_count": null,
   "metadata": {},
   "outputs": [],
   "source": [
    "df_redpiso_merge = df_redpiso.merge(df_distritos, how=\"inner\", left_on=\"Distrito\", right_on=\"Distrito\")"
   ]
  },
  {
   "cell_type": "code",
   "execution_count": null,
   "metadata": {},
   "outputs": [
    {
     "data": {
      "text/html": [
       "<div>\n",
       "<style scoped>\n",
       "    .dataframe tbody tr th:only-of-type {\n",
       "        vertical-align: middle;\n",
       "    }\n",
       "\n",
       "    .dataframe tbody tr th {\n",
       "        vertical-align: top;\n",
       "    }\n",
       "\n",
       "    .dataframe thead th {\n",
       "        text-align: right;\n",
       "    }\n",
       "</style>\n",
       "<table border=\"1\" class=\"dataframe\">\n",
       "  <thead>\n",
       "    <tr style=\"text-align: right;\">\n",
       "      <th></th>\n",
       "      <th>ID_Distrito</th>\n",
       "      <th>Descripción</th>\n",
       "      <th>Precio</th>\n",
       "    </tr>\n",
       "  </thead>\n",
       "  <tbody>\n",
       "    <tr>\n",
       "      <th>0</th>\n",
       "      <td>17</td>\n",
       "      <td>Piso En Alquiler En Villaverde, Madrid, Madrid</td>\n",
       "      <td>850</td>\n",
       "    </tr>\n",
       "    <tr>\n",
       "      <th>1</th>\n",
       "      <td>7</td>\n",
       "      <td>Piso En Alquiler En Calle Cristobal Bordiu, Rí...</td>\n",
       "      <td>1100</td>\n",
       "    </tr>\n",
       "    <tr>\n",
       "      <th>2</th>\n",
       "      <td>4</td>\n",
       "      <td>Apartamento En Alquiler En Calle Fundadores, F...</td>\n",
       "      <td>2000</td>\n",
       "    </tr>\n",
       "    <tr>\n",
       "      <th>3</th>\n",
       "      <td>15</td>\n",
       "      <td>Piso En Alquiler En Calle Pepe Isbert, Pueblo ...</td>\n",
       "      <td>744</td>\n",
       "    </tr>\n",
       "    <tr>\n",
       "      <th>4</th>\n",
       "      <td>13</td>\n",
       "      <td>Estudio En Alquiler En Calle Embalse De Navace...</td>\n",
       "      <td>750</td>\n",
       "    </tr>\n",
       "  </tbody>\n",
       "</table>\n",
       "</div>"
      ],
      "text/plain": [
       "   ID_Distrito                                        Descripción  Precio\n",
       "0           17     Piso En Alquiler En Villaverde, Madrid, Madrid     850\n",
       "1            7  Piso En Alquiler En Calle Cristobal Bordiu, Rí...    1100\n",
       "2            4  Apartamento En Alquiler En Calle Fundadores, F...    2000\n",
       "3           15  Piso En Alquiler En Calle Pepe Isbert, Pueblo ...     744\n",
       "4           13  Estudio En Alquiler En Calle Embalse De Navace...     750"
      ]
     },
     "execution_count": 129,
     "metadata": {},
     "output_type": "execute_result"
    }
   ],
   "source": [
    "df_redpiso_merge.drop(columns = [\"Distrito\", \"geometry\"], inplace=True)\n",
    "df_redpiso_merge = df_redpiso_merge[[\"ID_Distrito\", \"Descripción\", \"Precio\"]]\n",
    "df_redpiso_merge.head(5)"
   ]
  },
  {
   "cell_type": "code",
   "execution_count": null,
   "metadata": {},
   "outputs": [],
   "source": [
    "#df_redpiso_merge.to_csv(\"../datos/finales/alquileres.csv\")"
   ]
  }
 ],
 "metadata": {
  "kernelspec": {
   "display_name": "Python 3",
   "language": "python",
   "name": "python3"
  },
  "language_info": {
   "codemirror_mode": {
    "name": "ipython",
    "version": 3
   },
   "file_extension": ".py",
   "mimetype": "text/x-python",
   "name": "python",
   "nbconvert_exporter": "python",
   "pygments_lexer": "ipython3",
   "version": "3.9.6"
  }
 },
 "nbformat": 4,
 "nbformat_minor": 2
}
