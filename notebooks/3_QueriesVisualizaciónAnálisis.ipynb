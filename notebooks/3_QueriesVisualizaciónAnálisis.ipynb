{
 "cells": [
  {
   "cell_type": "markdown",
   "metadata": {},
   "source": [
    "# Notebook #3: Queries, Visualización y Análisis\n",
    "\n",
    "- En este tercer notebook realizaremos consultas sobre nuestra base de datos y las usaremos para generar visualizaciones y el análisis de las mismas.\n",
    "\n",
    "- Las visualizaciones de Ploty no se renderizan en Github. Para poder verlas es necesaria la descarga del Notebook.\n",
    "\n",
    "- A lo largo el notebook, los números con el formato \"(1)\" representan fuentes externas de información utilizadas, que se referencian al final de este notebook.\n",
    "\n",
    "- El primer paso será importar las librerías necesarias:"
   ]
  },
  {
   "cell_type": "code",
   "execution_count": 1,
   "metadata": {},
   "outputs": [
    {
     "name": "stderr",
     "output_type": "stream",
     "text": [
      "/Users/davidfranco/Library/Python/3.9/lib/python/site-packages/urllib3/__init__.py:35: NotOpenSSLWarning: urllib3 v2 only supports OpenSSL 1.1.1+, currently the 'ssl' module is compiled with 'LibreSSL 2.8.3'. See: https://github.com/urllib3/urllib3/issues/3020\n",
      "  warnings.warn(\n"
     ]
    }
   ],
   "source": [
    "# Librerías para tratamiento de datos\n",
    "import pandas as pd\n",
    "pd.set_option(\"display.max_columns\", None) # Parámetro que modifica la visualización de los resultado3s\n",
    "import numpy as np\n",
    "\n",
    "# Trabajar con bases de datos SQL\n",
    "import psycopg2\n",
    "from psycopg2 import OperationalError, errorcodes, errors\n",
    "\n",
    "# Librería para el acceso a variables y funciones\n",
    "import sys\n",
    "sys.path.append(\"../\")\n",
    "from src import soporte_funciones as sf #Archivo .py donde encontraremos todas nuestras funciones.\n",
    "\n",
    "# Librería de mapas\n",
    "import folium\n",
    "\n",
    "# Librerías para graficar\n",
    "import plotly.express as px\n",
    "import plotly.subplots as sp\n",
    "from plotly.subplots import make_subplots\n",
    "import plotly.graph_objects as go\n",
    "import matplotlib.pyplot as plt\n",
    "import seaborn as sns\n",
    "\n",
    "# Librería para ignorar avisos\n",
    "import warnings\n",
    "warnings.filterwarnings(\"ignore\") # Ignora TODOS los avisos"
   ]
  },
  {
   "cell_type": "markdown",
   "metadata": {},
   "source": [
    "### Objeto del Análisis \n",
    "\n",
    "- Antes de plantearnos las queries que pretendemos realizar, debemos recordar que el objetivo del proyecto es obtener insights sobre el mercado, así como la estructura de los datos.\n",
    "\n",
    "- La información con la que contamos tiene relación con el mercado de la vivienda en Madrid, e incluye:\n",
    "    - Datos de viviendas turísticas (AirBnB).\n",
    "    - Datos de viviendas de alquiler (Idelista y Redpiso).\n",
    "    - Datos sobre los ingresos por hogar (INE).\n",
    "    - Datos sobre cantidad de población nacional y extranjera (Ayuntamiento de Madrid).\n",
    "\n",
    "#### Diagrama Entidad Relación\n",
    "\n",
    "<img src=\"../images/DiagramaER.png\" width=\"400\">\n",
    "\n",
    "- Para ejecutar nuestras queries, haremos uso de la función `sf.dbeaver_fetch()`, que recibe como argumentos la conexión a DBeaver (usamos la función `sf.dbeaver_conexion()`) y la query."
   ]
  },
  {
   "cell_type": "markdown",
   "metadata": {},
   "source": [
    "### 1. Precio Promedio del Alquiler por Distrito"
   ]
  },
  {
   "cell_type": "code",
   "execution_count": 19,
   "metadata": {},
   "outputs": [],
   "source": [
    "query1= '''\n",
    "SELECT d.nombre, \n",
    "    round(AVG(i.precio),2) AS avg_precio_idealista, \n",
    "    round(AVG(r.precio),2) AS avg_precio_redpiso,\n",
    "    round(AVG(i.precio)+AVG(r.precio)/2,2) AS alquiler_prom\n",
    "FROM distritos d\n",
    "INNER JOIN idealista i ON d.id_distrito = i.id_distrito\n",
    "INNER JOIN redpiso r ON d.id_distrito = r.id_distrito\n",
    "INNER JOIN airbnb a ON d.id_distrito = a.id_distrito\n",
    "GROUP BY d.nombre\n",
    "ORDER BY alquiler_prom DESC\n",
    ";'''"
   ]
  },
  {
   "cell_type": "code",
   "execution_count": 20,
   "metadata": {},
   "outputs": [
    {
     "data": {
      "text/html": [
       "<div>\n",
       "<style scoped>\n",
       "    .dataframe tbody tr th:only-of-type {\n",
       "        vertical-align: middle;\n",
       "    }\n",
       "\n",
       "    .dataframe tbody tr th {\n",
       "        vertical-align: top;\n",
       "    }\n",
       "\n",
       "    .dataframe thead th {\n",
       "        text-align: right;\n",
       "    }\n",
       "</style>\n",
       "<table border=\"1\" class=\"dataframe\">\n",
       "  <thead>\n",
       "    <tr style=\"text-align: right;\">\n",
       "      <th></th>\n",
       "      <th>nombre</th>\n",
       "      <th>avg_precio_idealista</th>\n",
       "      <th>avg_precio_redpiso</th>\n",
       "      <th>alquiler_prom</th>\n",
       "    </tr>\n",
       "  </thead>\n",
       "  <tbody>\n",
       "    <tr>\n",
       "      <th>0</th>\n",
       "      <td>Retiro</td>\n",
       "      <td>2076.94</td>\n",
       "      <td>2027.65</td>\n",
       "      <td>3090.77</td>\n",
       "    </tr>\n",
       "    <tr>\n",
       "      <th>1</th>\n",
       "      <td>Salamanca</td>\n",
       "      <td>2362.96</td>\n",
       "      <td>1377.27</td>\n",
       "      <td>3051.60</td>\n",
       "    </tr>\n",
       "    <tr>\n",
       "      <th>2</th>\n",
       "      <td>Centro</td>\n",
       "      <td>2268.11</td>\n",
       "      <td>1088.95</td>\n",
       "      <td>2812.58</td>\n",
       "    </tr>\n",
       "    <tr>\n",
       "      <th>3</th>\n",
       "      <td>Chamberi</td>\n",
       "      <td>2085.52</td>\n",
       "      <td>1367.30</td>\n",
       "      <td>2769.17</td>\n",
       "    </tr>\n",
       "    <tr>\n",
       "      <th>4</th>\n",
       "      <td>Chamartin</td>\n",
       "      <td>1944.84</td>\n",
       "      <td>1211.45</td>\n",
       "      <td>2550.56</td>\n",
       "    </tr>\n",
       "    <tr>\n",
       "      <th>5</th>\n",
       "      <td>Moncloa-Aravaca</td>\n",
       "      <td>1850.08</td>\n",
       "      <td>1225.00</td>\n",
       "      <td>2462.58</td>\n",
       "    </tr>\n",
       "    <tr>\n",
       "      <th>6</th>\n",
       "      <td>Fuencarral-El Pardo</td>\n",
       "      <td>1788.85</td>\n",
       "      <td>1133.40</td>\n",
       "      <td>2355.55</td>\n",
       "    </tr>\n",
       "    <tr>\n",
       "      <th>7</th>\n",
       "      <td>Arganzuela</td>\n",
       "      <td>1734.50</td>\n",
       "      <td>1121.43</td>\n",
       "      <td>2295.21</td>\n",
       "    </tr>\n",
       "    <tr>\n",
       "      <th>8</th>\n",
       "      <td>Hortaleza</td>\n",
       "      <td>1703.57</td>\n",
       "      <td>1167.68</td>\n",
       "      <td>2287.41</td>\n",
       "    </tr>\n",
       "    <tr>\n",
       "      <th>9</th>\n",
       "      <td>Tetuan</td>\n",
       "      <td>1610.68</td>\n",
       "      <td>1161.00</td>\n",
       "      <td>2191.18</td>\n",
       "    </tr>\n",
       "    <tr>\n",
       "      <th>10</th>\n",
       "      <td>Ciudad Lineal</td>\n",
       "      <td>1458.33</td>\n",
       "      <td>1249.00</td>\n",
       "      <td>2082.83</td>\n",
       "    </tr>\n",
       "    <tr>\n",
       "      <th>11</th>\n",
       "      <td>San Blas</td>\n",
       "      <td>1198.00</td>\n",
       "      <td>1206.36</td>\n",
       "      <td>1801.18</td>\n",
       "    </tr>\n",
       "    <tr>\n",
       "      <th>12</th>\n",
       "      <td>Latina</td>\n",
       "      <td>1266.25</td>\n",
       "      <td>1068.06</td>\n",
       "      <td>1800.28</td>\n",
       "    </tr>\n",
       "    <tr>\n",
       "      <th>13</th>\n",
       "      <td>Barajas</td>\n",
       "      <td>1175.00</td>\n",
       "      <td>790.00</td>\n",
       "      <td>1570.00</td>\n",
       "    </tr>\n",
       "    <tr>\n",
       "      <th>14</th>\n",
       "      <td>Puente de Vallecas</td>\n",
       "      <td>1077.50</td>\n",
       "      <td>893.60</td>\n",
       "      <td>1524.30</td>\n",
       "    </tr>\n",
       "    <tr>\n",
       "      <th>15</th>\n",
       "      <td>Carabanchel</td>\n",
       "      <td>912.00</td>\n",
       "      <td>975.00</td>\n",
       "      <td>1399.50</td>\n",
       "    </tr>\n",
       "  </tbody>\n",
       "</table>\n",
       "</div>"
      ],
      "text/plain": [
       "                 nombre avg_precio_idealista avg_precio_redpiso alquiler_prom\n",
       "0                Retiro              2076.94            2027.65       3090.77\n",
       "1             Salamanca              2362.96            1377.27       3051.60\n",
       "2                Centro              2268.11            1088.95       2812.58\n",
       "3              Chamberi              2085.52            1367.30       2769.17\n",
       "4             Chamartin              1944.84            1211.45       2550.56\n",
       "5       Moncloa-Aravaca              1850.08            1225.00       2462.58\n",
       "6   Fuencarral-El Pardo              1788.85            1133.40       2355.55\n",
       "7            Arganzuela              1734.50            1121.43       2295.21\n",
       "8             Hortaleza              1703.57            1167.68       2287.41\n",
       "9                Tetuan              1610.68            1161.00       2191.18\n",
       "10        Ciudad Lineal              1458.33            1249.00       2082.83\n",
       "11             San Blas              1198.00            1206.36       1801.18\n",
       "12               Latina              1266.25            1068.06       1800.28\n",
       "13              Barajas              1175.00             790.00       1570.00\n",
       "14   Puente de Vallecas              1077.50             893.60       1524.30\n",
       "15          Carabanchel               912.00             975.00       1399.50"
      ]
     },
     "execution_count": 20,
     "metadata": {},
     "output_type": "execute_result"
    }
   ],
   "source": [
    "resultado1 = sf.dbeaver_fetch(sf.dbeaver_conexion(\"alquileresmadrid\"),query1)\n",
    "resultado1"
   ]
  },
  {
   "cell_type": "code",
   "execution_count": 77,
   "metadata": {},
   "outputs": [
    {
     "data": {
      "application/vnd.plotly.v1+json": {
       "config": {
        "plotlyServerURL": "https://plot.ly"
       },
       "data": [
        {
         "alignmentgroup": "True",
         "hovertemplate": "Distrito=%{x}<br>Precio Promedio de Alquiler (€)=%{y}<extra></extra>",
         "legendgroup": "Retiro",
         "marker": {
          "color": "skyblue",
          "pattern": {
           "shape": ""
          }
         },
         "name": "Retiro",
         "offsetgroup": "Retiro",
         "orientation": "v",
         "showlegend": true,
         "text": [
          3090.77,
          3051.6,
          2812.58,
          2769.17,
          2550.56,
          2462.58,
          2355.55,
          2295.21,
          2287.41,
          2191.18,
          2082.83,
          1801.18,
          1800.28,
          1570,
          1524.3,
          1399.5
         ],
         "textposition": "outside",
         "texttemplate": "%{y:.2f}",
         "type": "bar",
         "x": [
          "Retiro"
         ],
         "xaxis": "x",
         "y": [
          3090.77
         ],
         "yaxis": "y"
        },
        {
         "alignmentgroup": "True",
         "hovertemplate": "Distrito=%{x}<br>Precio Promedio de Alquiler (€)=%{y}<extra></extra>",
         "legendgroup": "Salamanca",
         "marker": {
          "color": "skyblue",
          "pattern": {
           "shape": ""
          }
         },
         "name": "Salamanca",
         "offsetgroup": "Salamanca",
         "orientation": "v",
         "showlegend": true,
         "text": [
          3090.77,
          3051.6,
          2812.58,
          2769.17,
          2550.56,
          2462.58,
          2355.55,
          2295.21,
          2287.41,
          2191.18,
          2082.83,
          1801.18,
          1800.28,
          1570,
          1524.3,
          1399.5
         ],
         "textposition": "outside",
         "texttemplate": "%{y:.2f}",
         "type": "bar",
         "x": [
          "Salamanca"
         ],
         "xaxis": "x",
         "y": [
          3051.6
         ],
         "yaxis": "y"
        },
        {
         "alignmentgroup": "True",
         "hovertemplate": "Distrito=%{x}<br>Precio Promedio de Alquiler (€)=%{y}<extra></extra>",
         "legendgroup": "Centro",
         "marker": {
          "color": "skyblue",
          "pattern": {
           "shape": ""
          }
         },
         "name": "Centro",
         "offsetgroup": "Centro",
         "orientation": "v",
         "showlegend": true,
         "text": [
          3090.77,
          3051.6,
          2812.58,
          2769.17,
          2550.56,
          2462.58,
          2355.55,
          2295.21,
          2287.41,
          2191.18,
          2082.83,
          1801.18,
          1800.28,
          1570,
          1524.3,
          1399.5
         ],
         "textposition": "outside",
         "texttemplate": "%{y:.2f}",
         "type": "bar",
         "x": [
          "Centro"
         ],
         "xaxis": "x",
         "y": [
          2812.58
         ],
         "yaxis": "y"
        },
        {
         "alignmentgroup": "True",
         "hovertemplate": "Distrito=%{x}<br>Precio Promedio de Alquiler (€)=%{y}<extra></extra>",
         "legendgroup": "Chamberi",
         "marker": {
          "color": "skyblue",
          "pattern": {
           "shape": ""
          }
         },
         "name": "Chamberi",
         "offsetgroup": "Chamberi",
         "orientation": "v",
         "showlegend": true,
         "text": [
          3090.77,
          3051.6,
          2812.58,
          2769.17,
          2550.56,
          2462.58,
          2355.55,
          2295.21,
          2287.41,
          2191.18,
          2082.83,
          1801.18,
          1800.28,
          1570,
          1524.3,
          1399.5
         ],
         "textposition": "outside",
         "texttemplate": "%{y:.2f}",
         "type": "bar",
         "x": [
          "Chamberi"
         ],
         "xaxis": "x",
         "y": [
          2769.17
         ],
         "yaxis": "y"
        },
        {
         "alignmentgroup": "True",
         "hovertemplate": "Distrito=%{x}<br>Precio Promedio de Alquiler (€)=%{y}<extra></extra>",
         "legendgroup": "Chamartin",
         "marker": {
          "color": "skyblue",
          "pattern": {
           "shape": ""
          }
         },
         "name": "Chamartin",
         "offsetgroup": "Chamartin",
         "orientation": "v",
         "showlegend": true,
         "text": [
          3090.77,
          3051.6,
          2812.58,
          2769.17,
          2550.56,
          2462.58,
          2355.55,
          2295.21,
          2287.41,
          2191.18,
          2082.83,
          1801.18,
          1800.28,
          1570,
          1524.3,
          1399.5
         ],
         "textposition": "outside",
         "texttemplate": "%{y:.2f}",
         "type": "bar",
         "x": [
          "Chamartin"
         ],
         "xaxis": "x",
         "y": [
          2550.56
         ],
         "yaxis": "y"
        },
        {
         "alignmentgroup": "True",
         "hovertemplate": "Distrito=%{x}<br>Precio Promedio de Alquiler (€)=%{y}<extra></extra>",
         "legendgroup": "Moncloa-Aravaca",
         "marker": {
          "color": "skyblue",
          "pattern": {
           "shape": ""
          }
         },
         "name": "Moncloa-Aravaca",
         "offsetgroup": "Moncloa-Aravaca",
         "orientation": "v",
         "showlegend": true,
         "text": [
          3090.77,
          3051.6,
          2812.58,
          2769.17,
          2550.56,
          2462.58,
          2355.55,
          2295.21,
          2287.41,
          2191.18,
          2082.83,
          1801.18,
          1800.28,
          1570,
          1524.3,
          1399.5
         ],
         "textposition": "outside",
         "texttemplate": "%{y:.2f}",
         "type": "bar",
         "x": [
          "Moncloa-Aravaca"
         ],
         "xaxis": "x",
         "y": [
          2462.58
         ],
         "yaxis": "y"
        },
        {
         "alignmentgroup": "True",
         "hovertemplate": "Distrito=%{x}<br>Precio Promedio de Alquiler (€)=%{y}<extra></extra>",
         "legendgroup": "Fuencarral-El Pardo",
         "marker": {
          "color": "skyblue",
          "pattern": {
           "shape": ""
          }
         },
         "name": "Fuencarral-El Pardo",
         "offsetgroup": "Fuencarral-El Pardo",
         "orientation": "v",
         "showlegend": true,
         "text": [
          3090.77,
          3051.6,
          2812.58,
          2769.17,
          2550.56,
          2462.58,
          2355.55,
          2295.21,
          2287.41,
          2191.18,
          2082.83,
          1801.18,
          1800.28,
          1570,
          1524.3,
          1399.5
         ],
         "textposition": "outside",
         "texttemplate": "%{y:.2f}",
         "type": "bar",
         "x": [
          "Fuencarral-El Pardo"
         ],
         "xaxis": "x",
         "y": [
          2355.55
         ],
         "yaxis": "y"
        },
        {
         "alignmentgroup": "True",
         "hovertemplate": "Distrito=%{x}<br>Precio Promedio de Alquiler (€)=%{y}<extra></extra>",
         "legendgroup": "Arganzuela",
         "marker": {
          "color": "skyblue",
          "pattern": {
           "shape": ""
          }
         },
         "name": "Arganzuela",
         "offsetgroup": "Arganzuela",
         "orientation": "v",
         "showlegend": true,
         "text": [
          3090.77,
          3051.6,
          2812.58,
          2769.17,
          2550.56,
          2462.58,
          2355.55,
          2295.21,
          2287.41,
          2191.18,
          2082.83,
          1801.18,
          1800.28,
          1570,
          1524.3,
          1399.5
         ],
         "textposition": "outside",
         "texttemplate": "%{y:.2f}",
         "type": "bar",
         "x": [
          "Arganzuela"
         ],
         "xaxis": "x",
         "y": [
          2295.21
         ],
         "yaxis": "y"
        },
        {
         "alignmentgroup": "True",
         "hovertemplate": "Distrito=%{x}<br>Precio Promedio de Alquiler (€)=%{y}<extra></extra>",
         "legendgroup": "Hortaleza",
         "marker": {
          "color": "skyblue",
          "pattern": {
           "shape": ""
          }
         },
         "name": "Hortaleza",
         "offsetgroup": "Hortaleza",
         "orientation": "v",
         "showlegend": true,
         "text": [
          3090.77,
          3051.6,
          2812.58,
          2769.17,
          2550.56,
          2462.58,
          2355.55,
          2295.21,
          2287.41,
          2191.18,
          2082.83,
          1801.18,
          1800.28,
          1570,
          1524.3,
          1399.5
         ],
         "textposition": "outside",
         "texttemplate": "%{y:.2f}",
         "type": "bar",
         "x": [
          "Hortaleza"
         ],
         "xaxis": "x",
         "y": [
          2287.41
         ],
         "yaxis": "y"
        },
        {
         "alignmentgroup": "True",
         "hovertemplate": "Distrito=%{x}<br>Precio Promedio de Alquiler (€)=%{y}<extra></extra>",
         "legendgroup": "Tetuan",
         "marker": {
          "color": "skyblue",
          "pattern": {
           "shape": ""
          }
         },
         "name": "Tetuan",
         "offsetgroup": "Tetuan",
         "orientation": "v",
         "showlegend": true,
         "text": [
          3090.77,
          3051.6,
          2812.58,
          2769.17,
          2550.56,
          2462.58,
          2355.55,
          2295.21,
          2287.41,
          2191.18,
          2082.83,
          1801.18,
          1800.28,
          1570,
          1524.3,
          1399.5
         ],
         "textposition": "outside",
         "texttemplate": "%{y:.2f}",
         "type": "bar",
         "x": [
          "Tetuan"
         ],
         "xaxis": "x",
         "y": [
          2191.18
         ],
         "yaxis": "y"
        },
        {
         "alignmentgroup": "True",
         "hovertemplate": "Distrito=%{x}<br>Precio Promedio de Alquiler (€)=%{y}<extra></extra>",
         "legendgroup": "Ciudad Lineal",
         "marker": {
          "color": "skyblue",
          "pattern": {
           "shape": ""
          }
         },
         "name": "Ciudad Lineal",
         "offsetgroup": "Ciudad Lineal",
         "orientation": "v",
         "showlegend": true,
         "text": [
          3090.77,
          3051.6,
          2812.58,
          2769.17,
          2550.56,
          2462.58,
          2355.55,
          2295.21,
          2287.41,
          2191.18,
          2082.83,
          1801.18,
          1800.28,
          1570,
          1524.3,
          1399.5
         ],
         "textposition": "outside",
         "texttemplate": "%{y:.2f}",
         "type": "bar",
         "x": [
          "Ciudad Lineal"
         ],
         "xaxis": "x",
         "y": [
          2082.83
         ],
         "yaxis": "y"
        },
        {
         "alignmentgroup": "True",
         "hovertemplate": "Distrito=%{x}<br>Precio Promedio de Alquiler (€)=%{y}<extra></extra>",
         "legendgroup": "San Blas",
         "marker": {
          "color": "skyblue",
          "pattern": {
           "shape": ""
          }
         },
         "name": "San Blas",
         "offsetgroup": "San Blas",
         "orientation": "v",
         "showlegend": true,
         "text": [
          3090.77,
          3051.6,
          2812.58,
          2769.17,
          2550.56,
          2462.58,
          2355.55,
          2295.21,
          2287.41,
          2191.18,
          2082.83,
          1801.18,
          1800.28,
          1570,
          1524.3,
          1399.5
         ],
         "textposition": "outside",
         "texttemplate": "%{y:.2f}",
         "type": "bar",
         "x": [
          "San Blas"
         ],
         "xaxis": "x",
         "y": [
          1801.18
         ],
         "yaxis": "y"
        },
        {
         "alignmentgroup": "True",
         "hovertemplate": "Distrito=%{x}<br>Precio Promedio de Alquiler (€)=%{y}<extra></extra>",
         "legendgroup": "Latina",
         "marker": {
          "color": "skyblue",
          "pattern": {
           "shape": ""
          }
         },
         "name": "Latina",
         "offsetgroup": "Latina",
         "orientation": "v",
         "showlegend": true,
         "text": [
          3090.77,
          3051.6,
          2812.58,
          2769.17,
          2550.56,
          2462.58,
          2355.55,
          2295.21,
          2287.41,
          2191.18,
          2082.83,
          1801.18,
          1800.28,
          1570,
          1524.3,
          1399.5
         ],
         "textposition": "outside",
         "texttemplate": "%{y:.2f}",
         "type": "bar",
         "x": [
          "Latina"
         ],
         "xaxis": "x",
         "y": [
          1800.28
         ],
         "yaxis": "y"
        },
        {
         "alignmentgroup": "True",
         "hovertemplate": "Distrito=%{x}<br>Precio Promedio de Alquiler (€)=%{y}<extra></extra>",
         "legendgroup": "Barajas",
         "marker": {
          "color": "skyblue",
          "pattern": {
           "shape": ""
          }
         },
         "name": "Barajas",
         "offsetgroup": "Barajas",
         "orientation": "v",
         "showlegend": true,
         "text": [
          3090.77,
          3051.6,
          2812.58,
          2769.17,
          2550.56,
          2462.58,
          2355.55,
          2295.21,
          2287.41,
          2191.18,
          2082.83,
          1801.18,
          1800.28,
          1570,
          1524.3,
          1399.5
         ],
         "textposition": "outside",
         "texttemplate": "%{y:.2f}",
         "type": "bar",
         "x": [
          "Barajas"
         ],
         "xaxis": "x",
         "y": [
          1570
         ],
         "yaxis": "y"
        },
        {
         "alignmentgroup": "True",
         "hovertemplate": "Distrito=%{x}<br>Precio Promedio de Alquiler (€)=%{y}<extra></extra>",
         "legendgroup": "Puente de Vallecas",
         "marker": {
          "color": "skyblue",
          "pattern": {
           "shape": ""
          }
         },
         "name": "Puente de Vallecas",
         "offsetgroup": "Puente de Vallecas",
         "orientation": "v",
         "showlegend": true,
         "text": [
          3090.77,
          3051.6,
          2812.58,
          2769.17,
          2550.56,
          2462.58,
          2355.55,
          2295.21,
          2287.41,
          2191.18,
          2082.83,
          1801.18,
          1800.28,
          1570,
          1524.3,
          1399.5
         ],
         "textposition": "outside",
         "texttemplate": "%{y:.2f}",
         "type": "bar",
         "x": [
          "Puente de Vallecas"
         ],
         "xaxis": "x",
         "y": [
          1524.3
         ],
         "yaxis": "y"
        },
        {
         "alignmentgroup": "True",
         "hovertemplate": "Distrito=%{x}<br>Precio Promedio de Alquiler (€)=%{y}<extra></extra>",
         "legendgroup": "Carabanchel",
         "marker": {
          "color": "skyblue",
          "pattern": {
           "shape": ""
          }
         },
         "name": "Carabanchel",
         "offsetgroup": "Carabanchel",
         "orientation": "v",
         "showlegend": true,
         "text": [
          3090.77,
          3051.6,
          2812.58,
          2769.17,
          2550.56,
          2462.58,
          2355.55,
          2295.21,
          2287.41,
          2191.18,
          2082.83,
          1801.18,
          1800.28,
          1570,
          1524.3,
          1399.5
         ],
         "textposition": "outside",
         "texttemplate": "%{y:.2f}",
         "type": "bar",
         "x": [
          "Carabanchel"
         ],
         "xaxis": "x",
         "y": [
          1399.5
         ],
         "yaxis": "y"
        }
       ],
       "layout": {
        "barmode": "relative",
        "legend": {
         "title": {
          "text": "Distrito"
         },
         "tracegroupgap": 0
        },
        "template": {
         "data": {
          "bar": [
           {
            "error_x": {
             "color": "#2a3f5f"
            },
            "error_y": {
             "color": "#2a3f5f"
            },
            "marker": {
             "line": {
              "color": "#E5ECF6",
              "width": 0.5
             },
             "pattern": {
              "fillmode": "overlay",
              "size": 10,
              "solidity": 0.2
             }
            },
            "type": "bar"
           }
          ],
          "barpolar": [
           {
            "marker": {
             "line": {
              "color": "#E5ECF6",
              "width": 0.5
             },
             "pattern": {
              "fillmode": "overlay",
              "size": 10,
              "solidity": 0.2
             }
            },
            "type": "barpolar"
           }
          ],
          "carpet": [
           {
            "aaxis": {
             "endlinecolor": "#2a3f5f",
             "gridcolor": "white",
             "linecolor": "white",
             "minorgridcolor": "white",
             "startlinecolor": "#2a3f5f"
            },
            "baxis": {
             "endlinecolor": "#2a3f5f",
             "gridcolor": "white",
             "linecolor": "white",
             "minorgridcolor": "white",
             "startlinecolor": "#2a3f5f"
            },
            "type": "carpet"
           }
          ],
          "choropleth": [
           {
            "colorbar": {
             "outlinewidth": 0,
             "ticks": ""
            },
            "type": "choropleth"
           }
          ],
          "contour": [
           {
            "colorbar": {
             "outlinewidth": 0,
             "ticks": ""
            },
            "colorscale": [
             [
              0,
              "#0d0887"
             ],
             [
              0.1111111111111111,
              "#46039f"
             ],
             [
              0.2222222222222222,
              "#7201a8"
             ],
             [
              0.3333333333333333,
              "#9c179e"
             ],
             [
              0.4444444444444444,
              "#bd3786"
             ],
             [
              0.5555555555555556,
              "#d8576b"
             ],
             [
              0.6666666666666666,
              "#ed7953"
             ],
             [
              0.7777777777777778,
              "#fb9f3a"
             ],
             [
              0.8888888888888888,
              "#fdca26"
             ],
             [
              1,
              "#f0f921"
             ]
            ],
            "type": "contour"
           }
          ],
          "contourcarpet": [
           {
            "colorbar": {
             "outlinewidth": 0,
             "ticks": ""
            },
            "type": "contourcarpet"
           }
          ],
          "heatmap": [
           {
            "colorbar": {
             "outlinewidth": 0,
             "ticks": ""
            },
            "colorscale": [
             [
              0,
              "#0d0887"
             ],
             [
              0.1111111111111111,
              "#46039f"
             ],
             [
              0.2222222222222222,
              "#7201a8"
             ],
             [
              0.3333333333333333,
              "#9c179e"
             ],
             [
              0.4444444444444444,
              "#bd3786"
             ],
             [
              0.5555555555555556,
              "#d8576b"
             ],
             [
              0.6666666666666666,
              "#ed7953"
             ],
             [
              0.7777777777777778,
              "#fb9f3a"
             ],
             [
              0.8888888888888888,
              "#fdca26"
             ],
             [
              1,
              "#f0f921"
             ]
            ],
            "type": "heatmap"
           }
          ],
          "heatmapgl": [
           {
            "colorbar": {
             "outlinewidth": 0,
             "ticks": ""
            },
            "colorscale": [
             [
              0,
              "#0d0887"
             ],
             [
              0.1111111111111111,
              "#46039f"
             ],
             [
              0.2222222222222222,
              "#7201a8"
             ],
             [
              0.3333333333333333,
              "#9c179e"
             ],
             [
              0.4444444444444444,
              "#bd3786"
             ],
             [
              0.5555555555555556,
              "#d8576b"
             ],
             [
              0.6666666666666666,
              "#ed7953"
             ],
             [
              0.7777777777777778,
              "#fb9f3a"
             ],
             [
              0.8888888888888888,
              "#fdca26"
             ],
             [
              1,
              "#f0f921"
             ]
            ],
            "type": "heatmapgl"
           }
          ],
          "histogram": [
           {
            "marker": {
             "pattern": {
              "fillmode": "overlay",
              "size": 10,
              "solidity": 0.2
             }
            },
            "type": "histogram"
           }
          ],
          "histogram2d": [
           {
            "colorbar": {
             "outlinewidth": 0,
             "ticks": ""
            },
            "colorscale": [
             [
              0,
              "#0d0887"
             ],
             [
              0.1111111111111111,
              "#46039f"
             ],
             [
              0.2222222222222222,
              "#7201a8"
             ],
             [
              0.3333333333333333,
              "#9c179e"
             ],
             [
              0.4444444444444444,
              "#bd3786"
             ],
             [
              0.5555555555555556,
              "#d8576b"
             ],
             [
              0.6666666666666666,
              "#ed7953"
             ],
             [
              0.7777777777777778,
              "#fb9f3a"
             ],
             [
              0.8888888888888888,
              "#fdca26"
             ],
             [
              1,
              "#f0f921"
             ]
            ],
            "type": "histogram2d"
           }
          ],
          "histogram2dcontour": [
           {
            "colorbar": {
             "outlinewidth": 0,
             "ticks": ""
            },
            "colorscale": [
             [
              0,
              "#0d0887"
             ],
             [
              0.1111111111111111,
              "#46039f"
             ],
             [
              0.2222222222222222,
              "#7201a8"
             ],
             [
              0.3333333333333333,
              "#9c179e"
             ],
             [
              0.4444444444444444,
              "#bd3786"
             ],
             [
              0.5555555555555556,
              "#d8576b"
             ],
             [
              0.6666666666666666,
              "#ed7953"
             ],
             [
              0.7777777777777778,
              "#fb9f3a"
             ],
             [
              0.8888888888888888,
              "#fdca26"
             ],
             [
              1,
              "#f0f921"
             ]
            ],
            "type": "histogram2dcontour"
           }
          ],
          "mesh3d": [
           {
            "colorbar": {
             "outlinewidth": 0,
             "ticks": ""
            },
            "type": "mesh3d"
           }
          ],
          "parcoords": [
           {
            "line": {
             "colorbar": {
              "outlinewidth": 0,
              "ticks": ""
             }
            },
            "type": "parcoords"
           }
          ],
          "pie": [
           {
            "automargin": true,
            "type": "pie"
           }
          ],
          "scatter": [
           {
            "fillpattern": {
             "fillmode": "overlay",
             "size": 10,
             "solidity": 0.2
            },
            "type": "scatter"
           }
          ],
          "scatter3d": [
           {
            "line": {
             "colorbar": {
              "outlinewidth": 0,
              "ticks": ""
             }
            },
            "marker": {
             "colorbar": {
              "outlinewidth": 0,
              "ticks": ""
             }
            },
            "type": "scatter3d"
           }
          ],
          "scattercarpet": [
           {
            "marker": {
             "colorbar": {
              "outlinewidth": 0,
              "ticks": ""
             }
            },
            "type": "scattercarpet"
           }
          ],
          "scattergeo": [
           {
            "marker": {
             "colorbar": {
              "outlinewidth": 0,
              "ticks": ""
             }
            },
            "type": "scattergeo"
           }
          ],
          "scattergl": [
           {
            "marker": {
             "colorbar": {
              "outlinewidth": 0,
              "ticks": ""
             }
            },
            "type": "scattergl"
           }
          ],
          "scattermapbox": [
           {
            "marker": {
             "colorbar": {
              "outlinewidth": 0,
              "ticks": ""
             }
            },
            "type": "scattermapbox"
           }
          ],
          "scatterpolar": [
           {
            "marker": {
             "colorbar": {
              "outlinewidth": 0,
              "ticks": ""
             }
            },
            "type": "scatterpolar"
           }
          ],
          "scatterpolargl": [
           {
            "marker": {
             "colorbar": {
              "outlinewidth": 0,
              "ticks": ""
             }
            },
            "type": "scatterpolargl"
           }
          ],
          "scatterternary": [
           {
            "marker": {
             "colorbar": {
              "outlinewidth": 0,
              "ticks": ""
             }
            },
            "type": "scatterternary"
           }
          ],
          "surface": [
           {
            "colorbar": {
             "outlinewidth": 0,
             "ticks": ""
            },
            "colorscale": [
             [
              0,
              "#0d0887"
             ],
             [
              0.1111111111111111,
              "#46039f"
             ],
             [
              0.2222222222222222,
              "#7201a8"
             ],
             [
              0.3333333333333333,
              "#9c179e"
             ],
             [
              0.4444444444444444,
              "#bd3786"
             ],
             [
              0.5555555555555556,
              "#d8576b"
             ],
             [
              0.6666666666666666,
              "#ed7953"
             ],
             [
              0.7777777777777778,
              "#fb9f3a"
             ],
             [
              0.8888888888888888,
              "#fdca26"
             ],
             [
              1,
              "#f0f921"
             ]
            ],
            "type": "surface"
           }
          ],
          "table": [
           {
            "cells": {
             "fill": {
              "color": "#EBF0F8"
             },
             "line": {
              "color": "white"
             }
            },
            "header": {
             "fill": {
              "color": "#C8D4E3"
             },
             "line": {
              "color": "white"
             }
            },
            "type": "table"
           }
          ]
         },
         "layout": {
          "annotationdefaults": {
           "arrowcolor": "#2a3f5f",
           "arrowhead": 0,
           "arrowwidth": 1
          },
          "autotypenumbers": "strict",
          "coloraxis": {
           "colorbar": {
            "outlinewidth": 0,
            "ticks": ""
           }
          },
          "colorscale": {
           "diverging": [
            [
             0,
             "#8e0152"
            ],
            [
             0.1,
             "#c51b7d"
            ],
            [
             0.2,
             "#de77ae"
            ],
            [
             0.3,
             "#f1b6da"
            ],
            [
             0.4,
             "#fde0ef"
            ],
            [
             0.5,
             "#f7f7f7"
            ],
            [
             0.6,
             "#e6f5d0"
            ],
            [
             0.7,
             "#b8e186"
            ],
            [
             0.8,
             "#7fbc41"
            ],
            [
             0.9,
             "#4d9221"
            ],
            [
             1,
             "#276419"
            ]
           ],
           "sequential": [
            [
             0,
             "#0d0887"
            ],
            [
             0.1111111111111111,
             "#46039f"
            ],
            [
             0.2222222222222222,
             "#7201a8"
            ],
            [
             0.3333333333333333,
             "#9c179e"
            ],
            [
             0.4444444444444444,
             "#bd3786"
            ],
            [
             0.5555555555555556,
             "#d8576b"
            ],
            [
             0.6666666666666666,
             "#ed7953"
            ],
            [
             0.7777777777777778,
             "#fb9f3a"
            ],
            [
             0.8888888888888888,
             "#fdca26"
            ],
            [
             1,
             "#f0f921"
            ]
           ],
           "sequentialminus": [
            [
             0,
             "#0d0887"
            ],
            [
             0.1111111111111111,
             "#46039f"
            ],
            [
             0.2222222222222222,
             "#7201a8"
            ],
            [
             0.3333333333333333,
             "#9c179e"
            ],
            [
             0.4444444444444444,
             "#bd3786"
            ],
            [
             0.5555555555555556,
             "#d8576b"
            ],
            [
             0.6666666666666666,
             "#ed7953"
            ],
            [
             0.7777777777777778,
             "#fb9f3a"
            ],
            [
             0.8888888888888888,
             "#fdca26"
            ],
            [
             1,
             "#f0f921"
            ]
           ]
          },
          "colorway": [
           "#636efa",
           "#EF553B",
           "#00cc96",
           "#ab63fa",
           "#FFA15A",
           "#19d3f3",
           "#FF6692",
           "#B6E880",
           "#FF97FF",
           "#FECB52"
          ],
          "font": {
           "color": "#2a3f5f"
          },
          "geo": {
           "bgcolor": "white",
           "lakecolor": "white",
           "landcolor": "#E5ECF6",
           "showlakes": true,
           "showland": true,
           "subunitcolor": "white"
          },
          "hoverlabel": {
           "align": "left"
          },
          "hovermode": "closest",
          "mapbox": {
           "style": "light"
          },
          "paper_bgcolor": "white",
          "plot_bgcolor": "#E5ECF6",
          "polar": {
           "angularaxis": {
            "gridcolor": "white",
            "linecolor": "white",
            "ticks": ""
           },
           "bgcolor": "#E5ECF6",
           "radialaxis": {
            "gridcolor": "white",
            "linecolor": "white",
            "ticks": ""
           }
          },
          "scene": {
           "xaxis": {
            "backgroundcolor": "#E5ECF6",
            "gridcolor": "white",
            "gridwidth": 2,
            "linecolor": "white",
            "showbackground": true,
            "ticks": "",
            "zerolinecolor": "white"
           },
           "yaxis": {
            "backgroundcolor": "#E5ECF6",
            "gridcolor": "white",
            "gridwidth": 2,
            "linecolor": "white",
            "showbackground": true,
            "ticks": "",
            "zerolinecolor": "white"
           },
           "zaxis": {
            "backgroundcolor": "#E5ECF6",
            "gridcolor": "white",
            "gridwidth": 2,
            "linecolor": "white",
            "showbackground": true,
            "ticks": "",
            "zerolinecolor": "white"
           }
          },
          "shapedefaults": {
           "line": {
            "color": "#2a3f5f"
           }
          },
          "ternary": {
           "aaxis": {
            "gridcolor": "white",
            "linecolor": "white",
            "ticks": ""
           },
           "baxis": {
            "gridcolor": "white",
            "linecolor": "white",
            "ticks": ""
           },
           "bgcolor": "#E5ECF6",
           "caxis": {
            "gridcolor": "white",
            "linecolor": "white",
            "ticks": ""
           }
          },
          "title": {
           "x": 0.05
          },
          "xaxis": {
           "automargin": true,
           "gridcolor": "white",
           "linecolor": "white",
           "ticks": "",
           "title": {
            "standoff": 15
           },
           "zerolinecolor": "white",
           "zerolinewidth": 2
          },
          "yaxis": {
           "automargin": true,
           "gridcolor": "white",
           "linecolor": "white",
           "ticks": "",
           "title": {
            "standoff": 15
           },
           "zerolinecolor": "white",
           "zerolinewidth": 2
          }
         }
        },
        "title": {
         "text": "Precio Promedio de Alquiler por Distrito al 1 de Nov. de 2024"
        },
        "xaxis": {
         "anchor": "y",
         "categoryarray": [
          "Retiro",
          "Salamanca",
          "Centro",
          "Chamberi",
          "Chamartin",
          "Moncloa-Aravaca",
          "Fuencarral-El Pardo",
          "Arganzuela",
          "Hortaleza",
          "Tetuan",
          "Ciudad Lineal",
          "San Blas",
          "Latina",
          "Barajas",
          "Puente de Vallecas",
          "Carabanchel"
         ],
         "categoryorder": "array",
         "domain": [
          0,
          1
         ],
         "title": {
          "text": "Distrito"
         }
        },
        "yaxis": {
         "anchor": "x",
         "domain": [
          0,
          1
         ],
         "title": {
          "text": "Precio Promedio de Alquiler (€)"
         }
        }
       }
      }
     },
     "metadata": {},
     "output_type": "display_data"
    }
   ],
   "source": [
    "fig1 = px.bar(resultado1, x='nombre', y='alquiler_prom', \n",
    "             title='Precio Promedio de Alquiler por Distrito al 1 de Nov. de 2024',\n",
    "             labels={'nombre': 'Distrito', 'alquiler_prom': 'Precio Promedio de Alquiler (€)'},\n",
    "             color='nombre')\n",
    "             #color_discrete_sequence=px.colors.sequential.Viridis)\n",
    "\n",
    "fig1.update_traces(marker_color='skyblue', text=resultado1['alquiler_prom'], texttemplate='%{y:.2f}', textposition='outside')\n",
    "\n",
    "fig1.show()"
   ]
  },
  {
   "cell_type": "markdown",
   "metadata": {},
   "source": [
    "### 2. Porcentaje del Ingreso del Hogar dedicado al Alquiler"
   ]
  },
  {
   "cell_type": "code",
   "execution_count": 4,
   "metadata": {},
   "outputs": [],
   "source": [
    "query2='''\n",
    "SELECT d.nombre, \n",
    "    round(AVG(i.precio)+AVG(r.precio)/2,2) AS alquiler_prom, \n",
    "    AVG(ih.total)/12 AS ingreso_prom_hogar,\n",
    "    (AVG(i.precio)+AVG(r.precio)/2) / (AVG(ih.total)/12) AS porc_alquiler_ingreso\n",
    "FROM distritos d\n",
    "INNER JOIN idealista i ON d.id_distrito = i.id_distrito\n",
    "INNER JOIN redpiso r ON d.id_distrito = r.id_distrito\n",
    "INNER JOIN ingresos_hogar ih ON d.id_distrito = ih.id_distrito\n",
    "GROUP BY d.nombre\n",
    "ORDER BY porc_alquiler_ingreso DESC\n",
    ";'''\n"
   ]
  },
  {
   "cell_type": "code",
   "execution_count": 5,
   "metadata": {},
   "outputs": [
    {
     "data": {
      "text/html": [
       "<div>\n",
       "<style scoped>\n",
       "    .dataframe tbody tr th:only-of-type {\n",
       "        vertical-align: middle;\n",
       "    }\n",
       "\n",
       "    .dataframe tbody tr th {\n",
       "        vertical-align: top;\n",
       "    }\n",
       "\n",
       "    .dataframe thead th {\n",
       "        text-align: right;\n",
       "    }\n",
       "</style>\n",
       "<table border=\"1\" class=\"dataframe\">\n",
       "  <thead>\n",
       "    <tr style=\"text-align: right;\">\n",
       "      <th></th>\n",
       "      <th>nombre</th>\n",
       "      <th>alquiler_prom</th>\n",
       "      <th>ingreso_prom_hogar</th>\n",
       "      <th>porc_alquiler_ingreso</th>\n",
       "    </tr>\n",
       "  </thead>\n",
       "  <tbody>\n",
       "    <tr>\n",
       "      <th>0</th>\n",
       "      <td>Centro</td>\n",
       "      <td>2812.58</td>\n",
       "      <td>2999.677083</td>\n",
       "      <td>0.937629</td>\n",
       "    </tr>\n",
       "    <tr>\n",
       "      <th>1</th>\n",
       "      <td>Tetuan</td>\n",
       "      <td>2191.18</td>\n",
       "      <td>3172.885417</td>\n",
       "      <td>0.690596</td>\n",
       "    </tr>\n",
       "    <tr>\n",
       "      <th>2</th>\n",
       "      <td>Usera</td>\n",
       "      <td>1621.43</td>\n",
       "      <td>2349.500000</td>\n",
       "      <td>0.690116</td>\n",
       "    </tr>\n",
       "    <tr>\n",
       "      <th>3</th>\n",
       "      <td>Puente de Vallecas</td>\n",
       "      <td>1524.30</td>\n",
       "      <td>2256.322917</td>\n",
       "      <td>0.675569</td>\n",
       "    </tr>\n",
       "    <tr>\n",
       "      <th>4</th>\n",
       "      <td>Latina</td>\n",
       "      <td>1800.28</td>\n",
       "      <td>2698.114583</td>\n",
       "      <td>0.667237</td>\n",
       "    </tr>\n",
       "    <tr>\n",
       "      <th>5</th>\n",
       "      <td>Retiro</td>\n",
       "      <td>3090.77</td>\n",
       "      <td>4637.322917</td>\n",
       "      <td>0.666498</td>\n",
       "    </tr>\n",
       "    <tr>\n",
       "      <th>6</th>\n",
       "      <td>Vicalvaro</td>\n",
       "      <td>1903.33</td>\n",
       "      <td>2895.270833</td>\n",
       "      <td>0.657394</td>\n",
       "    </tr>\n",
       "    <tr>\n",
       "      <th>7</th>\n",
       "      <td>Moratalaz</td>\n",
       "      <td>1982.50</td>\n",
       "      <td>3090.291667</td>\n",
       "      <td>0.641525</td>\n",
       "    </tr>\n",
       "    <tr>\n",
       "      <th>8</th>\n",
       "      <td>Ciudad Lineal</td>\n",
       "      <td>2082.83</td>\n",
       "      <td>3310.718750</td>\n",
       "      <td>0.629118</td>\n",
       "    </tr>\n",
       "    <tr>\n",
       "      <th>9</th>\n",
       "      <td>Arganzuela</td>\n",
       "      <td>2295.21</td>\n",
       "      <td>3684.468750</td>\n",
       "      <td>0.622943</td>\n",
       "    </tr>\n",
       "    <tr>\n",
       "      <th>10</th>\n",
       "      <td>Villaverde</td>\n",
       "      <td>1503.13</td>\n",
       "      <td>2416.937500</td>\n",
       "      <td>0.621913</td>\n",
       "    </tr>\n",
       "    <tr>\n",
       "      <th>11</th>\n",
       "      <td>Salamanca</td>\n",
       "      <td>3051.60</td>\n",
       "      <td>4961.343750</td>\n",
       "      <td>0.615075</td>\n",
       "    </tr>\n",
       "    <tr>\n",
       "      <th>12</th>\n",
       "      <td>Chamberi</td>\n",
       "      <td>2769.17</td>\n",
       "      <td>4520.770833</td>\n",
       "      <td>0.612543</td>\n",
       "    </tr>\n",
       "    <tr>\n",
       "      <th>13</th>\n",
       "      <td>San Blas</td>\n",
       "      <td>1801.18</td>\n",
       "      <td>3122.406250</td>\n",
       "      <td>0.576857</td>\n",
       "    </tr>\n",
       "    <tr>\n",
       "      <th>14</th>\n",
       "      <td>Carabanchel</td>\n",
       "      <td>1399.50</td>\n",
       "      <td>2528.333333</td>\n",
       "      <td>0.553527</td>\n",
       "    </tr>\n",
       "    <tr>\n",
       "      <th>15</th>\n",
       "      <td>Fuencarral-El Pardo</td>\n",
       "      <td>2355.55</td>\n",
       "      <td>4419.864583</td>\n",
       "      <td>0.532946</td>\n",
       "    </tr>\n",
       "    <tr>\n",
       "      <th>16</th>\n",
       "      <td>Hortaleza</td>\n",
       "      <td>2287.41</td>\n",
       "      <td>4343.520833</td>\n",
       "      <td>0.526626</td>\n",
       "    </tr>\n",
       "    <tr>\n",
       "      <th>17</th>\n",
       "      <td>Moncloa-Aravaca</td>\n",
       "      <td>2462.58</td>\n",
       "      <td>5135.822917</td>\n",
       "      <td>0.479490</td>\n",
       "    </tr>\n",
       "    <tr>\n",
       "      <th>18</th>\n",
       "      <td>Chamartin</td>\n",
       "      <td>2550.56</td>\n",
       "      <td>5689.833333</td>\n",
       "      <td>0.448267</td>\n",
       "    </tr>\n",
       "    <tr>\n",
       "      <th>19</th>\n",
       "      <td>Barajas</td>\n",
       "      <td>1570.00</td>\n",
       "      <td>4155.927083</td>\n",
       "      <td>0.377774</td>\n",
       "    </tr>\n",
       "  </tbody>\n",
       "</table>\n",
       "</div>"
      ],
      "text/plain": [
       "                 nombre alquiler_prom  ingreso_prom_hogar  \\\n",
       "0                Centro       2812.58         2999.677083   \n",
       "1                Tetuan       2191.18         3172.885417   \n",
       "2                 Usera       1621.43         2349.500000   \n",
       "3    Puente de Vallecas       1524.30         2256.322917   \n",
       "4                Latina       1800.28         2698.114583   \n",
       "5                Retiro       3090.77         4637.322917   \n",
       "6             Vicalvaro       1903.33         2895.270833   \n",
       "7             Moratalaz       1982.50         3090.291667   \n",
       "8         Ciudad Lineal       2082.83         3310.718750   \n",
       "9            Arganzuela       2295.21         3684.468750   \n",
       "10           Villaverde       1503.13         2416.937500   \n",
       "11            Salamanca       3051.60         4961.343750   \n",
       "12             Chamberi       2769.17         4520.770833   \n",
       "13             San Blas       1801.18         3122.406250   \n",
       "14          Carabanchel       1399.50         2528.333333   \n",
       "15  Fuencarral-El Pardo       2355.55         4419.864583   \n",
       "16            Hortaleza       2287.41         4343.520833   \n",
       "17      Moncloa-Aravaca       2462.58         5135.822917   \n",
       "18            Chamartin       2550.56         5689.833333   \n",
       "19              Barajas       1570.00         4155.927083   \n",
       "\n",
       "    porc_alquiler_ingreso  \n",
       "0                0.937629  \n",
       "1                0.690596  \n",
       "2                0.690116  \n",
       "3                0.675569  \n",
       "4                0.667237  \n",
       "5                0.666498  \n",
       "6                0.657394  \n",
       "7                0.641525  \n",
       "8                0.629118  \n",
       "9                0.622943  \n",
       "10               0.621913  \n",
       "11               0.615075  \n",
       "12               0.612543  \n",
       "13               0.576857  \n",
       "14               0.553527  \n",
       "15               0.532946  \n",
       "16               0.526626  \n",
       "17               0.479490  \n",
       "18               0.448267  \n",
       "19               0.377774  "
      ]
     },
     "execution_count": 5,
     "metadata": {},
     "output_type": "execute_result"
    }
   ],
   "source": [
    "resultado2 = sf.dbeaver_fetch(sf.dbeaver_conexion(\"alquileresmadrid\"),query2)\n",
    "resultado2"
   ]
  },
  {
   "cell_type": "code",
   "execution_count": 44,
   "metadata": {},
   "outputs": [
    {
     "data": {
      "application/vnd.plotly.v1+json": {
       "config": {
        "plotlyServerURL": "https://plot.ly"
       },
       "data": [
        {
         "mode": "lines+markers",
         "name": "Precio Promedio de Alquiler",
         "type": "scatter",
         "x": [
          "Centro",
          "Tetuan",
          "Usera",
          "Puente de Vallecas",
          "Latina",
          "Retiro",
          "Vicalvaro",
          "Moratalaz",
          "Ciudad Lineal",
          "Arganzuela",
          "Villaverde",
          "Salamanca",
          "Chamberi",
          "San Blas",
          "Carabanchel",
          "Fuencarral-El Pardo",
          "Hortaleza",
          "Moncloa-Aravaca",
          "Chamartin",
          "Barajas"
         ],
         "y": [
          2812.58,
          2191.18,
          1621.43,
          1524.3,
          1800.28,
          3090.77,
          1903.33,
          1982.5,
          2082.83,
          2295.21,
          1503.13,
          3051.6,
          2769.17,
          1801.18,
          1399.5,
          2355.55,
          2287.41,
          2462.58,
          2550.56,
          1570
         ]
        },
        {
         "mode": "lines+markers",
         "name": "Ingreso Promedio por Hogar",
         "type": "scatter",
         "x": [
          "Centro",
          "Tetuan",
          "Usera",
          "Puente de Vallecas",
          "Latina",
          "Retiro",
          "Vicalvaro",
          "Moratalaz",
          "Ciudad Lineal",
          "Arganzuela",
          "Villaverde",
          "Salamanca",
          "Chamberi",
          "San Blas",
          "Carabanchel",
          "Fuencarral-El Pardo",
          "Hortaleza",
          "Moncloa-Aravaca",
          "Chamartin",
          "Barajas"
         ],
         "y": [
          2999.6770833333335,
          3172.8854166666665,
          2349.5,
          2256.3229166666665,
          2698.1145833333335,
          4637.322916666667,
          2895.2708333333335,
          3090.2916666666665,
          3310.71875,
          3684.46875,
          2416.9375,
          4961.34375,
          4520.770833333333,
          3122.40625,
          2528.3333333333335,
          4419.864583333333,
          4343.520833333333,
          5135.822916666667,
          5689.833333333333,
          4155.927083333333
         ]
        }
       ],
       "layout": {
        "template": {
         "data": {
          "bar": [
           {
            "error_x": {
             "color": "#2a3f5f"
            },
            "error_y": {
             "color": "#2a3f5f"
            },
            "marker": {
             "line": {
              "color": "#E5ECF6",
              "width": 0.5
             },
             "pattern": {
              "fillmode": "overlay",
              "size": 10,
              "solidity": 0.2
             }
            },
            "type": "bar"
           }
          ],
          "barpolar": [
           {
            "marker": {
             "line": {
              "color": "#E5ECF6",
              "width": 0.5
             },
             "pattern": {
              "fillmode": "overlay",
              "size": 10,
              "solidity": 0.2
             }
            },
            "type": "barpolar"
           }
          ],
          "carpet": [
           {
            "aaxis": {
             "endlinecolor": "#2a3f5f",
             "gridcolor": "white",
             "linecolor": "white",
             "minorgridcolor": "white",
             "startlinecolor": "#2a3f5f"
            },
            "baxis": {
             "endlinecolor": "#2a3f5f",
             "gridcolor": "white",
             "linecolor": "white",
             "minorgridcolor": "white",
             "startlinecolor": "#2a3f5f"
            },
            "type": "carpet"
           }
          ],
          "choropleth": [
           {
            "colorbar": {
             "outlinewidth": 0,
             "ticks": ""
            },
            "type": "choropleth"
           }
          ],
          "contour": [
           {
            "colorbar": {
             "outlinewidth": 0,
             "ticks": ""
            },
            "colorscale": [
             [
              0,
              "#0d0887"
             ],
             [
              0.1111111111111111,
              "#46039f"
             ],
             [
              0.2222222222222222,
              "#7201a8"
             ],
             [
              0.3333333333333333,
              "#9c179e"
             ],
             [
              0.4444444444444444,
              "#bd3786"
             ],
             [
              0.5555555555555556,
              "#d8576b"
             ],
             [
              0.6666666666666666,
              "#ed7953"
             ],
             [
              0.7777777777777778,
              "#fb9f3a"
             ],
             [
              0.8888888888888888,
              "#fdca26"
             ],
             [
              1,
              "#f0f921"
             ]
            ],
            "type": "contour"
           }
          ],
          "contourcarpet": [
           {
            "colorbar": {
             "outlinewidth": 0,
             "ticks": ""
            },
            "type": "contourcarpet"
           }
          ],
          "heatmap": [
           {
            "colorbar": {
             "outlinewidth": 0,
             "ticks": ""
            },
            "colorscale": [
             [
              0,
              "#0d0887"
             ],
             [
              0.1111111111111111,
              "#46039f"
             ],
             [
              0.2222222222222222,
              "#7201a8"
             ],
             [
              0.3333333333333333,
              "#9c179e"
             ],
             [
              0.4444444444444444,
              "#bd3786"
             ],
             [
              0.5555555555555556,
              "#d8576b"
             ],
             [
              0.6666666666666666,
              "#ed7953"
             ],
             [
              0.7777777777777778,
              "#fb9f3a"
             ],
             [
              0.8888888888888888,
              "#fdca26"
             ],
             [
              1,
              "#f0f921"
             ]
            ],
            "type": "heatmap"
           }
          ],
          "heatmapgl": [
           {
            "colorbar": {
             "outlinewidth": 0,
             "ticks": ""
            },
            "colorscale": [
             [
              0,
              "#0d0887"
             ],
             [
              0.1111111111111111,
              "#46039f"
             ],
             [
              0.2222222222222222,
              "#7201a8"
             ],
             [
              0.3333333333333333,
              "#9c179e"
             ],
             [
              0.4444444444444444,
              "#bd3786"
             ],
             [
              0.5555555555555556,
              "#d8576b"
             ],
             [
              0.6666666666666666,
              "#ed7953"
             ],
             [
              0.7777777777777778,
              "#fb9f3a"
             ],
             [
              0.8888888888888888,
              "#fdca26"
             ],
             [
              1,
              "#f0f921"
             ]
            ],
            "type": "heatmapgl"
           }
          ],
          "histogram": [
           {
            "marker": {
             "pattern": {
              "fillmode": "overlay",
              "size": 10,
              "solidity": 0.2
             }
            },
            "type": "histogram"
           }
          ],
          "histogram2d": [
           {
            "colorbar": {
             "outlinewidth": 0,
             "ticks": ""
            },
            "colorscale": [
             [
              0,
              "#0d0887"
             ],
             [
              0.1111111111111111,
              "#46039f"
             ],
             [
              0.2222222222222222,
              "#7201a8"
             ],
             [
              0.3333333333333333,
              "#9c179e"
             ],
             [
              0.4444444444444444,
              "#bd3786"
             ],
             [
              0.5555555555555556,
              "#d8576b"
             ],
             [
              0.6666666666666666,
              "#ed7953"
             ],
             [
              0.7777777777777778,
              "#fb9f3a"
             ],
             [
              0.8888888888888888,
              "#fdca26"
             ],
             [
              1,
              "#f0f921"
             ]
            ],
            "type": "histogram2d"
           }
          ],
          "histogram2dcontour": [
           {
            "colorbar": {
             "outlinewidth": 0,
             "ticks": ""
            },
            "colorscale": [
             [
              0,
              "#0d0887"
             ],
             [
              0.1111111111111111,
              "#46039f"
             ],
             [
              0.2222222222222222,
              "#7201a8"
             ],
             [
              0.3333333333333333,
              "#9c179e"
             ],
             [
              0.4444444444444444,
              "#bd3786"
             ],
             [
              0.5555555555555556,
              "#d8576b"
             ],
             [
              0.6666666666666666,
              "#ed7953"
             ],
             [
              0.7777777777777778,
              "#fb9f3a"
             ],
             [
              0.8888888888888888,
              "#fdca26"
             ],
             [
              1,
              "#f0f921"
             ]
            ],
            "type": "histogram2dcontour"
           }
          ],
          "mesh3d": [
           {
            "colorbar": {
             "outlinewidth": 0,
             "ticks": ""
            },
            "type": "mesh3d"
           }
          ],
          "parcoords": [
           {
            "line": {
             "colorbar": {
              "outlinewidth": 0,
              "ticks": ""
             }
            },
            "type": "parcoords"
           }
          ],
          "pie": [
           {
            "automargin": true,
            "type": "pie"
           }
          ],
          "scatter": [
           {
            "fillpattern": {
             "fillmode": "overlay",
             "size": 10,
             "solidity": 0.2
            },
            "type": "scatter"
           }
          ],
          "scatter3d": [
           {
            "line": {
             "colorbar": {
              "outlinewidth": 0,
              "ticks": ""
             }
            },
            "marker": {
             "colorbar": {
              "outlinewidth": 0,
              "ticks": ""
             }
            },
            "type": "scatter3d"
           }
          ],
          "scattercarpet": [
           {
            "marker": {
             "colorbar": {
              "outlinewidth": 0,
              "ticks": ""
             }
            },
            "type": "scattercarpet"
           }
          ],
          "scattergeo": [
           {
            "marker": {
             "colorbar": {
              "outlinewidth": 0,
              "ticks": ""
             }
            },
            "type": "scattergeo"
           }
          ],
          "scattergl": [
           {
            "marker": {
             "colorbar": {
              "outlinewidth": 0,
              "ticks": ""
             }
            },
            "type": "scattergl"
           }
          ],
          "scattermapbox": [
           {
            "marker": {
             "colorbar": {
              "outlinewidth": 0,
              "ticks": ""
             }
            },
            "type": "scattermapbox"
           }
          ],
          "scatterpolar": [
           {
            "marker": {
             "colorbar": {
              "outlinewidth": 0,
              "ticks": ""
             }
            },
            "type": "scatterpolar"
           }
          ],
          "scatterpolargl": [
           {
            "marker": {
             "colorbar": {
              "outlinewidth": 0,
              "ticks": ""
             }
            },
            "type": "scatterpolargl"
           }
          ],
          "scatterternary": [
           {
            "marker": {
             "colorbar": {
              "outlinewidth": 0,
              "ticks": ""
             }
            },
            "type": "scatterternary"
           }
          ],
          "surface": [
           {
            "colorbar": {
             "outlinewidth": 0,
             "ticks": ""
            },
            "colorscale": [
             [
              0,
              "#0d0887"
             ],
             [
              0.1111111111111111,
              "#46039f"
             ],
             [
              0.2222222222222222,
              "#7201a8"
             ],
             [
              0.3333333333333333,
              "#9c179e"
             ],
             [
              0.4444444444444444,
              "#bd3786"
             ],
             [
              0.5555555555555556,
              "#d8576b"
             ],
             [
              0.6666666666666666,
              "#ed7953"
             ],
             [
              0.7777777777777778,
              "#fb9f3a"
             ],
             [
              0.8888888888888888,
              "#fdca26"
             ],
             [
              1,
              "#f0f921"
             ]
            ],
            "type": "surface"
           }
          ],
          "table": [
           {
            "cells": {
             "fill": {
              "color": "#EBF0F8"
             },
             "line": {
              "color": "white"
             }
            },
            "header": {
             "fill": {
              "color": "#C8D4E3"
             },
             "line": {
              "color": "white"
             }
            },
            "type": "table"
           }
          ]
         },
         "layout": {
          "annotationdefaults": {
           "arrowcolor": "#2a3f5f",
           "arrowhead": 0,
           "arrowwidth": 1
          },
          "autotypenumbers": "strict",
          "coloraxis": {
           "colorbar": {
            "outlinewidth": 0,
            "ticks": ""
           }
          },
          "colorscale": {
           "diverging": [
            [
             0,
             "#8e0152"
            ],
            [
             0.1,
             "#c51b7d"
            ],
            [
             0.2,
             "#de77ae"
            ],
            [
             0.3,
             "#f1b6da"
            ],
            [
             0.4,
             "#fde0ef"
            ],
            [
             0.5,
             "#f7f7f7"
            ],
            [
             0.6,
             "#e6f5d0"
            ],
            [
             0.7,
             "#b8e186"
            ],
            [
             0.8,
             "#7fbc41"
            ],
            [
             0.9,
             "#4d9221"
            ],
            [
             1,
             "#276419"
            ]
           ],
           "sequential": [
            [
             0,
             "#0d0887"
            ],
            [
             0.1111111111111111,
             "#46039f"
            ],
            [
             0.2222222222222222,
             "#7201a8"
            ],
            [
             0.3333333333333333,
             "#9c179e"
            ],
            [
             0.4444444444444444,
             "#bd3786"
            ],
            [
             0.5555555555555556,
             "#d8576b"
            ],
            [
             0.6666666666666666,
             "#ed7953"
            ],
            [
             0.7777777777777778,
             "#fb9f3a"
            ],
            [
             0.8888888888888888,
             "#fdca26"
            ],
            [
             1,
             "#f0f921"
            ]
           ],
           "sequentialminus": [
            [
             0,
             "#0d0887"
            ],
            [
             0.1111111111111111,
             "#46039f"
            ],
            [
             0.2222222222222222,
             "#7201a8"
            ],
            [
             0.3333333333333333,
             "#9c179e"
            ],
            [
             0.4444444444444444,
             "#bd3786"
            ],
            [
             0.5555555555555556,
             "#d8576b"
            ],
            [
             0.6666666666666666,
             "#ed7953"
            ],
            [
             0.7777777777777778,
             "#fb9f3a"
            ],
            [
             0.8888888888888888,
             "#fdca26"
            ],
            [
             1,
             "#f0f921"
            ]
           ]
          },
          "colorway": [
           "#636efa",
           "#EF553B",
           "#00cc96",
           "#ab63fa",
           "#FFA15A",
           "#19d3f3",
           "#FF6692",
           "#B6E880",
           "#FF97FF",
           "#FECB52"
          ],
          "font": {
           "color": "#2a3f5f"
          },
          "geo": {
           "bgcolor": "white",
           "lakecolor": "white",
           "landcolor": "#E5ECF6",
           "showlakes": true,
           "showland": true,
           "subunitcolor": "white"
          },
          "hoverlabel": {
           "align": "left"
          },
          "hovermode": "closest",
          "mapbox": {
           "style": "light"
          },
          "paper_bgcolor": "white",
          "plot_bgcolor": "#E5ECF6",
          "polar": {
           "angularaxis": {
            "gridcolor": "white",
            "linecolor": "white",
            "ticks": ""
           },
           "bgcolor": "#E5ECF6",
           "radialaxis": {
            "gridcolor": "white",
            "linecolor": "white",
            "ticks": ""
           }
          },
          "scene": {
           "xaxis": {
            "backgroundcolor": "#E5ECF6",
            "gridcolor": "white",
            "gridwidth": 2,
            "linecolor": "white",
            "showbackground": true,
            "ticks": "",
            "zerolinecolor": "white"
           },
           "yaxis": {
            "backgroundcolor": "#E5ECF6",
            "gridcolor": "white",
            "gridwidth": 2,
            "linecolor": "white",
            "showbackground": true,
            "ticks": "",
            "zerolinecolor": "white"
           },
           "zaxis": {
            "backgroundcolor": "#E5ECF6",
            "gridcolor": "white",
            "gridwidth": 2,
            "linecolor": "white",
            "showbackground": true,
            "ticks": "",
            "zerolinecolor": "white"
           }
          },
          "shapedefaults": {
           "line": {
            "color": "#2a3f5f"
           }
          },
          "ternary": {
           "aaxis": {
            "gridcolor": "white",
            "linecolor": "white",
            "ticks": ""
           },
           "baxis": {
            "gridcolor": "white",
            "linecolor": "white",
            "ticks": ""
           },
           "bgcolor": "#E5ECF6",
           "caxis": {
            "gridcolor": "white",
            "linecolor": "white",
            "ticks": ""
           }
          },
          "title": {
           "x": 0.05
          },
          "xaxis": {
           "automargin": true,
           "gridcolor": "white",
           "linecolor": "white",
           "ticks": "",
           "title": {
            "standoff": 15
           },
           "zerolinecolor": "white",
           "zerolinewidth": 2
          },
          "yaxis": {
           "automargin": true,
           "gridcolor": "white",
           "linecolor": "white",
           "ticks": "",
           "title": {
            "standoff": 15
           },
           "zerolinecolor": "white",
           "zerolinewidth": 2
          }
         }
        },
        "title": {
         "text": "Precio Promedio de Alquiler vs. Ingreso Promedio por Hogar"
        },
        "xaxis": {
         "tickangle": -45,
         "title": {
          "text": "Distrito"
         }
        },
        "yaxis": {
         "title": {
          "text": "Euros"
         }
        }
       }
      }
     },
     "metadata": {},
     "output_type": "display_data"
    }
   ],
   "source": [
    "fig2 = go.Figure()\n",
    "\n",
    "fig2.add_trace(go.Scatter(x=resultado2['nombre'], y=resultado2['alquiler_prom'],\n",
    "                         mode='lines+markers',\n",
    "                         name='Precio Promedio de Alquiler'))\n",
    "                         \n",
    "fig2.add_trace(go.Scatter(x=resultado2['nombre'], y=resultado2['ingreso_prom_hogar'],\n",
    "                         mode='lines+markers',\n",
    "                         name='Ingreso Promedio por Hogar'))\n",
    "\n",
    "fig2.update_layout(title='Precio Promedio de Alquiler vs. Ingreso Promedio por Hogar',\n",
    "                  xaxis_title='Distrito',\n",
    "                  yaxis_title='Euros',\n",
    "                  xaxis_tickangle=-45)\n",
    "\n",
    "fig2.show()"
   ]
  },
  {
   "cell_type": "markdown",
   "metadata": {},
   "source": [
    "### 3. Identificación de outliers en precios de Idealista y Redpiso"
   ]
  },
  {
   "cell_type": "code",
   "execution_count": 6,
   "metadata": {},
   "outputs": [],
   "source": [
    "query3 = '''\n",
    "SELECT \n",
    "    'Idealista' AS fuente,\n",
    "    precio \n",
    "FROM \n",
    "    idealista\n",
    "UNION ALL\n",
    "SELECT \n",
    "    'Redpiso' AS fuente,\n",
    "    precio \n",
    "FROM \n",
    "    redpiso\n",
    ";'''"
   ]
  },
  {
   "cell_type": "code",
   "execution_count": 7,
   "metadata": {},
   "outputs": [
    {
     "data": {
      "text/html": [
       "<div>\n",
       "<style scoped>\n",
       "    .dataframe tbody tr th:only-of-type {\n",
       "        vertical-align: middle;\n",
       "    }\n",
       "\n",
       "    .dataframe tbody tr th {\n",
       "        vertical-align: top;\n",
       "    }\n",
       "\n",
       "    .dataframe thead th {\n",
       "        text-align: right;\n",
       "    }\n",
       "</style>\n",
       "<table border=\"1\" class=\"dataframe\">\n",
       "  <thead>\n",
       "    <tr style=\"text-align: right;\">\n",
       "      <th></th>\n",
       "      <th>fuente</th>\n",
       "      <th>precio</th>\n",
       "    </tr>\n",
       "  </thead>\n",
       "  <tbody>\n",
       "    <tr>\n",
       "      <th>0</th>\n",
       "      <td>Idealista</td>\n",
       "      <td>1350</td>\n",
       "    </tr>\n",
       "    <tr>\n",
       "      <th>1</th>\n",
       "      <td>Idealista</td>\n",
       "      <td>2300</td>\n",
       "    </tr>\n",
       "    <tr>\n",
       "      <th>2</th>\n",
       "      <td>Idealista</td>\n",
       "      <td>1200</td>\n",
       "    </tr>\n",
       "    <tr>\n",
       "      <th>3</th>\n",
       "      <td>Idealista</td>\n",
       "      <td>3200</td>\n",
       "    </tr>\n",
       "    <tr>\n",
       "      <th>4</th>\n",
       "      <td>Idealista</td>\n",
       "      <td>750</td>\n",
       "    </tr>\n",
       "    <tr>\n",
       "      <th>...</th>\n",
       "      <td>...</td>\n",
       "      <td>...</td>\n",
       "    </tr>\n",
       "    <tr>\n",
       "      <th>920</th>\n",
       "      <td>Redpiso</td>\n",
       "      <td>1500</td>\n",
       "    </tr>\n",
       "    <tr>\n",
       "      <th>921</th>\n",
       "      <td>Redpiso</td>\n",
       "      <td>1500</td>\n",
       "    </tr>\n",
       "    <tr>\n",
       "      <th>922</th>\n",
       "      <td>Redpiso</td>\n",
       "      <td>1500</td>\n",
       "    </tr>\n",
       "    <tr>\n",
       "      <th>923</th>\n",
       "      <td>Redpiso</td>\n",
       "      <td>1500</td>\n",
       "    </tr>\n",
       "    <tr>\n",
       "      <th>924</th>\n",
       "      <td>Redpiso</td>\n",
       "      <td>1500</td>\n",
       "    </tr>\n",
       "  </tbody>\n",
       "</table>\n",
       "<p>925 rows × 2 columns</p>\n",
       "</div>"
      ],
      "text/plain": [
       "        fuente  precio\n",
       "0    Idealista    1350\n",
       "1    Idealista    2300\n",
       "2    Idealista    1200\n",
       "3    Idealista    3200\n",
       "4    Idealista     750\n",
       "..         ...     ...\n",
       "920    Redpiso    1500\n",
       "921    Redpiso    1500\n",
       "922    Redpiso    1500\n",
       "923    Redpiso    1500\n",
       "924    Redpiso    1500\n",
       "\n",
       "[925 rows x 2 columns]"
      ]
     },
     "execution_count": 7,
     "metadata": {},
     "output_type": "execute_result"
    }
   ],
   "source": [
    "resultado3 = sf.dbeaver_fetch(sf.dbeaver_conexion(\"alquileresmadrid\"),query3)\n",
    "resultado3"
   ]
  },
  {
   "cell_type": "code",
   "execution_count": 8,
   "metadata": {},
   "outputs": [
    {
     "data": {
      "image/png": "[encoded data removed]",
      "text/plain": [
       "<Figure size 1000x500 with 1 Axes>"
      ]
     },
     "metadata": {},
     "output_type": "display_data"
    }
   ],
   "source": [
    "plt.figure(figsize = (10,5))\n",
    "sns.boxplot(x = \"fuente\",\n",
    "            y = \"precio\",\n",
    "            data = resultado3, \n",
    "            palette = \"mako\",\n",
    "            )\n",
    "\n",
    "\n",
    "plt.xticks(rotation = 20)\n",
    "plt.title(\"Dispersión de los precios del alquiler por origen de los datos\", fontsize = 15)\n",
    "plt.xlabel(\"Origen de los datos\", fontsize = 12)\n",
    "plt.ylabel(\"Dispersión del precio\")\n",
    "\n",
    "plt.show()"
   ]
  },
  {
   "cell_type": "markdown",
   "metadata": {},
   "source": [
    "### 4. Conteo de Anuncios de Alquiler por Distrito"
   ]
  },
  {
   "cell_type": "code",
   "execution_count": 9,
   "metadata": {},
   "outputs": [],
   "source": [
    "query4 = '''\n",
    "SELECT d.nombre, \n",
    "       (SELECT COUNT(*)\n",
    "            FROM idealista i\n",
    "            WHERE i.id_distrito = d.id_distrito) AS idealista, \n",
    "       (SELECT COUNT(*)\n",
    "            FROM redpiso r\n",
    "            WHERE r.id_distrito = d.id_distrito) AS redpiso, \n",
    "       (SELECT COUNT(*)\n",
    "            FROM airbnb a\n",
    "            WHERE a.id_distrito = d.id_distrito) AS airbnb\n",
    "FROM distritos d;\n",
    ";'''"
   ]
  },
  {
   "cell_type": "code",
   "execution_count": 10,
   "metadata": {},
   "outputs": [
    {
     "data": {
      "text/html": [
       "<div>\n",
       "<style scoped>\n",
       "    .dataframe tbody tr th:only-of-type {\n",
       "        vertical-align: middle;\n",
       "    }\n",
       "\n",
       "    .dataframe tbody tr th {\n",
       "        vertical-align: top;\n",
       "    }\n",
       "\n",
       "    .dataframe thead th {\n",
       "        text-align: right;\n",
       "    }\n",
       "</style>\n",
       "<table border=\"1\" class=\"dataframe\">\n",
       "  <thead>\n",
       "    <tr style=\"text-align: right;\">\n",
       "      <th></th>\n",
       "      <th>nombre</th>\n",
       "      <th>idealista</th>\n",
       "      <th>redpiso</th>\n",
       "      <th>airbnb</th>\n",
       "    </tr>\n",
       "  </thead>\n",
       "  <tbody>\n",
       "    <tr>\n",
       "      <th>0</th>\n",
       "      <td>Centro</td>\n",
       "      <td>74</td>\n",
       "      <td>62</td>\n",
       "      <td>210</td>\n",
       "    </tr>\n",
       "    <tr>\n",
       "      <th>1</th>\n",
       "      <td>Arganzuela</td>\n",
       "      <td>20</td>\n",
       "      <td>35</td>\n",
       "      <td>29</td>\n",
       "    </tr>\n",
       "    <tr>\n",
       "      <th>2</th>\n",
       "      <td>Retiro</td>\n",
       "      <td>18</td>\n",
       "      <td>17</td>\n",
       "      <td>8</td>\n",
       "    </tr>\n",
       "    <tr>\n",
       "      <th>3</th>\n",
       "      <td>Salamanca</td>\n",
       "      <td>27</td>\n",
       "      <td>33</td>\n",
       "      <td>13</td>\n",
       "    </tr>\n",
       "    <tr>\n",
       "      <th>4</th>\n",
       "      <td>Chamartin</td>\n",
       "      <td>31</td>\n",
       "      <td>69</td>\n",
       "      <td>4</td>\n",
       "    </tr>\n",
       "    <tr>\n",
       "      <th>5</th>\n",
       "      <td>Tetuan</td>\n",
       "      <td>22</td>\n",
       "      <td>25</td>\n",
       "      <td>22</td>\n",
       "    </tr>\n",
       "    <tr>\n",
       "      <th>6</th>\n",
       "      <td>Chamberi</td>\n",
       "      <td>29</td>\n",
       "      <td>74</td>\n",
       "      <td>26</td>\n",
       "    </tr>\n",
       "    <tr>\n",
       "      <th>7</th>\n",
       "      <td>Fuencarral-El Pardo</td>\n",
       "      <td>13</td>\n",
       "      <td>47</td>\n",
       "      <td>1</td>\n",
       "    </tr>\n",
       "    <tr>\n",
       "      <th>8</th>\n",
       "      <td>Moncloa-Aravaca</td>\n",
       "      <td>26</td>\n",
       "      <td>26</td>\n",
       "      <td>6</td>\n",
       "    </tr>\n",
       "    <tr>\n",
       "      <th>9</th>\n",
       "      <td>Latina</td>\n",
       "      <td>16</td>\n",
       "      <td>31</td>\n",
       "      <td>3</td>\n",
       "    </tr>\n",
       "    <tr>\n",
       "      <th>10</th>\n",
       "      <td>Carabanchel</td>\n",
       "      <td>5</td>\n",
       "      <td>15</td>\n",
       "      <td>7</td>\n",
       "    </tr>\n",
       "    <tr>\n",
       "      <th>11</th>\n",
       "      <td>Usera</td>\n",
       "      <td>7</td>\n",
       "      <td>1</td>\n",
       "      <td>0</td>\n",
       "    </tr>\n",
       "    <tr>\n",
       "      <th>12</th>\n",
       "      <td>Puente de Vallecas</td>\n",
       "      <td>6</td>\n",
       "      <td>43</td>\n",
       "      <td>12</td>\n",
       "    </tr>\n",
       "    <tr>\n",
       "      <th>13</th>\n",
       "      <td>Moratalaz</td>\n",
       "      <td>1</td>\n",
       "      <td>2</td>\n",
       "      <td>0</td>\n",
       "    </tr>\n",
       "    <tr>\n",
       "      <th>14</th>\n",
       "      <td>Ciudad Lineal</td>\n",
       "      <td>18</td>\n",
       "      <td>6</td>\n",
       "      <td>5</td>\n",
       "    </tr>\n",
       "    <tr>\n",
       "      <th>15</th>\n",
       "      <td>Hortaleza</td>\n",
       "      <td>7</td>\n",
       "      <td>44</td>\n",
       "      <td>5</td>\n",
       "    </tr>\n",
       "    <tr>\n",
       "      <th>16</th>\n",
       "      <td>San Blas</td>\n",
       "      <td>5</td>\n",
       "      <td>11</td>\n",
       "      <td>4</td>\n",
       "    </tr>\n",
       "    <tr>\n",
       "      <th>17</th>\n",
       "      <td>Barajas</td>\n",
       "      <td>2</td>\n",
       "      <td>2</td>\n",
       "      <td>4</td>\n",
       "    </tr>\n",
       "    <tr>\n",
       "      <th>18</th>\n",
       "      <td>Villaverde</td>\n",
       "      <td>3</td>\n",
       "      <td>8</td>\n",
       "      <td>0</td>\n",
       "    </tr>\n",
       "    <tr>\n",
       "      <th>19</th>\n",
       "      <td>Villa de Vallecas</td>\n",
       "      <td>35</td>\n",
       "      <td>0</td>\n",
       "      <td>1</td>\n",
       "    </tr>\n",
       "    <tr>\n",
       "      <th>20</th>\n",
       "      <td>Vicalvaro</td>\n",
       "      <td>3</td>\n",
       "      <td>6</td>\n",
       "      <td>0</td>\n",
       "    </tr>\n",
       "  </tbody>\n",
       "</table>\n",
       "</div>"
      ],
      "text/plain": [
       "                 nombre  idealista  redpiso  airbnb\n",
       "0                Centro         74       62     210\n",
       "1            Arganzuela         20       35      29\n",
       "2                Retiro         18       17       8\n",
       "3             Salamanca         27       33      13\n",
       "4             Chamartin         31       69       4\n",
       "5                Tetuan         22       25      22\n",
       "6              Chamberi         29       74      26\n",
       "7   Fuencarral-El Pardo         13       47       1\n",
       "8       Moncloa-Aravaca         26       26       6\n",
       "9                Latina         16       31       3\n",
       "10          Carabanchel          5       15       7\n",
       "11                Usera          7        1       0\n",
       "12   Puente de Vallecas          6       43      12\n",
       "13            Moratalaz          1        2       0\n",
       "14        Ciudad Lineal         18        6       5\n",
       "15            Hortaleza          7       44       5\n",
       "16             San Blas          5       11       4\n",
       "17              Barajas          2        2       4\n",
       "18           Villaverde          3        8       0\n",
       "19    Villa de Vallecas         35        0       1\n",
       "20            Vicalvaro          3        6       0"
      ]
     },
     "execution_count": 10,
     "metadata": {},
     "output_type": "execute_result"
    }
   ],
   "source": [
    "resultado4 = sf.dbeaver_fetch(sf.dbeaver_conexion(\"alquileresmadrid\"),query4)\n",
    "resultado4"
   ]
  },
  {
   "cell_type": "code",
   "execution_count": 51,
   "metadata": {},
   "outputs": [
    {
     "data": {
      "application/vnd.plotly.v1+json": {
       "config": {
        "plotlyServerURL": "https://plot.ly"
       },
       "data": [
        {
         "mode": "lines+markers",
         "name": "Idealista",
         "type": "scatter",
         "x": [
          "Centro",
          "Arganzuela",
          "Retiro",
          "Salamanca",
          "Chamartin",
          "Tetuan",
          "Chamberi",
          "Fuencarral-El Pardo",
          "Moncloa-Aravaca",
          "Latina",
          "Carabanchel",
          "Usera",
          "Puente de Vallecas",
          "Moratalaz",
          "Ciudad Lineal",
          "Hortaleza",
          "San Blas",
          "Barajas",
          "Villaverde",
          "Villa de Vallecas",
          "Vicalvaro"
         ],
         "y": [
          74,
          20,
          18,
          27,
          31,
          22,
          29,
          13,
          26,
          16,
          5,
          7,
          6,
          1,
          18,
          7,
          5,
          2,
          3,
          35,
          3
         ]
        },
        {
         "mode": "lines+markers",
         "name": "Redpiso",
         "type": "scatter",
         "x": [
          "Centro",
          "Arganzuela",
          "Retiro",
          "Salamanca",
          "Chamartin",
          "Tetuan",
          "Chamberi",
          "Fuencarral-El Pardo",
          "Moncloa-Aravaca",
          "Latina",
          "Carabanchel",
          "Usera",
          "Puente de Vallecas",
          "Moratalaz",
          "Ciudad Lineal",
          "Hortaleza",
          "San Blas",
          "Barajas",
          "Villaverde",
          "Villa de Vallecas",
          "Vicalvaro"
         ],
         "y": [
          62,
          35,
          17,
          33,
          69,
          25,
          74,
          47,
          26,
          31,
          15,
          1,
          43,
          2,
          6,
          44,
          11,
          2,
          8,
          0,
          6
         ]
        },
        {
         "mode": "lines+markers",
         "name": "Airbnb",
         "type": "scatter",
         "x": [
          "Centro",
          "Arganzuela",
          "Retiro",
          "Salamanca",
          "Chamartin",
          "Tetuan",
          "Chamberi",
          "Fuencarral-El Pardo",
          "Moncloa-Aravaca",
          "Latina",
          "Carabanchel",
          "Usera",
          "Puente de Vallecas",
          "Moratalaz",
          "Ciudad Lineal",
          "Hortaleza",
          "San Blas",
          "Barajas",
          "Villaverde",
          "Villa de Vallecas",
          "Vicalvaro"
         ],
         "y": [
          210,
          29,
          8,
          13,
          4,
          22,
          26,
          1,
          6,
          3,
          7,
          0,
          12,
          0,
          5,
          5,
          4,
          4,
          0,
          1,
          0
         ]
        }
       ],
       "layout": {
        "template": {
         "data": {
          "bar": [
           {
            "error_x": {
             "color": "#2a3f5f"
            },
            "error_y": {
             "color": "#2a3f5f"
            },
            "marker": {
             "line": {
              "color": "#E5ECF6",
              "width": 0.5
             },
             "pattern": {
              "fillmode": "overlay",
              "size": 10,
              "solidity": 0.2
             }
            },
            "type": "bar"
           }
          ],
          "barpolar": [
           {
            "marker": {
             "line": {
              "color": "#E5ECF6",
              "width": 0.5
             },
             "pattern": {
              "fillmode": "overlay",
              "size": 10,
              "solidity": 0.2
             }
            },
            "type": "barpolar"
           }
          ],
          "carpet": [
           {
            "aaxis": {
             "endlinecolor": "#2a3f5f",
             "gridcolor": "white",
             "linecolor": "white",
             "minorgridcolor": "white",
             "startlinecolor": "#2a3f5f"
            },
            "baxis": {
             "endlinecolor": "#2a3f5f",
             "gridcolor": "white",
             "linecolor": "white",
             "minorgridcolor": "white",
             "startlinecolor": "#2a3f5f"
            },
            "type": "carpet"
           }
          ],
          "choropleth": [
           {
            "colorbar": {
             "outlinewidth": 0,
             "ticks": ""
            },
            "type": "choropleth"
           }
          ],
          "contour": [
           {
            "colorbar": {
             "outlinewidth": 0,
             "ticks": ""
            },
            "colorscale": [
             [
              0,
              "#0d0887"
             ],
             [
              0.1111111111111111,
              "#46039f"
             ],
             [
              0.2222222222222222,
              "#7201a8"
             ],
             [
              0.3333333333333333,
              "#9c179e"
             ],
             [
              0.4444444444444444,
              "#bd3786"
             ],
             [
              0.5555555555555556,
              "#d8576b"
             ],
             [
              0.6666666666666666,
              "#ed7953"
             ],
             [
              0.7777777777777778,
              "#fb9f3a"
             ],
             [
              0.8888888888888888,
              "#fdca26"
             ],
             [
              1,
              "#f0f921"
             ]
            ],
            "type": "contour"
           }
          ],
          "contourcarpet": [
           {
            "colorbar": {
             "outlinewidth": 0,
             "ticks": ""
            },
            "type": "contourcarpet"
           }
          ],
          "heatmap": [
           {
            "colorbar": {
             "outlinewidth": 0,
             "ticks": ""
            },
            "colorscale": [
             [
              0,
              "#0d0887"
             ],
             [
              0.1111111111111111,
              "#46039f"
             ],
             [
              0.2222222222222222,
              "#7201a8"
             ],
             [
              0.3333333333333333,
              "#9c179e"
             ],
             [
              0.4444444444444444,
              "#bd3786"
             ],
             [
              0.5555555555555556,
              "#d8576b"
             ],
             [
              0.6666666666666666,
              "#ed7953"
             ],
             [
              0.7777777777777778,
              "#fb9f3a"
             ],
             [
              0.8888888888888888,
              "#fdca26"
             ],
             [
              1,
              "#f0f921"
             ]
            ],
            "type": "heatmap"
           }
          ],
          "heatmapgl": [
           {
            "colorbar": {
             "outlinewidth": 0,
             "ticks": ""
            },
            "colorscale": [
             [
              0,
              "#0d0887"
             ],
             [
              0.1111111111111111,
              "#46039f"
             ],
             [
              0.2222222222222222,
              "#7201a8"
             ],
             [
              0.3333333333333333,
              "#9c179e"
             ],
             [
              0.4444444444444444,
              "#bd3786"
             ],
             [
              0.5555555555555556,
              "#d8576b"
             ],
             [
              0.6666666666666666,
              "#ed7953"
             ],
             [
              0.7777777777777778,
              "#fb9f3a"
             ],
             [
              0.8888888888888888,
              "#fdca26"
             ],
             [
              1,
              "#f0f921"
             ]
            ],
            "type": "heatmapgl"
           }
          ],
          "histogram": [
           {
            "marker": {
             "pattern": {
              "fillmode": "overlay",
              "size": 10,
              "solidity": 0.2
             }
            },
            "type": "histogram"
           }
          ],
          "histogram2d": [
           {
            "colorbar": {
             "outlinewidth": 0,
             "ticks": ""
            },
            "colorscale": [
             [
              0,
              "#0d0887"
             ],
             [
              0.1111111111111111,
              "#46039f"
             ],
             [
              0.2222222222222222,
              "#7201a8"
             ],
             [
              0.3333333333333333,
              "#9c179e"
             ],
             [
              0.4444444444444444,
              "#bd3786"
             ],
             [
              0.5555555555555556,
              "#d8576b"
             ],
             [
              0.6666666666666666,
              "#ed7953"
             ],
             [
              0.7777777777777778,
              "#fb9f3a"
             ],
             [
              0.8888888888888888,
              "#fdca26"
             ],
             [
              1,
              "#f0f921"
             ]
            ],
            "type": "histogram2d"
           }
          ],
          "histogram2dcontour": [
           {
            "colorbar": {
             "outlinewidth": 0,
             "ticks": ""
            },
            "colorscale": [
             [
              0,
              "#0d0887"
             ],
             [
              0.1111111111111111,
              "#46039f"
             ],
             [
              0.2222222222222222,
              "#7201a8"
             ],
             [
              0.3333333333333333,
              "#9c179e"
             ],
             [
              0.4444444444444444,
              "#bd3786"
             ],
             [
              0.5555555555555556,
              "#d8576b"
             ],
             [
              0.6666666666666666,
              "#ed7953"
             ],
             [
              0.7777777777777778,
              "#fb9f3a"
             ],
             [
              0.8888888888888888,
              "#fdca26"
             ],
             [
              1,
              "#f0f921"
             ]
            ],
            "type": "histogram2dcontour"
           }
          ],
          "mesh3d": [
           {
            "colorbar": {
             "outlinewidth": 0,
             "ticks": ""
            },
            "type": "mesh3d"
           }
          ],
          "parcoords": [
           {
            "line": {
             "colorbar": {
              "outlinewidth": 0,
              "ticks": ""
             }
            },
            "type": "parcoords"
           }
          ],
          "pie": [
           {
            "automargin": true,
            "type": "pie"
           }
          ],
          "scatter": [
           {
            "fillpattern": {
             "fillmode": "overlay",
             "size": 10,
             "solidity": 0.2
            },
            "type": "scatter"
           }
          ],
          "scatter3d": [
           {
            "line": {
             "colorbar": {
              "outlinewidth": 0,
              "ticks": ""
             }
            },
            "marker": {
             "colorbar": {
              "outlinewidth": 0,
              "ticks": ""
             }
            },
            "type": "scatter3d"
           }
          ],
          "scattercarpet": [
           {
            "marker": {
             "colorbar": {
              "outlinewidth": 0,
              "ticks": ""
             }
            },
            "type": "scattercarpet"
           }
          ],
          "scattergeo": [
           {
            "marker": {
             "colorbar": {
              "outlinewidth": 0,
              "ticks": ""
             }
            },
            "type": "scattergeo"
           }
          ],
          "scattergl": [
           {
            "marker": {
             "colorbar": {
              "outlinewidth": 0,
              "ticks": ""
             }
            },
            "type": "scattergl"
           }
          ],
          "scattermapbox": [
           {
            "marker": {
             "colorbar": {
              "outlinewidth": 0,
              "ticks": ""
             }
            },
            "type": "scattermapbox"
           }
          ],
          "scatterpolar": [
           {
            "marker": {
             "colorbar": {
              "outlinewidth": 0,
              "ticks": ""
             }
            },
            "type": "scatterpolar"
           }
          ],
          "scatterpolargl": [
           {
            "marker": {
             "colorbar": {
              "outlinewidth": 0,
              "ticks": ""
             }
            },
            "type": "scatterpolargl"
           }
          ],
          "scatterternary": [
           {
            "marker": {
             "colorbar": {
              "outlinewidth": 0,
              "ticks": ""
             }
            },
            "type": "scatterternary"
           }
          ],
          "surface": [
           {
            "colorbar": {
             "outlinewidth": 0,
             "ticks": ""
            },
            "colorscale": [
             [
              0,
              "#0d0887"
             ],
             [
              0.1111111111111111,
              "#46039f"
             ],
             [
              0.2222222222222222,
              "#7201a8"
             ],
             [
              0.3333333333333333,
              "#9c179e"
             ],
             [
              0.4444444444444444,
              "#bd3786"
             ],
             [
              0.5555555555555556,
              "#d8576b"
             ],
             [
              0.6666666666666666,
              "#ed7953"
             ],
             [
              0.7777777777777778,
              "#fb9f3a"
             ],
             [
              0.8888888888888888,
              "#fdca26"
             ],
             [
              1,
              "#f0f921"
             ]
            ],
            "type": "surface"
           }
          ],
          "table": [
           {
            "cells": {
             "fill": {
              "color": "#EBF0F8"
             },
             "line": {
              "color": "white"
             }
            },
            "header": {
             "fill": {
              "color": "#C8D4E3"
             },
             "line": {
              "color": "white"
             }
            },
            "type": "table"
           }
          ]
         },
         "layout": {
          "annotationdefaults": {
           "arrowcolor": "#2a3f5f",
           "arrowhead": 0,
           "arrowwidth": 1
          },
          "autotypenumbers": "strict",
          "coloraxis": {
           "colorbar": {
            "outlinewidth": 0,
            "ticks": ""
           }
          },
          "colorscale": {
           "diverging": [
            [
             0,
             "#8e0152"
            ],
            [
             0.1,
             "#c51b7d"
            ],
            [
             0.2,
             "#de77ae"
            ],
            [
             0.3,
             "#f1b6da"
            ],
            [
             0.4,
             "#fde0ef"
            ],
            [
             0.5,
             "#f7f7f7"
            ],
            [
             0.6,
             "#e6f5d0"
            ],
            [
             0.7,
             "#b8e186"
            ],
            [
             0.8,
             "#7fbc41"
            ],
            [
             0.9,
             "#4d9221"
            ],
            [
             1,
             "#276419"
            ]
           ],
           "sequential": [
            [
             0,
             "#0d0887"
            ],
            [
             0.1111111111111111,
             "#46039f"
            ],
            [
             0.2222222222222222,
             "#7201a8"
            ],
            [
             0.3333333333333333,
             "#9c179e"
            ],
            [
             0.4444444444444444,
             "#bd3786"
            ],
            [
             0.5555555555555556,
             "#d8576b"
            ],
            [
             0.6666666666666666,
             "#ed7953"
            ],
            [
             0.7777777777777778,
             "#fb9f3a"
            ],
            [
             0.8888888888888888,
             "#fdca26"
            ],
            [
             1,
             "#f0f921"
            ]
           ],
           "sequentialminus": [
            [
             0,
             "#0d0887"
            ],
            [
             0.1111111111111111,
             "#46039f"
            ],
            [
             0.2222222222222222,
             "#7201a8"
            ],
            [
             0.3333333333333333,
             "#9c179e"
            ],
            [
             0.4444444444444444,
             "#bd3786"
            ],
            [
             0.5555555555555556,
             "#d8576b"
            ],
            [
             0.6666666666666666,
             "#ed7953"
            ],
            [
             0.7777777777777778,
             "#fb9f3a"
            ],
            [
             0.8888888888888888,
             "#fdca26"
            ],
            [
             1,
             "#f0f921"
            ]
           ]
          },
          "colorway": [
           "#636efa",
           "#EF553B",
           "#00cc96",
           "#ab63fa",
           "#FFA15A",
           "#19d3f3",
           "#FF6692",
           "#B6E880",
           "#FF97FF",
           "#FECB52"
          ],
          "font": {
           "color": "#2a3f5f"
          },
          "geo": {
           "bgcolor": "white",
           "lakecolor": "white",
           "landcolor": "#E5ECF6",
           "showlakes": true,
           "showland": true,
           "subunitcolor": "white"
          },
          "hoverlabel": {
           "align": "left"
          },
          "hovermode": "closest",
          "mapbox": {
           "style": "light"
          },
          "paper_bgcolor": "white",
          "plot_bgcolor": "#E5ECF6",
          "polar": {
           "angularaxis": {
            "gridcolor": "white",
            "linecolor": "white",
            "ticks": ""
           },
           "bgcolor": "#E5ECF6",
           "radialaxis": {
            "gridcolor": "white",
            "linecolor": "white",
            "ticks": ""
           }
          },
          "scene": {
           "xaxis": {
            "backgroundcolor": "#E5ECF6",
            "gridcolor": "white",
            "gridwidth": 2,
            "linecolor": "white",
            "showbackground": true,
            "ticks": "",
            "zerolinecolor": "white"
           },
           "yaxis": {
            "backgroundcolor": "#E5ECF6",
            "gridcolor": "white",
            "gridwidth": 2,
            "linecolor": "white",
            "showbackground": true,
            "ticks": "",
            "zerolinecolor": "white"
           },
           "zaxis": {
            "backgroundcolor": "#E5ECF6",
            "gridcolor": "white",
            "gridwidth": 2,
            "linecolor": "white",
            "showbackground": true,
            "ticks": "",
            "zerolinecolor": "white"
           }
          },
          "shapedefaults": {
           "line": {
            "color": "#2a3f5f"
           }
          },
          "ternary": {
           "aaxis": {
            "gridcolor": "white",
            "linecolor": "white",
            "ticks": ""
           },
           "baxis": {
            "gridcolor": "white",
            "linecolor": "white",
            "ticks": ""
           },
           "bgcolor": "#E5ECF6",
           "caxis": {
            "gridcolor": "white",
            "linecolor": "white",
            "ticks": ""
           }
          },
          "title": {
           "x": 0.05
          },
          "xaxis": {
           "automargin": true,
           "gridcolor": "white",
           "linecolor": "white",
           "ticks": "",
           "title": {
            "standoff": 15
           },
           "zerolinecolor": "white",
           "zerolinewidth": 2
          },
          "yaxis": {
           "automargin": true,
           "gridcolor": "white",
           "linecolor": "white",
           "ticks": "",
           "title": {
            "standoff": 15
           },
           "zerolinecolor": "white",
           "zerolinewidth": 2
          }
         }
        },
        "title": {
         "text": "Cantidad de Anuncios por Fuente y Distrito"
        },
        "xaxis": {
         "tickangle": -45,
         "title": {
          "text": "Distrito"
         }
        },
        "yaxis": {
         "title": {
          "text": "Cantidad de Anuncios"
         }
        }
       }
      }
     },
     "metadata": {},
     "output_type": "display_data"
    }
   ],
   "source": [
    "fig4 = go.Figure()\n",
    "\n",
    "fig4.add_trace(go.Scatter(x=resultado4['nombre'], y=resultado4['idealista'],\n",
    "                         mode='lines+markers',\n",
    "                         name='Idealista'))\n",
    "\n",
    "fig4.add_trace(go.Scatter(x=resultado4['nombre'], y=resultado4['redpiso'],\n",
    "                         mode='lines+markers',\n",
    "                         name='Redpiso'))\n",
    "\n",
    "fig4.add_trace(go.Scatter(x=resultado4['nombre'], y=resultado4['airbnb'],\n",
    "                         mode='lines+markers',\n",
    "                         name='Airbnb'))\n",
    "\n",
    "fig4.update_layout(title='Cantidad de Anuncios por Fuente y Distrito',\n",
    "                  xaxis_title='Distrito',\n",
    "                  yaxis_title='Cantidad de Anuncios',\n",
    "                  xaxis_tickangle=-45)\n",
    "\n",
    "fig4.show()\n"
   ]
  },
  {
   "cell_type": "markdown",
   "metadata": {},
   "source": [
    "### 5. Cambio de la población en el período del 2018 al 2022"
   ]
  },
  {
   "cell_type": "code",
   "execution_count": 11,
   "metadata": {},
   "outputs": [],
   "source": [
    "query5='''\n",
    "SELECT d.nombre, \n",
    "       SUM(p.espanioles) AS total_espanoles, \n",
    "       SUM(p.extranjeros) AS total_extranjeros, \n",
    "       SUM(p.total) AS total_cambio\n",
    "FROM distritos d\n",
    "INNER JOIN poblacion p ON d.id_distrito = p.id_distrito\n",
    "GROUP BY d.nombre\n",
    "ORDER BY total_cambio DESC\n",
    ";'''"
   ]
  },
  {
   "cell_type": "code",
   "execution_count": 12,
   "metadata": {},
   "outputs": [
    {
     "data": {
      "text/html": [
       "<div>\n",
       "<style scoped>\n",
       "    .dataframe tbody tr th:only-of-type {\n",
       "        vertical-align: middle;\n",
       "    }\n",
       "\n",
       "    .dataframe tbody tr th {\n",
       "        vertical-align: top;\n",
       "    }\n",
       "\n",
       "    .dataframe thead th {\n",
       "        text-align: right;\n",
       "    }\n",
       "</style>\n",
       "<table border=\"1\" class=\"dataframe\">\n",
       "  <thead>\n",
       "    <tr style=\"text-align: right;\">\n",
       "      <th></th>\n",
       "      <th>nombre</th>\n",
       "      <th>total_espanoles</th>\n",
       "      <th>total_extranjeros</th>\n",
       "      <th>total_cambio</th>\n",
       "    </tr>\n",
       "  </thead>\n",
       "  <tbody>\n",
       "    <tr>\n",
       "      <th>0</th>\n",
       "      <td>Hortaleza</td>\n",
       "      <td>6955</td>\n",
       "      <td>5965</td>\n",
       "      <td>12918</td>\n",
       "    </tr>\n",
       "    <tr>\n",
       "      <th>1</th>\n",
       "      <td>Carabanchel</td>\n",
       "      <td>-2868</td>\n",
       "      <td>14443</td>\n",
       "      <td>11574</td>\n",
       "    </tr>\n",
       "    <tr>\n",
       "      <th>2</th>\n",
       "      <td>Villaverde</td>\n",
       "      <td>1811</td>\n",
       "      <td>9439</td>\n",
       "      <td>11246</td>\n",
       "    </tr>\n",
       "    <tr>\n",
       "      <th>3</th>\n",
       "      <td>Villa de Vallecas</td>\n",
       "      <td>5306</td>\n",
       "      <td>5231</td>\n",
       "      <td>10543</td>\n",
       "    </tr>\n",
       "    <tr>\n",
       "      <th>4</th>\n",
       "      <td>Vicalvaro</td>\n",
       "      <td>6419</td>\n",
       "      <td>2820</td>\n",
       "      <td>9239</td>\n",
       "    </tr>\n",
       "    <tr>\n",
       "      <th>5</th>\n",
       "      <td>Puente de Vallecas</td>\n",
       "      <td>-5441</td>\n",
       "      <td>13529</td>\n",
       "      <td>8087</td>\n",
       "    </tr>\n",
       "    <tr>\n",
       "      <th>6</th>\n",
       "      <td>Centro</td>\n",
       "      <td>-1425</td>\n",
       "      <td>9189</td>\n",
       "      <td>7761</td>\n",
       "    </tr>\n",
       "    <tr>\n",
       "      <th>7</th>\n",
       "      <td>Fuencarral-El Pardo</td>\n",
       "      <td>3201</td>\n",
       "      <td>4434</td>\n",
       "      <td>7634</td>\n",
       "    </tr>\n",
       "    <tr>\n",
       "      <th>8</th>\n",
       "      <td>Usera</td>\n",
       "      <td>-1834</td>\n",
       "      <td>7862</td>\n",
       "      <td>6031</td>\n",
       "    </tr>\n",
       "    <tr>\n",
       "      <th>9</th>\n",
       "      <td>San Blas</td>\n",
       "      <td>-2606</td>\n",
       "      <td>7116</td>\n",
       "      <td>4509</td>\n",
       "    </tr>\n",
       "    <tr>\n",
       "      <th>10</th>\n",
       "      <td>Tetuan</td>\n",
       "      <td>-1650</td>\n",
       "      <td>5283</td>\n",
       "      <td>3634</td>\n",
       "    </tr>\n",
       "    <tr>\n",
       "      <th>11</th>\n",
       "      <td>Moncloa-Aravaca</td>\n",
       "      <td>1284</td>\n",
       "      <td>2155</td>\n",
       "      <td>3436</td>\n",
       "    </tr>\n",
       "    <tr>\n",
       "      <th>12</th>\n",
       "      <td>Latina</td>\n",
       "      <td>-6660</td>\n",
       "      <td>9957</td>\n",
       "      <td>3294</td>\n",
       "    </tr>\n",
       "    <tr>\n",
       "      <th>13</th>\n",
       "      <td>Barajas</td>\n",
       "      <td>2196</td>\n",
       "      <td>1019</td>\n",
       "      <td>3216</td>\n",
       "    </tr>\n",
       "    <tr>\n",
       "      <th>14</th>\n",
       "      <td>Salamanca</td>\n",
       "      <td>-3960</td>\n",
       "      <td>5654</td>\n",
       "      <td>1692</td>\n",
       "    </tr>\n",
       "    <tr>\n",
       "      <th>15</th>\n",
       "      <td>Ciudad Lineal</td>\n",
       "      <td>-5517</td>\n",
       "      <td>6998</td>\n",
       "      <td>1480</td>\n",
       "    </tr>\n",
       "    <tr>\n",
       "      <th>16</th>\n",
       "      <td>Chamartin</td>\n",
       "      <td>-1294</td>\n",
       "      <td>2151</td>\n",
       "      <td>854</td>\n",
       "    </tr>\n",
       "    <tr>\n",
       "      <th>17</th>\n",
       "      <td>Arganzuela</td>\n",
       "      <td>-1376</td>\n",
       "      <td>2065</td>\n",
       "      <td>690</td>\n",
       "    </tr>\n",
       "    <tr>\n",
       "      <th>18</th>\n",
       "      <td>Chamberi</td>\n",
       "      <td>-3441</td>\n",
       "      <td>3225</td>\n",
       "      <td>-214</td>\n",
       "    </tr>\n",
       "    <tr>\n",
       "      <th>19</th>\n",
       "      <td>Retiro</td>\n",
       "      <td>-3251</td>\n",
       "      <td>2379</td>\n",
       "      <td>-872</td>\n",
       "    </tr>\n",
       "    <tr>\n",
       "      <th>20</th>\n",
       "      <td>Moratalaz</td>\n",
       "      <td>-4208</td>\n",
       "      <td>2374</td>\n",
       "      <td>-1836</td>\n",
       "    </tr>\n",
       "  </tbody>\n",
       "</table>\n",
       "</div>"
      ],
      "text/plain": [
       "                 nombre  total_espanoles  total_extranjeros  total_cambio\n",
       "0             Hortaleza             6955               5965         12918\n",
       "1           Carabanchel            -2868              14443         11574\n",
       "2            Villaverde             1811               9439         11246\n",
       "3     Villa de Vallecas             5306               5231         10543\n",
       "4             Vicalvaro             6419               2820          9239\n",
       "5    Puente de Vallecas            -5441              13529          8087\n",
       "6                Centro            -1425               9189          7761\n",
       "7   Fuencarral-El Pardo             3201               4434          7634\n",
       "8                 Usera            -1834               7862          6031\n",
       "9              San Blas            -2606               7116          4509\n",
       "10               Tetuan            -1650               5283          3634\n",
       "11      Moncloa-Aravaca             1284               2155          3436\n",
       "12               Latina            -6660               9957          3294\n",
       "13              Barajas             2196               1019          3216\n",
       "14            Salamanca            -3960               5654          1692\n",
       "15        Ciudad Lineal            -5517               6998          1480\n",
       "16            Chamartin            -1294               2151           854\n",
       "17           Arganzuela            -1376               2065           690\n",
       "18             Chamberi            -3441               3225          -214\n",
       "19               Retiro            -3251               2379          -872\n",
       "20            Moratalaz            -4208               2374         -1836"
      ]
     },
     "execution_count": 12,
     "metadata": {},
     "output_type": "execute_result"
    }
   ],
   "source": [
    "resultado5 = sf.dbeaver_fetch(sf.dbeaver_conexion(\"alquileresmadrid\"),query5)\n",
    "resultado5"
   ]
  },
  {
   "cell_type": "code",
   "execution_count": 54,
   "metadata": {},
   "outputs": [
    {
     "data": {
      "application/vnd.plotly.v1+json": {
       "config": {
        "plotlyServerURL": "https://plot.ly"
       },
       "data": [
        {
         "mode": "lines+markers",
         "name": "Total Españoles",
         "type": "scatter",
         "x": [
          "Hortaleza",
          "Carabanchel",
          "Villaverde",
          "Villa de Vallecas",
          "Vicalvaro",
          "Puente de Vallecas",
          "Centro",
          "Fuencarral-El Pardo",
          "Usera",
          "San Blas",
          "Tetuan",
          "Moncloa-Aravaca",
          "Latina",
          "Barajas",
          "Salamanca",
          "Ciudad Lineal",
          "Chamartin",
          "Arganzuela",
          "Chamberi",
          "Retiro",
          "Moratalaz"
         ],
         "y": [
          6955,
          -2868,
          1811,
          5306,
          6419,
          -5441,
          -1425,
          3201,
          -1834,
          -2606,
          -1650,
          1284,
          -6660,
          2196,
          -3960,
          -5517,
          -1294,
          -1376,
          -3441,
          -3251,
          -4208
         ]
        },
        {
         "mode": "lines+markers",
         "name": "Total Extranjeros",
         "type": "scatter",
         "x": [
          "Hortaleza",
          "Carabanchel",
          "Villaverde",
          "Villa de Vallecas",
          "Vicalvaro",
          "Puente de Vallecas",
          "Centro",
          "Fuencarral-El Pardo",
          "Usera",
          "San Blas",
          "Tetuan",
          "Moncloa-Aravaca",
          "Latina",
          "Barajas",
          "Salamanca",
          "Ciudad Lineal",
          "Chamartin",
          "Arganzuela",
          "Chamberi",
          "Retiro",
          "Moratalaz"
         ],
         "y": [
          5965,
          14443,
          9439,
          5231,
          2820,
          13529,
          9189,
          4434,
          7862,
          7116,
          5283,
          2155,
          9957,
          1019,
          5654,
          6998,
          2151,
          2065,
          3225,
          2379,
          2374
         ]
        }
       ],
       "layout": {
        "template": {
         "data": {
          "bar": [
           {
            "error_x": {
             "color": "#2a3f5f"
            },
            "error_y": {
             "color": "#2a3f5f"
            },
            "marker": {
             "line": {
              "color": "#E5ECF6",
              "width": 0.5
             },
             "pattern": {
              "fillmode": "overlay",
              "size": 10,
              "solidity": 0.2
             }
            },
            "type": "bar"
           }
          ],
          "barpolar": [
           {
            "marker": {
             "line": {
              "color": "#E5ECF6",
              "width": 0.5
             },
             "pattern": {
              "fillmode": "overlay",
              "size": 10,
              "solidity": 0.2
             }
            },
            "type": "barpolar"
           }
          ],
          "carpet": [
           {
            "aaxis": {
             "endlinecolor": "#2a3f5f",
             "gridcolor": "white",
             "linecolor": "white",
             "minorgridcolor": "white",
             "startlinecolor": "#2a3f5f"
            },
            "baxis": {
             "endlinecolor": "#2a3f5f",
             "gridcolor": "white",
             "linecolor": "white",
             "minorgridcolor": "white",
             "startlinecolor": "#2a3f5f"
            },
            "type": "carpet"
           }
          ],
          "choropleth": [
           {
            "colorbar": {
             "outlinewidth": 0,
             "ticks": ""
            },
            "type": "choropleth"
           }
          ],
          "contour": [
           {
            "colorbar": {
             "outlinewidth": 0,
             "ticks": ""
            },
            "colorscale": [
             [
              0,
              "#0d0887"
             ],
             [
              0.1111111111111111,
              "#46039f"
             ],
             [
              0.2222222222222222,
              "#7201a8"
             ],
             [
              0.3333333333333333,
              "#9c179e"
             ],
             [
              0.4444444444444444,
              "#bd3786"
             ],
             [
              0.5555555555555556,
              "#d8576b"
             ],
             [
              0.6666666666666666,
              "#ed7953"
             ],
             [
              0.7777777777777778,
              "#fb9f3a"
             ],
             [
              0.8888888888888888,
              "#fdca26"
             ],
             [
              1,
              "#f0f921"
             ]
            ],
            "type": "contour"
           }
          ],
          "contourcarpet": [
           {
            "colorbar": {
             "outlinewidth": 0,
             "ticks": ""
            },
            "type": "contourcarpet"
           }
          ],
          "heatmap": [
           {
            "colorbar": {
             "outlinewidth": 0,
             "ticks": ""
            },
            "colorscale": [
             [
              0,
              "#0d0887"
             ],
             [
              0.1111111111111111,
              "#46039f"
             ],
             [
              0.2222222222222222,
              "#7201a8"
             ],
             [
              0.3333333333333333,
              "#9c179e"
             ],
             [
              0.4444444444444444,
              "#bd3786"
             ],
             [
              0.5555555555555556,
              "#d8576b"
             ],
             [
              0.6666666666666666,
              "#ed7953"
             ],
             [
              0.7777777777777778,
              "#fb9f3a"
             ],
             [
              0.8888888888888888,
              "#fdca26"
             ],
             [
              1,
              "#f0f921"
             ]
            ],
            "type": "heatmap"
           }
          ],
          "heatmapgl": [
           {
            "colorbar": {
             "outlinewidth": 0,
             "ticks": ""
            },
            "colorscale": [
             [
              0,
              "#0d0887"
             ],
             [
              0.1111111111111111,
              "#46039f"
             ],
             [
              0.2222222222222222,
              "#7201a8"
             ],
             [
              0.3333333333333333,
              "#9c179e"
             ],
             [
              0.4444444444444444,
              "#bd3786"
             ],
             [
              0.5555555555555556,
              "#d8576b"
             ],
             [
              0.6666666666666666,
              "#ed7953"
             ],
             [
              0.7777777777777778,
              "#fb9f3a"
             ],
             [
              0.8888888888888888,
              "#fdca26"
             ],
             [
              1,
              "#f0f921"
             ]
            ],
            "type": "heatmapgl"
           }
          ],
          "histogram": [
           {
            "marker": {
             "pattern": {
              "fillmode": "overlay",
              "size": 10,
              "solidity": 0.2
             }
            },
            "type": "histogram"
           }
          ],
          "histogram2d": [
           {
            "colorbar": {
             "outlinewidth": 0,
             "ticks": ""
            },
            "colorscale": [
             [
              0,
              "#0d0887"
             ],
             [
              0.1111111111111111,
              "#46039f"
             ],
             [
              0.2222222222222222,
              "#7201a8"
             ],
             [
              0.3333333333333333,
              "#9c179e"
             ],
             [
              0.4444444444444444,
              "#bd3786"
             ],
             [
              0.5555555555555556,
              "#d8576b"
             ],
             [
              0.6666666666666666,
              "#ed7953"
             ],
             [
              0.7777777777777778,
              "#fb9f3a"
             ],
             [
              0.8888888888888888,
              "#fdca26"
             ],
             [
              1,
              "#f0f921"
             ]
            ],
            "type": "histogram2d"
           }
          ],
          "histogram2dcontour": [
           {
            "colorbar": {
             "outlinewidth": 0,
             "ticks": ""
            },
            "colorscale": [
             [
              0,
              "#0d0887"
             ],
             [
              0.1111111111111111,
              "#46039f"
             ],
             [
              0.2222222222222222,
              "#7201a8"
             ],
             [
              0.3333333333333333,
              "#9c179e"
             ],
             [
              0.4444444444444444,
              "#bd3786"
             ],
             [
              0.5555555555555556,
              "#d8576b"
             ],
             [
              0.6666666666666666,
              "#ed7953"
             ],
             [
              0.7777777777777778,
              "#fb9f3a"
             ],
             [
              0.8888888888888888,
              "#fdca26"
             ],
             [
              1,
              "#f0f921"
             ]
            ],
            "type": "histogram2dcontour"
           }
          ],
          "mesh3d": [
           {
            "colorbar": {
             "outlinewidth": 0,
             "ticks": ""
            },
            "type": "mesh3d"
           }
          ],
          "parcoords": [
           {
            "line": {
             "colorbar": {
              "outlinewidth": 0,
              "ticks": ""
             }
            },
            "type": "parcoords"
           }
          ],
          "pie": [
           {
            "automargin": true,
            "type": "pie"
           }
          ],
          "scatter": [
           {
            "fillpattern": {
             "fillmode": "overlay",
             "size": 10,
             "solidity": 0.2
            },
            "type": "scatter"
           }
          ],
          "scatter3d": [
           {
            "line": {
             "colorbar": {
              "outlinewidth": 0,
              "ticks": ""
             }
            },
            "marker": {
             "colorbar": {
              "outlinewidth": 0,
              "ticks": ""
             }
            },
            "type": "scatter3d"
           }
          ],
          "scattercarpet": [
           {
            "marker": {
             "colorbar": {
              "outlinewidth": 0,
              "ticks": ""
             }
            },
            "type": "scattercarpet"
           }
          ],
          "scattergeo": [
           {
            "marker": {
             "colorbar": {
              "outlinewidth": 0,
              "ticks": ""
             }
            },
            "type": "scattergeo"
           }
          ],
          "scattergl": [
           {
            "marker": {
             "colorbar": {
              "outlinewidth": 0,
              "ticks": ""
             }
            },
            "type": "scattergl"
           }
          ],
          "scattermapbox": [
           {
            "marker": {
             "colorbar": {
              "outlinewidth": 0,
              "ticks": ""
             }
            },
            "type": "scattermapbox"
           }
          ],
          "scatterpolar": [
           {
            "marker": {
             "colorbar": {
              "outlinewidth": 0,
              "ticks": ""
             }
            },
            "type": "scatterpolar"
           }
          ],
          "scatterpolargl": [
           {
            "marker": {
             "colorbar": {
              "outlinewidth": 0,
              "ticks": ""
             }
            },
            "type": "scatterpolargl"
           }
          ],
          "scatterternary": [
           {
            "marker": {
             "colorbar": {
              "outlinewidth": 0,
              "ticks": ""
             }
            },
            "type": "scatterternary"
           }
          ],
          "surface": [
           {
            "colorbar": {
             "outlinewidth": 0,
             "ticks": ""
            },
            "colorscale": [
             [
              0,
              "#0d0887"
             ],
             [
              0.1111111111111111,
              "#46039f"
             ],
             [
              0.2222222222222222,
              "#7201a8"
             ],
             [
              0.3333333333333333,
              "#9c179e"
             ],
             [
              0.4444444444444444,
              "#bd3786"
             ],
             [
              0.5555555555555556,
              "#d8576b"
             ],
             [
              0.6666666666666666,
              "#ed7953"
             ],
             [
              0.7777777777777778,
              "#fb9f3a"
             ],
             [
              0.8888888888888888,
              "#fdca26"
             ],
             [
              1,
              "#f0f921"
             ]
            ],
            "type": "surface"
           }
          ],
          "table": [
           {
            "cells": {
             "fill": {
              "color": "#EBF0F8"
             },
             "line": {
              "color": "white"
             }
            },
            "header": {
             "fill": {
              "color": "#C8D4E3"
             },
             "line": {
              "color": "white"
             }
            },
            "type": "table"
           }
          ]
         },
         "layout": {
          "annotationdefaults": {
           "arrowcolor": "#2a3f5f",
           "arrowhead": 0,
           "arrowwidth": 1
          },
          "autotypenumbers": "strict",
          "coloraxis": {
           "colorbar": {
            "outlinewidth": 0,
            "ticks": ""
           }
          },
          "colorscale": {
           "diverging": [
            [
             0,
             "#8e0152"
            ],
            [
             0.1,
             "#c51b7d"
            ],
            [
             0.2,
             "#de77ae"
            ],
            [
             0.3,
             "#f1b6da"
            ],
            [
             0.4,
             "#fde0ef"
            ],
            [
             0.5,
             "#f7f7f7"
            ],
            [
             0.6,
             "#e6f5d0"
            ],
            [
             0.7,
             "#b8e186"
            ],
            [
             0.8,
             "#7fbc41"
            ],
            [
             0.9,
             "#4d9221"
            ],
            [
             1,
             "#276419"
            ]
           ],
           "sequential": [
            [
             0,
             "#0d0887"
            ],
            [
             0.1111111111111111,
             "#46039f"
            ],
            [
             0.2222222222222222,
             "#7201a8"
            ],
            [
             0.3333333333333333,
             "#9c179e"
            ],
            [
             0.4444444444444444,
             "#bd3786"
            ],
            [
             0.5555555555555556,
             "#d8576b"
            ],
            [
             0.6666666666666666,
             "#ed7953"
            ],
            [
             0.7777777777777778,
             "#fb9f3a"
            ],
            [
             0.8888888888888888,
             "#fdca26"
            ],
            [
             1,
             "#f0f921"
            ]
           ],
           "sequentialminus": [
            [
             0,
             "#0d0887"
            ],
            [
             0.1111111111111111,
             "#46039f"
            ],
            [
             0.2222222222222222,
             "#7201a8"
            ],
            [
             0.3333333333333333,
             "#9c179e"
            ],
            [
             0.4444444444444444,
             "#bd3786"
            ],
            [
             0.5555555555555556,
             "#d8576b"
            ],
            [
             0.6666666666666666,
             "#ed7953"
            ],
            [
             0.7777777777777778,
             "#fb9f3a"
            ],
            [
             0.8888888888888888,
             "#fdca26"
            ],
            [
             1,
             "#f0f921"
            ]
           ]
          },
          "colorway": [
           "#636efa",
           "#EF553B",
           "#00cc96",
           "#ab63fa",
           "#FFA15A",
           "#19d3f3",
           "#FF6692",
           "#B6E880",
           "#FF97FF",
           "#FECB52"
          ],
          "font": {
           "color": "#2a3f5f"
          },
          "geo": {
           "bgcolor": "white",
           "lakecolor": "white",
           "landcolor": "#E5ECF6",
           "showlakes": true,
           "showland": true,
           "subunitcolor": "white"
          },
          "hoverlabel": {
           "align": "left"
          },
          "hovermode": "closest",
          "mapbox": {
           "style": "light"
          },
          "paper_bgcolor": "white",
          "plot_bgcolor": "#E5ECF6",
          "polar": {
           "angularaxis": {
            "gridcolor": "white",
            "linecolor": "white",
            "ticks": ""
           },
           "bgcolor": "#E5ECF6",
           "radialaxis": {
            "gridcolor": "white",
            "linecolor": "white",
            "ticks": ""
           }
          },
          "scene": {
           "xaxis": {
            "backgroundcolor": "#E5ECF6",
            "gridcolor": "white",
            "gridwidth": 2,
            "linecolor": "white",
            "showbackground": true,
            "ticks": "",
            "zerolinecolor": "white"
           },
           "yaxis": {
            "backgroundcolor": "#E5ECF6",
            "gridcolor": "white",
            "gridwidth": 2,
            "linecolor": "white",
            "showbackground": true,
            "ticks": "",
            "zerolinecolor": "white"
           },
           "zaxis": {
            "backgroundcolor": "#E5ECF6",
            "gridcolor": "white",
            "gridwidth": 2,
            "linecolor": "white",
            "showbackground": true,
            "ticks": "",
            "zerolinecolor": "white"
           }
          },
          "shapedefaults": {
           "line": {
            "color": "#2a3f5f"
           }
          },
          "ternary": {
           "aaxis": {
            "gridcolor": "white",
            "linecolor": "white",
            "ticks": ""
           },
           "baxis": {
            "gridcolor": "white",
            "linecolor": "white",
            "ticks": ""
           },
           "bgcolor": "#E5ECF6",
           "caxis": {
            "gridcolor": "white",
            "linecolor": "white",
            "ticks": ""
           }
          },
          "title": {
           "x": 0.05
          },
          "xaxis": {
           "automargin": true,
           "gridcolor": "white",
           "linecolor": "white",
           "ticks": "",
           "title": {
            "standoff": 15
           },
           "zerolinecolor": "white",
           "zerolinewidth": 2
          },
          "yaxis": {
           "automargin": true,
           "gridcolor": "white",
           "linecolor": "white",
           "ticks": "",
           "title": {
            "standoff": 15
           },
           "zerolinecolor": "white",
           "zerolinewidth": 2
          }
         }
        },
        "title": {
         "text": "Variación de Habitantes por Distrito entre el 2018 y el 2022 (Españoles vs. Extranjeros)"
        },
        "xaxis": {
         "tickangle": -45,
         "title": {
          "text": "Distrito"
         }
        },
        "yaxis": {
         "title": {
          "text": "Cantidad de Personas"
         }
        }
       }
      }
     },
     "metadata": {},
     "output_type": "display_data"
    }
   ],
   "source": [
    "fig5 = go.Figure()\n",
    "\n",
    "fig5.add_trace(go.Scatter(x=resultado5['nombre'], y=resultado5['total_espanoles'],\n",
    "                         mode='lines+markers',\n",
    "                         name='Total Españoles'))\n",
    "\n",
    "fig5.add_trace(go.Scatter(x=resultado5['nombre'], y=resultado5['total_extranjeros'],\n",
    "                         mode='lines+markers',\n",
    "                         name='Total Extranjeros'))\n",
    "\n",
    "fig5.update_layout(title='Variación de Habitantes por Distrito entre el 2018 y el 2022 (Españoles vs. Extranjeros)',\n",
    "                  xaxis_title='Distrito',\n",
    "                  yaxis_title='Cantidad de Personas',\n",
    "                  xaxis_tickangle=-45)\n",
    "\n",
    "fig5.show()"
   ]
  },
  {
   "cell_type": "markdown",
   "metadata": {},
   "source": [
    "### 6. Relación entre nacionalidad en el año 2022 y AirBnBs por distrito"
   ]
  },
  {
   "cell_type": "code",
   "execution_count": 13,
   "metadata": {},
   "outputs": [],
   "source": [
    "query6 = '''\n",
    "SELECT \n",
    "    d.nombre AS distrito, \n",
    "    (AVG(i.precio) + AVG(r.precio)) / 2 AS precio_medio_alquiler, \n",
    "    p.espanioles,\n",
    "    p.extranjeros,\n",
    "    ab.cantidad_airbnbs\n",
    "FROM \n",
    "    distritos d\n",
    "INNER JOIN \n",
    "    idealista i ON d.id_distrito = i.id_distrito\n",
    "INNER JOIN \n",
    "    redpiso r ON d.id_distrito = r.id_distrito\n",
    "INNER JOIN \n",
    "    poblacion p ON d.id_distrito = p.id_distrito\n",
    "INNER JOIN\n",
    "    (SELECT id_distrito, COUNT(*) AS cantidad_airbnbs \n",
    "     FROM airbnb \n",
    "     GROUP BY id_distrito) ab ON d.id_distrito = ab.id_distrito\n",
    "WHERE\n",
    "    p.periodo = 2022\n",
    "GROUP BY \n",
    "    d.nombre, p.espanioles, p.extranjeros, ab.cantidad_airbnbs\n",
    "ORDER BY\n",
    "    p.extranjeros DESC\n",
    ";'''"
   ]
  },
  {
   "cell_type": "code",
   "execution_count": 14,
   "metadata": {},
   "outputs": [
    {
     "data": {
      "text/html": [
       "<div>\n",
       "<style scoped>\n",
       "    .dataframe tbody tr th:only-of-type {\n",
       "        vertical-align: middle;\n",
       "    }\n",
       "\n",
       "    .dataframe tbody tr th {\n",
       "        vertical-align: top;\n",
       "    }\n",
       "\n",
       "    .dataframe thead th {\n",
       "        text-align: right;\n",
       "    }\n",
       "</style>\n",
       "<table border=\"1\" class=\"dataframe\">\n",
       "  <thead>\n",
       "    <tr style=\"text-align: right;\">\n",
       "      <th></th>\n",
       "      <th>distrito</th>\n",
       "      <th>precio_medio_alquiler</th>\n",
       "      <th>espanioles</th>\n",
       "      <th>extranjeros</th>\n",
       "      <th>cantidad_airbnbs</th>\n",
       "    </tr>\n",
       "  </thead>\n",
       "  <tbody>\n",
       "    <tr>\n",
       "      <th>0</th>\n",
       "      <td>Salamanca</td>\n",
       "      <td>1870.1178451178451179</td>\n",
       "      <td>-868</td>\n",
       "      <td>622</td>\n",
       "      <td>13</td>\n",
       "    </tr>\n",
       "    <tr>\n",
       "      <th>1</th>\n",
       "      <td>Centro</td>\n",
       "      <td>1678.5298605056669573</td>\n",
       "      <td>-1947</td>\n",
       "      <td>519</td>\n",
       "      <td>210</td>\n",
       "    </tr>\n",
       "    <tr>\n",
       "      <th>2</th>\n",
       "      <td>Hortaleza</td>\n",
       "      <td>1435.6266233766233766</td>\n",
       "      <td>241</td>\n",
       "      <td>332</td>\n",
       "      <td>5</td>\n",
       "    </tr>\n",
       "    <tr>\n",
       "      <th>3</th>\n",
       "      <td>Chamberi</td>\n",
       "      <td>1726.4072693383038211</td>\n",
       "      <td>-1071</td>\n",
       "      <td>146</td>\n",
       "      <td>26</td>\n",
       "    </tr>\n",
       "    <tr>\n",
       "      <th>4</th>\n",
       "      <td>Retiro</td>\n",
       "      <td>2052.2957516339869281</td>\n",
       "      <td>-713</td>\n",
       "      <td>96</td>\n",
       "      <td>8</td>\n",
       "    </tr>\n",
       "    <tr>\n",
       "      <th>5</th>\n",
       "      <td>San Blas</td>\n",
       "      <td>1202.1818181818181818</td>\n",
       "      <td>-922</td>\n",
       "      <td>-77</td>\n",
       "      <td>4</td>\n",
       "    </tr>\n",
       "    <tr>\n",
       "      <th>6</th>\n",
       "      <td>Barajas</td>\n",
       "      <td>982.5000000000000000</td>\n",
       "      <td>214</td>\n",
       "      <td>-84</td>\n",
       "      <td>4</td>\n",
       "    </tr>\n",
       "    <tr>\n",
       "      <th>7</th>\n",
       "      <td>Chamartin</td>\n",
       "      <td>1578.1439925198690977</td>\n",
       "      <td>-938</td>\n",
       "      <td>-247</td>\n",
       "      <td>4</td>\n",
       "    </tr>\n",
       "    <tr>\n",
       "      <th>8</th>\n",
       "      <td>Arganzuela</td>\n",
       "      <td>1427.9642857142857143</td>\n",
       "      <td>-930</td>\n",
       "      <td>-338</td>\n",
       "      <td>29</td>\n",
       "    </tr>\n",
       "    <tr>\n",
       "      <th>9</th>\n",
       "      <td>Moncloa-Aravaca</td>\n",
       "      <td>1537.5384615384615385</td>\n",
       "      <td>94</td>\n",
       "      <td>-351</td>\n",
       "      <td>6</td>\n",
       "    </tr>\n",
       "    <tr>\n",
       "      <th>10</th>\n",
       "      <td>Fuencarral-El Pardo</td>\n",
       "      <td>1461.1252045826513912</td>\n",
       "      <td>-211</td>\n",
       "      <td>-645</td>\n",
       "      <td>1</td>\n",
       "    </tr>\n",
       "    <tr>\n",
       "      <th>11</th>\n",
       "      <td>Ciudad Lineal</td>\n",
       "      <td>1353.6666666666666667</td>\n",
       "      <td>-1719</td>\n",
       "      <td>-646</td>\n",
       "      <td>5</td>\n",
       "    </tr>\n",
       "    <tr>\n",
       "      <th>12</th>\n",
       "      <td>Tetuan</td>\n",
       "      <td>1385.8409090909090909</td>\n",
       "      <td>-1322</td>\n",
       "      <td>-713</td>\n",
       "      <td>22</td>\n",
       "    </tr>\n",
       "    <tr>\n",
       "      <th>13</th>\n",
       "      <td>Latina</td>\n",
       "      <td>1167.1572580645161291</td>\n",
       "      <td>-1543</td>\n",
       "      <td>-966</td>\n",
       "      <td>3</td>\n",
       "    </tr>\n",
       "    <tr>\n",
       "      <th>14</th>\n",
       "      <td>Puente de Vallecas</td>\n",
       "      <td>985.5523255813953489</td>\n",
       "      <td>-1541</td>\n",
       "      <td>-1209</td>\n",
       "      <td>12</td>\n",
       "    </tr>\n",
       "    <tr>\n",
       "      <th>15</th>\n",
       "      <td>Carabanchel</td>\n",
       "      <td>943.5000000000000000</td>\n",
       "      <td>-1316</td>\n",
       "      <td>-1219</td>\n",
       "      <td>7</td>\n",
       "    </tr>\n",
       "  </tbody>\n",
       "</table>\n",
       "</div>"
      ],
      "text/plain": [
       "               distrito  precio_medio_alquiler  espanioles  extranjeros  \\\n",
       "0             Salamanca  1870.1178451178451179        -868          622   \n",
       "1                Centro  1678.5298605056669573       -1947          519   \n",
       "2             Hortaleza  1435.6266233766233766         241          332   \n",
       "3              Chamberi  1726.4072693383038211       -1071          146   \n",
       "4                Retiro  2052.2957516339869281        -713           96   \n",
       "5              San Blas  1202.1818181818181818        -922          -77   \n",
       "6               Barajas   982.5000000000000000         214          -84   \n",
       "7             Chamartin  1578.1439925198690977        -938         -247   \n",
       "8            Arganzuela  1427.9642857142857143        -930         -338   \n",
       "9       Moncloa-Aravaca  1537.5384615384615385          94         -351   \n",
       "10  Fuencarral-El Pardo  1461.1252045826513912        -211         -645   \n",
       "11        Ciudad Lineal  1353.6666666666666667       -1719         -646   \n",
       "12               Tetuan  1385.8409090909090909       -1322         -713   \n",
       "13               Latina  1167.1572580645161291       -1543         -966   \n",
       "14   Puente de Vallecas   985.5523255813953489       -1541        -1209   \n",
       "15          Carabanchel   943.5000000000000000       -1316        -1219   \n",
       "\n",
       "    cantidad_airbnbs  \n",
       "0                 13  \n",
       "1                210  \n",
       "2                  5  \n",
       "3                 26  \n",
       "4                  8  \n",
       "5                  4  \n",
       "6                  4  \n",
       "7                  4  \n",
       "8                 29  \n",
       "9                  6  \n",
       "10                 1  \n",
       "11                 5  \n",
       "12                22  \n",
       "13                 3  \n",
       "14                12  \n",
       "15                 7  "
      ]
     },
     "execution_count": 14,
     "metadata": {},
     "output_type": "execute_result"
    }
   ],
   "source": [
    "resultado6 = sf.dbeaver_fetch(sf.dbeaver_conexion(\"alquileresmadrid\"),query6)\n",
    "resultado6"
   ]
  },
  {
   "cell_type": "code",
   "execution_count": 71,
   "metadata": {},
   "outputs": [
    {
     "data": {
      "application/vnd.plotly.v1+json": {
       "config": {
        "plotlyServerURL": "https://plot.ly"
       },
       "data": [
        {
         "marker": {
          "color": "lightblue"
         },
         "name": "Precio Medio Alquiler",
         "type": "bar",
         "x": [
          "Retiro",
          "Salamanca",
          "Chamberi",
          "Centro",
          "Chamartin",
          "Moncloa-Aravaca",
          "Fuencarral-El Pardo",
          "Hortaleza",
          "Arganzuela",
          "Tetuan",
          "Ciudad Lineal",
          "San Blas",
          "Latina",
          "Puente de Vallecas",
          "Barajas",
          "Carabanchel"
         ],
         "y": [
          2052.295751633987,
          1870.117845117845,
          1726.4072693383039,
          1678.5298605056669,
          1578.143992519869,
          1537.5384615384614,
          1461.1252045826513,
          1435.6266233766235,
          1427.9642857142858,
          1385.840909090909,
          1353.6666666666667,
          1202.1818181818182,
          1167.157258064516,
          985.5523255813954,
          982.5,
          943.5
         ]
        },
        {
         "mode": "lines+markers",
         "name": "Españoles",
         "type": "scatter",
         "x": [
          "Retiro",
          "Salamanca",
          "Chamberi",
          "Centro",
          "Chamartin",
          "Moncloa-Aravaca",
          "Fuencarral-El Pardo",
          "Hortaleza",
          "Arganzuela",
          "Tetuan",
          "Ciudad Lineal",
          "San Blas",
          "Latina",
          "Puente de Vallecas",
          "Barajas",
          "Carabanchel"
         ],
         "y": [
          -713,
          -868,
          -1071,
          -1947,
          -938,
          94,
          -211,
          241,
          -930,
          -1322,
          -1719,
          -922,
          -1543,
          -1541,
          214,
          -1316
         ]
        },
        {
         "mode": "lines+markers",
         "name": "Extranjeros",
         "type": "scatter",
         "x": [
          "Retiro",
          "Salamanca",
          "Chamberi",
          "Centro",
          "Chamartin",
          "Moncloa-Aravaca",
          "Fuencarral-El Pardo",
          "Hortaleza",
          "Arganzuela",
          "Tetuan",
          "Ciudad Lineal",
          "San Blas",
          "Latina",
          "Puente de Vallecas",
          "Barajas",
          "Carabanchel"
         ],
         "y": [
          96,
          622,
          146,
          519,
          -247,
          -351,
          -645,
          332,
          -338,
          -713,
          -646,
          -77,
          -966,
          -1209,
          -84,
          -1219
         ]
        },
        {
         "mode": "lines+markers",
         "name": "Cantidad de Airbnbs",
         "type": "scatter",
         "x": [
          "Retiro",
          "Salamanca",
          "Chamberi",
          "Centro",
          "Chamartin",
          "Moncloa-Aravaca",
          "Fuencarral-El Pardo",
          "Hortaleza",
          "Arganzuela",
          "Tetuan",
          "Ciudad Lineal",
          "San Blas",
          "Latina",
          "Puente de Vallecas",
          "Barajas",
          "Carabanchel"
         ],
         "y": [
          8,
          13,
          26,
          210,
          4,
          6,
          1,
          5,
          29,
          22,
          5,
          4,
          3,
          12,
          4,
          7
         ]
        }
       ],
       "layout": {
        "barmode": "group",
        "template": {
         "data": {
          "bar": [
           {
            "error_x": {
             "color": "#2a3f5f"
            },
            "error_y": {
             "color": "#2a3f5f"
            },
            "marker": {
             "line": {
              "color": "#E5ECF6",
              "width": 0.5
             },
             "pattern": {
              "fillmode": "overlay",
              "size": 10,
              "solidity": 0.2
             }
            },
            "type": "bar"
           }
          ],
          "barpolar": [
           {
            "marker": {
             "line": {
              "color": "#E5ECF6",
              "width": 0.5
             },
             "pattern": {
              "fillmode": "overlay",
              "size": 10,
              "solidity": 0.2
             }
            },
            "type": "barpolar"
           }
          ],
          "carpet": [
           {
            "aaxis": {
             "endlinecolor": "#2a3f5f",
             "gridcolor": "white",
             "linecolor": "white",
             "minorgridcolor": "white",
             "startlinecolor": "#2a3f5f"
            },
            "baxis": {
             "endlinecolor": "#2a3f5f",
             "gridcolor": "white",
             "linecolor": "white",
             "minorgridcolor": "white",
             "startlinecolor": "#2a3f5f"
            },
            "type": "carpet"
           }
          ],
          "choropleth": [
           {
            "colorbar": {
             "outlinewidth": 0,
             "ticks": ""
            },
            "type": "choropleth"
           }
          ],
          "contour": [
           {
            "colorbar": {
             "outlinewidth": 0,
             "ticks": ""
            },
            "colorscale": [
             [
              0,
              "#0d0887"
             ],
             [
              0.1111111111111111,
              "#46039f"
             ],
             [
              0.2222222222222222,
              "#7201a8"
             ],
             [
              0.3333333333333333,
              "#9c179e"
             ],
             [
              0.4444444444444444,
              "#bd3786"
             ],
             [
              0.5555555555555556,
              "#d8576b"
             ],
             [
              0.6666666666666666,
              "#ed7953"
             ],
             [
              0.7777777777777778,
              "#fb9f3a"
             ],
             [
              0.8888888888888888,
              "#fdca26"
             ],
             [
              1,
              "#f0f921"
             ]
            ],
            "type": "contour"
           }
          ],
          "contourcarpet": [
           {
            "colorbar": {
             "outlinewidth": 0,
             "ticks": ""
            },
            "type": "contourcarpet"
           }
          ],
          "heatmap": [
           {
            "colorbar": {
             "outlinewidth": 0,
             "ticks": ""
            },
            "colorscale": [
             [
              0,
              "#0d0887"
             ],
             [
              0.1111111111111111,
              "#46039f"
             ],
             [
              0.2222222222222222,
              "#7201a8"
             ],
             [
              0.3333333333333333,
              "#9c179e"
             ],
             [
              0.4444444444444444,
              "#bd3786"
             ],
             [
              0.5555555555555556,
              "#d8576b"
             ],
             [
              0.6666666666666666,
              "#ed7953"
             ],
             [
              0.7777777777777778,
              "#fb9f3a"
             ],
             [
              0.8888888888888888,
              "#fdca26"
             ],
             [
              1,
              "#f0f921"
             ]
            ],
            "type": "heatmap"
           }
          ],
          "heatmapgl": [
           {
            "colorbar": {
             "outlinewidth": 0,
             "ticks": ""
            },
            "colorscale": [
             [
              0,
              "#0d0887"
             ],
             [
              0.1111111111111111,
              "#46039f"
             ],
             [
              0.2222222222222222,
              "#7201a8"
             ],
             [
              0.3333333333333333,
              "#9c179e"
             ],
             [
              0.4444444444444444,
              "#bd3786"
             ],
             [
              0.5555555555555556,
              "#d8576b"
             ],
             [
              0.6666666666666666,
              "#ed7953"
             ],
             [
              0.7777777777777778,
              "#fb9f3a"
             ],
             [
              0.8888888888888888,
              "#fdca26"
             ],
             [
              1,
              "#f0f921"
             ]
            ],
            "type": "heatmapgl"
           }
          ],
          "histogram": [
           {
            "marker": {
             "pattern": {
              "fillmode": "overlay",
              "size": 10,
              "solidity": 0.2
             }
            },
            "type": "histogram"
           }
          ],
          "histogram2d": [
           {
            "colorbar": {
             "outlinewidth": 0,
             "ticks": ""
            },
            "colorscale": [
             [
              0,
              "#0d0887"
             ],
             [
              0.1111111111111111,
              "#46039f"
             ],
             [
              0.2222222222222222,
              "#7201a8"
             ],
             [
              0.3333333333333333,
              "#9c179e"
             ],
             [
              0.4444444444444444,
              "#bd3786"
             ],
             [
              0.5555555555555556,
              "#d8576b"
             ],
             [
              0.6666666666666666,
              "#ed7953"
             ],
             [
              0.7777777777777778,
              "#fb9f3a"
             ],
             [
              0.8888888888888888,
              "#fdca26"
             ],
             [
              1,
              "#f0f921"
             ]
            ],
            "type": "histogram2d"
           }
          ],
          "histogram2dcontour": [
           {
            "colorbar": {
             "outlinewidth": 0,
             "ticks": ""
            },
            "colorscale": [
             [
              0,
              "#0d0887"
             ],
             [
              0.1111111111111111,
              "#46039f"
             ],
             [
              0.2222222222222222,
              "#7201a8"
             ],
             [
              0.3333333333333333,
              "#9c179e"
             ],
             [
              0.4444444444444444,
              "#bd3786"
             ],
             [
              0.5555555555555556,
              "#d8576b"
             ],
             [
              0.6666666666666666,
              "#ed7953"
             ],
             [
              0.7777777777777778,
              "#fb9f3a"
             ],
             [
              0.8888888888888888,
              "#fdca26"
             ],
             [
              1,
              "#f0f921"
             ]
            ],
            "type": "histogram2dcontour"
           }
          ],
          "mesh3d": [
           {
            "colorbar": {
             "outlinewidth": 0,
             "ticks": ""
            },
            "type": "mesh3d"
           }
          ],
          "parcoords": [
           {
            "line": {
             "colorbar": {
              "outlinewidth": 0,
              "ticks": ""
             }
            },
            "type": "parcoords"
           }
          ],
          "pie": [
           {
            "automargin": true,
            "type": "pie"
           }
          ],
          "scatter": [
           {
            "fillpattern": {
             "fillmode": "overlay",
             "size": 10,
             "solidity": 0.2
            },
            "type": "scatter"
           }
          ],
          "scatter3d": [
           {
            "line": {
             "colorbar": {
              "outlinewidth": 0,
              "ticks": ""
             }
            },
            "marker": {
             "colorbar": {
              "outlinewidth": 0,
              "ticks": ""
             }
            },
            "type": "scatter3d"
           }
          ],
          "scattercarpet": [
           {
            "marker": {
             "colorbar": {
              "outlinewidth": 0,
              "ticks": ""
             }
            },
            "type": "scattercarpet"
           }
          ],
          "scattergeo": [
           {
            "marker": {
             "colorbar": {
              "outlinewidth": 0,
              "ticks": ""
             }
            },
            "type": "scattergeo"
           }
          ],
          "scattergl": [
           {
            "marker": {
             "colorbar": {
              "outlinewidth": 0,
              "ticks": ""
             }
            },
            "type": "scattergl"
           }
          ],
          "scattermapbox": [
           {
            "marker": {
             "colorbar": {
              "outlinewidth": 0,
              "ticks": ""
             }
            },
            "type": "scattermapbox"
           }
          ],
          "scatterpolar": [
           {
            "marker": {
             "colorbar": {
              "outlinewidth": 0,
              "ticks": ""
             }
            },
            "type": "scatterpolar"
           }
          ],
          "scatterpolargl": [
           {
            "marker": {
             "colorbar": {
              "outlinewidth": 0,
              "ticks": ""
             }
            },
            "type": "scatterpolargl"
           }
          ],
          "scatterternary": [
           {
            "marker": {
             "colorbar": {
              "outlinewidth": 0,
              "ticks": ""
             }
            },
            "type": "scatterternary"
           }
          ],
          "surface": [
           {
            "colorbar": {
             "outlinewidth": 0,
             "ticks": ""
            },
            "colorscale": [
             [
              0,
              "#0d0887"
             ],
             [
              0.1111111111111111,
              "#46039f"
             ],
             [
              0.2222222222222222,
              "#7201a8"
             ],
             [
              0.3333333333333333,
              "#9c179e"
             ],
             [
              0.4444444444444444,
              "#bd3786"
             ],
             [
              0.5555555555555556,
              "#d8576b"
             ],
             [
              0.6666666666666666,
              "#ed7953"
             ],
             [
              0.7777777777777778,
              "#fb9f3a"
             ],
             [
              0.8888888888888888,
              "#fdca26"
             ],
             [
              1,
              "#f0f921"
             ]
            ],
            "type": "surface"
           }
          ],
          "table": [
           {
            "cells": {
             "fill": {
              "color": "#EBF0F8"
             },
             "line": {
              "color": "white"
             }
            },
            "header": {
             "fill": {
              "color": "#C8D4E3"
             },
             "line": {
              "color": "white"
             }
            },
            "type": "table"
           }
          ]
         },
         "layout": {
          "annotationdefaults": {
           "arrowcolor": "#2a3f5f",
           "arrowhead": 0,
           "arrowwidth": 1
          },
          "autotypenumbers": "strict",
          "coloraxis": {
           "colorbar": {
            "outlinewidth": 0,
            "ticks": ""
           }
          },
          "colorscale": {
           "diverging": [
            [
             0,
             "#8e0152"
            ],
            [
             0.1,
             "#c51b7d"
            ],
            [
             0.2,
             "#de77ae"
            ],
            [
             0.3,
             "#f1b6da"
            ],
            [
             0.4,
             "#fde0ef"
            ],
            [
             0.5,
             "#f7f7f7"
            ],
            [
             0.6,
             "#e6f5d0"
            ],
            [
             0.7,
             "#b8e186"
            ],
            [
             0.8,
             "#7fbc41"
            ],
            [
             0.9,
             "#4d9221"
            ],
            [
             1,
             "#276419"
            ]
           ],
           "sequential": [
            [
             0,
             "#0d0887"
            ],
            [
             0.1111111111111111,
             "#46039f"
            ],
            [
             0.2222222222222222,
             "#7201a8"
            ],
            [
             0.3333333333333333,
             "#9c179e"
            ],
            [
             0.4444444444444444,
             "#bd3786"
            ],
            [
             0.5555555555555556,
             "#d8576b"
            ],
            [
             0.6666666666666666,
             "#ed7953"
            ],
            [
             0.7777777777777778,
             "#fb9f3a"
            ],
            [
             0.8888888888888888,
             "#fdca26"
            ],
            [
             1,
             "#f0f921"
            ]
           ],
           "sequentialminus": [
            [
             0,
             "#0d0887"
            ],
            [
             0.1111111111111111,
             "#46039f"
            ],
            [
             0.2222222222222222,
             "#7201a8"
            ],
            [
             0.3333333333333333,
             "#9c179e"
            ],
            [
             0.4444444444444444,
             "#bd3786"
            ],
            [
             0.5555555555555556,
             "#d8576b"
            ],
            [
             0.6666666666666666,
             "#ed7953"
            ],
            [
             0.7777777777777778,
             "#fb9f3a"
            ],
            [
             0.8888888888888888,
             "#fdca26"
            ],
            [
             1,
             "#f0f921"
            ]
           ]
          },
          "colorway": [
           "#636efa",
           "#EF553B",
           "#00cc96",
           "#ab63fa",
           "#FFA15A",
           "#19d3f3",
           "#FF6692",
           "#B6E880",
           "#FF97FF",
           "#FECB52"
          ],
          "font": {
           "color": "#2a3f5f"
          },
          "geo": {
           "bgcolor": "white",
           "lakecolor": "white",
           "landcolor": "#E5ECF6",
           "showlakes": true,
           "showland": true,
           "subunitcolor": "white"
          },
          "hoverlabel": {
           "align": "left"
          },
          "hovermode": "closest",
          "mapbox": {
           "style": "light"
          },
          "paper_bgcolor": "white",
          "plot_bgcolor": "#E5ECF6",
          "polar": {
           "angularaxis": {
            "gridcolor": "white",
            "linecolor": "white",
            "ticks": ""
           },
           "bgcolor": "#E5ECF6",
           "radialaxis": {
            "gridcolor": "white",
            "linecolor": "white",
            "ticks": ""
           }
          },
          "scene": {
           "xaxis": {
            "backgroundcolor": "#E5ECF6",
            "gridcolor": "white",
            "gridwidth": 2,
            "linecolor": "white",
            "showbackground": true,
            "ticks": "",
            "zerolinecolor": "white"
           },
           "yaxis": {
            "backgroundcolor": "#E5ECF6",
            "gridcolor": "white",
            "gridwidth": 2,
            "linecolor": "white",
            "showbackground": true,
            "ticks": "",
            "zerolinecolor": "white"
           },
           "zaxis": {
            "backgroundcolor": "#E5ECF6",
            "gridcolor": "white",
            "gridwidth": 2,
            "linecolor": "white",
            "showbackground": true,
            "ticks": "",
            "zerolinecolor": "white"
           }
          },
          "shapedefaults": {
           "line": {
            "color": "#2a3f5f"
           }
          },
          "ternary": {
           "aaxis": {
            "gridcolor": "white",
            "linecolor": "white",
            "ticks": ""
           },
           "baxis": {
            "gridcolor": "white",
            "linecolor": "white",
            "ticks": ""
           },
           "bgcolor": "#E5ECF6",
           "caxis": {
            "gridcolor": "white",
            "linecolor": "white",
            "ticks": ""
           }
          },
          "title": {
           "x": 0.05
          },
          "xaxis": {
           "automargin": true,
           "gridcolor": "white",
           "linecolor": "white",
           "ticks": "",
           "title": {
            "standoff": 15
           },
           "zerolinecolor": "white",
           "zerolinewidth": 2
          },
          "yaxis": {
           "automargin": true,
           "gridcolor": "white",
           "linecolor": "white",
           "ticks": "",
           "title": {
            "standoff": 15
           },
           "zerolinecolor": "white",
           "zerolinewidth": 2
          }
         }
        },
        "title": {
         "text": "Análisis por Distrito"
        },
        "xaxis": {
         "tickangle": -45,
         "title": {
          "text": "Distrito"
         }
        },
        "yaxis": {
         "title": {
          "text": "Valores"
         }
        }
       }
      }
     },
     "metadata": {},
     "output_type": "display_data"
    }
   ],
   "source": [
    "resultado6 = resultado6.sort_values(by='precio_medio_alquiler', ascending=False)\n",
    "\n",
    "fig6 = go.Figure()\n",
    "\n",
    "fig6.add_trace(go.Bar(x=resultado6['distrito'], y=resultado6['precio_medio_alquiler'],\n",
    "                      name='Precio Medio Alquiler'))\n",
    "fig6.update_traces(marker_color='lightblue')\n",
    "\n",
    "fig6.add_trace(go.Scatter(x=resultado6['distrito'], y=resultado6['espanioles'],\n",
    "                          mode='lines+markers',\n",
    "                          name='Españoles'))\n",
    "\n",
    "fig6.add_trace(go.Scatter(x=resultado6['distrito'], y=resultado6['extranjeros'],\n",
    "                          mode='lines+markers',\n",
    "                          name='Extranjeros'))\n",
    "\n",
    "fig6.add_trace(go.Scatter(x=resultado6['distrito'], y=resultado6['cantidad_airbnbs'],\n",
    "                          mode='lines+markers',\n",
    "                          name='Cantidad de Airbnbs'))\n",
    "\n",
    "fig6.update_layout(title='Análisis por Distrito',\n",
    "                   xaxis_title='Distrito',\n",
    "                   yaxis_title='Valores',\n",
    "                   xaxis_tickangle=-45,\n",
    "                   barmode='group')  # Agrupa las barras\n",
    "\n",
    "\n",
    "fig6.show()"
   ]
  },
  {
   "cell_type": "markdown",
   "metadata": {},
   "source": [
    "### 7. Precio medio de 2 noches de AirBnB\n",
    "- Fechas consultadas: 31 de enero al 2 de febrero de 2025 para 2 adultos."
   ]
  },
  {
   "cell_type": "code",
   "execution_count": 57,
   "metadata": {},
   "outputs": [],
   "source": [
    "query7='''\n",
    "SELECT \n",
    "    round(AVG(precio),2) AS precio_promedio_airbnb\n",
    "FROM \n",
    "    airbnb;\n",
    "'''"
   ]
  },
  {
   "cell_type": "code",
   "execution_count": 58,
   "metadata": {},
   "outputs": [
    {
     "data": {
      "text/html": [
       "<div>\n",
       "<style scoped>\n",
       "    .dataframe tbody tr th:only-of-type {\n",
       "        vertical-align: middle;\n",
       "    }\n",
       "\n",
       "    .dataframe tbody tr th {\n",
       "        vertical-align: top;\n",
       "    }\n",
       "\n",
       "    .dataframe thead th {\n",
       "        text-align: right;\n",
       "    }\n",
       "</style>\n",
       "<table border=\"1\" class=\"dataframe\">\n",
       "  <thead>\n",
       "    <tr style=\"text-align: right;\">\n",
       "      <th></th>\n",
       "      <th>precio_promedio_airbnb</th>\n",
       "    </tr>\n",
       "  </thead>\n",
       "  <tbody>\n",
       "    <tr>\n",
       "      <th>0</th>\n",
       "      <td>243.21</td>\n",
       "    </tr>\n",
       "  </tbody>\n",
       "</table>\n",
       "</div>"
      ],
      "text/plain": [
       "  precio_promedio_airbnb\n",
       "0                 243.21"
      ]
     },
     "execution_count": 58,
     "metadata": {},
     "output_type": "execute_result"
    }
   ],
   "source": [
    "resultado7 = sf.dbeaver_fetch(sf.dbeaver_conexion(\"alquileresmadrid\"),query7)\n",
    "resultado7"
   ]
  },
  {
   "cell_type": "markdown",
   "metadata": {},
   "source": [
    "## Mapa"
   ]
  },
  {
   "cell_type": "code",
   "execution_count": null,
   "metadata": {},
   "outputs": [],
   "source": []
  }
 ],
 "metadata": {
  "kernelspec": {
   "display_name": "Python 3",
   "language": "python",
   "name": "python3"
  },
  "language_info": {
   "codemirror_mode": {
    "name": "ipython",
    "version": 3
   },
   "file_extension": ".py",
   "mimetype": "text/x-python",
   "name": "python",
   "nbconvert_exporter": "python",
   "pygments_lexer": "ipython3",
   "version": "3.9.6"
  }
 },
 "nbformat": 4,
 "nbformat_minor": 2
}
