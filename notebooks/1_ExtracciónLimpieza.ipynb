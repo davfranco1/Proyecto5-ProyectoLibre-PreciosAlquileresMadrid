{
 "cells": [
  {
   "cell_type": "markdown",
   "metadata": {},
   "source": [
    "# Notebook #1: Captura de datos y limpieza"
   ]
  },
  {
   "cell_type": "code",
   "execution_count": 1,
   "metadata": {},
   "outputs": [
    {
     "name": "stderr",
     "output_type": "stream",
     "text": [
      "/Users/davidfranco/Library/Python/3.9/lib/python/site-packages/urllib3/__init__.py:35: NotOpenSSLWarning: urllib3 v2 only supports OpenSSL 1.1.1+, currently the 'ssl' module is compiled with 'LibreSSL 2.8.3'. See: https://github.com/urllib3/urllib3/issues/3020\n",
      "  warnings.warn(\n"
     ]
    }
   ],
   "source": [
    "# Importamos liberías\n",
    "\n",
    "from tqdm import tqdm  # Usar barras de progreso\n",
    "import requests  # Trabajar con APIs\n",
    "from time import sleep  # Funciones con time (pausas, espera)\n",
    "import pandas as pd  # Trabajar con DataFrames para análisis de datos\n",
    "import geopandas as gpd\n",
    "from shapely.geometry import Point\n",
    "import numpy as np # Trabajar con arrays y operaciones matemáticas avanzadas\n",
    "from IPython.display import display  # Mostrar salidas de manera más clara en entornos interactivos (como Jupyter)\n",
    "import time  # Funciones relacionadas con el tiempo\n",
    "import datetime  # Obtener la fecha y hora actuales\n",
    "import os  # Interactuar con el sistema operativo, como rutas y variables de entorno\n",
    "import dotenv  # Manejo de archivos .env para cargar tokens y claves\n",
    "dotenv.load_dotenv()  # Cargar variables de entorno desde un archivo .env\n",
    "import json\n",
    "\n",
    "from googletrans import Translator\n",
    "\n",
    "from geopy.geocoders import Nominatim\n",
    "\n",
    "from selenium import webdriver  # Selenium es una herramienta para automatizar la interacción con navegadores web.\n",
    "from webdriver_manager.chrome import ChromeDriverManager  # ChromeDriverManager gestiona la instalación del controlador de Chrome.\n",
    "from selenium.webdriver.common.by import By # By permite localizar elementos web usando diferentes estrategias de búsqueda (ID, CSS_SELECTOR, XPATH, etc.)\n",
    "from selenium.webdriver.common.keys import Keys  # Keys es útil para simular eventos de teclado en Selenium.\n",
    "from selenium.webdriver.support.ui import Select  # Select se utiliza para interactuar con elementos <select> en páginas web.\n",
    "from selenium.webdriver.support.ui import WebDriverWait  # Esperas explícitas para que ciertos elementos sean visibles o interactuables.\n",
    "from selenium.webdriver.support import expected_conditions as EC  # Condiciones esperadas que ayudan a realizar esperas explícitas en Selenium.\n",
    "from selenium.common.exceptions import NoSuchElementException  # Excepciones comunes de selenium, como cuando no se encuentra un elemento.\n",
    "from bs4 import BeautifulSoup  # Herramienta para extraer y analizar datos de páginas HTML.\n",
    "import re\n",
    "\n"
   ]
  },
  {
   "cell_type": "code",
   "execution_count": 2,
   "metadata": {},
   "outputs": [],
   "source": [
    "# Librerías para tratamiento de datos\n",
    "\n",
    "import pandas as pd\n",
    "pd.set_option('display.max_columns', None) # Parámetro que modifica la visualización de los DFs\n",
    "import numpy as np\n",
    "\n",
    "# Librería para el acceso a variables y funciones\n",
    "import sys\n",
    "sys.path.append(\"../\")\n",
    "from src import soporte_funciones as sf #Archivo .py donde encontraremos todas nuestras funciones.\n",
    "#from src import soporte_variables as sv\n",
    "\n",
    "# Librería para trabajar con archivos pickle\n",
    "import pickle\n",
    "\n",
    "# Librería para ignorar avisos\n",
    "import warnings\n",
    "warnings.filterwarnings(\"ignore\") # Ignora TODOS los avisos"
   ]
  },
  {
   "cell_type": "markdown",
   "metadata": {},
   "source": [
    "## API AirBnB"
   ]
  },
  {
   "cell_type": "code",
   "execution_count": 3,
   "metadata": {},
   "outputs": [],
   "source": [
    "#resultados_airbnb = sf.consulta_airbnbs(\"Madrid\", \"2025-01-31\", \"2025-02-02\", 9)"
   ]
  },
  {
   "cell_type": "code",
   "execution_count": 4,
   "metadata": {},
   "outputs": [],
   "source": [
    "#with open(\"../datos/origen/airbnb.json\", \"w\") as json_file:\n",
    "#    json.dump(resultados_airbnb, json_file, indent=4)"
   ]
  },
  {
   "cell_type": "code",
   "execution_count": 5,
   "metadata": {},
   "outputs": [],
   "source": [
    "with open(\"../datos/origen/airbnb.json\", 'r') as file:\n",
    "    resultados_airbnb = json.load(file)"
   ]
  },
  {
   "cell_type": "code",
   "execution_count": 6,
   "metadata": {},
   "outputs": [],
   "source": [
    "df_airbnb = sf.dataframe_airbnb(resultados_airbnb)"
   ]
  },
  {
   "cell_type": "code",
   "execution_count": 7,
   "metadata": {},
   "outputs": [
    {
     "data": {
      "text/plain": [
       "(320, 4)"
      ]
     },
     "execution_count": 7,
     "metadata": {},
     "output_type": "execute_result"
    }
   ],
   "source": [
    "df_airbnb.shape"
   ]
  },
  {
   "cell_type": "markdown",
   "metadata": {},
   "source": [
    "- Usaremos la función `traducir_es`, que recibe un texto y lo traduce a español haciendo uso de Google Translate, y la aplicaremos a la columna \"Descripción\", para traducir su contenido a español."
   ]
  },
  {
   "cell_type": "code",
   "execution_count": 8,
   "metadata": {},
   "outputs": [],
   "source": [
    "#df_airbnb[\"Descripción\"] = df_airbnb[\"Descripción\"].apply(sf.traducir_es)"
   ]
  },
  {
   "cell_type": "code",
   "execution_count": 9,
   "metadata": {},
   "outputs": [
    {
     "data": {
      "text/html": [
       "<div>\n",
       "<style scoped>\n",
       "    .dataframe tbody tr th:only-of-type {\n",
       "        vertical-align: middle;\n",
       "    }\n",
       "\n",
       "    .dataframe tbody tr th {\n",
       "        vertical-align: top;\n",
       "    }\n",
       "\n",
       "    .dataframe thead th {\n",
       "        text-align: right;\n",
       "    }\n",
       "</style>\n",
       "<table border=\"1\" class=\"dataframe\">\n",
       "  <thead>\n",
       "    <tr style=\"text-align: right;\">\n",
       "      <th></th>\n",
       "      <th>Latitud</th>\n",
       "      <th>Longitud</th>\n",
       "      <th>Descripción</th>\n",
       "      <th>Precio Total</th>\n",
       "    </tr>\n",
       "  </thead>\n",
       "  <tbody>\n",
       "    <tr>\n",
       "      <th>120</th>\n",
       "      <td>40.46984</td>\n",
       "      <td>-3.70078</td>\n",
       "      <td>Room in madrid with good family atmosphere!</td>\n",
       "      <td>78</td>\n",
       "    </tr>\n",
       "    <tr>\n",
       "      <th>115</th>\n",
       "      <td>40.41766</td>\n",
       "      <td>-3.70692</td>\n",
       "      <td>*** Study Center Plaza Mayor-Sol Wifi A/C***</td>\n",
       "      <td>284</td>\n",
       "    </tr>\n",
       "    <tr>\n",
       "      <th>16</th>\n",
       "      <td>40.41298</td>\n",
       "      <td>-3.70963</td>\n",
       "      <td>Piso Plaza Mayor-La Latina-A/C-Balcón-Ascensor</td>\n",
       "      <td>273</td>\n",
       "    </tr>\n",
       "  </tbody>\n",
       "</table>\n",
       "</div>"
      ],
      "text/plain": [
       "      Latitud  Longitud                                     Descripción  \\\n",
       "120  40.46984  -3.70078     Room in madrid with good family atmosphere!   \n",
       "115  40.41766  -3.70692    *** Study Center Plaza Mayor-Sol Wifi A/C***   \n",
       "16   40.41298  -3.70963  Piso Plaza Mayor-La Latina-A/C-Balcón-Ascensor   \n",
       "\n",
       "     Precio Total  \n",
       "120            78  \n",
       "115           284  \n",
       "16            273  "
      ]
     },
     "execution_count": 9,
     "metadata": {},
     "output_type": "execute_result"
    }
   ],
   "source": [
    "df_airbnb.sample(3)"
   ]
  },
  {
   "cell_type": "markdown",
   "metadata": {},
   "source": [
    "- Convertimos la latitud y la longitud a geopuntos, cambiamos el formato de CRS (Coordinate Reference System) para que estandarizar el formato con los datos obtenidos de los municipios de Madrid, y guardamos en un archivo de tipo `geojason`."
   ]
  },
  {
   "cell_type": "code",
   "execution_count": 10,
   "metadata": {},
   "outputs": [],
   "source": [
    "gdf_airbnb = gpd.GeoDataFrame(df_airbnb, geometry=gpd.points_from_xy(df_airbnb.Longitud, df_airbnb.Latitud))\n",
    "gdf_airbnb.crs = \"EPSG:4326\"\n",
    "#gdf_airbnb.to_file('../datos/origen/airbnb.geojson', driver='GeoJSON')"
   ]
  },
  {
   "cell_type": "code",
   "execution_count": 11,
   "metadata": {},
   "outputs": [],
   "source": [
    "gdf_distritos = gpd.read_file(\"../datos/origen/madrid-districts.geojson\")"
   ]
  },
  {
   "cell_type": "code",
   "execution_count": 12,
   "metadata": {},
   "outputs": [],
   "source": [
    "gdf_distritos = gdf_distritos.rename(columns={\"name\":\"Distrito\",\"cartodb_id\":\"ID_Distrito\"})\n",
    "gdf_distritos.drop(columns= [\"created_at\", \"updated_at\"], inplace=True)"
   ]
  },
  {
   "cell_type": "code",
   "execution_count": 13,
   "metadata": {},
   "outputs": [],
   "source": [
    "gdf_sjoin = gpd.sjoin(gdf_airbnb, gdf_distritos, how=\"inner\", predicate=\"within\")\n",
    "gdf_sjoin = gdf_sjoin.drop(columns=\"index_right\")"
   ]
  },
  {
   "cell_type": "code",
   "execution_count": 14,
   "metadata": {},
   "outputs": [
    {
     "data": {
      "text/html": [
       "<div>\n",
       "<style scoped>\n",
       "    .dataframe tbody tr th:only-of-type {\n",
       "        vertical-align: middle;\n",
       "    }\n",
       "\n",
       "    .dataframe tbody tr th {\n",
       "        vertical-align: top;\n",
       "    }\n",
       "\n",
       "    .dataframe thead th {\n",
       "        text-align: right;\n",
       "    }\n",
       "</style>\n",
       "<table border=\"1\" class=\"dataframe\">\n",
       "  <thead>\n",
       "    <tr style=\"text-align: right;\">\n",
       "      <th></th>\n",
       "      <th>Latitud</th>\n",
       "      <th>Longitud</th>\n",
       "      <th>Descripción</th>\n",
       "      <th>Precio Total</th>\n",
       "      <th>geometry</th>\n",
       "      <th>Distrito</th>\n",
       "      <th>ID_Distrito</th>\n",
       "    </tr>\n",
       "  </thead>\n",
       "  <tbody>\n",
       "    <tr>\n",
       "      <th>0</th>\n",
       "      <td>40.411549</td>\n",
       "      <td>-3.697992</td>\n",
       "      <td>Cozy ensuite double room in the heart of Madrid</td>\n",
       "      <td>186</td>\n",
       "      <td>POINT (-3.69799 40.41155)</td>\n",
       "      <td>Centro</td>\n",
       "      <td>1</td>\n",
       "    </tr>\n",
       "  </tbody>\n",
       "</table>\n",
       "</div>"
      ],
      "text/plain": [
       "     Latitud  Longitud                                      Descripción  \\\n",
       "0  40.411549 -3.697992  Cozy ensuite double room in the heart of Madrid   \n",
       "\n",
       "   Precio Total                   geometry Distrito  ID_Distrito  \n",
       "0           186  POINT (-3.69799 40.41155)   Centro            1  "
      ]
     },
     "execution_count": 14,
     "metadata": {},
     "output_type": "execute_result"
    }
   ],
   "source": [
    "gdf_sjoin.head(1)"
   ]
  },
  {
   "cell_type": "code",
   "execution_count": 15,
   "metadata": {},
   "outputs": [],
   "source": [
    "gdf_sjoin_final = gdf_sjoin[[\"ID_Distrito\", \"Precio Total\", \"Descripción\", \"Latitud\", \"Longitud\", \"geometry\"]]"
   ]
  },
  {
   "cell_type": "code",
   "execution_count": 16,
   "metadata": {},
   "outputs": [
    {
     "data": {
      "text/html": [
       "<div>\n",
       "<style scoped>\n",
       "    .dataframe tbody tr th:only-of-type {\n",
       "        vertical-align: middle;\n",
       "    }\n",
       "\n",
       "    .dataframe tbody tr th {\n",
       "        vertical-align: top;\n",
       "    }\n",
       "\n",
       "    .dataframe thead th {\n",
       "        text-align: right;\n",
       "    }\n",
       "</style>\n",
       "<table border=\"1\" class=\"dataframe\">\n",
       "  <thead>\n",
       "    <tr style=\"text-align: right;\">\n",
       "      <th></th>\n",
       "      <th>ID_Distrito</th>\n",
       "      <th>Precio Total</th>\n",
       "      <th>Descripción</th>\n",
       "      <th>Latitud</th>\n",
       "      <th>Longitud</th>\n",
       "      <th>geometry</th>\n",
       "    </tr>\n",
       "  </thead>\n",
       "  <tbody>\n",
       "    <tr>\n",
       "      <th>110</th>\n",
       "      <td>2</td>\n",
       "      <td>361</td>\n",
       "      <td>**Center Luxurious Apartment. Museum Mile Wifi...</td>\n",
       "      <td>40.408260</td>\n",
       "      <td>-3.692910</td>\n",
       "      <td>POINT (-3.69291 40.40826)</td>\n",
       "    </tr>\n",
       "    <tr>\n",
       "      <th>160</th>\n",
       "      <td>1</td>\n",
       "      <td>292</td>\n",
       "      <td>Apartment Centro, Madrid. WIFI. A/C.</td>\n",
       "      <td>40.419794</td>\n",
       "      <td>-3.706152</td>\n",
       "      <td>POINT (-3.70615 40.41979)</td>\n",
       "    </tr>\n",
       "  </tbody>\n",
       "</table>\n",
       "</div>"
      ],
      "text/plain": [
       "     ID_Distrito  Precio Total  \\\n",
       "110            2           361   \n",
       "160            1           292   \n",
       "\n",
       "                                           Descripción    Latitud  Longitud  \\\n",
       "110  **Center Luxurious Apartment. Museum Mile Wifi...  40.408260 -3.692910   \n",
       "160               Apartment Centro, Madrid. WIFI. A/C.  40.419794 -3.706152   \n",
       "\n",
       "                      geometry  \n",
       "110  POINT (-3.69291 40.40826)  \n",
       "160  POINT (-3.70615 40.41979)  "
      ]
     },
     "execution_count": 16,
     "metadata": {},
     "output_type": "execute_result"
    }
   ],
   "source": [
    "gdf_sjoin_final.sample(2)"
   ]
  },
  {
   "cell_type": "code",
   "execution_count": 17,
   "metadata": {},
   "outputs": [],
   "source": [
    "#gdf_sjoin_final.to_file('../datos/finales/airbnb.geojson', driver='GeoJSON')\n",
    "#gdf_sjoin.to_file('../datos/finales/airbnb.shp')"
   ]
  },
  {
   "cell_type": "markdown",
   "metadata": {},
   "source": [
    "## Creación del DF Distritos\n",
    "- En él se listan los distritos de Madrid junto con los códigos asignados por el ayuntamiento.\n",
    "- Guardamos en .CSV."
   ]
  },
  {
   "cell_type": "code",
   "execution_count": 18,
   "metadata": {},
   "outputs": [
    {
     "data": {
      "text/html": [
       "<div>\n",
       "<style scoped>\n",
       "    .dataframe tbody tr th:only-of-type {\n",
       "        vertical-align: middle;\n",
       "    }\n",
       "\n",
       "    .dataframe tbody tr th {\n",
       "        vertical-align: top;\n",
       "    }\n",
       "\n",
       "    .dataframe thead th {\n",
       "        text-align: right;\n",
       "    }\n",
       "</style>\n",
       "<table border=\"1\" class=\"dataframe\">\n",
       "  <thead>\n",
       "    <tr style=\"text-align: right;\">\n",
       "      <th></th>\n",
       "      <th>Distrito</th>\n",
       "      <th>ID_Distrito</th>\n",
       "      <th>geometry</th>\n",
       "    </tr>\n",
       "  </thead>\n",
       "  <tbody>\n",
       "    <tr>\n",
       "      <th>0</th>\n",
       "      <td>Centro</td>\n",
       "      <td>1</td>\n",
       "      <td>MULTIPOLYGON (((-3.69185 40.40853, -3.69189 40...</td>\n",
       "    </tr>\n",
       "    <tr>\n",
       "      <th>1</th>\n",
       "      <td>Arganzuela</td>\n",
       "      <td>2</td>\n",
       "      <td>MULTIPOLYGON (((-3.70258 40.40638, -3.70166 40...</td>\n",
       "    </tr>\n",
       "    <tr>\n",
       "      <th>2</th>\n",
       "      <td>Retiro</td>\n",
       "      <td>3</td>\n",
       "      <td>MULTIPOLYGON (((-3.66279 40.4097, -3.66384 40....</td>\n",
       "    </tr>\n",
       "    <tr>\n",
       "      <th>3</th>\n",
       "      <td>Salamanca</td>\n",
       "      <td>4</td>\n",
       "      <td>MULTIPOLYGON (((-3.65809 40.43945, -3.65828 40...</td>\n",
       "    </tr>\n",
       "    <tr>\n",
       "      <th>4</th>\n",
       "      <td>Chamartin</td>\n",
       "      <td>5</td>\n",
       "      <td>MULTIPOLYGON (((-3.67231 40.48388, -3.67237 40...</td>\n",
       "    </tr>\n",
       "    <tr>\n",
       "      <th>5</th>\n",
       "      <td>Tetuan</td>\n",
       "      <td>6</td>\n",
       "      <td>MULTIPOLYGON (((-3.69633 40.47572, -3.69619 40...</td>\n",
       "    </tr>\n",
       "    <tr>\n",
       "      <th>6</th>\n",
       "      <td>Chamberi</td>\n",
       "      <td>7</td>\n",
       "      <td>MULTIPOLYGON (((-3.68991 40.44737, -3.69048 40...</td>\n",
       "    </tr>\n",
       "    <tr>\n",
       "      <th>7</th>\n",
       "      <td>Fuencarral-El Pardo</td>\n",
       "      <td>8</td>\n",
       "      <td>MULTIPOLYGON (((-3.64131 40.63922, -3.64118 40...</td>\n",
       "    </tr>\n",
       "    <tr>\n",
       "      <th>8</th>\n",
       "      <td>Moncloa-Aravaca</td>\n",
       "      <td>9</td>\n",
       "      <td>MULTIPOLYGON (((-3.79973 40.47063, -3.79887 40...</td>\n",
       "    </tr>\n",
       "    <tr>\n",
       "      <th>9</th>\n",
       "      <td>Latina</td>\n",
       "      <td>10</td>\n",
       "      <td>MULTIPOLYGON (((-3.7213 40.41256, -3.72051 40....</td>\n",
       "    </tr>\n",
       "    <tr>\n",
       "      <th>10</th>\n",
       "      <td>Carabanchel</td>\n",
       "      <td>11</td>\n",
       "      <td>MULTIPOLYGON (((-3.72346 40.40622, -3.72345 40...</td>\n",
       "    </tr>\n",
       "    <tr>\n",
       "      <th>11</th>\n",
       "      <td>Usera</td>\n",
       "      <td>12</td>\n",
       "      <td>MULTIPOLYGON (((-3.6819 40.36592, -3.6819 40.3...</td>\n",
       "    </tr>\n",
       "    <tr>\n",
       "      <th>12</th>\n",
       "      <td>Puente de Vallecas</td>\n",
       "      <td>13</td>\n",
       "      <td>MULTIPOLYGON (((-3.67705 40.3618, -3.67706 40....</td>\n",
       "    </tr>\n",
       "    <tr>\n",
       "      <th>13</th>\n",
       "      <td>Moratalaz</td>\n",
       "      <td>14</td>\n",
       "      <td>MULTIPOLYGON (((-3.64158 40.41569, -3.63964 40...</td>\n",
       "    </tr>\n",
       "    <tr>\n",
       "      <th>14</th>\n",
       "      <td>Ciudad Lineal</td>\n",
       "      <td>15</td>\n",
       "      <td>MULTIPOLYGON (((-3.62058 40.41671, -3.62031 40...</td>\n",
       "    </tr>\n",
       "    <tr>\n",
       "      <th>15</th>\n",
       "      <td>Hortaleza</td>\n",
       "      <td>16</td>\n",
       "      <td>MULTIPOLYGON (((-3.65114 40.5123, -3.65095 40....</td>\n",
       "    </tr>\n",
       "    <tr>\n",
       "      <th>16</th>\n",
       "      <td>Villaverde</td>\n",
       "      <td>17</td>\n",
       "      <td>MULTIPOLYGON (((-3.70235 40.36475, -3.70193 40...</td>\n",
       "    </tr>\n",
       "    <tr>\n",
       "      <th>17</th>\n",
       "      <td>Villa de Vallecas</td>\n",
       "      <td>18</td>\n",
       "      <td>MULTIPOLYGON (((-3.60631 40.3882, -3.60524 40....</td>\n",
       "    </tr>\n",
       "    <tr>\n",
       "      <th>18</th>\n",
       "      <td>Vicalvaro</td>\n",
       "      <td>19</td>\n",
       "      <td>MULTIPOLYGON (((-3.57633 40.41484, -3.57159 40...</td>\n",
       "    </tr>\n",
       "    <tr>\n",
       "      <th>19</th>\n",
       "      <td>San Blas</td>\n",
       "      <td>20</td>\n",
       "      <td>MULTIPOLYGON (((-3.59198 40.45123, -3.59194 40...</td>\n",
       "    </tr>\n",
       "    <tr>\n",
       "      <th>20</th>\n",
       "      <td>Barajas</td>\n",
       "      <td>21</td>\n",
       "      <td>MULTIPOLYGON (((-3.56045 40.51234, -3.56036 40...</td>\n",
       "    </tr>\n",
       "  </tbody>\n",
       "</table>\n",
       "</div>"
      ],
      "text/plain": [
       "               Distrito  ID_Distrito  \\\n",
       "0                Centro            1   \n",
       "1            Arganzuela            2   \n",
       "2                Retiro            3   \n",
       "3             Salamanca            4   \n",
       "4             Chamartin            5   \n",
       "5                Tetuan            6   \n",
       "6              Chamberi            7   \n",
       "7   Fuencarral-El Pardo            8   \n",
       "8       Moncloa-Aravaca            9   \n",
       "9                Latina           10   \n",
       "10          Carabanchel           11   \n",
       "11                Usera           12   \n",
       "12   Puente de Vallecas           13   \n",
       "13            Moratalaz           14   \n",
       "14        Ciudad Lineal           15   \n",
       "15            Hortaleza           16   \n",
       "16           Villaverde           17   \n",
       "17    Villa de Vallecas           18   \n",
       "18            Vicalvaro           19   \n",
       "19             San Blas           20   \n",
       "20              Barajas           21   \n",
       "\n",
       "                                             geometry  \n",
       "0   MULTIPOLYGON (((-3.69185 40.40853, -3.69189 40...  \n",
       "1   MULTIPOLYGON (((-3.70258 40.40638, -3.70166 40...  \n",
       "2   MULTIPOLYGON (((-3.66279 40.4097, -3.66384 40....  \n",
       "3   MULTIPOLYGON (((-3.65809 40.43945, -3.65828 40...  \n",
       "4   MULTIPOLYGON (((-3.67231 40.48388, -3.67237 40...  \n",
       "5   MULTIPOLYGON (((-3.69633 40.47572, -3.69619 40...  \n",
       "6   MULTIPOLYGON (((-3.68991 40.44737, -3.69048 40...  \n",
       "7   MULTIPOLYGON (((-3.64131 40.63922, -3.64118 40...  \n",
       "8   MULTIPOLYGON (((-3.79973 40.47063, -3.79887 40...  \n",
       "9   MULTIPOLYGON (((-3.7213 40.41256, -3.72051 40....  \n",
       "10  MULTIPOLYGON (((-3.72346 40.40622, -3.72345 40...  \n",
       "11  MULTIPOLYGON (((-3.6819 40.36592, -3.6819 40.3...  \n",
       "12  MULTIPOLYGON (((-3.67705 40.3618, -3.67706 40....  \n",
       "13  MULTIPOLYGON (((-3.64158 40.41569, -3.63964 40...  \n",
       "14  MULTIPOLYGON (((-3.62058 40.41671, -3.62031 40...  \n",
       "15  MULTIPOLYGON (((-3.65114 40.5123, -3.65095 40....  \n",
       "16  MULTIPOLYGON (((-3.70235 40.36475, -3.70193 40...  \n",
       "17  MULTIPOLYGON (((-3.60631 40.3882, -3.60524 40....  \n",
       "18  MULTIPOLYGON (((-3.57633 40.41484, -3.57159 40...  \n",
       "19  MULTIPOLYGON (((-3.59198 40.45123, -3.59194 40...  \n",
       "20  MULTIPOLYGON (((-3.56045 40.51234, -3.56036 40...  "
      ]
     },
     "execution_count": 18,
     "metadata": {},
     "output_type": "execute_result"
    }
   ],
   "source": [
    "df_distritos = gdf_distritos\n",
    "#df_distritos.to_file('../datos/finales/distritos.geojson', driver='GeoJSON')\n",
    "df_distritos"
   ]
  },
  {
   "cell_type": "markdown",
   "metadata": {},
   "source": [
    "## WebScraping de Redpiso"
   ]
  },
  {
   "cell_type": "code",
   "execution_count": 19,
   "metadata": {},
   "outputs": [],
   "source": [
    "#sopas_redpiso = sf.scraping_alquileres_redpiso(50)"
   ]
  },
  {
   "cell_type": "code",
   "execution_count": 20,
   "metadata": {},
   "outputs": [],
   "source": [
    "#with open('../datos/origen/sopas_redpiso.pkl', 'wb') as file:\n",
    "#    pickle.dump(sopas_redpiso, file)"
   ]
  },
  {
   "cell_type": "code",
   "execution_count": 21,
   "metadata": {},
   "outputs": [],
   "source": [
    "with open('../datos/origen/sopas_redpiso.pkl', 'rb') as file:\n",
    "    sopas_redpiso = pickle.load(file)"
   ]
  },
  {
   "cell_type": "code",
   "execution_count": 22,
   "metadata": {},
   "outputs": [],
   "source": [
    "df_redpiso = sf.dataframe_redpiso(sopas_redpiso)"
   ]
  },
  {
   "cell_type": "markdown",
   "metadata": {},
   "source": [
    "- Vemos que, hemos obtenido un DF con un total de 599 viviendas en alquiler."
   ]
  },
  {
   "cell_type": "code",
   "execution_count": 23,
   "metadata": {},
   "outputs": [
    {
     "data": {
      "text/plain": [
       "(600, 2)"
      ]
     },
     "execution_count": 23,
     "metadata": {},
     "output_type": "execute_result"
    }
   ],
   "source": [
    "df_redpiso.shape"
   ]
  },
  {
   "cell_type": "markdown",
   "metadata": {},
   "source": [
    "- Procederemos ahora a limpiar los datos:\n",
    "1. Aplicaremos la función `extraer_distrito` a la columna descripción. Esta función aplica un patrón de Regex al string para obtener únicamente el distrito. Si no lo encuentra, devuelve \"Distrito no identificado\". Limpiaremos esos registros posteriormente.\n",
    "2. En la columna precio sustituimos los puntos, los signos de euro y los strings \"a consultar\".\n",
    "3. Homogenizamos los nombres de los distritos eliminando las tildes y los nombres generales. "
   ]
  },
  {
   "cell_type": "code",
   "execution_count": 24,
   "metadata": {},
   "outputs": [],
   "source": [
    "df_redpiso[\"Distrito\"] = df_redpiso['Descripción'].apply(sf.extraer_distrito)\n",
    "df_redpiso[\"Descripción\"] = df_redpiso[\"Descripción\"].str.title()\n",
    "df_redpiso[\"Precio\"] = df_redpiso[\"Precio\"].str.replace(\"A consultar\",\"0\")\n",
    "df_redpiso[\"Precio\"] = df_redpiso[\"Precio\"].str.replace(\".\",\"\")\n",
    "df_redpiso[\"Precio\"] = df_redpiso[\"Precio\"].str.replace(\" €\",\"\").astype(int)\n",
    "df_redpiso[\"Distrito\"] = df_redpiso[\"Distrito\"].str.replace(\"Villa de Vallecas-Ensanche y Santa Eugenia\",\"Puente de Vallecas\")\n",
    "df_redpiso[\"Distrito\"] = df_redpiso[\"Distrito\"].str.replace(\"San Blas-Canillejas\",\"San Blas\")\n",
    "df_redpiso[\"Distrito\"] = df_redpiso[\"Distrito\"].str.replace(\"Vicálvaro-Ambroz-Centro-Valdebernardo-Valderribas\",\"Vicálvaro\")\n",
    "df_redpiso[\"Distrito\"] = df_redpiso[\"Distrito\"].str.replace(\"Chamberí\",\"Chamberi\")\n",
    "df_redpiso[\"Distrito\"] = df_redpiso[\"Distrito\"].str.replace(\"Chamartín\",\"Chamartin\")\n",
    "df_redpiso[\"Distrito\"] = df_redpiso[\"Distrito\"].str.replace(\"Vicálvaro\",\"Vicalvaro\")\n",
    "df_redpiso[\"Distrito\"] = df_redpiso[\"Distrito\"].str.replace(\"Tetuán\",\"Tetuan\")"
   ]
  },
  {
   "cell_type": "markdown",
   "metadata": {},
   "source": [
    "- Tras aplicar el patrón de Regex, nos hemos quedado con 20 entradas sin identificar. Asignaremos esos distritos manualmente y comprobaremos que se hayan eliminado."
   ]
  },
  {
   "cell_type": "code",
   "execution_count": 25,
   "metadata": {},
   "outputs": [],
   "source": [
    "df_redpiso[\"Distrito\"][0] = \"Villaverde\"\n",
    "df_redpiso[\"Distrito\"][13] = \"Moncloa-Aravaca\"\n",
    "df_redpiso[\"Distrito\"][39] = \"Moncloa-Aravaca\"\n",
    "df_redpiso[\"Distrito\"][112] = \"Moncloa-Aravaca\"\n",
    "df_redpiso[\"Distrito\"][187] = \"Villaverde\"\n",
    "df_redpiso[\"Distrito\"][235] = \"Centro\"\n",
    "df_redpiso[\"Distrito\"][257] = \"Puente de Vallecas\"\n",
    "df_redpiso[\"Distrito\"][273] = \"Centro\"\n",
    "df_redpiso[\"Distrito\"][288] = \"Moncloa-Aravaca\"\n",
    "df_redpiso[\"Distrito\"][380] = \"Usera\"\n",
    "df_redpiso[\"Distrito\"][387] = \"Moncloa-Aravaca\"\n",
    "df_redpiso[\"Distrito\"][446] = \"Centro\"\n",
    "df_redpiso[\"Distrito\"][464] = \"Moncloa-Aravaca\"\n",
    "df_redpiso[\"Distrito\"][493] = \"Centro\"\n",
    "df_redpiso[\"Distrito\"][501] = \"Centro\"\n",
    "df_redpiso[\"Distrito\"][527] = \"Chamberi\"\n",
    "df_redpiso[\"Distrito\"][551] = \"Chamartin\"\n",
    "df_redpiso[\"Distrito\"][568] = \"Moncloa-Aravaca\"\n",
    "df_redpiso[\"Distrito\"][591] = \"Moncloa-Aravaca\"\n",
    "df_redpiso[\"Distrito\"][592] = \"Moncloa-Aravaca\""
   ]
  },
  {
   "cell_type": "code",
   "execution_count": 26,
   "metadata": {},
   "outputs": [
    {
     "data": {
      "text/html": [
       "<div>\n",
       "<style scoped>\n",
       "    .dataframe tbody tr th:only-of-type {\n",
       "        vertical-align: middle;\n",
       "    }\n",
       "\n",
       "    .dataframe tbody tr th {\n",
       "        vertical-align: top;\n",
       "    }\n",
       "\n",
       "    .dataframe thead th {\n",
       "        text-align: right;\n",
       "    }\n",
       "</style>\n",
       "<table border=\"1\" class=\"dataframe\">\n",
       "  <thead>\n",
       "    <tr style=\"text-align: right;\">\n",
       "      <th></th>\n",
       "      <th>Descripción</th>\n",
       "      <th>Precio</th>\n",
       "      <th>Distrito</th>\n",
       "    </tr>\n",
       "  </thead>\n",
       "  <tbody>\n",
       "  </tbody>\n",
       "</table>\n",
       "</div>"
      ],
      "text/plain": [
       "Empty DataFrame\n",
       "Columns: [Descripción, Precio, Distrito]\n",
       "Index: []"
      ]
     },
     "execution_count": 26,
     "metadata": {},
     "output_type": "execute_result"
    }
   ],
   "source": [
    "df_redpiso[df_redpiso[\"Distrito\"].str.contains(\"Distrito no identificado\", case=False, na=False)]"
   ]
  },
  {
   "cell_type": "markdown",
   "metadata": {},
   "source": [
    "- Comprobamos nuevamente que los nombres de los distritos son consistentes y no tenemos registros inesperados."
   ]
  },
  {
   "cell_type": "code",
   "execution_count": 27,
   "metadata": {},
   "outputs": [
    {
     "data": {
      "text/plain": [
       "array(['Villaverde', 'Chamberi', 'Salamanca', 'Ciudad Lineal',\n",
       "       'Puente de Vallecas', 'Barajas', 'San Blas', 'Arganzuela',\n",
       "       'Tetuan', 'Moncloa-Aravaca', 'Latina', 'Hortaleza',\n",
       "       'Fuencarral-El Pardo', 'Retiro', 'Centro', 'Carabanchel',\n",
       "       'Chamartin', 'Moratalaz', 'Usera', 'Vicalvaro'], dtype=object)"
      ]
     },
     "execution_count": 27,
     "metadata": {},
     "output_type": "execute_result"
    }
   ],
   "source": [
    "df_redpiso[\"Distrito\"].unique()"
   ]
  },
  {
   "cell_type": "markdown",
   "metadata": {},
   "source": [
    "- Eliminamos los registros donde el precio del alquiler sea cero, debido a que distorsionarían el análisis."
   ]
  },
  {
   "cell_type": "code",
   "execution_count": 28,
   "metadata": {},
   "outputs": [
    {
     "data": {
      "text/plain": [
       "Precio\n",
       "1100    53\n",
       "1200    51\n",
       "0       43\n",
       "850     42\n",
       "1000    40\n",
       "        ..\n",
       "2350     1\n",
       "550      1\n",
       "690      1\n",
       "720      1\n",
       "1480     1\n",
       "Name: count, Length: 83, dtype: int64"
      ]
     },
     "execution_count": 28,
     "metadata": {},
     "output_type": "execute_result"
    }
   ],
   "source": [
    "df_redpiso[\"Precio\"].value_counts()"
   ]
  },
  {
   "cell_type": "code",
   "execution_count": 29,
   "metadata": {},
   "outputs": [],
   "source": [
    "df_redpiso = df_redpiso[\n",
    "    (df_redpiso[\"Precio\"] != 0)\n",
    "]"
   ]
  },
  {
   "cell_type": "markdown",
   "metadata": {},
   "source": [
    "- Tras eliminar los registros, nos quedamos con 556 pisos repartidos en 20 distritos, de un total de 21 que tenemos en Madrid."
   ]
  },
  {
   "cell_type": "code",
   "execution_count": 30,
   "metadata": {},
   "outputs": [
    {
     "data": {
      "text/plain": [
       "Distrito\n",
       "Chamberi               74\n",
       "Chamartin              69\n",
       "Centro                 62\n",
       "Fuencarral-El Pardo    47\n",
       "Hortaleza              44\n",
       "Puente de Vallecas     43\n",
       "Arganzuela             35\n",
       "Salamanca              33\n",
       "Latina                 31\n",
       "Moncloa-Aravaca        26\n",
       "Tetuan                 25\n",
       "Retiro                 17\n",
       "Carabanchel            15\n",
       "San Blas               11\n",
       "Villaverde              8\n",
       "Ciudad Lineal           6\n",
       "Vicalvaro               6\n",
       "Barajas                 2\n",
       "Moratalaz               2\n",
       "Usera                   1\n",
       "Name: count, dtype: int64"
      ]
     },
     "execution_count": 30,
     "metadata": {},
     "output_type": "execute_result"
    }
   ],
   "source": [
    "df_redpiso[\"Distrito\"].value_counts()"
   ]
  },
  {
   "cell_type": "markdown",
   "metadata": {},
   "source": [
    "- Para asignar el ID a cada municipio, realiaremos un merge con el dataframe de distritos. Reordenaremos las columnas y lo guardaremos en un archivo CSV."
   ]
  },
  {
   "cell_type": "code",
   "execution_count": 31,
   "metadata": {},
   "outputs": [],
   "source": [
    "df_redpiso_merge = df_redpiso.merge(df_distritos, how=\"inner\", left_on=\"Distrito\", right_on=\"Distrito\")"
   ]
  },
  {
   "cell_type": "code",
   "execution_count": 32,
   "metadata": {},
   "outputs": [
    {
     "data": {
      "text/html": [
       "<div>\n",
       "<style scoped>\n",
       "    .dataframe tbody tr th:only-of-type {\n",
       "        vertical-align: middle;\n",
       "    }\n",
       "\n",
       "    .dataframe tbody tr th {\n",
       "        vertical-align: top;\n",
       "    }\n",
       "\n",
       "    .dataframe thead th {\n",
       "        text-align: right;\n",
       "    }\n",
       "</style>\n",
       "<table border=\"1\" class=\"dataframe\">\n",
       "  <thead>\n",
       "    <tr style=\"text-align: right;\">\n",
       "      <th></th>\n",
       "      <th>ID_Distrito</th>\n",
       "      <th>Descripción</th>\n",
       "      <th>Precio</th>\n",
       "    </tr>\n",
       "  </thead>\n",
       "  <tbody>\n",
       "    <tr>\n",
       "      <th>0</th>\n",
       "      <td>17</td>\n",
       "      <td>Piso En Alquiler En Villaverde, Madrid, Madrid</td>\n",
       "      <td>850</td>\n",
       "    </tr>\n",
       "    <tr>\n",
       "      <th>1</th>\n",
       "      <td>7</td>\n",
       "      <td>Piso En Alquiler En Calle Cristobal Bordiu, Rí...</td>\n",
       "      <td>1100</td>\n",
       "    </tr>\n",
       "    <tr>\n",
       "      <th>2</th>\n",
       "      <td>4</td>\n",
       "      <td>Apartamento En Alquiler En Calle Fundadores, F...</td>\n",
       "      <td>2000</td>\n",
       "    </tr>\n",
       "    <tr>\n",
       "      <th>3</th>\n",
       "      <td>15</td>\n",
       "      <td>Piso En Alquiler En Calle Pepe Isbert, Pueblo ...</td>\n",
       "      <td>744</td>\n",
       "    </tr>\n",
       "    <tr>\n",
       "      <th>4</th>\n",
       "      <td>13</td>\n",
       "      <td>Estudio En Alquiler En Calle Embalse De Navace...</td>\n",
       "      <td>750</td>\n",
       "    </tr>\n",
       "  </tbody>\n",
       "</table>\n",
       "</div>"
      ],
      "text/plain": [
       "   ID_Distrito                                        Descripción  Precio\n",
       "0           17     Piso En Alquiler En Villaverde, Madrid, Madrid     850\n",
       "1            7  Piso En Alquiler En Calle Cristobal Bordiu, Rí...    1100\n",
       "2            4  Apartamento En Alquiler En Calle Fundadores, F...    2000\n",
       "3           15  Piso En Alquiler En Calle Pepe Isbert, Pueblo ...     744\n",
       "4           13  Estudio En Alquiler En Calle Embalse De Navace...     750"
      ]
     },
     "execution_count": 32,
     "metadata": {},
     "output_type": "execute_result"
    }
   ],
   "source": [
    "df_redpiso_merge.drop(columns = [\"Distrito\", \"geometry\"], inplace=True)\n",
    "df_redpiso_merge = df_redpiso_merge[[\"ID_Distrito\", \"Descripción\", \"Precio\"]]\n",
    "df_redpiso_merge.head(5)"
   ]
  },
  {
   "cell_type": "code",
   "execution_count": null,
   "metadata": {},
   "outputs": [],
   "source": [
    "#df_redpiso_merge.to_csv(\"../datos/finales/redpiso.csv\")"
   ]
  },
  {
   "cell_type": "markdown",
   "metadata": {},
   "source": [
    "## API Idealista"
   ]
  },
  {
   "cell_type": "code",
   "execution_count": 34,
   "metadata": {},
   "outputs": [],
   "source": [
    "#resultados_idealista = sf.consulta_idealista(\"0-EU-ES-28-07-001-079\", \"Madrid\", 10)"
   ]
  },
  {
   "cell_type": "code",
   "execution_count": 35,
   "metadata": {},
   "outputs": [],
   "source": [
    "#with open(\"../datos/origen/idealista.json\", \"w\") as json_file:\n",
    "#    json.dump(resultados_idealista, json_file, indent=4)"
   ]
  },
  {
   "cell_type": "code",
   "execution_count": 36,
   "metadata": {},
   "outputs": [],
   "source": [
    "with open(\"../datos/origen/idealista.json\", 'r') as file:\n",
    "    resultados_idealista = json.load(file)"
   ]
  },
  {
   "cell_type": "code",
   "execution_count": 37,
   "metadata": {},
   "outputs": [],
   "source": [
    "df_idealista = sf.dataframe_idealista(resultados_idealista)"
   ]
  },
  {
   "cell_type": "code",
   "execution_count": null,
   "metadata": {},
   "outputs": [],
   "source": [
    "df_idealista[\"Tipo\"] = df_idealista[\"Tipo\"].apply(sf.traducir_es)\n",
    "df_idealista[\"Dirección\"] = df_idealista[\"Dirección\"].str.title()\n",
    "df_idealista[\"Descripción\"] = df_idealista[\"Descripción\"].str.title()"
   ]
  },
  {
   "cell_type": "code",
   "execution_count": 51,
   "metadata": {},
   "outputs": [
    {
     "data": {
      "text/html": [
       "<div>\n",
       "<style scoped>\n",
       "    .dataframe tbody tr th:only-of-type {\n",
       "        vertical-align: middle;\n",
       "    }\n",
       "\n",
       "    .dataframe tbody tr th {\n",
       "        vertical-align: top;\n",
       "    }\n",
       "\n",
       "    .dataframe thead th {\n",
       "        text-align: right;\n",
       "    }\n",
       "</style>\n",
       "<table border=\"1\" class=\"dataframe\">\n",
       "  <thead>\n",
       "    <tr style=\"text-align: right;\">\n",
       "      <th></th>\n",
       "      <th>Latitud</th>\n",
       "      <th>Longitud</th>\n",
       "      <th>Precio</th>\n",
       "      <th>Tipo</th>\n",
       "      <th>Planta</th>\n",
       "      <th>Tamaño</th>\n",
       "      <th>Habitaciones</th>\n",
       "      <th>Baños</th>\n",
       "      <th>Dirección</th>\n",
       "      <th>Descripción</th>\n",
       "    </tr>\n",
       "  </thead>\n",
       "  <tbody>\n",
       "    <tr>\n",
       "      <th>0</th>\n",
       "      <td>40.432201</td>\n",
       "      <td>-3.714278</td>\n",
       "      <td>1350.0</td>\n",
       "      <td>departamento</td>\n",
       "      <td>1</td>\n",
       "      <td>73.0</td>\n",
       "      <td>2</td>\n",
       "      <td>1</td>\n",
       "      <td>Calle De Andres Mellado, 18</td>\n",
       "      <td>Piso Con Una Habitación Con Cama De Matrimonio...</td>\n",
       "    </tr>\n",
       "    <tr>\n",
       "      <th>1</th>\n",
       "      <td>40.414669</td>\n",
       "      <td>-3.705414</td>\n",
       "      <td>2300.0</td>\n",
       "      <td>departamento</td>\n",
       "      <td>5</td>\n",
       "      <td>95.0</td>\n",
       "      <td>2</td>\n",
       "      <td>2</td>\n",
       "      <td>Calle Del Marqués Viudo De Pontejos</td>\n",
       "      <td>S C A L A  |  Properties Presenta Ático Amuebl...</td>\n",
       "    </tr>\n",
       "  </tbody>\n",
       "</table>\n",
       "</div>"
      ],
      "text/plain": [
       "     Latitud  Longitud  Precio          Tipo Planta  Tamaño  Habitaciones  \\\n",
       "0  40.432201 -3.714278  1350.0  departamento      1    73.0             2   \n",
       "1  40.414669 -3.705414  2300.0  departamento      5    95.0             2   \n",
       "\n",
       "   Baños                            Dirección  \\\n",
       "0      1          Calle De Andres Mellado, 18   \n",
       "1      2  Calle Del Marqués Viudo De Pontejos   \n",
       "\n",
       "                                         Descripción  \n",
       "0  Piso Con Una Habitación Con Cama De Matrimonio...  \n",
       "1  S C A L A  |  Properties Presenta Ático Amuebl...  "
      ]
     },
     "execution_count": 51,
     "metadata": {},
     "output_type": "execute_result"
    }
   ],
   "source": [
    "df_idealista.head(2)"
   ]
  },
  {
   "cell_type": "code",
   "execution_count": null,
   "metadata": {},
   "outputs": [],
   "source": [
    "gdf_idealista = gpd.GeoDataFrame(df_idealista, geometry=gpd.points_from_xy(df_idealista.Longitud, df_idealista.Latitud))\n",
    "gdf_idealista.crs = \"EPSG:4326\"\n",
    "#gdf_idealista.to_file('../datos/origen/idealista.geojson', driver='GeoJSON')"
   ]
  },
  {
   "cell_type": "code",
   "execution_count": 53,
   "metadata": {},
   "outputs": [],
   "source": [
    "gdf_sjoin2 = gpd.sjoin(gdf_idealista, gdf_distritos, how=\"inner\", predicate=\"within\")\n",
    "gdf_sjoin2 = gdf_sjoin2.drop(columns=\"index_right\")\n"
   ]
  },
  {
   "cell_type": "code",
   "execution_count": 54,
   "metadata": {},
   "outputs": [],
   "source": [
    "gdf_sjoin2_final = gdf_sjoin2[['ID_Distrito', 'Precio', 'Tipo', 'Planta', 'Tamaño',\n",
    "       'Habitaciones', 'Baños', 'Dirección', 'Descripción', 'Latitud', 'Longitud', 'geometry']]"
   ]
  },
  {
   "cell_type": "code",
   "execution_count": 56,
   "metadata": {},
   "outputs": [
    {
     "data": {
      "text/html": [
       "<div>\n",
       "<style scoped>\n",
       "    .dataframe tbody tr th:only-of-type {\n",
       "        vertical-align: middle;\n",
       "    }\n",
       "\n",
       "    .dataframe tbody tr th {\n",
       "        vertical-align: top;\n",
       "    }\n",
       "\n",
       "    .dataframe thead th {\n",
       "        text-align: right;\n",
       "    }\n",
       "</style>\n",
       "<table border=\"1\" class=\"dataframe\">\n",
       "  <thead>\n",
       "    <tr style=\"text-align: right;\">\n",
       "      <th></th>\n",
       "      <th>ID_Distrito</th>\n",
       "      <th>Precio</th>\n",
       "      <th>Tipo</th>\n",
       "      <th>Planta</th>\n",
       "      <th>Tamaño</th>\n",
       "      <th>Habitaciones</th>\n",
       "      <th>Baños</th>\n",
       "      <th>Dirección</th>\n",
       "      <th>Descripción</th>\n",
       "      <th>Latitud</th>\n",
       "      <th>Longitud</th>\n",
       "      <th>geometry</th>\n",
       "    </tr>\n",
       "  </thead>\n",
       "  <tbody>\n",
       "    <tr>\n",
       "      <th>335</th>\n",
       "      <td>6</td>\n",
       "      <td>1750.0</td>\n",
       "      <td>departamento</td>\n",
       "      <td>2</td>\n",
       "      <td>57.0</td>\n",
       "      <td>2</td>\n",
       "      <td>1</td>\n",
       "      <td>Calle García Cea, 4</td>\n",
       "      <td>Apartamento De Alquiler Temporal (Desde 32 Día...</td>\n",
       "      <td>40.461156</td>\n",
       "      <td>-3.698587</td>\n",
       "      <td>POINT (-3.69859 40.46116)</td>\n",
       "    </tr>\n",
       "    <tr>\n",
       "      <th>194</th>\n",
       "      <td>16</td>\n",
       "      <td>1600.0</td>\n",
       "      <td>departamento</td>\n",
       "      <td>3</td>\n",
       "      <td>112.0</td>\n",
       "      <td>3</td>\n",
       "      <td>2</td>\n",
       "      <td>Calle Dionisio Inca Yupanqui, 45</td>\n",
       "      <td>Piso Reformado A Estrenar Con Vistas Despejada...</td>\n",
       "      <td>40.461709</td>\n",
       "      <td>-3.629420</td>\n",
       "      <td>POINT (-3.62942 40.46171)</td>\n",
       "    </tr>\n",
       "  </tbody>\n",
       "</table>\n",
       "</div>"
      ],
      "text/plain": [
       "     ID_Distrito  Precio          Tipo Planta  Tamaño  Habitaciones  Baños  \\\n",
       "335            6  1750.0  departamento      2    57.0             2      1   \n",
       "194           16  1600.0  departamento      3   112.0             3      2   \n",
       "\n",
       "                            Dirección  \\\n",
       "335               Calle García Cea, 4   \n",
       "194  Calle Dionisio Inca Yupanqui, 45   \n",
       "\n",
       "                                           Descripción    Latitud  Longitud  \\\n",
       "335  Apartamento De Alquiler Temporal (Desde 32 Día...  40.461156 -3.698587   \n",
       "194  Piso Reformado A Estrenar Con Vistas Despejada...  40.461709 -3.629420   \n",
       "\n",
       "                      geometry  \n",
       "335  POINT (-3.69859 40.46116)  \n",
       "194  POINT (-3.62942 40.46171)  "
      ]
     },
     "execution_count": 56,
     "metadata": {},
     "output_type": "execute_result"
    }
   ],
   "source": [
    "gdf_sjoin2_final.sample(2)"
   ]
  },
  {
   "cell_type": "code",
   "execution_count": null,
   "metadata": {},
   "outputs": [],
   "source": [
    "#gdf_sjoin2_final.to_file('../datos/finales/idealista.geojson', driver='GeoJSON')"
   ]
  }
 ],
 "metadata": {
  "kernelspec": {
   "display_name": "Python 3",
   "language": "python",
   "name": "python3"
  },
  "language_info": {
   "codemirror_mode": {
    "name": "ipython",
    "version": 3
   },
   "file_extension": ".py",
   "mimetype": "text/x-python",
   "name": "python",
   "nbconvert_exporter": "python",
   "pygments_lexer": "ipython3",
   "version": "3.9.6"
  }
 },
 "nbformat": 4,
 "nbformat_minor": 2
}
